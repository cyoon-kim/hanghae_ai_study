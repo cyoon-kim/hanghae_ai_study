{
  "cells": [
    {
      "cell_type": "markdown",
      "source": [
        "# [3주차] 기본과제 - DistilBERT로 뉴스 기사 분류 모델 학습하기\n",
        "\n",
        "💡 이번 과제에서는 pre-trained 된 DistilBERT를 뉴스 기사 분류 문제에 적용합니다.\n"
      ],
      "metadata": {
        "id": "sbgz49PvHhLt"
      }
    },
    {
      "cell_type": "markdown",
      "source": [
        "#### 🔸 pip install library"
      ],
      "metadata": {
        "id": "ZA7vqOpbxzYZ"
      }
    },
    {
      "cell_type": "code",
      "execution_count": null,
      "metadata": {
        "colab": {
          "base_uri": "https://localhost:8080/"
        },
        "id": "1LqgujQUbv6X",
        "outputId": "25c0b3c7-1cb9-4992-b2ed-b60e27bcb047",
        "collapsed": true
      },
      "outputs": [
        {
          "output_type": "stream",
          "name": "stdout",
          "text": [
            "Requirement already satisfied: tqdm in /usr/local/lib/python3.11/dist-packages (4.67.1)\n",
            "Requirement already satisfied: boto3 in /usr/local/lib/python3.11/dist-packages (1.37.28)\n",
            "Requirement already satisfied: requests in /usr/local/lib/python3.11/dist-packages (2.32.3)\n",
            "Requirement already satisfied: regex in /usr/local/lib/python3.11/dist-packages (2024.11.6)\n",
            "Requirement already satisfied: sentencepiece in /usr/local/lib/python3.11/dist-packages (0.2.0)\n",
            "Requirement already satisfied: sacremoses in /usr/local/lib/python3.11/dist-packages (0.1.1)\n",
            "Requirement already satisfied: datasets in /usr/local/lib/python3.11/dist-packages (3.5.0)\n",
            "Requirement already satisfied: botocore<1.38.0,>=1.37.28 in /usr/local/lib/python3.11/dist-packages (from boto3) (1.37.28)\n",
            "Requirement already satisfied: jmespath<2.0.0,>=0.7.1 in /usr/local/lib/python3.11/dist-packages (from boto3) (1.0.1)\n",
            "Requirement already satisfied: s3transfer<0.12.0,>=0.11.0 in /usr/local/lib/python3.11/dist-packages (from boto3) (0.11.4)\n",
            "Requirement already satisfied: charset-normalizer<4,>=2 in /usr/local/lib/python3.11/dist-packages (from requests) (3.4.1)\n",
            "Requirement already satisfied: idna<4,>=2.5 in /usr/local/lib/python3.11/dist-packages (from requests) (3.10)\n",
            "Requirement already satisfied: urllib3<3,>=1.21.1 in /usr/local/lib/python3.11/dist-packages (from requests) (2.3.0)\n",
            "Requirement already satisfied: certifi>=2017.4.17 in /usr/local/lib/python3.11/dist-packages (from requests) (2025.1.31)\n",
            "Requirement already satisfied: click in /usr/local/lib/python3.11/dist-packages (from sacremoses) (8.1.8)\n",
            "Requirement already satisfied: joblib in /usr/local/lib/python3.11/dist-packages (from sacremoses) (1.4.2)\n",
            "Requirement already satisfied: filelock in /usr/local/lib/python3.11/dist-packages (from datasets) (3.18.0)\n",
            "Requirement already satisfied: numpy>=1.17 in /usr/local/lib/python3.11/dist-packages (from datasets) (2.0.2)\n",
            "Requirement already satisfied: pyarrow>=15.0.0 in /usr/local/lib/python3.11/dist-packages (from datasets) (18.1.0)\n",
            "Requirement already satisfied: dill<0.3.9,>=0.3.0 in /usr/local/lib/python3.11/dist-packages (from datasets) (0.3.8)\n",
            "Requirement already satisfied: pandas in /usr/local/lib/python3.11/dist-packages (from datasets) (2.2.2)\n",
            "Requirement already satisfied: xxhash in /usr/local/lib/python3.11/dist-packages (from datasets) (3.5.0)\n",
            "Requirement already satisfied: multiprocess<0.70.17 in /usr/local/lib/python3.11/dist-packages (from datasets) (0.70.16)\n",
            "Requirement already satisfied: fsspec<=2024.12.0,>=2023.1.0 in /usr/local/lib/python3.11/dist-packages (from fsspec[http]<=2024.12.0,>=2023.1.0->datasets) (2024.12.0)\n",
            "Requirement already satisfied: aiohttp in /usr/local/lib/python3.11/dist-packages (from datasets) (3.11.15)\n",
            "Requirement already satisfied: huggingface-hub>=0.24.0 in /usr/local/lib/python3.11/dist-packages (from datasets) (0.30.1)\n",
            "Requirement already satisfied: packaging in /usr/local/lib/python3.11/dist-packages (from datasets) (24.2)\n",
            "Requirement already satisfied: pyyaml>=5.1 in /usr/local/lib/python3.11/dist-packages (from datasets) (6.0.2)\n",
            "Requirement already satisfied: python-dateutil<3.0.0,>=2.1 in /usr/local/lib/python3.11/dist-packages (from botocore<1.38.0,>=1.37.28->boto3) (2.8.2)\n",
            "Requirement already satisfied: aiohappyeyeballs>=2.3.0 in /usr/local/lib/python3.11/dist-packages (from aiohttp->datasets) (2.6.1)\n",
            "Requirement already satisfied: aiosignal>=1.1.2 in /usr/local/lib/python3.11/dist-packages (from aiohttp->datasets) (1.3.2)\n",
            "Requirement already satisfied: attrs>=17.3.0 in /usr/local/lib/python3.11/dist-packages (from aiohttp->datasets) (25.3.0)\n",
            "Requirement already satisfied: frozenlist>=1.1.1 in /usr/local/lib/python3.11/dist-packages (from aiohttp->datasets) (1.5.0)\n",
            "Requirement already satisfied: multidict<7.0,>=4.5 in /usr/local/lib/python3.11/dist-packages (from aiohttp->datasets) (6.3.1)\n",
            "Requirement already satisfied: propcache>=0.2.0 in /usr/local/lib/python3.11/dist-packages (from aiohttp->datasets) (0.3.1)\n",
            "Requirement already satisfied: yarl<2.0,>=1.17.0 in /usr/local/lib/python3.11/dist-packages (from aiohttp->datasets) (1.18.3)\n",
            "Requirement already satisfied: typing-extensions>=3.7.4.3 in /usr/local/lib/python3.11/dist-packages (from huggingface-hub>=0.24.0->datasets) (4.13.0)\n",
            "Requirement already satisfied: pytz>=2020.1 in /usr/local/lib/python3.11/dist-packages (from pandas->datasets) (2025.2)\n",
            "Requirement already satisfied: tzdata>=2022.7 in /usr/local/lib/python3.11/dist-packages (from pandas->datasets) (2025.2)\n",
            "Requirement already satisfied: six>=1.5 in /usr/local/lib/python3.11/dist-packages (from python-dateutil<3.0.0,>=2.1->botocore<1.38.0,>=1.37.28->boto3) (1.17.0)\n"
          ]
        }
      ],
      "source": [
        "!pip install tqdm boto3 requests regex sentencepiece sacremoses datasets"
      ]
    },
    {
      "cell_type": "markdown",
      "source": [
        "### 🔸 load tokenizer\n",
        "\n",
        "DistilBERT 모델용 tokenizer를 로드합니다.\n",
        "\n",
        "🔍 이미 pre-training 단계에서 해당 tokenizer를 사용한 데이터로 학습되었기 때문에 같은 tokenizer를 사용해야합니다."
      ],
      "metadata": {
        "id": "6YP3FxG9IF7O"
      }
    },
    {
      "cell_type": "code",
      "execution_count": null,
      "metadata": {
        "colab": {
          "base_uri": "https://localhost:8080/"
        },
        "id": "6lGiZUoPby6e",
        "outputId": "2c264d75-93c5-4557-9bdf-0e6cb44208cd"
      },
      "outputs": [
        {
          "output_type": "stream",
          "name": "stderr",
          "text": [
            "Using cache found in /root/.cache/torch/hub/huggingface_pytorch-transformers_main\n",
            "/usr/local/lib/python3.11/dist-packages/huggingface_hub/utils/_auth.py:94: UserWarning: \n",
            "The secret `HF_TOKEN` does not exist in your Colab secrets.\n",
            "To authenticate with the Hugging Face Hub, create a token in your settings tab (https://huggingface.co/settings/tokens), set it as secret in your Google Colab and restart your session.\n",
            "You will be able to reuse this secret in all of your notebooks.\n",
            "Please note that authentication is recommended but still optional to access public models or datasets.\n",
            "  warnings.warn(\n"
          ]
        }
      ],
      "source": [
        "import torch\n",
        "from datasets import load_dataset\n",
        "from torch.utils.data import DataLoader\n",
        "from tqdm import tqdm\n",
        "\n",
        "tokenizer = torch.hub.load('huggingface/pytorch-transformers', 'tokenizer', 'distilbert-base-uncased')"
      ]
    },
    {
      "cell_type": "markdown",
      "source": [
        "### 🔸 dataset summary\n",
        "\n",
        "#### 📰 AG_News dataset\n",
        "뉴스 기사 제목과 내용을 기반으로 텍스트 분류를 학습하기 위한 데이터 셋\n",
        "\n",
        "\n",
        "\n",
        "\n",
        "* load dataset\n",
        "* collate_fn"
      ],
      "metadata": {
        "id": "Cvfl_uFLIMWO"
      }
    },
    {
      "cell_type": "code",
      "source": [
        "train_ds = load_dataset(\"fancyzhx/ag_news\", split=\"train[:5%]\")\n",
        "test_ds = load_dataset(\"fancyzhx/ag_news\", split=\"test[:5%]\")"
      ],
      "metadata": {
        "id": "6DgNmaJW_YOs"
      },
      "execution_count": null,
      "outputs": []
    },
    {
      "cell_type": "markdown",
      "source": [
        "##### 📂 데이터 구성 확인\n",
        "\n",
        "* 데이터 길이 (5% 기준)\n",
        " * train : 6000\n",
        " * test : 380\n",
        "\n",
        "* 데이터 예시\n",
        "```json\n",
        "{'text': \"Wall St. Bears Claw Back Into the Black (Reuters) Reuters - Short-sellers, Wall Street's dwindling\\\\band of ultra-cynics, are seeing green again.\", 'label': 2}\n",
        "```\n",
        "\n",
        "* 🏷️ label class (4개)\n",
        "\n",
        "|index|category|\n",
        "|--|--|\n",
        "|1|World|\n",
        "|2|Sports|\n",
        "|3|Business|\n",
        "|4|Sci/Tech|"
      ],
      "metadata": {
        "id": "cTwezMgz18_1"
      }
    },
    {
      "cell_type": "code",
      "source": [
        "print(f\"train dataset length : {len(train_ds)}\")\n",
        "print(f\"test dataset length : {len(test_ds)}\")"
      ],
      "metadata": {
        "id": "QprUphg22CSm",
        "outputId": "b18e6614-eef2-4ee6-dd51-ed33ff6e58c3",
        "colab": {
          "base_uri": "https://localhost:8080/"
        }
      },
      "execution_count": null,
      "outputs": [
        {
          "output_type": "stream",
          "name": "stdout",
          "text": [
            "train dataset length : 6000\n",
            "test dataset length : 380\n"
          ]
        }
      ]
    },
    {
      "cell_type": "code",
      "source": [
        "print(train_ds[0])"
      ],
      "metadata": {
        "id": "SmSyKsED_cYR",
        "outputId": "6a2921bb-3fd0-4fd3-b974-c46749b2465d",
        "colab": {
          "base_uri": "https://localhost:8080/"
        }
      },
      "execution_count": null,
      "outputs": [
        {
          "output_type": "stream",
          "name": "stdout",
          "text": [
            "{'text': \"Wall St. Bears Claw Back Into the Black (Reuters) Reuters - Short-sellers, Wall Street's dwindling\\\\band of ultra-cynics, are seeing green again.\", 'label': 2}\n"
          ]
        }
      ]
    },
    {
      "cell_type": "code",
      "source": [
        "train_ds.features[\"label\"].names"
      ],
      "metadata": {
        "id": "R5iSaUK4_zgD",
        "outputId": "cf743db3-9b26-4ae0-e46d-4b1aa4257ac5",
        "colab": {
          "base_uri": "https://localhost:8080/"
        }
      },
      "execution_count": null,
      "outputs": [
        {
          "output_type": "execute_result",
          "data": {
            "text/plain": [
              "['World', 'Sports', 'Business', 'Sci/Tech']"
            ]
          },
          "metadata": {},
          "execution_count": 6
        }
      ]
    },
    {
      "cell_type": "code",
      "source": [
        "label_map = {\n",
        "    0: \"World\",\n",
        "    1: \"Sports\",\n",
        "    2: \"Business\",\n",
        "    3: \"Sci/Tech\"\n",
        "}"
      ],
      "metadata": {
        "id": "ZG5HkNZ_cz8E"
      },
      "execution_count": null,
      "outputs": []
    },
    {
      "cell_type": "markdown",
      "source": [
        "##### 📂 dataset 전처리\n",
        "\n",
        "* collate_fn\n",
        " * truncation 삭제 : 전체 news 데이터를 보고 classify 하기 위함"
      ],
      "metadata": {
        "id": "zE0SS3td2_kN"
      }
    },
    {
      "cell_type": "code",
      "source": [
        "# 데이터를 배치로 묶기 위한 함수 정의\n",
        "def collate_fn(batch):\n",
        "    texts, labels = [], []  # 입력 문장들과 라벨들을 저장할 리스트\n",
        "\n",
        "    # 배치 내 각 샘플에 대해 text와 label 추출\n",
        "    for row in batch:\n",
        "        labels.append(row['label'])\n",
        "        texts.append(row['text'])\n",
        "\n",
        "    # tokenizer로 텍스트를 토큰화하고, 최대 길이로 패딩 및 자르기\n",
        "    # tokenizer는 사전에 정의되어 있어야 함 (예: tokenizer = AutoTokenizer.from_pretrained(...))\n",
        "    texts = torch.LongTensor(\n",
        "        tokenizer(texts, padding=True).input_ids\n",
        "    )\n",
        "\n",
        "    # 라벨 리스트를 LongTensor로 변환\n",
        "    labels = torch.LongTensor(labels)\n",
        "\n",
        "    # 모델 학습에 필요한 입력 (토큰화된 문장들)과 정답 라벨 반환\n",
        "    return texts, labels\n"
      ],
      "metadata": {
        "id": "rE-y8sY9HuwP"
      },
      "execution_count": null,
      "outputs": []
    },
    {
      "cell_type": "code",
      "source": [
        "def make_data_loader(train_ds, test_ds, batch_size):\n",
        "    train_loader = DataLoader(\n",
        "        train_ds, batch_size=batch_size, shuffle=True, collate_fn=collate_fn\n",
        "    )\n",
        "\n",
        "    test_loader = DataLoader(\n",
        "        test_ds, batch_size=batch_size, shuffle=False, collate_fn=collate_fn\n",
        "    )\n",
        "    return train_loader, test_loader\n",
        "\n",
        "train_loader, test_loader = make_data_loader(train_ds, test_ds, 64)"
      ],
      "metadata": {
        "id": "E088AvaQTV38"
      },
      "execution_count": null,
      "outputs": []
    },
    {
      "cell_type": "markdown",
      "source": [
        "### 🔸 load pre-trained DistilBERT\n",
        "\n"
      ],
      "metadata": {
        "id": "bF34XkoYIeEm"
      }
    },
    {
      "cell_type": "code",
      "execution_count": null,
      "metadata": {
        "colab": {
          "base_uri": "https://localhost:8080/"
        },
        "id": "HJaUp2Vob0U-",
        "outputId": "14277982-1499-489d-b80a-3a3a6d5b12ad"
      },
      "outputs": [
        {
          "output_type": "stream",
          "name": "stderr",
          "text": [
            "Using cache found in /root/.cache/torch/hub/huggingface_pytorch-transformers_main\n"
          ]
        },
        {
          "output_type": "execute_result",
          "data": {
            "text/plain": [
              "DistilBertModel(\n",
              "  (embeddings): Embeddings(\n",
              "    (word_embeddings): Embedding(30522, 768, padding_idx=0)\n",
              "    (position_embeddings): Embedding(512, 768)\n",
              "    (LayerNorm): LayerNorm((768,), eps=1e-12, elementwise_affine=True)\n",
              "    (dropout): Dropout(p=0.1, inplace=False)\n",
              "  )\n",
              "  (transformer): Transformer(\n",
              "    (layer): ModuleList(\n",
              "      (0-5): 6 x TransformerBlock(\n",
              "        (attention): DistilBertSdpaAttention(\n",
              "          (dropout): Dropout(p=0.1, inplace=False)\n",
              "          (q_lin): Linear(in_features=768, out_features=768, bias=True)\n",
              "          (k_lin): Linear(in_features=768, out_features=768, bias=True)\n",
              "          (v_lin): Linear(in_features=768, out_features=768, bias=True)\n",
              "          (out_lin): Linear(in_features=768, out_features=768, bias=True)\n",
              "        )\n",
              "        (sa_layer_norm): LayerNorm((768,), eps=1e-12, elementwise_affine=True)\n",
              "        (ffn): FFN(\n",
              "          (dropout): Dropout(p=0.1, inplace=False)\n",
              "          (lin1): Linear(in_features=768, out_features=3072, bias=True)\n",
              "          (lin2): Linear(in_features=3072, out_features=768, bias=True)\n",
              "          (activation): GELUActivation()\n",
              "        )\n",
              "        (output_layer_norm): LayerNorm((768,), eps=1e-12, elementwise_affine=True)\n",
              "      )\n",
              "    )\n",
              "  )\n",
              ")"
            ]
          },
          "metadata": {},
          "execution_count": 10
        }
      ],
      "source": [
        "#DistilBERT 모델을 PyTorch Hub에서 로드 후 model 출력\n",
        "pre_trained_model = torch.hub.load('huggingface/pytorch-transformers', 'model', 'distilbert-base-uncased')\n",
        "pre_trained_model"
      ]
    },
    {
      "cell_type": "markdown",
      "source": [
        "##### 🔍 DistilBERT model summary\n",
        "\n",
        "###### embeddings\n",
        "* word_embeddings\n",
        " * vocab_size (tokenizer에서 지원하는 vocab 길이) : 30522\n",
        " * embed_dim : 768\n",
        "* position_embeddings\n",
        " * 위치정보 최대 512 토큰\n",
        "* LayerNorm 사용\n",
        "* dropout 비율 0.1\n",
        "\n",
        "###### transformer\n",
        "* 총 6개의 transformer block 으로 구성됨\n",
        " * Self Attention\n",
        " * sa layer norm\n",
        " * Feed Forward network\n",
        " * output layer norm\n",
        "\n",
        "##### 🔍 positional encoding\n",
        "\n",
        "```\n",
        "(position_embeddings): Embedding(512, 768)\n",
        "```\n",
        "\n",
        "positional embedding vector가 512개만 준비되어 있다.\n",
        "따라서 우리 데이터가 512 token이 넘는지 확인해보고 넘어가려고 한다."
      ],
      "metadata": {
        "id": "Kb5a59iH-jBP"
      }
    },
    {
      "cell_type": "code",
      "source": [
        "from datasets import concatenate_datasets\n",
        "\n",
        "# train_ds와 test_ds 합치기\n",
        "all_ds = concatenate_datasets([train_ds, test_ds])\n",
        "\n",
        "# 토큰 길이 측정\n",
        "max_len = 0\n",
        "long_samples = []\n",
        "\n",
        "for i, sample in enumerate(all_ds):\n",
        "    tokens = tokenizer(sample['text'], truncation=False, return_tensors=\"pt\")\n",
        "    input_len = tokens['input_ids'].shape[1]\n",
        "\n",
        "    if input_len > max_len:\n",
        "        max_len = input_len\n",
        "\n",
        "    if input_len > 512:\n",
        "        long_samples.append((i, input_len))\n",
        "\n",
        "print(f\"최대 토큰 길이: {max_len}\")\n",
        "print(f\"512 토큰을 넘는 샘플 수: {len(long_samples)}\")\n"
      ],
      "metadata": {
        "id": "nWjrGg1Y82HF",
        "outputId": "f08b6944-ea51-4ee1-e958-5619c986fc12",
        "colab": {
          "base_uri": "https://localhost:8080/"
        }
      },
      "execution_count": null,
      "outputs": [
        {
          "output_type": "stream",
          "name": "stdout",
          "text": [
            "최대 토큰 길이: 342\n",
            "512 토큰을 넘는 샘플 수: 0\n"
          ]
        }
      ]
    },
    {
      "cell_type": "markdown",
      "source": [
        "512 토큰 넘는 데이터가 있으면 따로 처리를 해줘야할 것 같은데, 다행히 우리 데이터셋에는 512를 넘는 데이터는 없다."
      ],
      "metadata": {
        "id": "BlmvOiheEvbj"
      }
    },
    {
      "cell_type": "markdown",
      "source": [
        "### 🔸 TextClassifier\n",
        "\n",
        "binary classification이 아닌 label이 4개 종류이므로 그 구조에 맞게 변경 해준다.\n",
        "* loss_fn : CrossEntropyLoss\n",
        "* TextClassifier 출력 차원 조절 : 4"
      ],
      "metadata": {
        "id": "uh-tqY8WInQt"
      }
    },
    {
      "cell_type": "code",
      "execution_count": null,
      "metadata": {
        "id": "xW7ETZQzzNp2"
      },
      "outputs": [],
      "source": [
        "from torch import nn\n",
        "\n",
        "# 텍스트 분류 모델 정의 (DistilBERT + Linear layer(분류기))\n",
        "class TextClassifier(nn.Module):\n",
        "    def __init__(self):\n",
        "        super().__init__()\n",
        "\n",
        "        self.encoder = pre_trained_model\n",
        "\n",
        "        # [CLS] 토큰 분류기 정의\n",
        "        self.classifier = nn.Linear(768, 4)\n",
        "\n",
        "    def forward(self, x):\n",
        "        x = self.encoder(x)['last_hidden_state']\n",
        "        x = self.classifier(x[:, 0])\n",
        "\n",
        "        return x\n",
        "\n",
        "model = TextClassifier()"
      ]
    },
    {
      "cell_type": "code",
      "source": [
        "model"
      ],
      "metadata": {
        "id": "6ZqGQDh8GtsL",
        "outputId": "66a386e7-27cd-44f2-f360-9bd81847c706",
        "colab": {
          "base_uri": "https://localhost:8080/"
        }
      },
      "execution_count": null,
      "outputs": [
        {
          "output_type": "execute_result",
          "data": {
            "text/plain": [
              "TextClassifier(\n",
              "  (encoder): DistilBertModel(\n",
              "    (embeddings): Embeddings(\n",
              "      (word_embeddings): Embedding(30522, 768, padding_idx=0)\n",
              "      (position_embeddings): Embedding(512, 768)\n",
              "      (LayerNorm): LayerNorm((768,), eps=1e-12, elementwise_affine=True)\n",
              "      (dropout): Dropout(p=0.1, inplace=False)\n",
              "    )\n",
              "    (transformer): Transformer(\n",
              "      (layer): ModuleList(\n",
              "        (0-5): 6 x TransformerBlock(\n",
              "          (attention): DistilBertSdpaAttention(\n",
              "            (dropout): Dropout(p=0.1, inplace=False)\n",
              "            (q_lin): Linear(in_features=768, out_features=768, bias=True)\n",
              "            (k_lin): Linear(in_features=768, out_features=768, bias=True)\n",
              "            (v_lin): Linear(in_features=768, out_features=768, bias=True)\n",
              "            (out_lin): Linear(in_features=768, out_features=768, bias=True)\n",
              "          )\n",
              "          (sa_layer_norm): LayerNorm((768,), eps=1e-12, elementwise_affine=True)\n",
              "          (ffn): FFN(\n",
              "            (dropout): Dropout(p=0.1, inplace=False)\n",
              "            (lin1): Linear(in_features=768, out_features=3072, bias=True)\n",
              "            (lin2): Linear(in_features=3072, out_features=768, bias=True)\n",
              "            (activation): GELUActivation()\n",
              "          )\n",
              "          (output_layer_norm): LayerNorm((768,), eps=1e-12, elementwise_affine=True)\n",
              "        )\n",
              "      )\n",
              "    )\n",
              "  )\n",
              "  (classifier): Linear(in_features=768, out_features=4, bias=True)\n",
              ")"
            ]
          },
          "metadata": {},
          "execution_count": 13
        }
      ]
    },
    {
      "cell_type": "markdown",
      "source": [
        "마지막에 classifier 부분이 생긴 걸 확인할 수 있습니다."
      ],
      "metadata": {
        "id": "tDcfTZhpG25X"
      }
    },
    {
      "cell_type": "markdown",
      "source": [
        "##### freeze pre-trained model\n",
        "\n",
        "마지막 classifier layer를 제외한 나머지 부분을 freeze 합니다.\n",
        "\n",
        "* 특정 부분만 학습\n",
        " * pre-trained model은 이미 언어를 잘 학습한 상태\n",
        " * classifier 만 학습 시킨다.\n",
        "* 학습 속도 단축\n",
        " * 업데이트 대상 파라미터가 줄어들기 때문에 속도 빨라짐\n",
        "* 오버 피팅 방지\n"
      ],
      "metadata": {
        "id": "_hFvSis0JLju"
      }
    },
    {
      "cell_type": "code",
      "execution_count": null,
      "metadata": {
        "id": "uyTciaPZ0KYo"
      },
      "outputs": [],
      "source": [
        "for param in model.encoder.parameters():\n",
        "  param.requires_grad = False"
      ]
    },
    {
      "cell_type": "markdown",
      "source": [
        "### 🔸 model 학습\n",
        "* accuracy method 수정"
      ],
      "metadata": {
        "id": "JZ5Zc6zhHAqV"
      }
    },
    {
      "cell_type": "code",
      "source": [
        "from torch.optim import Adam\n",
        "import numpy as np\n",
        "import matplotlib.pyplot as plt"
      ],
      "metadata": {
        "id": "c_SNel1OUBpE"
      },
      "execution_count": null,
      "outputs": []
    },
    {
      "cell_type": "code",
      "source": [
        "model = model.to('cuda')  # 모델을 GPU로 이동\n",
        "loss_fn = nn.CrossEntropyLoss()  # 분류용 손실 함수\n",
        "\n",
        "# 학습 설정 (hyperparam)\n",
        "lr = 0.001\n",
        "optimizer = Adam(model.parameters(), lr=lr)\n",
        "n_epochs = 5"
      ],
      "metadata": {
        "id": "W_JSxmcUUDtn"
      },
      "execution_count": null,
      "outputs": []
    },
    {
      "cell_type": "code",
      "source": [
        "def accuracy(model, dataloader, is_need_raw_data):\n",
        "    cnt = 0\n",
        "    acc = 0\n",
        "    raw_data = []\n",
        "\n",
        "    for data in dataloader:\n",
        "        inputs, labels = data\n",
        "        inputs, labels = inputs.to('cuda'), labels.to('cuda')\n",
        "\n",
        "        preds = model(inputs)\n",
        "        preds = torch.argmax(preds, dim=-1)\n",
        "\n",
        "        cnt += labels.shape[0]\n",
        "        acc += (labels == preds).sum().item()\n",
        "\n",
        "        if is_need_raw_data: # 마지막 에폭인 경우에만 수행 (time issue)\n",
        "            for i in range(inputs.size(0)):\n",
        "                decoded_text = tokenizer.decode(inputs[i], skip_special_tokens=True)\n",
        "                true_label = label_map[labels[i].item()]\n",
        "                pred_label = label_map[preds[i].item()]\n",
        "                is_correct = (labels[i] == preds[i]).item()  # True → 1, False → 0\n",
        "                raw_data.append({\n",
        "                    \"text\": decoded_text,\n",
        "                    \"true_label\": true_label,\n",
        "                    \"pred_label\": pred_label,\n",
        "                    \"is_correct\": is_correct\n",
        "                })\n",
        "\n",
        "\n",
        "    accuracy_score = acc/cnt\n",
        "\n",
        "    return accuracy_score, raw_data"
      ],
      "metadata": {
        "id": "33QHqDdhUn2r"
      },
      "execution_count": null,
      "outputs": []
    },
    {
      "cell_type": "code",
      "execution_count": null,
      "metadata": {
        "id": "XvvaAEwCznt-"
      },
      "outputs": [],
      "source": [
        "def finetune_model(model, train_loader, test_loader, n_epochs, loss_fn):\n",
        "    train_loss_list = []\n",
        "    train_acc_list = []\n",
        "    test_acc_list = []\n",
        "\n",
        "    for epoch in range(n_epochs):\n",
        "        total_loss = 0.\n",
        "        model.train()  # 학습 모드 설정\n",
        "\n",
        "        for data in tqdm(train_loader, desc=f\"Epoch {epoch+1}/{n_epochs}\"):\n",
        "            model.zero_grad()  # 이전 gradient 초기화\n",
        "\n",
        "            inputs, labels = data\n",
        "            inputs, labels = inputs.to('cuda'), labels.to('cuda')  # GPU 이동 및 float 변환\n",
        "\n",
        "            preds = model(inputs)\n",
        "\n",
        "            loss = loss_fn(preds, labels)  # 손실 계산\n",
        "            loss.backward()  # 역전파\n",
        "            optimizer.step()  # 파라미터 업데이트\n",
        "\n",
        "            total_loss += loss.item()  # loss 누적\n",
        "\n",
        "        with torch.no_grad():\n",
        "            model.eval()\n",
        "            is_need_raw_data = 1 if epoch == n_epochs - 1 else 0 # 마지막 epoch인 경우 raw_data를 보고 싶어서 flag 추가\n",
        "            train_acc, train_fail_case = accuracy(model, train_loader, is_need_raw_data)\n",
        "            test_acc, test_fail_case = accuracy(model, test_loader, is_need_raw_data)\n",
        "\n",
        "        print(f\"Epoch {epoch:3d} | Train Loss: {total_loss} | Train Acc: {train_acc: .3f} | Test Acc: {test_acc: .3f}\")\n",
        "        train_loss_list.append(total_loss)\n",
        "        train_acc_list.append(train_acc)\n",
        "        test_acc_list.append(test_acc)\n",
        "    return train_loss_list, train_acc_list, test_acc_list, train_fail_case, test_fail_case"
      ]
    },
    {
      "cell_type": "code",
      "execution_count": null,
      "metadata": {
        "id": "DjphVwXL00E2",
        "colab": {
          "base_uri": "https://localhost:8080/"
        },
        "outputId": "3e8a63c6-cf30-4e78-d14e-eef8873a3239"
      },
      "outputs": [
        {
          "output_type": "stream",
          "name": "stderr",
          "text": [
            "Epoch 1/5:   0%|          | 0/94 [00:00<?, ?it/s]We strongly recommend passing in an `attention_mask` since your input_ids may be padded. See https://huggingface.co/docs/transformers/troubleshooting#incorrect-output-when-padding-tokens-arent-masked.\n",
            "Epoch 1/5: 100%|██████████| 94/94 [00:24<00:00,  3.85it/s]\n"
          ]
        },
        {
          "output_type": "stream",
          "name": "stdout",
          "text": [
            "Epoch   0 | Train Loss: 98.87259531021118 | Train Acc:  0.820 | Test Acc:  0.842\n"
          ]
        },
        {
          "output_type": "stream",
          "name": "stderr",
          "text": [
            "Epoch 2/5: 100%|██████████| 94/94 [00:25<00:00,  3.67it/s]\n"
          ]
        },
        {
          "output_type": "stream",
          "name": "stdout",
          "text": [
            "Epoch   1 | Train Loss: 68.78720426559448 | Train Acc:  0.803 | Test Acc:  0.839\n"
          ]
        },
        {
          "output_type": "stream",
          "name": "stderr",
          "text": [
            "Epoch 3/5: 100%|██████████| 94/94 [00:25<00:00,  3.75it/s]\n"
          ]
        },
        {
          "output_type": "stream",
          "name": "stdout",
          "text": [
            "Epoch   2 | Train Loss: 58.952987253665924 | Train Acc:  0.833 | Test Acc:  0.829\n"
          ]
        },
        {
          "output_type": "stream",
          "name": "stderr",
          "text": [
            "Epoch 4/5: 100%|██████████| 94/94 [00:25<00:00,  3.69it/s]\n"
          ]
        },
        {
          "output_type": "stream",
          "name": "stdout",
          "text": [
            "Epoch   3 | Train Loss: 54.27644860744476 | Train Acc:  0.836 | Test Acc:  0.832\n"
          ]
        },
        {
          "output_type": "stream",
          "name": "stderr",
          "text": [
            "Epoch 5/5: 100%|██████████| 94/94 [00:25<00:00,  3.64it/s]\n"
          ]
        },
        {
          "output_type": "stream",
          "name": "stdout",
          "text": [
            "Epoch   4 | Train Loss: 51.3956001996994 | Train Acc:  0.843 | Test Acc:  0.845\n"
          ]
        }
      ],
      "source": [
        "total_loss, train_acc, test_acc, train_raw, test_raw = finetune_model(model, train_loader, test_loader, n_epochs, loss_fn)"
      ]
    },
    {
      "cell_type": "markdown",
      "source": [
        "### 🔸학습 결과 분석\n",
        "* 학습 result 확인\n",
        "* fail 원인 분석"
      ],
      "metadata": {
        "id": "YCaVx6wrj2GA"
      }
    },
    {
      "cell_type": "markdown",
      "source": [
        "#### 📊 데이터 plot 관련 method\n",
        "\n",
        "1. loss_plot : epoch당 loss 출력\n",
        "```python\n",
        "def loss_plot(loss_list, title=\"Loss over Epochs\"):\n",
        "```\n",
        "2. compare_acc_plot : 2개의 acc를 비교하는 plot\n",
        "```python\n",
        "def compare_acc_plot(acc1, acc2, label1, label2, title_suffix=\"\"):\n",
        "```\n",
        "3. label_acc_plot : label당 정확도 비교 plot\n",
        "```python\n",
        "def label_acc_plot(df, label_col=\"true_label\", correct_col=\"is_correct\", title=\"Per-Class Accuracy\"):\n",
        "```\n"
      ],
      "metadata": {
        "id": "N81p6d-JkdNK"
      }
    },
    {
      "cell_type": "code",
      "source": [
        "def loss_plot(loss_list, title=\"Loss over Epochs\"):\n",
        "    epochs = range(1, len(loss_list)+1)\n",
        "\n",
        "    plt.figure()\n",
        "    plt.plot(epochs, loss_list, marker='o')\n",
        "    plt.title(title)\n",
        "    plt.xlabel(\"Epoch\")\n",
        "    plt.ylabel(\"Loss\")\n",
        "    plt.grid(True)\n",
        "    plt.show()"
      ],
      "metadata": {
        "id": "T-9WQptRkcwF"
      },
      "execution_count": null,
      "outputs": []
    },
    {
      "cell_type": "code",
      "source": [
        "def compare_acc_plot(acc1, acc2, label1, label2, title_suffix=\"\"):\n",
        "    epochs = range(1, len(acc1) + 1)\n",
        "\n",
        "    cut_acc2 = acc2[:len(acc1)]\n",
        "    plt.figure()\n",
        "    plt.plot(epochs, acc1, label=label1, marker='o')\n",
        "    plt.plot(epochs, cut_acc2, label=label2, marker='s')\n",
        "    plt.title(f\"Accuracy over Epochs {title_suffix}\")\n",
        "    plt.xlabel(\"Epoch\")\n",
        "    plt.ylabel(\"Accuracy\")\n",
        "    plt.legend()\n",
        "    plt.grid(True)\n",
        "    plt.show()"
      ],
      "metadata": {
        "id": "rKdeRhgjj0CV"
      },
      "execution_count": null,
      "outputs": []
    },
    {
      "cell_type": "code",
      "source": [
        "def label_acc_plot(df, label_col=\"true_label\", correct_col=\"is_correct\", title=\"Per-Class Accuracy\"):\n",
        "       # Group by label → 평균 정확도 계산\n",
        "    class_accuracy = df.groupby(label_col)[correct_col].mean().sort_values(ascending=False)\n",
        "\n",
        "    # 시각화\n",
        "    plt.figure()\n",
        "    class_accuracy.plot(kind='bar')\n",
        "    plt.title(title)\n",
        "    plt.xlabel(\"Class\")\n",
        "    plt.ylabel(\"Accuracy\")\n",
        "    plt.ylim(0, 1.0)\n",
        "    plt.grid(axis='y')\n",
        "    plt.xticks(rotation=45)\n",
        "    plt.tight_layout()\n",
        "    plt.show()"
      ],
      "metadata": {
        "id": "Foks5u95ZQ1_"
      },
      "execution_count": null,
      "outputs": []
    },
    {
      "cell_type": "markdown",
      "source": [
        "#### 결과 데이터 확인\n",
        "1. loss는 점점 줄어듬 > 제대로 학습이 되는 걸 알 수 있다.\n",
        "2. acc 우상향 > 오르고 내리지만 전체적으론 우상향 했다.\n",
        "3. label 별 accuracy > business label에서의 정확도가 다른 label일 때보다 낮음을 확인할 수 있다."
      ],
      "metadata": {
        "id": "hL3ui935mLqY"
      }
    },
    {
      "cell_type": "code",
      "source": [
        "loss_plot(total_loss)"
      ],
      "metadata": {
        "id": "KfoTXGM7mPqp",
        "outputId": "69f24f6b-01f8-4980-ee14-8e868b4e166c",
        "colab": {
          "base_uri": "https://localhost:8080/",
          "height": 472
        }
      },
      "execution_count": null,
      "outputs": [
        {
          "output_type": "display_data",
          "data": {
            "text/plain": [
              "<Figure size 640x480 with 1 Axes>"
            ],
            "image/png": "[encoded data removed]"
          },
          "metadata": {}
        }
      ]
    },
    {
      "cell_type": "code",
      "source": [
        "compare_acc_plot(train_acc, test_acc, 'train', 'test', title_suffix=\"(Base)\")"
      ],
      "metadata": {
        "id": "AGXANy6CmPja",
        "outputId": "a84b02c6-4667-455a-9ad5-b172bba4578d",
        "colab": {
          "base_uri": "https://localhost:8080/",
          "height": 472
        }
      },
      "execution_count": null,
      "outputs": [
        {
          "output_type": "display_data",
          "data": {
            "text/plain": [
              "<Figure size 640x480 with 1 Axes>"
            ],
            "image/png": "[encoded data removed]"
          },
          "metadata": {}
        }
      ]
    },
    {
      "cell_type": "code",
      "source": [
        "import pandas as pd\n",
        "\n",
        "train_df = pd.DataFrame(train_raw)\n",
        "test_df = pd.DataFrame(test_raw)"
      ],
      "metadata": {
        "id": "fyRT5uyhbo36"
      },
      "execution_count": null,
      "outputs": []
    },
    {
      "cell_type": "code",
      "source": [
        "label_acc_plot(train_df)"
      ],
      "metadata": {
        "id": "XK_IYCZhnDAY",
        "outputId": "3e0edcc4-4dff-4a17-a0b9-75db842fb4a8",
        "colab": {
          "base_uri": "https://localhost:8080/",
          "height": 486
        }
      },
      "execution_count": null,
      "outputs": [
        {
          "output_type": "display_data",
          "data": {
            "text/plain": [
              "<Figure size 640x480 with 1 Axes>"
            ],
            "image/png": "[encoded data removed]"
          },
          "metadata": {}
        }
      ]
    },
    {
      "cell_type": "code",
      "source": [
        "label_acc_plot(test_df)"
      ],
      "metadata": {
        "id": "b75y4tlQnEAq",
        "outputId": "cb4abac6-9938-4e63-9536-f6dacf5036b6",
        "colab": {
          "base_uri": "https://localhost:8080/",
          "height": 486
        }
      },
      "execution_count": null,
      "outputs": [
        {
          "output_type": "display_data",
          "data": {
            "text/plain": [
              "<Figure size 640x480 with 1 Axes>"
            ],
            "image/png": "[encoded data removed]"
          },
          "metadata": {}
        }
      ]
    },
    {
      "cell_type": "markdown",
      "source": [
        "전체적으로 Business keyword에 대한 acc가 낮은 걸 볼 수 있음."
      ],
      "metadata": {
        "id": "WQrhkFLjnIE-"
      }
    },
    {
      "cell_type": "markdown",
      "source": [
        "#### 🔠 Raw data 확인\n",
        "테스트 데이터를 분석"
      ],
      "metadata": {
        "id": "ZLRjiYO6ndPb"
      }
    },
    {
      "cell_type": "code",
      "source": [
        "business_errors = test_df[(test_df[\"true_label\"] == \"Business\") & (test_df[\"is_correct\"] == 0)]\n",
        "business_errors.to_csv('./test_result.csv', encoding='utf-8-sig')"
      ],
      "metadata": {
        "id": "bhLCrOkVnpB_"
      },
      "execution_count": null,
      "outputs": []
    },
    {
      "cell_type": "markdown",
      "source": [
        "데이터를 확인해보는데 애매한 데이터들이 많아보임..\n",
        "\n",
        "|text|label|pred|\n",
        "|--|--|--|\n",
        "|대체 에너지에 투자할 준비가 되셨나요? 유가가 오르면 대체 에너지에 대한 대중의 관심도 높아지는 경우가 많다는 사실을 다시 생각해 보십시오. 그러나 그 논리는 분명히 월스트리트를 벗어나고 있는 것 같습니다.|Business|Sci/Tech|"
      ],
      "metadata": {
        "id": "Lva7l5KOpNim"
      }
    },
    {
      "cell_type": "markdown",
      "source": [
        "그래도 특수문자 같은 것들이 많아서 이거부터 전처리를 다시 해보려고 한다."
      ],
      "metadata": {
        "id": "MCGsmJGKpl9V"
      }
    },
    {
      "cell_type": "markdown",
      "source": [
        "#### 🧪 실험 1 - clean text, weight_decay\n",
        "* clean text\n",
        "```json\n",
        "{'text': \"What's in a Name? Well, Matt Is Sexier Than Paul (Reuters) Reuters - As Shakespeare said, a rose by any other\\\\name would smell as sweet. Right?\",\n",
        " 'label': 3,\n",
        " 'cleaned_text': \"what's in a name? well, matt is sexier than paul reuters reuters as shakespeare said, a rose by any othername would smell as sweet. right?\"}\n",
        "```\n",
        "* 더 많은 train_data\n",
        "```\n",
        "all_train_ds = load_dataset(\"fancyzhx/ag_news\", split=\"train[:20%]\")\n",
        "```\n",
        "* weight_decay 적용"
      ],
      "metadata": {
        "id": "fOzbr5Rtpys7"
      }
    },
    {
      "cell_type": "code",
      "source": [
        "import re\n",
        "\n",
        "def clean_text(text):\n",
        "    text = text.lower()  # 소문자 통일\n",
        "    text = re.sub(r'\\s+', ' ', text)  # 여러 공백 → 하나\n",
        "    text = re.sub(r'\\[[^\\]]*\\]', '', text)  # 괄호 내용 제거 (예: [사진])\n",
        "    text = re.sub(r'https?://\\S+|www\\.\\S+', '', text)  # URL 제거\n",
        "    text = re.sub(r'[^a-z0-9.,!?\\'\\\" ]+', '', text)  # 특수문자 제거 (필요시 조절)\n",
        "    text = re.sub(r'\\s+', ' ', text)\n",
        "    return text.strip()"
      ],
      "metadata": {
        "id": "zY873582plB8"
      },
      "execution_count": null,
      "outputs": []
    },
    {
      "cell_type": "code",
      "source": [
        "# 데이터를 배치로 묶기 위한 함수 정의\n",
        "def clean_collate_fn(batch):\n",
        "    texts, labels = [], []  # 입력 문장들과 라벨들을 저장할 리스트\n",
        "\n",
        "    # 배치 내 각 샘플에 대해 text와 label 추출\n",
        "    for row in batch:\n",
        "        labels.append(row['label'])\n",
        "        texts.append(row['cleaned_text'])\n",
        "\n",
        "    # tokenizer로 텍스트를 토큰화하고, 최대 길이로 패딩 및 자르기\n",
        "    # tokenizer는 사전에 정의되어 있어야 함 (예: tokenizer = AutoTokenizer.from_pretrained(...))\n",
        "    texts = torch.LongTensor(\n",
        "        tokenizer(texts, padding=True).input_ids\n",
        "    )\n",
        "\n",
        "    # 라벨 리스트를 LongTensor로 변환\n",
        "    labels = torch.LongTensor(labels)\n",
        "\n",
        "    # 모델 학습에 필요한 입력 (토큰화된 문장들)과 정답 라벨 반환\n",
        "    return texts, labels\n"
      ],
      "metadata": {
        "id": "ocwivSIIsxjU"
      },
      "execution_count": null,
      "outputs": []
    },
    {
      "cell_type": "code",
      "source": [
        "all_train_ds = load_dataset(\"fancyzhx/ag_news\", split=\"train[:20%]\")\n",
        "\n",
        "def preprocess(example):\n",
        "    return {\"cleaned_text\": clean_text(example[\"text\"])}\n",
        "\n",
        "clean_train_ds = all_train_ds.map(preprocess)\n",
        "clean_test_ds = test_ds.map(preprocess)\n",
        "\n",
        "train_loader_2 = DataLoader(\n",
        "    clean_train_ds, batch_size=64, shuffle=True, collate_fn=clean_collate_fn\n",
        ")\n",
        "\n",
        "test_loader_2 = DataLoader(\n",
        "    clean_test_ds, batch_size=64, shuffle=False, collate_fn=clean_collate_fn\n",
        ")"
      ],
      "metadata": {
        "id": "9YXnTQw0oDqY"
      },
      "execution_count": null,
      "outputs": []
    },
    {
      "cell_type": "code",
      "source": [
        "clean_text_model = TextClassifier()\n",
        "\n",
        "for param in clean_text_model.encoder.parameters():\n",
        "  param.requires_grad = False\n",
        "\n",
        "clean_text_model = clean_text_model.to('cuda')  # 모델을 GPU로 이동\n",
        "loss_fn = nn.CrossEntropyLoss()  # 분류용 손실 함수\n",
        "\n",
        "# 학습 설정 (hyperparam)\n",
        "lr = 0.001\n",
        "optimizer = Adam(clean_text_model.parameters(), lr=lr, weight_decay=0.01)\n",
        "clean_n_epochs = 3 # 데이터가 4배가 되어 epoch 소폭 수정\n",
        "\n",
        "total_loss_2, train_acc_2, test_acc_2, train_raw_2, test_raw_2 = finetune_model(clean_text_model, train_loader_2, test_loader_2, clean_n_epochs, loss_fn)"
      ],
      "metadata": {
        "id": "vHSrmYtXsMOJ",
        "outputId": "147282d0-d4a1-4059-9f20-3579345592d8",
        "colab": {
          "base_uri": "https://localhost:8080/"
        }
      },
      "execution_count": null,
      "outputs": [
        {
          "output_type": "stream",
          "name": "stderr",
          "text": [
            "Epoch 1/3: 100%|██████████| 375/375 [01:14<00:00,  5.06it/s]\n"
          ]
        },
        {
          "output_type": "stream",
          "name": "stdout",
          "text": [
            "Epoch   0 | Train Loss: 257.6385267674923 | Train Acc:  0.850 | Test Acc:  0.847\n"
          ]
        },
        {
          "output_type": "stream",
          "name": "stderr",
          "text": [
            "Epoch 2/3: 100%|██████████| 375/375 [01:13<00:00,  5.11it/s]\n"
          ]
        },
        {
          "output_type": "stream",
          "name": "stdout",
          "text": [
            "Epoch   1 | Train Loss: 187.18878376483917 | Train Acc:  0.853 | Test Acc:  0.850\n"
          ]
        },
        {
          "output_type": "stream",
          "name": "stderr",
          "text": [
            "Epoch 3/3: 100%|██████████| 375/375 [01:14<00:00,  5.04it/s]\n"
          ]
        },
        {
          "output_type": "stream",
          "name": "stdout",
          "text": [
            "Epoch   2 | Train Loss: 181.92113111913204 | Train Acc:  0.860 | Test Acc:  0.855\n"
          ]
        }
      ]
    },
    {
      "cell_type": "code",
      "source": [
        "compare_acc_plot(test_acc_2, test_acc, \"clean\", \"Base\")"
      ],
      "metadata": {
        "id": "2dS03by90liG",
        "outputId": "2232c5f1-53d9-4fb6-907c-26af19eccfe6",
        "colab": {
          "base_uri": "https://localhost:8080/",
          "height": 472
        }
      },
      "execution_count": null,
      "outputs": [
        {
          "output_type": "display_data",
          "data": {
            "text/plain": [
              "<Figure size 640x480 with 1 Axes>"
            ],
            "image/png": "[encoded data removed]"
          },
          "metadata": {}
        }
      ]
    },
    {
      "cell_type": "markdown",
      "source": [
        "성능이 더 좋아지는 걸 확인할 수 있다."
      ],
      "metadata": {
        "id": "XGkzbfFP1lgU"
      }
    },
    {
      "cell_type": "markdown",
      "source": [
        "#### 🧪 실험 2 - business augmentation\n",
        "\n",
        "여전히 label별 acc를 확인하면 business가 성능이 좋지 않은 걸 확인할 수 있다."
      ],
      "metadata": {
        "id": "RDSuPoolwTRk"
      }
    },
    {
      "cell_type": "code",
      "source": [
        "test_df_2 = pd.DataFrame(test_raw_2)"
      ],
      "metadata": {
        "id": "0DT8trK210pv"
      },
      "execution_count": null,
      "outputs": []
    },
    {
      "cell_type": "code",
      "source": [
        "test_df_2.groupby(\"true_label\")[\"is_correct\"].mean()"
      ],
      "metadata": {
        "id": "PvpvFko77YdU",
        "outputId": "6504049d-4aff-4ef4-dab8-068870793952",
        "colab": {
          "base_uri": "https://localhost:8080/",
          "height": 241
        }
      },
      "execution_count": null,
      "outputs": [
        {
          "output_type": "execute_result",
          "data": {
            "text/plain": [
              "true_label\n",
              "Business    0.757143\n",
              "Sci/Tech    0.860000\n",
              "Sports      0.938053\n",
              "World       0.824742\n",
              "Name: is_correct, dtype: float64"
            ],
            "text/html": [
              "<div>\n",
              "<style scoped>\n",
              "    .dataframe tbody tr th:only-of-type {\n",
              "        vertical-align: middle;\n",
              "    }\n",
              "\n",
              "    .dataframe tbody tr th {\n",
              "        vertical-align: top;\n",
              "    }\n",
              "\n",
              "    .dataframe thead th {\n",
              "        text-align: right;\n",
              "    }\n",
              "</style>\n",
              "<table border=\"1\" class=\"dataframe\">\n",
              "  <thead>\n",
              "    <tr style=\"text-align: right;\">\n",
              "      <th></th>\n",
              "      <th>is_correct</th>\n",
              "    </tr>\n",
              "    <tr>\n",
              "      <th>true_label</th>\n",
              "      <th></th>\n",
              "    </tr>\n",
              "  </thead>\n",
              "  <tbody>\n",
              "    <tr>\n",
              "      <th>Business</th>\n",
              "      <td>0.757143</td>\n",
              "    </tr>\n",
              "    <tr>\n",
              "      <th>Sci/Tech</th>\n",
              "      <td>0.860000</td>\n",
              "    </tr>\n",
              "    <tr>\n",
              "      <th>Sports</th>\n",
              "      <td>0.938053</td>\n",
              "    </tr>\n",
              "    <tr>\n",
              "      <th>World</th>\n",
              "      <td>0.824742</td>\n",
              "    </tr>\n",
              "  </tbody>\n",
              "</table>\n",
              "</div><br><label><b>dtype:</b> float64</label>"
            ]
          },
          "metadata": {},
          "execution_count": 64
        }
      ]
    },
    {
      "cell_type": "code",
      "source": [
        "label_acc_plot(test_df_2)"
      ],
      "metadata": {
        "id": "vhRBx3Z41nOE",
        "outputId": "4756ed4c-1540-4a43-e86d-6d62dd2195d3",
        "colab": {
          "base_uri": "https://localhost:8080/",
          "height": 486
        }
      },
      "execution_count": null,
      "outputs": [
        {
          "output_type": "display_data",
          "data": {
            "text/plain": [
              "<Figure size 640x480 with 1 Axes>"
            ],
            "image/png": "[encoded data removed]"
          },
          "metadata": {}
        }
      ]
    },
    {
      "cell_type": "code",
      "source": [
        "label_counts = Counter(all_train_ds[\"label\"])\n",
        "\n",
        "readable_counts = {label_map[k]: v for k, v in label_counts.items()}\n",
        "print(readable_counts)"
      ],
      "metadata": {
        "id": "CyPMhYv3wH8L",
        "outputId": "f681c371-1554-4633-e2f3-61a05c93ceb9",
        "colab": {
          "base_uri": "https://localhost:8080/"
        }
      },
      "execution_count": null,
      "outputs": [
        {
          "output_type": "stream",
          "name": "stdout",
          "text": [
            "{'Business': 5601, 'Sci/Tech': 6348, 'Sports': 5856, 'World': 6195}\n"
          ]
        }
      ]
    },
    {
      "cell_type": "markdown",
      "source": [
        "sport는 다른 label에 공통된 점이 적어서 데이터가 적지만 잘 분류되는 것 같다.\n",
        "근데 business는 world 나 sci/tech와 비슷한 경향이 있는 것 같다. business 데이터만 추가로 더 넣어볼까"
      ],
      "metadata": {
        "id": "4wvhkuwf3TXl"
      }
    },
    {
      "cell_type": "markdown",
      "source": [
        "📌 business train data만 보강하면 어떻게 될까"
      ],
      "metadata": {
        "id": "2vfkG0gu2Oj9"
      }
    },
    {
      "cell_type": "code",
      "source": [
        "full_ds = load_dataset(\"fancyzhx/ag_news\", split=\"train\")\n",
        "business_all = full_ds.filter(lambda x:x['label']==2)\n",
        "\n",
        "n = len(business_all)\n",
        "\n",
        "start = int(0.95 * n)\n",
        "extra_business = business_all.select(range(start, n))\n",
        "\n",
        "print(f\"extra business data count is {len(extra_business)}\")\n",
        "\n",
        "augmented_train = concatenate_datasets([all_train_ds, extra_business]).shuffle(seed=42)"
      ],
      "metadata": {
        "id": "qgdATPDEwP5y",
        "outputId": "c1404e67-c2f8-4a55-e933-36f29b7f194e",
        "colab": {
          "base_uri": "https://localhost:8080/"
        }
      },
      "execution_count": null,
      "outputs": [
        {
          "output_type": "stream",
          "name": "stdout",
          "text": [
            "extra business data count is 1500\n"
          ]
        }
      ]
    },
    {
      "cell_type": "code",
      "source": [
        "label_counts = Counter(augmented_train[\"label\"])\n",
        "\n",
        "readable_counts = {label_map[k]: v for k, v in label_counts.items()}\n",
        "print(readable_counts)"
      ],
      "metadata": {
        "id": "O0fczoRy4IDw",
        "outputId": "69d723c7-42b4-41e2-c0e9-3faa280cd487",
        "colab": {
          "base_uri": "https://localhost:8080/"
        }
      },
      "execution_count": null,
      "outputs": [
        {
          "output_type": "stream",
          "name": "stdout",
          "text": [
            "{'World': 6195, 'Business': 7101, 'Sports': 5856, 'Sci/Tech': 6348}\n"
          ]
        }
      ]
    },
    {
      "cell_type": "markdown",
      "source": [
        "business data만 1500개 더 보강하였다."
      ],
      "metadata": {
        "id": "m13vrmTo5AqR"
      }
    },
    {
      "cell_type": "code",
      "source": [
        "def preprocess(example):\n",
        "    return {\"cleaned_text\": clean_text(example[\"text\"])}\n",
        "\n",
        "augmentation_train_ds = augmented_train.map(preprocess)\n",
        "augmentation_test_ds = test_ds.map(preprocess)\n",
        "\n",
        "train_loader_3 = DataLoader(\n",
        "    augmentation_train_ds, batch_size=64, shuffle=True, collate_fn=clean_collate_fn\n",
        ")\n",
        "\n",
        "test_loader_3 = DataLoader(\n",
        "    augmentation_test_ds, batch_size=64, shuffle=False, collate_fn=clean_collate_fn\n",
        ")"
      ],
      "metadata": {
        "id": "vDHUbH9E4WcL"
      },
      "execution_count": null,
      "outputs": []
    },
    {
      "cell_type": "code",
      "source": [
        "augmentation_text_model = TextClassifier()\n",
        "\n",
        "for param in augmentation_text_model.encoder.parameters():\n",
        "  param.requires_grad = False\n",
        "\n",
        "augmentation_text_model = augmentation_text_model.to('cuda')  # 모델을 GPU로 이동\n",
        "loss_fn = nn.CrossEntropyLoss()  # 분류용 손실 함수\n",
        "\n",
        "# 학습 설정 (hyperparam)\n",
        "lr = 0.001\n",
        "optimizer = Adam(augmentation_text_model.parameters(), lr=lr, weight_decay=0.01)\n",
        "clean_n_epochs = 3 # 데이터가 4배가 되어 epoch 소폭 수정\n",
        "\n",
        "total_loss_3, train_acc_3, test_acc_3, train_raw_3, test_raw_3 = finetune_model(augmentation_text_model, train_loader_3, test_loader_3, clean_n_epochs)"
      ],
      "metadata": {
        "id": "kLslwxFw5f9v",
        "outputId": "2072fc22-e193-400b-c13d-c4c6fad43939",
        "colab": {
          "base_uri": "https://localhost:8080/"
        }
      },
      "execution_count": null,
      "outputs": [
        {
          "output_type": "stream",
          "name": "stderr",
          "text": [
            "Epoch 1/3: 100%|██████████| 399/399 [01:17<00:00,  5.14it/s]\n"
          ]
        },
        {
          "output_type": "stream",
          "name": "stdout",
          "text": [
            "Epoch   0 | Train Loss: 273.8576321899891 | Train Acc:  0.850 | Test Acc:  0.845\n"
          ]
        },
        {
          "output_type": "stream",
          "name": "stderr",
          "text": [
            "Epoch 2/3: 100%|██████████| 399/399 [01:18<00:00,  5.09it/s]\n"
          ]
        },
        {
          "output_type": "stream",
          "name": "stdout",
          "text": [
            "Epoch   1 | Train Loss: 199.8707830309868 | Train Acc:  0.857 | Test Acc:  0.858\n"
          ]
        },
        {
          "output_type": "stream",
          "name": "stderr",
          "text": [
            "Epoch 3/3: 100%|██████████| 399/399 [01:19<00:00,  5.04it/s]\n"
          ]
        },
        {
          "output_type": "stream",
          "name": "stdout",
          "text": [
            "Epoch   2 | Train Loss: 193.1290901005268 | Train Acc:  0.853 | Test Acc:  0.855\n"
          ]
        }
      ]
    },
    {
      "cell_type": "code",
      "source": [
        "test_df_3 = pd.DataFrame(test_raw_3)\n",
        "test_df_3.groupby(\"true_label\")[\"is_correct\"].mean()"
      ],
      "metadata": {
        "id": "fLOchuMv7uPa",
        "outputId": "c4f82222-b1ff-4bbd-af48-17e52601783e",
        "colab": {
          "base_uri": "https://localhost:8080/",
          "height": 241
        }
      },
      "execution_count": null,
      "outputs": [
        {
          "output_type": "execute_result",
          "data": {
            "text/plain": [
              "true_label\n",
              "Business    0.857143\n",
              "Sci/Tech    0.780000\n",
              "Sports      0.938053\n",
              "World       0.835052\n",
              "Name: is_correct, dtype: float64"
            ],
            "text/html": [
              "<div>\n",
              "<style scoped>\n",
              "    .dataframe tbody tr th:only-of-type {\n",
              "        vertical-align: middle;\n",
              "    }\n",
              "\n",
              "    .dataframe tbody tr th {\n",
              "        vertical-align: top;\n",
              "    }\n",
              "\n",
              "    .dataframe thead th {\n",
              "        text-align: right;\n",
              "    }\n",
              "</style>\n",
              "<table border=\"1\" class=\"dataframe\">\n",
              "  <thead>\n",
              "    <tr style=\"text-align: right;\">\n",
              "      <th></th>\n",
              "      <th>is_correct</th>\n",
              "    </tr>\n",
              "    <tr>\n",
              "      <th>true_label</th>\n",
              "      <th></th>\n",
              "    </tr>\n",
              "  </thead>\n",
              "  <tbody>\n",
              "    <tr>\n",
              "      <th>Business</th>\n",
              "      <td>0.857143</td>\n",
              "    </tr>\n",
              "    <tr>\n",
              "      <th>Sci/Tech</th>\n",
              "      <td>0.780000</td>\n",
              "    </tr>\n",
              "    <tr>\n",
              "      <th>Sports</th>\n",
              "      <td>0.938053</td>\n",
              "    </tr>\n",
              "    <tr>\n",
              "      <th>World</th>\n",
              "      <td>0.835052</td>\n",
              "    </tr>\n",
              "  </tbody>\n",
              "</table>\n",
              "</div><br><label><b>dtype:</b> float64</label>"
            ]
          },
          "metadata": {},
          "execution_count": 65
        }
      ]
    },
    {
      "cell_type": "markdown",
      "source": [
        "##### 실험 결과\n",
        "\n",
        "|Class\t|Before\t|After\t|변화량 (Δ)|\n",
        "|--|--|--|--|\n",
        "|Business|0.7571|\t0.8571\t|+0.1000 ✅|\n",
        "|Sci/Tech|\t0.8600|\t0.7800\t|−0.0800 ❌|\n",
        "|Sports|\t0.9381|\t0.9381\t|+0.0000 🟰|\n",
        "|World|\t0.8247\t|0.8351|\t+0.0103 ⬆️|\n",
        "\n",
        "\n",
        "🧠 분석\n",
        "1. Business 개선\n",
        " business 데이터 추가는 성능에 영향을 줌\n",
        "2. Sci/Tech 성능 하락\n",
        " sci/tech와 business를 헷갈려하는 경향이 보임\n",
        "3. World 약간 상승 Sport 그대로\n",
        " business 데이터를 추가한건 두 label에는 거의 영향 없음\n",
        "\n",
        "> 결론적으로 business와 sci/Tech를 모델이 헷갈려하는 것으로 생각됨\n"
      ],
      "metadata": {
        "id": "vqpycsuQ8Lmi"
      }
    },
    {
      "cell_type": "code",
      "source": [
        "from sklearn.metrics import confusion_matrix, ConfusionMatrixDisplay\n",
        "\n",
        "y_true = test_df_3[\"true_label\"]\n",
        "y_pred = test_df_3[\"pred_label\"]\n",
        "labels = [\"World\", \"Sports\", \"Business\", \"Sci/Tech\"]\n",
        "\n",
        "cm = confusion_matrix(y_true, y_pred, labels=labels)\n",
        "disp = ConfusionMatrixDisplay(confusion_matrix=cm, display_labels=labels)\n",
        "disp.plot(cmap=\"Blues\", xticks_rotation=45)\n"
      ],
      "metadata": {
        "id": "v1rUDXQe7zFI",
        "outputId": "8e7e0111-a440-4d8e-9195-00ff3794a593",
        "colab": {
          "base_uri": "https://localhost:8080/",
          "height": 506
        }
      },
      "execution_count": null,
      "outputs": [
        {
          "output_type": "execute_result",
          "data": {
            "text/plain": [
              "<sklearn.metrics._plot.confusion_matrix.ConfusionMatrixDisplay at 0x78811c277f90>"
            ]
          },
          "metadata": {},
          "execution_count": 67
        },
        {
          "output_type": "display_data",
          "data": {
            "text/plain": [
              "<Figure size 640x480 with 2 Axes>"
            ],
            "image/png": "[encoded data removed]"
          },
          "metadata": {}
        }
      ]
    },
    {
      "cell_type": "code",
      "source": [],
      "metadata": {
        "id": "Ghsya8Po9mmg"
      },
      "execution_count": null,
      "outputs": []
    }
  ],
  "metadata": {
    "accelerator": "GPU",
    "colab": {
      "gpuType": "T4",
      "provenance": []
    },
    "kernelspec": {
      "display_name": "Python 3",
      "name": "python3"
    },
    "language_info": {
      "name": "python"
    }
  },
  "nbformat": 4,
  "nbformat_minor": 0
}