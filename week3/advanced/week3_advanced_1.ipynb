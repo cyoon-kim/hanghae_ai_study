{
  "nbformat": 4,
  "nbformat_minor": 0,
  "metadata": {
    "colab": {
      "provenance": []
    },
    "kernelspec": {
      "name": "python3",
      "display_name": "Python 3"
    },
    "language_info": {
      "name": "python"
    }
  },
  "cells": [
    {
      "cell_type": "markdown",
      "source": [
        "## 1️⃣ [Week3/심화] Multi-genre natural language inference(MNLI)\n",
        "\n",
        "MNLI는 두 문장이 주어졌을 때 논리적으로 연결이 되어 있는지, 서로 모순되는지, 아니면 아예 무관한지 분류하는 문제입니다.\n",
        "\n",
        "* data : https://www.kaggle.com/datasets/thedevastator/unlocking-language-understanding-with-the-multin"
      ],
      "metadata": {
        "id": "uY9q_J3z6CRg"
      }
    },
    {
      "cell_type": "markdown",
      "source": [
        "### 1. 데이터 불러오기"
      ],
      "metadata": {
        "id": "XjNC2QdYUxi8"
      }
    },
    {
      "cell_type": "code",
      "execution_count": 1,
      "metadata": {
        "id": "2gJuyRN-5_9W"
      },
      "outputs": [],
      "source": [
        "import random\n",
        "import pandas as pd"
      ]
    },
    {
      "cell_type": "code",
      "source": [
        "train_df = pd.read_csv('./train.csv')\n",
        "test_df = pd.read_csv('./validation_matched.csv')"
      ],
      "metadata": {
        "id": "FMSmJGYZYMDL"
      },
      "execution_count": 5,
      "outputs": []
    },
    {
      "cell_type": "code",
      "source": [
        "print(\"** train **\")\n",
        "print(f\"train len : {len(train_df)}\")\n",
        "print(train_df.columns)\n",
        "print(\"** test **\")\n",
        "print(f\"test len : {len(test_df)}\")"
      ],
      "metadata": {
        "colab": {
          "base_uri": "https://localhost:8080/"
        },
        "id": "0GfsusqmZCCr",
        "outputId": "e7cfcdad-6082-475b-b071-fb3d860344e9"
      },
      "execution_count": 6,
      "outputs": [
        {
          "output_type": "stream",
          "name": "stdout",
          "text": [
            "** train **\n",
            "train len : 392702\n",
            "Index(['promptID', 'pairID', 'premise', 'premise_binary_parse',\n",
            "       'premise_parse', 'hypothesis', 'hypothesis_binary_parse',\n",
            "       'hypothesis_parse', 'genre', 'label'],\n",
            "      dtype='object')\n",
            "** test **\n",
            "test len : 9815\n"
          ]
        }
      ]
    },
    {
      "cell_type": "markdown",
      "source": [
        "#### 📋 MNLI 데이터셋 칼럼 설명\n",
        "|칼럼 이름|설명|\n",
        "|--|--|\n",
        "|promptID\t|원본 문서나 문단 단위의 ID. |\n",
        "|pairID|\t각 문장 쌍의 고유 식별자.|\n",
        "|premise\t|전제 문장.|\n",
        "|premise_binary_parse\t|전제 문장의 binary constituency 구문 트리 (문법 구조 파싱 결과, 괄호로 표현됨).|\n",
        "|premise_parse\t|전제 문장의 full constituency 구문 트리. |\n",
        "|hypothesis\t|가설 문장. premise를 기반으로 이 문장이 참인지 아닌지를 판단|\n",
        "|hypothesis_binary_parse|\t가설 문장의 binary 구문 트리.|\n",
        "|hypothesis_parse\t|가설 문장의 full constituency 구문 트리.|\n",
        "|genre\t|문장 쌍이 나온 도메인/장르 (예: fiction, slate, telephone, travel, government 등). 모델이 도메인 일반화 능력을 가질 수 있게 도와주는 요소.|\n",
        "|label|\t정답 레이블. entailment, contradiction, neutral, 또는 - (레이블 없음: 예측 대상일 때 사용).|\n",
        "\n",
        "결굴 premise와 hypothesis의 관계를 pred 해야하는 것이고 정답은 label에 있으므로 이 3개 column을 사용하면 된다."
      ],
      "metadata": {
        "id": "-3aIoqXpZ5fr"
      }
    },
    {
      "cell_type": "markdown",
      "source": [
        "##### 데이터 확인 및 전처리\n",
        "\n",
        "* 결측치 확인\n",
        "* train 데이터 분포 확인 (불균형한지)\n",
        "* label의 의미 확인"
      ],
      "metadata": {
        "id": "HECsd9-kzbjq"
      }
    },
    {
      "cell_type": "code",
      "source": [
        "train_df = train_df[['premise','hypothesis','label']]\n",
        "test_df = test_df[['premise','hypothesis','label']]\n",
        "train_df.head()"
      ],
      "metadata": {
        "id": "t2FKzMHGZcsc",
        "colab": {
          "base_uri": "https://localhost:8080/",
          "height": 293
        },
        "outputId": "70cc31a3-128a-4c12-e3f1-83009893aba0"
      },
      "execution_count": 7,
      "outputs": [
        {
          "output_type": "execute_result",
          "data": {
            "text/plain": [
              "                                             premise  \\\n",
              "0  Conceptually cream skimming has two basic dime...   \n",
              "1  you know during the season and i guess at at y...   \n",
              "2  One of our number will carry out your instruct...   \n",
              "3  How do you know? All this is their information...   \n",
              "4  yeah i tell you what though if you go price so...   \n",
              "\n",
              "                                          hypothesis  label  \n",
              "0  Product and geography are what make cream skim...      1  \n",
              "1  You lose the things to the following level if ...      0  \n",
              "2  A member of my team will execute your orders w...      0  \n",
              "3                  This information belongs to them.      0  \n",
              "4           The tennis shoes have a range of prices.      1  "
            ],
            "text/html": [
              "\n",
              "  <div id=\"df-b90d1f02-c2a5-463b-a54f-e7011afbba8c\" class=\"colab-df-container\">\n",
              "    <div>\n",
              "<style scoped>\n",
              "    .dataframe tbody tr th:only-of-type {\n",
              "        vertical-align: middle;\n",
              "    }\n",
              "\n",
              "    .dataframe tbody tr th {\n",
              "        vertical-align: top;\n",
              "    }\n",
              "\n",
              "    .dataframe thead th {\n",
              "        text-align: right;\n",
              "    }\n",
              "</style>\n",
              "<table border=\"1\" class=\"dataframe\">\n",
              "  <thead>\n",
              "    <tr style=\"text-align: right;\">\n",
              "      <th></th>\n",
              "      <th>premise</th>\n",
              "      <th>hypothesis</th>\n",
              "      <th>label</th>\n",
              "    </tr>\n",
              "  </thead>\n",
              "  <tbody>\n",
              "    <tr>\n",
              "      <th>0</th>\n",
              "      <td>Conceptually cream skimming has two basic dime...</td>\n",
              "      <td>Product and geography are what make cream skim...</td>\n",
              "      <td>1</td>\n",
              "    </tr>\n",
              "    <tr>\n",
              "      <th>1</th>\n",
              "      <td>you know during the season and i guess at at y...</td>\n",
              "      <td>You lose the things to the following level if ...</td>\n",
              "      <td>0</td>\n",
              "    </tr>\n",
              "    <tr>\n",
              "      <th>2</th>\n",
              "      <td>One of our number will carry out your instruct...</td>\n",
              "      <td>A member of my team will execute your orders w...</td>\n",
              "      <td>0</td>\n",
              "    </tr>\n",
              "    <tr>\n",
              "      <th>3</th>\n",
              "      <td>How do you know? All this is their information...</td>\n",
              "      <td>This information belongs to them.</td>\n",
              "      <td>0</td>\n",
              "    </tr>\n",
              "    <tr>\n",
              "      <th>4</th>\n",
              "      <td>yeah i tell you what though if you go price so...</td>\n",
              "      <td>The tennis shoes have a range of prices.</td>\n",
              "      <td>1</td>\n",
              "    </tr>\n",
              "  </tbody>\n",
              "</table>\n",
              "</div>\n",
              "    <div class=\"colab-df-buttons\">\n",
              "\n",
              "  <div class=\"colab-df-container\">\n",
              "    <button class=\"colab-df-convert\" onclick=\"convertToInteractive('df-b90d1f02-c2a5-463b-a54f-e7011afbba8c')\"\n",
              "            title=\"Convert this dataframe to an interactive table.\"\n",
              "            style=\"display:none;\">\n",
              "\n",
              "  <svg xmlns=\"http://www.w3.org/2000/svg\" height=\"24px\" viewBox=\"0 -960 960 960\">\n",
              "    <path d=\"M120-120v-720h720v720H120Zm60-500h600v-160H180v160Zm220 220h160v-160H400v160Zm0 220h160v-160H400v160ZM180-400h160v-160H180v160Zm440 0h160v-160H620v160ZM180-180h160v-160H180v160Zm440 0h160v-160H620v160Z\"/>\n",
              "  </svg>\n",
              "    </button>\n",
              "\n",
              "  <style>\n",
              "    .colab-df-container {\n",
              "      display:flex;\n",
              "      gap: 12px;\n",
              "    }\n",
              "\n",
              "    .colab-df-convert {\n",
              "      background-color: #E8F0FE;\n",
              "      border: none;\n",
              "      border-radius: 50%;\n",
              "      cursor: pointer;\n",
              "      display: none;\n",
              "      fill: #1967D2;\n",
              "      height: 32px;\n",
              "      padding: 0 0 0 0;\n",
              "      width: 32px;\n",
              "    }\n",
              "\n",
              "    .colab-df-convert:hover {\n",
              "      background-color: #E2EBFA;\n",
              "      box-shadow: 0px 1px 2px rgba(60, 64, 67, 0.3), 0px 1px 3px 1px rgba(60, 64, 67, 0.15);\n",
              "      fill: #174EA6;\n",
              "    }\n",
              "\n",
              "    .colab-df-buttons div {\n",
              "      margin-bottom: 4px;\n",
              "    }\n",
              "\n",
              "    [theme=dark] .colab-df-convert {\n",
              "      background-color: #3B4455;\n",
              "      fill: #D2E3FC;\n",
              "    }\n",
              "\n",
              "    [theme=dark] .colab-df-convert:hover {\n",
              "      background-color: #434B5C;\n",
              "      box-shadow: 0px 1px 3px 1px rgba(0, 0, 0, 0.15);\n",
              "      filter: drop-shadow(0px 1px 2px rgba(0, 0, 0, 0.3));\n",
              "      fill: #FFFFFF;\n",
              "    }\n",
              "  </style>\n",
              "\n",
              "    <script>\n",
              "      const buttonEl =\n",
              "        document.querySelector('#df-b90d1f02-c2a5-463b-a54f-e7011afbba8c button.colab-df-convert');\n",
              "      buttonEl.style.display =\n",
              "        google.colab.kernel.accessAllowed ? 'block' : 'none';\n",
              "\n",
              "      async function convertToInteractive(key) {\n",
              "        const element = document.querySelector('#df-b90d1f02-c2a5-463b-a54f-e7011afbba8c');\n",
              "        const dataTable =\n",
              "          await google.colab.kernel.invokeFunction('convertToInteractive',\n",
              "                                                    [key], {});\n",
              "        if (!dataTable) return;\n",
              "\n",
              "        const docLinkHtml = 'Like what you see? Visit the ' +\n",
              "          '<a target=\"_blank\" href=https://colab.research.google.com/notebooks/data_table.ipynb>data table notebook</a>'\n",
              "          + ' to learn more about interactive tables.';\n",
              "        element.innerHTML = '';\n",
              "        dataTable['output_type'] = 'display_data';\n",
              "        await google.colab.output.renderOutput(dataTable, element);\n",
              "        const docLink = document.createElement('div');\n",
              "        docLink.innerHTML = docLinkHtml;\n",
              "        element.appendChild(docLink);\n",
              "      }\n",
              "    </script>\n",
              "  </div>\n",
              "\n",
              "\n",
              "<div id=\"df-817d15bb-74f0-40dd-9fcd-87ccc7cd07b6\">\n",
              "  <button class=\"colab-df-quickchart\" onclick=\"quickchart('df-817d15bb-74f0-40dd-9fcd-87ccc7cd07b6')\"\n",
              "            title=\"Suggest charts\"\n",
              "            style=\"display:none;\">\n",
              "\n",
              "<svg xmlns=\"http://www.w3.org/2000/svg\" height=\"24px\"viewBox=\"0 0 24 24\"\n",
              "     width=\"24px\">\n",
              "    <g>\n",
              "        <path d=\"M19 3H5c-1.1 0-2 .9-2 2v14c0 1.1.9 2 2 2h14c1.1 0 2-.9 2-2V5c0-1.1-.9-2-2-2zM9 17H7v-7h2v7zm4 0h-2V7h2v10zm4 0h-2v-4h2v4z\"/>\n",
              "    </g>\n",
              "</svg>\n",
              "  </button>\n",
              "\n",
              "<style>\n",
              "  .colab-df-quickchart {\n",
              "      --bg-color: #E8F0FE;\n",
              "      --fill-color: #1967D2;\n",
              "      --hover-bg-color: #E2EBFA;\n",
              "      --hover-fill-color: #174EA6;\n",
              "      --disabled-fill-color: #AAA;\n",
              "      --disabled-bg-color: #DDD;\n",
              "  }\n",
              "\n",
              "  [theme=dark] .colab-df-quickchart {\n",
              "      --bg-color: #3B4455;\n",
              "      --fill-color: #D2E3FC;\n",
              "      --hover-bg-color: #434B5C;\n",
              "      --hover-fill-color: #FFFFFF;\n",
              "      --disabled-bg-color: #3B4455;\n",
              "      --disabled-fill-color: #666;\n",
              "  }\n",
              "\n",
              "  .colab-df-quickchart {\n",
              "    background-color: var(--bg-color);\n",
              "    border: none;\n",
              "    border-radius: 50%;\n",
              "    cursor: pointer;\n",
              "    display: none;\n",
              "    fill: var(--fill-color);\n",
              "    height: 32px;\n",
              "    padding: 0;\n",
              "    width: 32px;\n",
              "  }\n",
              "\n",
              "  .colab-df-quickchart:hover {\n",
              "    background-color: var(--hover-bg-color);\n",
              "    box-shadow: 0 1px 2px rgba(60, 64, 67, 0.3), 0 1px 3px 1px rgba(60, 64, 67, 0.15);\n",
              "    fill: var(--button-hover-fill-color);\n",
              "  }\n",
              "\n",
              "  .colab-df-quickchart-complete:disabled,\n",
              "  .colab-df-quickchart-complete:disabled:hover {\n",
              "    background-color: var(--disabled-bg-color);\n",
              "    fill: var(--disabled-fill-color);\n",
              "    box-shadow: none;\n",
              "  }\n",
              "\n",
              "  .colab-df-spinner {\n",
              "    border: 2px solid var(--fill-color);\n",
              "    border-color: transparent;\n",
              "    border-bottom-color: var(--fill-color);\n",
              "    animation:\n",
              "      spin 1s steps(1) infinite;\n",
              "  }\n",
              "\n",
              "  @keyframes spin {\n",
              "    0% {\n",
              "      border-color: transparent;\n",
              "      border-bottom-color: var(--fill-color);\n",
              "      border-left-color: var(--fill-color);\n",
              "    }\n",
              "    20% {\n",
              "      border-color: transparent;\n",
              "      border-left-color: var(--fill-color);\n",
              "      border-top-color: var(--fill-color);\n",
              "    }\n",
              "    30% {\n",
              "      border-color: transparent;\n",
              "      border-left-color: var(--fill-color);\n",
              "      border-top-color: var(--fill-color);\n",
              "      border-right-color: var(--fill-color);\n",
              "    }\n",
              "    40% {\n",
              "      border-color: transparent;\n",
              "      border-right-color: var(--fill-color);\n",
              "      border-top-color: var(--fill-color);\n",
              "    }\n",
              "    60% {\n",
              "      border-color: transparent;\n",
              "      border-right-color: var(--fill-color);\n",
              "    }\n",
              "    80% {\n",
              "      border-color: transparent;\n",
              "      border-right-color: var(--fill-color);\n",
              "      border-bottom-color: var(--fill-color);\n",
              "    }\n",
              "    90% {\n",
              "      border-color: transparent;\n",
              "      border-bottom-color: var(--fill-color);\n",
              "    }\n",
              "  }\n",
              "</style>\n",
              "\n",
              "  <script>\n",
              "    async function quickchart(key) {\n",
              "      const quickchartButtonEl =\n",
              "        document.querySelector('#' + key + ' button');\n",
              "      quickchartButtonEl.disabled = true;  // To prevent multiple clicks.\n",
              "      quickchartButtonEl.classList.add('colab-df-spinner');\n",
              "      try {\n",
              "        const charts = await google.colab.kernel.invokeFunction(\n",
              "            'suggestCharts', [key], {});\n",
              "      } catch (error) {\n",
              "        console.error('Error during call to suggestCharts:', error);\n",
              "      }\n",
              "      quickchartButtonEl.classList.remove('colab-df-spinner');\n",
              "      quickchartButtonEl.classList.add('colab-df-quickchart-complete');\n",
              "    }\n",
              "    (() => {\n",
              "      let quickchartButtonEl =\n",
              "        document.querySelector('#df-817d15bb-74f0-40dd-9fcd-87ccc7cd07b6 button');\n",
              "      quickchartButtonEl.style.display =\n",
              "        google.colab.kernel.accessAllowed ? 'block' : 'none';\n",
              "    })();\n",
              "  </script>\n",
              "</div>\n",
              "\n",
              "    </div>\n",
              "  </div>\n"
            ],
            "application/vnd.google.colaboratory.intrinsic+json": {
              "type": "dataframe",
              "variable_name": "train_df"
            }
          },
          "metadata": {},
          "execution_count": 7
        }
      ]
    },
    {
      "cell_type": "code",
      "source": [
        "print(\"** train **\")\n",
        "print(train_df.isnull().sum())\n",
        "print(\"** test **\")\n",
        "print(test_df.isnull().sum())"
      ],
      "metadata": {
        "colab": {
          "base_uri": "https://localhost:8080/"
        },
        "id": "aOoRqZaRzGRb",
        "outputId": "0f81fa3b-67e2-4207-edfd-9ac168310f97"
      },
      "execution_count": 9,
      "outputs": [
        {
          "output_type": "stream",
          "name": "stdout",
          "text": [
            "** train **\n",
            "premise        0\n",
            "hypothesis    40\n",
            "label          0\n",
            "dtype: int64\n",
            "** test **\n",
            "premise       0\n",
            "hypothesis    0\n",
            "label         0\n",
            "dtype: int64\n"
          ]
        }
      ]
    },
    {
      "cell_type": "code",
      "source": [
        "## 결측치 제거\n",
        "before_len = len(train_df)\n",
        "train_df = train_df.dropna()\n",
        "after_len = len(train_df)\n",
        "\n",
        "print(f\"{before_len - after_len} rows dropped.\")"
      ],
      "metadata": {
        "colab": {
          "base_uri": "https://localhost:8080/"
        },
        "id": "E-72LdV1zHDV",
        "outputId": "b41579eb-d9c5-4031-8a42-e155ff1aa3dc"
      },
      "execution_count": 10,
      "outputs": [
        {
          "output_type": "stream",
          "name": "stdout",
          "text": [
            "40 rows dropped.\n"
          ]
        }
      ]
    },
    {
      "cell_type": "markdown",
      "source": [
        "* 결측치를 제거하고 label이 값이 3개인지 확인한다."
      ],
      "metadata": {
        "id": "hTsr7rr03zy4"
      }
    },
    {
      "cell_type": "code",
      "source": [
        "train_df['label'].unique()"
      ],
      "metadata": {
        "colab": {
          "base_uri": "https://localhost:8080/"
        },
        "id": "UHC8wDCKzHw2",
        "outputId": "b7279a5b-0fcd-4350-8611-d178c8f7c1a4"
      },
      "execution_count": 11,
      "outputs": [
        {
          "output_type": "execute_result",
          "data": {
            "text/plain": [
              "array([1, 0, 2])"
            ]
          },
          "metadata": {},
          "execution_count": 11
        }
      ]
    },
    {
      "cell_type": "markdown",
      "source": [
        "* train 데이터가 불균형한지도 확인해준다."
      ],
      "metadata": {
        "id": "M34F6hTo5jbI"
      }
    },
    {
      "cell_type": "code",
      "source": [
        "train_df['label'].value_counts()"
      ],
      "metadata": {
        "colab": {
          "base_uri": "https://localhost:8080/",
          "height": 210
        },
        "id": "ybuUTLzO34tE",
        "outputId": "ccd4f50c-175b-44e8-8f14-ef13da4cf942"
      },
      "execution_count": 13,
      "outputs": [
        {
          "output_type": "execute_result",
          "data": {
            "text/plain": [
              "label\n",
              "2    130889\n",
              "1    130887\n",
              "0    130886\n",
              "Name: count, dtype: int64"
            ],
            "text/html": [
              "<div>\n",
              "<style scoped>\n",
              "    .dataframe tbody tr th:only-of-type {\n",
              "        vertical-align: middle;\n",
              "    }\n",
              "\n",
              "    .dataframe tbody tr th {\n",
              "        vertical-align: top;\n",
              "    }\n",
              "\n",
              "    .dataframe thead th {\n",
              "        text-align: right;\n",
              "    }\n",
              "</style>\n",
              "<table border=\"1\" class=\"dataframe\">\n",
              "  <thead>\n",
              "    <tr style=\"text-align: right;\">\n",
              "      <th></th>\n",
              "      <th>count</th>\n",
              "    </tr>\n",
              "    <tr>\n",
              "      <th>label</th>\n",
              "      <th></th>\n",
              "    </tr>\n",
              "  </thead>\n",
              "  <tbody>\n",
              "    <tr>\n",
              "      <th>2</th>\n",
              "      <td>130889</td>\n",
              "    </tr>\n",
              "    <tr>\n",
              "      <th>1</th>\n",
              "      <td>130887</td>\n",
              "    </tr>\n",
              "    <tr>\n",
              "      <th>0</th>\n",
              "      <td>130886</td>\n",
              "    </tr>\n",
              "  </tbody>\n",
              "</table>\n",
              "</div><br><label><b>dtype:</b> int64</label>"
            ]
          },
          "metadata": {},
          "execution_count": 13
        }
      ]
    },
    {
      "cell_type": "code",
      "source": [
        "for label in train_df['label'].unique():\n",
        "    examples = train_df[train_df['label'] == label].sample(3)\n",
        "    print(f\"\\nLabel {label} 예시:\")\n",
        "    for i, row in examples.iterrows():\n",
        "        print(f\"- Premise: {row['premise']}\")\n",
        "        print(f\"  Hypothesis: {row['hypothesis']}\")"
      ],
      "metadata": {
        "colab": {
          "base_uri": "https://localhost:8080/"
        },
        "id": "uUj9a0d25hDi",
        "outputId": "7e07350c-4d80-49d2-81e9-9b04264d2334"
      },
      "execution_count": 14,
      "outputs": [
        {
          "output_type": "stream",
          "name": "stdout",
          "text": [
            "\n",
            "Label 1 예시:\n",
            "- Premise: Also, during the first three months of 1997, she had met twice with the organization's chief executive officer, at his request, to discuss the security implications of new applications.\n",
            "  Hypothesis: She first met the chief executive officer in early February.\n",
            "- Premise: A small one, sir.\n",
            "  Hypothesis: I can only handle a small one.\n",
            "- Premise: But since you have proven exponentially easier to track and catch than White, I severely doubt you're using the same underground network.\n",
            "  Hypothesis: We found White last week.\n",
            "\n",
            "Label 0 예시:\n",
            "- Premise: Adequately warned, why do people persist in sucking cancer-causing tars into their lungs?\n",
            "  Hypothesis: Despite adequate warnings, people continue to smoke cigarettes.\n",
            "- Premise: Acknowledging reality isn't unethical, but ignoring it can be.\n",
            "  Hypothesis: Ignoring reality can be unethical.\n",
            "- Premise: was going to run me five hundred bucks\n",
            "  Hypothesis: Was going to cost me 500 dollars.\n",
            "\n",
            "Label 2 예시:\n",
            "- Premise: The qa'a led to the family rooms.\n",
            "  Hypothesis: The qa'a didn't go near the family rooms.\n",
            "- Premise: To the southeast of the town, cut off by a railway track, you'll find the melancholy remains of the Alyscamps, the famous Roman and medieval burial grounds that were a favorite subject of Van Gogh when he came to live in Arles in 1888.\n",
            "  Hypothesis: Van Gogh never visited the Alyscamps, nor knew that they existed.\n",
            "- Premise: Look for the ventilation shafts that astronomers have proved aligned with major constellations in the skies of Ancient Egypt.\n",
            "  Hypothesis: Astronomers have thus far not been able to link the ventilation shafts to major constellations.\n"
          ]
        }
      ]
    },
    {
      "cell_type": "markdown",
      "source": [
        "어떤 라벨이 어떤 뜻인지 헷갈렸는데 예시 찍어보고 다시 확인\n",
        "\n",
        "* label 0 - Entailment\n",
        "  * 의미가 거의 같거나, 하나가 다른 하나로부터 도출됨\n",
        "* label 1 - Neutral\n",
        "* Label 2 - Contradiction\n",
        "  * 전제와 가설이 명백히 상반됨"
      ],
      "metadata": {
        "id": "POfYSgnL59we"
      }
    },
    {
      "cell_type": "markdown",
      "source": [
        "### 2. dataset 준비\n",
        "\n",
        "(여러 모델을 테스트 하기 위해 재사용성 있는 코드)\n",
        "* tokenizer 불러오기\n"
      ],
      "metadata": {
        "id": "nXd1wopH6oEv"
      }
    },
    {
      "cell_type": "code",
      "source": [
        "from transformers import AutoTokenizer\n",
        "\n",
        "def get_tokenizer(model_name):\n",
        "    return AutoTokenizer.from_pretrained(model_name)"
      ],
      "metadata": {
        "id": "0V0cXcGN53kZ"
      },
      "execution_count": 15,
      "outputs": []
    },
    {
      "cell_type": "markdown",
      "source": [
        "* dataset 만들기\n",
        " * collate_fn 안에서 여러 처리를 해주고 이 안에선 pair로만 만들어준다."
      ],
      "metadata": {
        "id": "Kvi49bF0-kjD"
      }
    },
    {
      "cell_type": "code",
      "source": [
        "from torch.utils.data import Dataset\n",
        "\n",
        "class Dataset_Maker(Dataset):\n",
        "    def __init__(self, df):\n",
        "        self.pairs = list(zip(df['premise'], df['hypothesis']))\n",
        "        self.labels = df['label'].tolist()\n",
        "\n",
        "    def __len__(self):\n",
        "        return len(self.labels)\n",
        "\n",
        "    def __getitem__(self, idx):\n",
        "        return {\n",
        "            'text_pair': self.pairs[idx],\n",
        "            'label': self.labels[idx]\n",
        "        }"
      ],
      "metadata": {
        "id": "WGDpOMLS662p"
      },
      "execution_count": 17,
      "outputs": []
    },
    {
      "cell_type": "markdown",
      "source": [
        "* collate_fn\n",
        "  * premises와 hypotheses를 한 문장 쌍으로 만듬\n",
        "  * 패딩 처리\n",
        "  * truncation 처리\n",
        "  * masking은 attention_mask 사용"
      ],
      "metadata": {
        "id": "J8p97bNe-20y"
      }
    },
    {
      "cell_type": "code",
      "source": [
        "import torch\n",
        "\n",
        "def collate_fn(batch, tokenizer, max_length=256):\n",
        "    premises, hypotheses = zip(*[item['text_pair'] for item in batch])\n",
        "    labels = [item['label'] for item in batch]\n",
        "\n",
        "    encodings = tokenizer(\n",
        "        list(premises),\n",
        "        list(hypotheses),\n",
        "        padding=True,\n",
        "        truncation=True,\n",
        "        max_length=max_length,\n",
        "        return_tensors='pt'\n",
        "    )\n",
        "    encodings['labels'] = torch.tensor(labels, dtype=torch.long)\n",
        "    return encodings"
      ],
      "metadata": {
        "id": "Gjd7klWp67jb"
      },
      "execution_count": 18,
      "outputs": []
    },
    {
      "cell_type": "markdown",
      "source": [
        "tokenizer의 max_length를 확인해서 collate_fn에 넘겨주어 모델을 바꾸더라도 문제가 없도록 처리해준다."
      ],
      "metadata": {
        "id": "3mefpRLTAizG"
      }
    },
    {
      "cell_type": "code",
      "source": [
        "model_name = \"distilbert-base-uncased\""
      ],
      "metadata": {
        "id": "M7OugRzJAuMj"
      },
      "execution_count": 19,
      "outputs": []
    },
    {
      "cell_type": "code",
      "source": [
        "from torch.utils.data import DataLoader\n",
        "\n",
        "tokenizer = get_tokenizer(model_name)\n",
        "\n",
        "def get_dataloader(tokenizer, train_df, test_df, batch_size):\n",
        "    max_length = tokenizer.model_max_length\n",
        "\n",
        "    train_ds = Dataset_Maker(train_df)\n",
        "    train_loader = DataLoader(\n",
        "        train_ds,\n",
        "        batch_size=batch_size,\n",
        "        shuffle=True,\n",
        "        collate_fn=lambda batch: collate_fn(batch, tokenizer, max_length)\n",
        "    )\n",
        "\n",
        "    test_ds = Dataset_Maker(test_df)\n",
        "    test_loader = DataLoader(\n",
        "        test_ds,\n",
        "        batch_size=batch_size,\n",
        "        shuffle=False,\n",
        "        collate_fn=lambda batch: collate_fn(batch, tokenizer, max_length)\n",
        "    )\n",
        "    return train_loader, test_loader\n",
        "\n",
        "train_loader, test_loader = get_dataloader(tokenizer, train_df, test_df, 32)"
      ],
      "metadata": {
        "id": "MiMpDs30BAut"
      },
      "execution_count": 21,
      "outputs": []
    },
    {
      "cell_type": "markdown",
      "source": [
        "### 3. Model 구성\n",
        "* pretrained model 불러오기\n",
        "* MNLIClassifier 구조잡기"
      ],
      "metadata": {
        "id": "koDj7HjBDuBU"
      }
    },
    {
      "cell_type": "code",
      "source": [
        "import torch.nn as nn\n",
        "from transformers import AutoModel"
      ],
      "metadata": {
        "id": "aAqepNYv674r"
      },
      "execution_count": 22,
      "outputs": []
    },
    {
      "cell_type": "markdown",
      "source": [
        "* token_type_ids\n",
        "  * BERT 에서 NLI 문제에서 pretrained 된 것 문장 구분을 위한 type_ids\n",
        "  * 일단 distilBert로 진행하지만 BERT 로 실험을 해볼수도 있어서 추가해줌"
      ],
      "metadata": {
        "id": "tr4D16NrGxR8"
      }
    },
    {
      "cell_type": "code",
      "source": [
        "class MNLIClassifier(nn.Module):\n",
        "    def __init__(self, model_name):\n",
        "        super().__init__()\n",
        "        self.pretrained_model = AutoModel.from_pretrained(model_name)\n",
        "        hidden_size = self.pretrained_model.config.hidden_size\n",
        "\n",
        "        self.classifier = nn.Linear(hidden_size, 3)\n",
        "\n",
        "        print(f\"** load pretrained model {model_name} **\")\n",
        "        print(self.pretrained_model)\n",
        "\n",
        "    def forward(self, input_ids, attention_mask, token_type_ids=None):\n",
        "        outputs = self.pretrained_model(\n",
        "            input_ids=input_ids,\n",
        "            attention_mask=attention_mask,\n",
        "            token_type_ids=token_type_ids if token_type_ids is not None else None\n",
        "        )\n",
        "        cls_output = outputs.last_hidden_state[:, 0, :]  # CLS 위치\n",
        "        pred_output = self.classifier(cls_output)\n",
        "        return pred_output\n"
      ],
      "metadata": {
        "id": "VmyUCFl2D0N9"
      },
      "execution_count": 23,
      "outputs": []
    },
    {
      "cell_type": "code",
      "source": [],
      "metadata": {
        "id": "NJfrTwiX68DX"
      },
      "execution_count": null,
      "outputs": []
    },
    {
      "cell_type": "code",
      "source": [],
      "metadata": {
        "id": "sp612an468Kp"
      },
      "execution_count": null,
      "outputs": []
    },
    {
      "cell_type": "code",
      "source": [],
      "metadata": {
        "id": "f2HBDFjK68Pw"
      },
      "execution_count": null,
      "outputs": []
    },
    {
      "cell_type": "code",
      "source": [],
      "metadata": {
        "id": "jLF4-0Ly68VG"
      },
      "execution_count": null,
      "outputs": []
    },
    {
      "cell_type": "code",
      "source": [],
      "metadata": {
        "id": "_qZMoW9o68Y5"
      },
      "execution_count": null,
      "outputs": []
    }
  ]
}