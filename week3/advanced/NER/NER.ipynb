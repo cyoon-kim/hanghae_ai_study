{
 "cells": [
  {
   "cell_type": "markdown",
   "metadata": {},
   "source": [
    "## Named Entity Recognition (NER)\n",
    "\n",
    "* 데이터 : https://www.kaggle.com/datasets/debasisdotcom/name-entity-recognition-ner-dataset\n"
   ]
  },
  {
   "cell_type": "markdown",
   "metadata": {},
   "source": [
    "### 📊 NER 데이터 불러오기 및 데이터 이해"
   ]
  },
  {
   "cell_type": "code",
   "execution_count": 7,
   "metadata": {},
   "outputs": [
    {
     "data": {
      "text/html": [
       "<div>\n",
       "<style scoped>\n",
       "    .dataframe tbody tr th:only-of-type {\n",
       "        vertical-align: middle;\n",
       "    }\n",
       "\n",
       "    .dataframe tbody tr th {\n",
       "        vertical-align: top;\n",
       "    }\n",
       "\n",
       "    .dataframe thead th {\n",
       "        text-align: right;\n",
       "    }\n",
       "</style>\n",
       "<table border=\"1\" class=\"dataframe\">\n",
       "  <thead>\n",
       "    <tr style=\"text-align: right;\">\n",
       "      <th></th>\n",
       "      <th>Sentence #</th>\n",
       "      <th>Word</th>\n",
       "      <th>POS</th>\n",
       "      <th>Tag</th>\n",
       "    </tr>\n",
       "  </thead>\n",
       "  <tbody>\n",
       "    <tr>\n",
       "      <th>0</th>\n",
       "      <td>Sentence: 1</td>\n",
       "      <td>Thousands</td>\n",
       "      <td>NNS</td>\n",
       "      <td>O</td>\n",
       "    </tr>\n",
       "    <tr>\n",
       "      <th>1</th>\n",
       "      <td>NaN</td>\n",
       "      <td>of</td>\n",
       "      <td>IN</td>\n",
       "      <td>O</td>\n",
       "    </tr>\n",
       "    <tr>\n",
       "      <th>2</th>\n",
       "      <td>NaN</td>\n",
       "      <td>demonstrators</td>\n",
       "      <td>NNS</td>\n",
       "      <td>O</td>\n",
       "    </tr>\n",
       "    <tr>\n",
       "      <th>3</th>\n",
       "      <td>NaN</td>\n",
       "      <td>have</td>\n",
       "      <td>VBP</td>\n",
       "      <td>O</td>\n",
       "    </tr>\n",
       "    <tr>\n",
       "      <th>4</th>\n",
       "      <td>NaN</td>\n",
       "      <td>marched</td>\n",
       "      <td>VBN</td>\n",
       "      <td>O</td>\n",
       "    </tr>\n",
       "  </tbody>\n",
       "</table>\n",
       "</div>"
      ],
      "text/plain": [
       "    Sentence #           Word  POS Tag\n",
       "0  Sentence: 1      Thousands  NNS   O\n",
       "1          NaN             of   IN   O\n",
       "2          NaN  demonstrators  NNS   O\n",
       "3          NaN           have  VBP   O\n",
       "4          NaN        marched  VBN   O"
      ]
     },
     "execution_count": 7,
     "metadata": {},
     "output_type": "execute_result"
    }
   ],
   "source": [
    "import pandas as pd\n",
    "\n",
    "df = pd.read_csv('./dataset/NER dataset.csv', encoding='latin1')\n",
    "df.head()"
   ]
  },
  {
   "cell_type": "code",
   "execution_count": 8,
   "metadata": {},
   "outputs": [
    {
     "name": "stdout",
     "output_type": "stream",
     "text": [
      "#### POS ####\n",
      "42\n",
      "['NNS' 'IN' 'VBP' 'VBN' 'NNP' 'TO' 'VB' 'DT' 'NN' 'CC' 'JJ' '.' 'VBD' 'WP'\n",
      " '``' 'CD' 'PRP' 'VBZ' 'POS' 'VBG' 'RB' ',' 'WRB' 'PRP$' 'MD' 'WDT' 'JJR'\n",
      " ':' 'JJS' 'WP$' 'RP' 'PDT' 'NNPS' 'EX' 'RBS' 'LRB' 'RRB' '$' 'RBR' ';'\n",
      " 'UH' 'FW']\n",
      "#### TAG ####\n",
      "17\n",
      "['O' 'B-geo' 'B-gpe' 'B-per' 'I-geo' 'B-org' 'I-org' 'B-tim' 'B-art'\n",
      " 'I-art' 'I-per' 'I-gpe' 'I-tim' 'B-nat' 'B-eve' 'I-eve' 'I-nat']\n"
     ]
    }
   ],
   "source": [
    "print(\"#### POS ####\")\n",
    "print(df.POS.nunique())\n",
    "print(df.POS.unique())\n",
    "print(\"#### TAG ####\")\n",
    "print(df.Tag.nunique())\n",
    "print(df.Tag.unique())"
   ]
  },
  {
   "cell_type": "markdown",
   "metadata": {},
   "source": [
    "POS는 명사 전치사 형용사 동사 등 문법적 특성을 나타내는 데이터이고\n",
    "Tag가 NER 태그 (개체명 등)을 분석하는 데이터로 확인 됩니다.\n",
    "\n",
    "Tag에서 B와 I의 차이는 B가 시작 토큰에 붙고 이어지는 토큰엔 I 가 붙습니다."
   ]
  },
  {
   "cell_type": "markdown",
   "metadata": {},
   "source": [
    "* Tag value 설명\n",
    "\n",
    "| NER 태그 | 설명 |\n",
    "|----------|------|\n",
    "| O        | 일반 단어 (개체명 아님) |\n",
    "| B-geo    | 지명 (Beginning) |\n",
    "| I-geo    | 지명 (Inside) |\n",
    "| B-gpe    | 정치적 지명 (예: 국가, 도시 - Beginning) |\n",
    "| I-gpe    | 정치적 지명 (Inside) |\n",
    "| B-org    | 조직명 (예: 회사, 기관 - Beginning) |\n",
    "| I-org    | 조직명 (Inside) |\n",
    "| B-per    | 사람 이름 (Beginning) |\n",
    "| I-per    | 사람 이름 (Inside) |\n",
    "| B-tim    | 시간 표현 (예: 날짜, 시간 - Beginning) |\n",
    "| I-tim    | 시간 표현 (Inside) |\n",
    "| B-art    | 예술작품명 (책, 영화 등 - Beginning) |\n",
    "| I-art    | 예술작품명 (Inside) |\n",
    "| B-eve    | 이벤트명 (예: 올림픽, 전쟁 - Beginning) |\n",
    "| I-eve    | 이벤트명 (Inside) |\n",
    "| B-nat    | 자연물 (예: 동물, 천연물 - Beginning) |\n",
    "| I-nat    | 자연물 (Inside) |\n",
    "\n",
    "그럼 문장에서 Tag값을 분석하기 위해 Sentence를 입력으로 주고 각 token에 대해 Tag의 index가 나오도록 하는 데이터를 만들어야할 것 같습니다."
   ]
  },
  {
   "cell_type": "markdown",
   "metadata": {},
   "source": [
    "####  📂 학습 데이터 생성\n",
    "\n",
    "1. 먼저 문장별로 word 의 list와 그를 따르는 tag 의 list로 데이터를 수정합니다."
   ]
  },
  {
   "cell_type": "code",
   "execution_count": 9,
   "metadata": {},
   "outputs": [
    {
     "name": "stderr",
     "output_type": "stream",
     "text": [
      "/tmp/ipykernel_862/1849927326.py:1: FutureWarning: DataFrame.fillna with 'method' is deprecated and will raise in a future version. Use obj.ffill() or obj.bfill() instead.\n",
      "  df = df.fillna(method='ffill') #바로 윗값과 동일한 값으로 결측치 채워줌\n"
     ]
    },
    {
     "data": {
      "text/html": [
       "<div>\n",
       "<style scoped>\n",
       "    .dataframe tbody tr th:only-of-type {\n",
       "        vertical-align: middle;\n",
       "    }\n",
       "\n",
       "    .dataframe tbody tr th {\n",
       "        vertical-align: top;\n",
       "    }\n",
       "\n",
       "    .dataframe thead th {\n",
       "        text-align: right;\n",
       "    }\n",
       "</style>\n",
       "<table border=\"1\" class=\"dataframe\">\n",
       "  <thead>\n",
       "    <tr style=\"text-align: right;\">\n",
       "      <th></th>\n",
       "      <th>Sentence #</th>\n",
       "      <th>Word</th>\n",
       "      <th>Tag</th>\n",
       "    </tr>\n",
       "  </thead>\n",
       "  <tbody>\n",
       "    <tr>\n",
       "      <th>0</th>\n",
       "      <td>Sentence: 1</td>\n",
       "      <td>[Thousands, of, demonstrators, have, marched, ...</td>\n",
       "      <td>[O, O, O, O, O, O, B-geo, O, O, O, O, O, B-geo...</td>\n",
       "    </tr>\n",
       "    <tr>\n",
       "      <th>1</th>\n",
       "      <td>Sentence: 10</td>\n",
       "      <td>[Iranian, officials, say, they, expect, to, ge...</td>\n",
       "      <td>[B-gpe, O, O, O, O, O, O, O, O, O, O, O, O, O,...</td>\n",
       "    </tr>\n",
       "    <tr>\n",
       "      <th>2</th>\n",
       "      <td>Sentence: 100</td>\n",
       "      <td>[Helicopter, gunships, Saturday, pounded, mili...</td>\n",
       "      <td>[O, O, B-tim, O, O, O, O, O, B-geo, O, O, O, O...</td>\n",
       "    </tr>\n",
       "    <tr>\n",
       "      <th>3</th>\n",
       "      <td>Sentence: 1000</td>\n",
       "      <td>[They, left, after, a, tense, hour-long, stand...</td>\n",
       "      <td>[O, O, O, O, O, O, O, O, O, O, O]</td>\n",
       "    </tr>\n",
       "    <tr>\n",
       "      <th>4</th>\n",
       "      <td>Sentence: 10000</td>\n",
       "      <td>[U.N., relief, coordinator, Jan, Egeland, said...</td>\n",
       "      <td>[B-geo, O, O, B-per, I-per, O, B-tim, O, B-geo...</td>\n",
       "    </tr>\n",
       "  </tbody>\n",
       "</table>\n",
       "</div>"
      ],
      "text/plain": [
       "        Sentence #                                               Word  \\\n",
       "0      Sentence: 1  [Thousands, of, demonstrators, have, marched, ...   \n",
       "1     Sentence: 10  [Iranian, officials, say, they, expect, to, ge...   \n",
       "2    Sentence: 100  [Helicopter, gunships, Saturday, pounded, mili...   \n",
       "3   Sentence: 1000  [They, left, after, a, tense, hour-long, stand...   \n",
       "4  Sentence: 10000  [U.N., relief, coordinator, Jan, Egeland, said...   \n",
       "\n",
       "                                                 Tag  \n",
       "0  [O, O, O, O, O, O, B-geo, O, O, O, O, O, B-geo...  \n",
       "1  [B-gpe, O, O, O, O, O, O, O, O, O, O, O, O, O,...  \n",
       "2  [O, O, B-tim, O, O, O, O, O, B-geo, O, O, O, O...  \n",
       "3                  [O, O, O, O, O, O, O, O, O, O, O]  \n",
       "4  [B-geo, O, O, B-per, I-per, O, B-tim, O, B-geo...  "
      ]
     },
     "execution_count": 9,
     "metadata": {},
     "output_type": "execute_result"
    }
   ],
   "source": [
    "df = df.fillna(method='ffill') #바로 윗값과 동일한 값으로 결측치 채워줌\n",
    "group_df = df.groupby('Sentence #').agg({'Word': list, 'Tag': list}).reset_index()\n",
    "group_df.head()"
   ]
  },
  {
   "cell_type": "markdown",
   "metadata": {},
   "source": [
    "2. Tag를 index로 변경한 column을 만듭니다."
   ]
  },
  {
   "cell_type": "code",
   "execution_count": 10,
   "metadata": {},
   "outputs": [
    {
     "name": "stdout",
     "output_type": "stream",
     "text": [
      "{'B-art': 0, 'B-eve': 1, 'B-geo': 2, 'B-gpe': 3, 'B-nat': 4, 'B-org': 5, 'B-per': 6, 'B-tim': 7, 'I-art': 8, 'I-eve': 9, 'I-geo': 10, 'I-gpe': 11, 'I-nat': 12, 'I-org': 13, 'I-per': 14, 'I-tim': 15, 'O': 16}\n"
     ]
    },
    {
     "data": {
      "text/html": [
       "<div>\n",
       "<style scoped>\n",
       "    .dataframe tbody tr th:only-of-type {\n",
       "        vertical-align: middle;\n",
       "    }\n",
       "\n",
       "    .dataframe tbody tr th {\n",
       "        vertical-align: top;\n",
       "    }\n",
       "\n",
       "    .dataframe thead th {\n",
       "        text-align: right;\n",
       "    }\n",
       "</style>\n",
       "<table border=\"1\" class=\"dataframe\">\n",
       "  <thead>\n",
       "    <tr style=\"text-align: right;\">\n",
       "      <th></th>\n",
       "      <th>Sentence #</th>\n",
       "      <th>Word</th>\n",
       "      <th>Tag</th>\n",
       "      <th>tag_index</th>\n",
       "    </tr>\n",
       "  </thead>\n",
       "  <tbody>\n",
       "    <tr>\n",
       "      <th>0</th>\n",
       "      <td>Sentence: 1</td>\n",
       "      <td>[Thousands, of, demonstrators, have, marched, ...</td>\n",
       "      <td>[O, O, O, O, O, O, B-geo, O, O, O, O, O, B-geo...</td>\n",
       "      <td>[16, 16, 16, 16, 16, 16, 2, 16, 16, 16, 16, 16...</td>\n",
       "    </tr>\n",
       "    <tr>\n",
       "      <th>1</th>\n",
       "      <td>Sentence: 10</td>\n",
       "      <td>[Iranian, officials, say, they, expect, to, ge...</td>\n",
       "      <td>[B-gpe, O, O, O, O, O, O, O, O, O, O, O, O, O,...</td>\n",
       "      <td>[3, 16, 16, 16, 16, 16, 16, 16, 16, 16, 16, 16...</td>\n",
       "    </tr>\n",
       "    <tr>\n",
       "      <th>2</th>\n",
       "      <td>Sentence: 100</td>\n",
       "      <td>[Helicopter, gunships, Saturday, pounded, mili...</td>\n",
       "      <td>[O, O, B-tim, O, O, O, O, O, B-geo, O, O, O, O...</td>\n",
       "      <td>[16, 16, 7, 16, 16, 16, 16, 16, 2, 16, 16, 16,...</td>\n",
       "    </tr>\n",
       "    <tr>\n",
       "      <th>3</th>\n",
       "      <td>Sentence: 1000</td>\n",
       "      <td>[They, left, after, a, tense, hour-long, stand...</td>\n",
       "      <td>[O, O, O, O, O, O, O, O, O, O, O]</td>\n",
       "      <td>[16, 16, 16, 16, 16, 16, 16, 16, 16, 16, 16]</td>\n",
       "    </tr>\n",
       "    <tr>\n",
       "      <th>4</th>\n",
       "      <td>Sentence: 10000</td>\n",
       "      <td>[U.N., relief, coordinator, Jan, Egeland, said...</td>\n",
       "      <td>[B-geo, O, O, B-per, I-per, O, B-tim, O, B-geo...</td>\n",
       "      <td>[2, 16, 16, 6, 14, 16, 7, 16, 2, 16, 3, 16, 3,...</td>\n",
       "    </tr>\n",
       "  </tbody>\n",
       "</table>\n",
       "</div>"
      ],
      "text/plain": [
       "        Sentence #                                               Word  \\\n",
       "0      Sentence: 1  [Thousands, of, demonstrators, have, marched, ...   \n",
       "1     Sentence: 10  [Iranian, officials, say, they, expect, to, ge...   \n",
       "2    Sentence: 100  [Helicopter, gunships, Saturday, pounded, mili...   \n",
       "3   Sentence: 1000  [They, left, after, a, tense, hour-long, stand...   \n",
       "4  Sentence: 10000  [U.N., relief, coordinator, Jan, Egeland, said...   \n",
       "\n",
       "                                                 Tag  \\\n",
       "0  [O, O, O, O, O, O, B-geo, O, O, O, O, O, B-geo...   \n",
       "1  [B-gpe, O, O, O, O, O, O, O, O, O, O, O, O, O,...   \n",
       "2  [O, O, B-tim, O, O, O, O, O, B-geo, O, O, O, O...   \n",
       "3                  [O, O, O, O, O, O, O, O, O, O, O]   \n",
       "4  [B-geo, O, O, B-per, I-per, O, B-tim, O, B-geo...   \n",
       "\n",
       "                                           tag_index  \n",
       "0  [16, 16, 16, 16, 16, 16, 2, 16, 16, 16, 16, 16...  \n",
       "1  [3, 16, 16, 16, 16, 16, 16, 16, 16, 16, 16, 16...  \n",
       "2  [16, 16, 7, 16, 16, 16, 16, 16, 2, 16, 16, 16,...  \n",
       "3       [16, 16, 16, 16, 16, 16, 16, 16, 16, 16, 16]  \n",
       "4  [2, 16, 16, 6, 14, 16, 7, 16, 2, 16, 3, 16, 3,...  "
      ]
     },
     "execution_count": 10,
     "metadata": {},
     "output_type": "execute_result"
    }
   ],
   "source": [
    "unique_tags = sorted(df.Tag.unique())\n",
    "tag2index = {tag: idx for idx, tag in enumerate(unique_tags)}\n",
    "index2tag = {idx: tag for tag, idx in tag2index.items()}\n",
    "print(tag2index)\n",
    "group_df['tag_index'] = group_df['Tag'].apply(lambda tags: [tag2index[tag] for tag in tags])\n",
    "group_df.head()"
   ]
  },
  {
   "cell_type": "markdown",
   "metadata": {},
   "source": [
    "|\t|Sentence #\t|Word|\tTag\t|tag_index|\n",
    "|--|--|--|--|--|\n",
    "|0|\tSentence: 1\t|[Thousands, of, demonstrators, have, marched, ...|\t[O, O, O, O, O, O, B-geo, O, O, O, O, O, B-geo...|\t[16, 16, 16, 16, 16, 16, 2, 16, 16, 16, 16, 16...|\n",
    "|1|\tSentence: 10|\t[Iranian, officials, say, they, expect, to, ge...|\t[B-gpe, O, O, O, O, O, O, O, O, O, O, O, O, O,...|\t[3, 16, 16, 16, 16, 16, 16, 16, 16, 16, 16, 16...|\n",
    "\n",
    "태그가 index 형식으로 변경된걸 확인할 수 있습니다."
   ]
  },
  {
   "cell_type": "markdown",
   "metadata": {},
   "source": [
    "#### 🔠 tokenizer 설정\n",
    "\n",
    "* is_split_into_words 설정\n",
    "  * 전체 문장을 list로 넣으려면 이 설정을 해줘야 list 안에 있는 word들이 하나의 문장으로 인식된다.\n",
    "    * True : [CLS] I am a good boy [SEP]\n",
    "    * False : [[CLS] I [SEP]] , [[CLS] am [SEP]] , [[CLS] a [SEP]] , [[CLS] good [SEP]] , [[CLS] boy [SEP]]\n",
    "* "
   ]
  },
  {
   "cell_type": "code",
   "execution_count": 11,
   "metadata": {},
   "outputs": [
    {
     "name": "stderr",
     "output_type": "stream",
     "text": [
      "/home/jovyan/NLP_study/myenv/lib/python3.12/site-packages/tqdm/auto.py:21: TqdmWarning: IProgress not found. Please update jupyter and ipywidgets. See https://ipywidgets.readthedocs.io/en/stable/user_install.html\n",
      "  from .autonotebook import tqdm as notebook_tqdm\n"
     ]
    }
   ],
   "source": [
    "from transformers import AutoTokenizer #모델에 맞는 tokenizer를 쉽게 받아오기 위해 사용"
   ]
  },
  {
   "cell_type": "code",
   "execution_count": 12,
   "metadata": {},
   "outputs": [],
   "source": [
    "model_name = \"distilbert-base-cased\"\n",
    "tokenizer = AutoTokenizer.from_pretrained(model_name)"
   ]
  },
  {
   "cell_type": "code",
   "execution_count": 13,
   "metadata": {},
   "outputs": [
    {
     "data": {
      "text/html": [
       "<div>\n",
       "<style scoped>\n",
       "    .dataframe tbody tr th:only-of-type {\n",
       "        vertical-align: middle;\n",
       "    }\n",
       "\n",
       "    .dataframe tbody tr th {\n",
       "        vertical-align: top;\n",
       "    }\n",
       "\n",
       "    .dataframe thead th {\n",
       "        text-align: right;\n",
       "    }\n",
       "</style>\n",
       "<table border=\"1\" class=\"dataframe\">\n",
       "  <thead>\n",
       "    <tr style=\"text-align: right;\">\n",
       "      <th></th>\n",
       "      <th>Sentence #</th>\n",
       "      <th>Word</th>\n",
       "      <th>Tag</th>\n",
       "      <th>tag_index</th>\n",
       "    </tr>\n",
       "  </thead>\n",
       "  <tbody>\n",
       "    <tr>\n",
       "      <th>0</th>\n",
       "      <td>Sentence: 1</td>\n",
       "      <td>[Thousands, of, demonstrators, have, marched, ...</td>\n",
       "      <td>[O, O, O, O, O, O, B-geo, O, O, O, O, O, B-geo...</td>\n",
       "      <td>[16, 16, 16, 16, 16, 16, 2, 16, 16, 16, 16, 16...</td>\n",
       "    </tr>\n",
       "  </tbody>\n",
       "</table>\n",
       "</div>"
      ],
      "text/plain": [
       "    Sentence #                                               Word  \\\n",
       "0  Sentence: 1  [Thousands, of, demonstrators, have, marched, ...   \n",
       "\n",
       "                                                 Tag  \\\n",
       "0  [O, O, O, O, O, O, B-geo, O, O, O, O, O, B-geo...   \n",
       "\n",
       "                                           tag_index  \n",
       "0  [16, 16, 16, 16, 16, 16, 2, 16, 16, 16, 16, 16...  "
      ]
     },
     "execution_count": 13,
     "metadata": {},
     "output_type": "execute_result"
    }
   ],
   "source": [
    "group_df.head(1)"
   ]
  },
  {
   "cell_type": "code",
   "execution_count": 14,
   "metadata": {},
   "outputs": [
    {
     "data": {
      "text/plain": [
       "['The',\n",
       " 'economists',\n",
       " 'blame',\n",
       " 'the',\n",
       " 'slowdown',\n",
       " 'on',\n",
       " 'problems',\n",
       " 'in',\n",
       " 'advanced',\n",
       " 'economies',\n",
       " ',',\n",
       " 'particularly',\n",
       " 'the',\n",
       " 'United',\n",
       " 'States',\n",
       " '.']"
      ]
     },
     "execution_count": 14,
     "metadata": {},
     "output_type": "execute_result"
    }
   ],
   "source": [
    "group_df.iloc[673]['Word']"
   ]
  },
  {
   "cell_type": "code",
   "execution_count": 15,
   "metadata": {},
   "outputs": [
    {
     "data": {
      "text/plain": [
       "{'input_ids': [101, 1130, 1630, 117, 12778, 10456, 1157, 1263, 17277, 3070, 12530, 1114, 1241, 15967, 1105, 7721, 8945, 119, 102], 'attention_mask': [1, 1, 1, 1, 1, 1, 1, 1, 1, 1, 1, 1, 1, 1, 1, 1, 1, 1, 1]}"
      ]
     },
     "execution_count": 15,
     "metadata": {},
     "output_type": "execute_result"
    }
   ],
   "source": [
    "text = group_df.iloc[173]['Word']\n",
    "token_output = tokenizer(text, is_split_into_words=True)\n",
    "token_output"
   ]
  },
  {
   "cell_type": "code",
   "execution_count": 16,
   "metadata": {},
   "outputs": [
    {
     "name": "stdout",
     "output_type": "stream",
     "text": [
      "['[CLS]', 'In', '2001', ',', 'Qatar', 'resolved', 'its', 'long', '##standing', 'border', 'disputes', 'with', 'both', 'Bahrain', 'and', 'Saudi', 'Arabia', '.', '[SEP]']\n"
     ]
    }
   ],
   "source": [
    "print(tokenizer.convert_ids_to_tokens(token_output['input_ids']))"
   ]
  },
  {
   "cell_type": "markdown",
   "metadata": {},
   "source": [
    "몇몇 단어가 한 word임에도 불구하고 여러 token으로 분리된 것을 확인할 수 있었다.\n",
    "\n",
    "이렇게 들어가면 pred가 label보다 개수가 많이 나오는 결과가 나올 것 같다.\n",
    "\n",
    "ex) U.N. > 'U' , '.' , 'N' , '.'"
   ]
  },
  {
   "cell_type": "code",
   "execution_count": 17,
   "metadata": {},
   "outputs": [
    {
     "name": "stdout",
     "output_type": "stream",
     "text": [
      "[None, 0, 1, 2, 3, 4, 5, 6, 6, 7, 8, 9, 10, 11, 12, 13, 14, 15, None]\n"
     ]
    }
   ],
   "source": [
    "print(token_output.word_ids())"
   ]
  },
  {
   "cell_type": "markdown",
   "metadata": {},
   "source": [
    "```\n",
    "['[CLS]', 'Wednesday', ',', 'the', 'U', '.', 'N', '.', 'Security', 'Council', 'passed', 'a', 'resolution', 'de', '##p', '##lor', '##ing', 'that', 'foreign', 'armed', 'groups', 'continue', 'to', 'operate', 'in', 'the', 'eastern', 'DR', '##C', ',', 'and', 'demanded', 'that', 'they', 'immediately', 'di', '##sar', '##m', '.', '[SEP]']\n",
    "[None, 0, 1, 2, 3, 3, 3, 3, 4, 5, 6, 7, 8, 9, 9, 9, 9, 10, 11, 12, 13, 14, 15, 16, 17, 18, 19, 20, 20, 21, 22, 23, 24, 25, 26, 27, 27, 27, 28, None]\n",
    "```\n",
    "\n",
    "예시 데이터에서 이 두개를 배고하면 U . N . 이 word 3 으로 4개 매칭되어 4개의 토큰이지만 하나의 word임을 뜻하는 내용을 출력할 수 있다."
   ]
  },
  {
   "cell_type": "markdown",
   "metadata": {},
   "source": [
    "##### 📌 label 수정\n",
    "\n",
    "|data|value|\n",
    "|--|--|\n",
    "|input|[CLS] internationalization is hard [SEP]|\n",
    "|token|'[CLS]' 'international' '##ization' 'is' 'hard' '[SEP]'|\n",
    "|word_id| 0, 1, 1, 2, 3, 4 |\n",
    "|label(as-is)| None, 1, 0, 0, None |\n",
    "|label(to-be)| -100, 1, -100, 0, 0, -100 |\n",
    "\n",
    "* subword의 label을 -100 으로 바꾸는 이유\n",
    "  * CrossEntropyLoss 함수에서 ignore_index 설정으로 -100은 loss 계산에서 제외해주기 때문\n",
    "\n"
   ]
  },
  {
   "cell_type": "code",
   "execution_count": 18,
   "metadata": {},
   "outputs": [
    {
     "name": "stdout",
     "output_type": "stream",
     "text": [
      "['Thousands', 'of', 'demonstrators', 'have', 'marched', 'through', 'London', 'to', 'protest', 'the', 'war', 'in', 'Iraq', 'and', 'demand', 'the', 'withdrawal', 'of', 'British', 'troops', 'from', 'that', 'country', '.']\n"
     ]
    }
   ],
   "source": [
    "print(group_df.Word[0])"
   ]
  },
  {
   "cell_type": "code",
   "execution_count": 19,
   "metadata": {},
   "outputs": [],
   "source": [
    "def align_labels_with_tokeniizer(tokens, tag_index_list, tokenizer):\n",
    "    tokenizer_output = tokenizer(tokens, is_split_into_words=True)\n",
    "    word_ids = tokenizer_output.word_ids()\n",
    "    new_labels = []\n",
    "    prev_word_idx = None\n",
    "\n",
    "    for word_idx in word_ids:\n",
    "        if word_idx is None: # special 토큰인 경우\n",
    "            new_labels.append(-100)\n",
    "        elif word_idx != prev_word_idx:\n",
    "            new_labels.append(tag_index_list[word_idx])\n",
    "        else:\n",
    "            new_labels.append(-100)\n",
    "        prev_word_idx = word_idx\n",
    "    return new_labels\n",
    "\n",
    "group_df['aligned_labels'] = group_df.apply(lambda row: align_labels_with_tokeniizer(row['Word'], row['tag_index'], tokenizer), axis=1)\n"
   ]
  },
  {
   "cell_type": "code",
   "execution_count": 20,
   "metadata": {},
   "outputs": [
    {
     "data": {
      "text/html": [
       "<div>\n",
       "<style scoped>\n",
       "    .dataframe tbody tr th:only-of-type {\n",
       "        vertical-align: middle;\n",
       "    }\n",
       "\n",
       "    .dataframe tbody tr th {\n",
       "        vertical-align: top;\n",
       "    }\n",
       "\n",
       "    .dataframe thead th {\n",
       "        text-align: right;\n",
       "    }\n",
       "</style>\n",
       "<table border=\"1\" class=\"dataframe\">\n",
       "  <thead>\n",
       "    <tr style=\"text-align: right;\">\n",
       "      <th></th>\n",
       "      <th>Sentence #</th>\n",
       "      <th>Word</th>\n",
       "      <th>Tag</th>\n",
       "      <th>tag_index</th>\n",
       "      <th>aligned_labels</th>\n",
       "    </tr>\n",
       "  </thead>\n",
       "  <tbody>\n",
       "    <tr>\n",
       "      <th>0</th>\n",
       "      <td>Sentence: 1</td>\n",
       "      <td>[Thousands, of, demonstrators, have, marched, ...</td>\n",
       "      <td>[O, O, O, O, O, O, B-geo, O, O, O, O, O, B-geo...</td>\n",
       "      <td>[16, 16, 16, 16, 16, 16, 2, 16, 16, 16, 16, 16...</td>\n",
       "      <td>[-100, 16, 16, 16, -100, -100, 16, 16, 16, 2, ...</td>\n",
       "    </tr>\n",
       "    <tr>\n",
       "      <th>1</th>\n",
       "      <td>Sentence: 10</td>\n",
       "      <td>[Iranian, officials, say, they, expect, to, ge...</td>\n",
       "      <td>[B-gpe, O, O, O, O, O, O, O, O, O, O, O, O, O,...</td>\n",
       "      <td>[3, 16, 16, 16, 16, 16, 16, 16, 16, 16, 16, 16...</td>\n",
       "      <td>[-100, 3, 16, 16, 16, 16, 16, 16, 16, 16, 16, ...</td>\n",
       "    </tr>\n",
       "    <tr>\n",
       "      <th>2</th>\n",
       "      <td>Sentence: 100</td>\n",
       "      <td>[Helicopter, gunships, Saturday, pounded, mili...</td>\n",
       "      <td>[O, O, B-tim, O, O, O, O, O, B-geo, O, O, O, O...</td>\n",
       "      <td>[16, 16, 7, 16, 16, 16, 16, 16, 2, 16, 16, 16,...</td>\n",
       "      <td>[-100, 16, -100, -100, -100, 16, -100, 7, 16, ...</td>\n",
       "    </tr>\n",
       "    <tr>\n",
       "      <th>3</th>\n",
       "      <td>Sentence: 1000</td>\n",
       "      <td>[They, left, after, a, tense, hour-long, stand...</td>\n",
       "      <td>[O, O, O, O, O, O, O, O, O, O, O]</td>\n",
       "      <td>[16, 16, 16, 16, 16, 16, 16, 16, 16, 16, 16]</td>\n",
       "      <td>[-100, 16, 16, 16, 16, 16, 16, -100, -100, 16,...</td>\n",
       "    </tr>\n",
       "    <tr>\n",
       "      <th>4</th>\n",
       "      <td>Sentence: 10000</td>\n",
       "      <td>[U.N., relief, coordinator, Jan, Egeland, said...</td>\n",
       "      <td>[B-geo, O, O, B-per, I-per, O, B-tim, O, B-geo...</td>\n",
       "      <td>[2, 16, 16, 6, 14, 16, 7, 16, 2, 16, 3, 16, 3,...</td>\n",
       "      <td>[-100, 2, -100, -100, -100, 16, 16, 6, 14, -10...</td>\n",
       "    </tr>\n",
       "  </tbody>\n",
       "</table>\n",
       "</div>"
      ],
      "text/plain": [
       "        Sentence #                                               Word  \\\n",
       "0      Sentence: 1  [Thousands, of, demonstrators, have, marched, ...   \n",
       "1     Sentence: 10  [Iranian, officials, say, they, expect, to, ge...   \n",
       "2    Sentence: 100  [Helicopter, gunships, Saturday, pounded, mili...   \n",
       "3   Sentence: 1000  [They, left, after, a, tense, hour-long, stand...   \n",
       "4  Sentence: 10000  [U.N., relief, coordinator, Jan, Egeland, said...   \n",
       "\n",
       "                                                 Tag  \\\n",
       "0  [O, O, O, O, O, O, B-geo, O, O, O, O, O, B-geo...   \n",
       "1  [B-gpe, O, O, O, O, O, O, O, O, O, O, O, O, O,...   \n",
       "2  [O, O, B-tim, O, O, O, O, O, B-geo, O, O, O, O...   \n",
       "3                  [O, O, O, O, O, O, O, O, O, O, O]   \n",
       "4  [B-geo, O, O, B-per, I-per, O, B-tim, O, B-geo...   \n",
       "\n",
       "                                           tag_index  \\\n",
       "0  [16, 16, 16, 16, 16, 16, 2, 16, 16, 16, 16, 16...   \n",
       "1  [3, 16, 16, 16, 16, 16, 16, 16, 16, 16, 16, 16...   \n",
       "2  [16, 16, 7, 16, 16, 16, 16, 16, 2, 16, 16, 16,...   \n",
       "3       [16, 16, 16, 16, 16, 16, 16, 16, 16, 16, 16]   \n",
       "4  [2, 16, 16, 6, 14, 16, 7, 16, 2, 16, 3, 16, 3,...   \n",
       "\n",
       "                                      aligned_labels  \n",
       "0  [-100, 16, 16, 16, -100, -100, 16, 16, 16, 2, ...  \n",
       "1  [-100, 3, 16, 16, 16, 16, 16, 16, 16, 16, 16, ...  \n",
       "2  [-100, 16, -100, -100, -100, 16, -100, 7, 16, ...  \n",
       "3  [-100, 16, 16, 16, 16, 16, 16, -100, -100, 16,...  \n",
       "4  [-100, 2, -100, -100, -100, 16, 16, 6, 14, -10...  "
      ]
     },
     "execution_count": 20,
     "metadata": {},
     "output_type": "execute_result"
    }
   ],
   "source": [
    "group_df.head()"
   ]
  },
  {
   "cell_type": "code",
   "execution_count": 21,
   "metadata": {},
   "outputs": [
    {
     "name": "stdout",
     "output_type": "stream",
     "text": [
      "['In', '2001', ',', 'Qatar', 'resolved', 'its', 'longstanding', 'border', 'disputes', 'with', 'both', 'Bahrain', 'and', 'Saudi', 'Arabia', '.']\n",
      "[16, 7, 16, 5, 16, 16, 16, 16, 16, 16, 16, 5, 16, 5, 13, 16]\n",
      "[-100, 16, 7, 16, 5, 16, 16, 16, -100, 16, 16, 16, 16, 5, 16, 5, 13, 16, -100]\n"
     ]
    }
   ],
   "source": [
    "print(group_df.iloc[173].Word)\n",
    "print(group_df.iloc[173].tag_index)\n",
    "print(group_df.iloc[173].aligned_labels)"
   ]
  },
  {
   "cell_type": "markdown",
   "metadata": {},
   "source": [
    "제대로 aligned label을 만든 걸 확인할 수 있다."
   ]
  },
  {
   "cell_type": "markdown",
   "metadata": {},
   "source": [
    "##### ~~train test 분리~~\n",
    "\n",
    "~~sklearn 의 함수를 사용해서 분리한다.~~\n",
    "\n",
    "나중에 모델별로 돌리다 보니 여기 사용되는 토크나이저도 모델별로 달라야한다는 걸 알아 수정"
   ]
  },
  {
   "cell_type": "code",
   "execution_count": 22,
   "metadata": {},
   "outputs": [
    {
     "name": "stdout",
     "output_type": "stream",
     "text": [
      "train len : 38367 , test len : 9592\n"
     ]
    }
   ],
   "source": [
    "from sklearn.model_selection import train_test_split\n",
    "\n",
    "train_df, test_df = train_test_split(group_df, test_size=0.2, random_state=123)\n",
    "print(f\"train len : {len(train_df)} , test len : {len(test_df)}\")"
   ]
  },
  {
   "cell_type": "markdown",
   "metadata": {},
   "source": [
    "### 🍀 Model building\n",
    "\n",
    "재사용성 있는 코드를 작성해서 3개의 모델을 비교하고자 했습니다."
   ]
  },
  {
   "cell_type": "code",
   "execution_count": 23,
   "metadata": {},
   "outputs": [],
   "source": [
    "from datasets import Dataset"
   ]
  },
  {
   "cell_type": "markdown",
   "metadata": {},
   "source": [
    "#### 📂 make dataloader\n",
    "\n",
    "* collate_fn\n",
    "  * tokens, aligned_labels 를 배치 내 문장을 묶어서 tensor로 만들어 줘야함\n",
    "  * base model을 변경하면서 실험하기 위해 tokenizer 도 변수로 입력\n",
    "  "
   ]
  },
  {
   "cell_type": "code",
   "execution_count": 24,
   "metadata": {},
   "outputs": [],
   "source": [
    "from torch.nn.utils.rnn import pad_sequence\n",
    "\n",
    "def collate_fn(batch, tokenizer):\n",
    "    inputs = [item['Word'] for item in batch]\n",
    "    labels = [item['aligned_labels'] for item in batch]\n",
    "\n",
    "    tokenized = tokenizer(\n",
    "        inputs,\n",
    "        is_split_into_words=True,\n",
    "        truncation=True,\n",
    "        padding=True,\n",
    "        return_tensors=\"pt\"\n",
    "    )\n",
    "    \n",
    "    padded_labels = pad_sequence(\n",
    "        [torch.tensor(l, dtype=torch.long) for l in labels],\n",
    "        batch_first=True,\n",
    "        padding_value=-100\n",
    "    )\n",
    "    tokenized[\"labels\"] = padded_labels\n",
    "\n",
    "    return tokenized"
   ]
  },
  {
   "cell_type": "code",
   "execution_count": 25,
   "metadata": {},
   "outputs": [],
   "source": [
    "from torch.utils.data import DataLoader\n",
    "from functools import partial\n",
    "\n",
    "def make_data_loader(train_df, test_df, model_name, batch_size=32):\n",
    "    if model_name == \"roberta-base\":\n",
    "        tokenizer = AutoTokenizer.from_pretrained(model_name, add_prefix_space=True)\n",
    "    else:\n",
    "        tokenizer = AutoTokenizer.from_pretrained(model_name)\n",
    "    \n",
    "    train_data = train_df.copy()\n",
    "    test_data = test_df.copy()\n",
    "\n",
    "    train_data['aligned_labels'] = train_data.apply(lambda row: align_labels_with_tokeniizer(row['Word'], row['tag_index'], tokenizer), axis=1)\n",
    "    test_data['aligned_labels'] = test_data.apply(lambda row: align_labels_with_tokeniizer(row['Word'], row['tag_index'], tokenizer), axis=1)\n",
    "\n",
    "    train_ds = Dataset.from_pandas(train_data)\n",
    "    test_ds = Dataset.from_pandas(test_data)\n",
    "\n",
    "    collate_fn_with_tokenizer = partial(collate_fn, tokenizer=tokenizer)\n",
    "\n",
    "    train_loader = DataLoader(train_ds, batch_size=batch_size, shuffle=True, collate_fn=collate_fn_with_tokenizer)\n",
    "    test_loader = DataLoader(test_ds, batch_size=batch_size, shuffle=True, collate_fn=collate_fn_with_tokenizer)\n",
    "\n",
    "    return train_loader, test_loader, tokenizer"
   ]
  },
  {
   "cell_type": "markdown",
   "metadata": {},
   "source": [
    "#### 📥 load pretrained model\n",
    "\n",
    "* distilBERT\n",
    "  * BERT 기반의 모델의 knowledge distillation 기법을 통해 경량화한 모델\n",
    "  * BERT 보다 40% 적은 파라미터를 가진다.\n",
    "  * https://huggingface.co/distilbert/distilbert-base-cased\n",
    "\n",
    "* RoBERT\n",
    "  * BERT 모델을 기반으로 더 많은 데이터와 더 많은 학습시간으로 pre trained 된 모델\n",
    "  * https://huggingface.co/FacebookAI/roberta-base\n",
    "\n",
    "* bert-base-cased\n",
    "  * 기본적인 영어 모델\n",
    "  * https://huggingface.co/google-bert/bert-base-cased"
   ]
  },
  {
   "cell_type": "code",
   "execution_count": 26,
   "metadata": {},
   "outputs": [],
   "source": [
    "robert_train_loader, robert_test_loader, robert_tokenizer = make_data_loader(train_df, test_df, \"roberta-base\")"
   ]
  },
  {
   "cell_type": "code",
   "execution_count": 27,
   "metadata": {},
   "outputs": [],
   "source": [
    "distil_train_loader, distil_test_loader, distil_tokenizer = make_data_loader(train_df, test_df, \"distilbert-base-cased\")\n",
    "robert_train_loader, robert_test_loader, robert_tokenizer = make_data_loader(train_df, test_df, \"roberta-base\")\n",
    "bert_train_loader, bert_test_loader, bert_tokenizer = make_data_loader(train_df, test_df, \"bert-base-cased\")"
   ]
  },
  {
   "cell_type": "markdown",
   "metadata": {},
   "source": [
    "##### 📊 base 모델 성능 비교\n",
    "* AutoModelForTokenClassification 를 사용해 base model 성능을 측정합니다."
   ]
  },
  {
   "cell_type": "code",
   "execution_count": 28,
   "metadata": {},
   "outputs": [
    {
     "name": "stdout",
     "output_type": "stream",
     "text": [
      "{0: 'B-art', 1: 'B-eve', 2: 'B-geo', 3: 'B-gpe', 4: 'B-nat', 5: 'B-org', 6: 'B-per', 7: 'B-tim', 8: 'I-art', 9: 'I-eve', 10: 'I-geo', 11: 'I-gpe', 12: 'I-nat', 13: 'I-org', 14: 'I-per', 15: 'I-tim', 16: 'O'}\n",
      "{'B-art': 0, 'B-eve': 1, 'B-geo': 2, 'B-gpe': 3, 'B-nat': 4, 'B-org': 5, 'B-per': 6, 'B-tim': 7, 'I-art': 8, 'I-eve': 9, 'I-geo': 10, 'I-gpe': 11, 'I-nat': 12, 'I-org': 13, 'I-per': 14, 'I-tim': 15, 'O': 16}\n"
     ]
    }
   ],
   "source": [
    "from transformers import AutoModelForTokenClassification\n",
    "\n",
    "num_labels = len(tag2index)\n",
    "id2label = {i: tag for tag, i in tag2index.items()}\n",
    "label2id = tag2index\n",
    "\n",
    "print(id2label)\n",
    "print(label2id)"
   ]
  },
  {
   "cell_type": "code",
   "execution_count": 29,
   "metadata": {},
   "outputs": [],
   "source": [
    "def get_classification_base_model(model_name):\n",
    "    return AutoModelForTokenClassification.from_pretrained(\n",
    "        model_name,\n",
    "        num_labels = num_labels,\n",
    "        id2label = id2label,\n",
    "        label2id = label2id\n",
    "    )"
   ]
  },
  {
   "cell_type": "code",
   "execution_count": 30,
   "metadata": {},
   "outputs": [
    {
     "name": "stderr",
     "output_type": "stream",
     "text": [
      "Some weights of DistilBertForTokenClassification were not initialized from the model checkpoint at distilbert-base-cased and are newly initialized: ['classifier.bias', 'classifier.weight']\n",
      "You should probably TRAIN this model on a down-stream task to be able to use it for predictions and inference.\n",
      "Some weights of RobertaForTokenClassification were not initialized from the model checkpoint at roberta-base and are newly initialized: ['classifier.bias', 'classifier.weight']\n",
      "You should probably TRAIN this model on a down-stream task to be able to use it for predictions and inference.\n",
      "Some weights of BertForTokenClassification were not initialized from the model checkpoint at bert-base-cased and are newly initialized: ['classifier.bias', 'classifier.weight']\n",
      "You should probably TRAIN this model on a down-stream task to be able to use it for predictions and inference.\n"
     ]
    }
   ],
   "source": [
    "distil_model = get_classification_base_model(\"distilbert-base-cased\")\n",
    "robert_model = get_classification_base_model(\"roberta-base\")\n",
    "bert_model = get_classification_base_model(\"bert-base-cased\")"
   ]
  },
  {
   "cell_type": "code",
   "execution_count": 31,
   "metadata": {},
   "outputs": [
    {
     "data": {
      "text/plain": [
       "BertForTokenClassification(\n",
       "  (bert): BertModel(\n",
       "    (embeddings): BertEmbeddings(\n",
       "      (word_embeddings): Embedding(28996, 768, padding_idx=0)\n",
       "      (position_embeddings): Embedding(512, 768)\n",
       "      (token_type_embeddings): Embedding(2, 768)\n",
       "      (LayerNorm): LayerNorm((768,), eps=1e-12, elementwise_affine=True)\n",
       "      (dropout): Dropout(p=0.1, inplace=False)\n",
       "    )\n",
       "    (encoder): BertEncoder(\n",
       "      (layer): ModuleList(\n",
       "        (0-11): 12 x BertLayer(\n",
       "          (attention): BertAttention(\n",
       "            (self): BertSdpaSelfAttention(\n",
       "              (query): Linear(in_features=768, out_features=768, bias=True)\n",
       "              (key): Linear(in_features=768, out_features=768, bias=True)\n",
       "              (value): Linear(in_features=768, out_features=768, bias=True)\n",
       "              (dropout): Dropout(p=0.1, inplace=False)\n",
       "            )\n",
       "            (output): BertSelfOutput(\n",
       "              (dense): Linear(in_features=768, out_features=768, bias=True)\n",
       "              (LayerNorm): LayerNorm((768,), eps=1e-12, elementwise_affine=True)\n",
       "              (dropout): Dropout(p=0.1, inplace=False)\n",
       "            )\n",
       "          )\n",
       "          (intermediate): BertIntermediate(\n",
       "            (dense): Linear(in_features=768, out_features=3072, bias=True)\n",
       "            (intermediate_act_fn): GELUActivation()\n",
       "          )\n",
       "          (output): BertOutput(\n",
       "            (dense): Linear(in_features=3072, out_features=768, bias=True)\n",
       "            (LayerNorm): LayerNorm((768,), eps=1e-12, elementwise_affine=True)\n",
       "            (dropout): Dropout(p=0.1, inplace=False)\n",
       "          )\n",
       "        )\n",
       "      )\n",
       "    )\n",
       "  )\n",
       "  (dropout): Dropout(p=0.1, inplace=False)\n",
       "  (classifier): Linear(in_features=768, out_features=17, bias=True)\n",
       ")"
      ]
     },
     "execution_count": 31,
     "metadata": {},
     "output_type": "execute_result"
    }
   ],
   "source": [
    "distil_model.to('cuda')\n",
    "robert_model.to('cuda')\n",
    "bert_model.to('cuda')"
   ]
  },
  {
   "cell_type": "markdown",
   "metadata": {},
   "source": [
    "##### save_classification_report\n",
    "\n",
    "* classification_report\n",
    "  * 분류모델에서 precision recall F1 acc를 정리해주는 함수\n",
    "  * 이 method를 사용해서 report를 저장하기 위한 함수 생성"
   ]
  },
  {
   "cell_type": "code",
   "execution_count": 32,
   "metadata": {},
   "outputs": [],
   "source": [
    "from sklearn.metrics import classification_report\n",
    "from tqdm import tqdm\n",
    "import torch\n",
    "import numpy as np\n",
    "import json\n",
    "\n",
    "def save_classification_report(all_labels, all_preds, index2tag, model_name):\n",
    "    report_dict = classification_report(\n",
    "        all_labels, all_preds,\n",
    "        target_names = [index2tag[i] for i in sorted(index2tag)],\n",
    "        output_dict=True\n",
    "    )\n",
    "    file_name = f\"base_{model_name}_report.json\"\n",
    "    with open(file_name, \"w\") as f:\n",
    "        json.dump(report_dict, f, indent=2)\n",
    "    print(f\"save report {model_name}...\")\n",
    "    "
   ]
  },
  {
   "cell_type": "code",
   "execution_count": 33,
   "metadata": {},
   "outputs": [],
   "source": [
    "def evalutate_mode(model, model_name, data_loader, index2tag):\n",
    "    model.to('cuda')\n",
    "\n",
    "    raw_preds = []\n",
    "    raw_labels = []\n",
    "\n",
    "    with torch.no_grad():\n",
    "        for data in tqdm(data_loader):\n",
    "            input_ids = data['input_ids'].to('cuda')\n",
    "            attention_mask = data['attention_mask'].to('cuda')\n",
    "            labels = data['labels'].to('cuda')\n",
    "\n",
    "            outputs = model(input_ids = input_ids, attention_mask = attention_mask)\n",
    "            outputs = outputs.logits\n",
    "            preds = torch.argmax(outputs, dim=-1)\n",
    "\n",
    "            for pred, label in zip(preds, labels):\n",
    "                pred = pred.cpu().numpy()\n",
    "                label = label.cpu().numpy()\n",
    "                for p, l in zip (pred, label):\n",
    "                    if l != -100: # -100인 경우 무시였음\n",
    "                        raw_preds.append(p)\n",
    "                        raw_labels.append(l)\n",
    "\n",
    "    save_classification_report(raw_labels, raw_preds, index2tag, model_name)\n"
   ]
  },
  {
   "cell_type": "code",
   "execution_count": 34,
   "metadata": {},
   "outputs": [
    {
     "name": "stdout",
     "output_type": "stream",
     "text": [
      "\n",
      ">> Evaluate DistilBERT...\n"
     ]
    },
    {
     "name": "stderr",
     "output_type": "stream",
     "text": [
      "100%|██████████| 300/300 [00:05<00:00, 53.15it/s]\n"
     ]
    },
    {
     "name": "stdout",
     "output_type": "stream",
     "text": [
      "save report DistilBERT...\n",
      "\n",
      ">> Evaluate RoBERTa...\n"
     ]
    },
    {
     "name": "stderr",
     "output_type": "stream",
     "text": [
      "100%|██████████| 300/300 [00:08<00:00, 36.79it/s]\n",
      "/home/jovyan/NLP_study/myenv/lib/python3.12/site-packages/sklearn/metrics/_classification.py:1565: UndefinedMetricWarning: Precision is ill-defined and being set to 0.0 in labels with no predicted samples. Use `zero_division` parameter to control this behavior.\n",
      "  _warn_prf(average, modifier, f\"{metric.capitalize()} is\", len(result))\n",
      "/home/jovyan/NLP_study/myenv/lib/python3.12/site-packages/sklearn/metrics/_classification.py:1565: UndefinedMetricWarning: Precision is ill-defined and being set to 0.0 in labels with no predicted samples. Use `zero_division` parameter to control this behavior.\n",
      "  _warn_prf(average, modifier, f\"{metric.capitalize()} is\", len(result))\n",
      "/home/jovyan/NLP_study/myenv/lib/python3.12/site-packages/sklearn/metrics/_classification.py:1565: UndefinedMetricWarning: Precision is ill-defined and being set to 0.0 in labels with no predicted samples. Use `zero_division` parameter to control this behavior.\n",
      "  _warn_prf(average, modifier, f\"{metric.capitalize()} is\", len(result))\n"
     ]
    },
    {
     "name": "stdout",
     "output_type": "stream",
     "text": [
      "save report RoBERTa...\n",
      "\n",
      ">> Evaluate BERT...\n"
     ]
    },
    {
     "name": "stderr",
     "output_type": "stream",
     "text": [
      "100%|██████████| 300/300 [00:08<00:00, 35.70it/s]\n"
     ]
    },
    {
     "name": "stdout",
     "output_type": "stream",
     "text": [
      "save report BERT...\n"
     ]
    }
   ],
   "source": [
    "models = [distil_model, robert_model, bert_model]\n",
    "model_names = [\"DistilBERT\", \"RoBERTa\", \"BERT\"]\n",
    "test_loaders = [distil_test_loader, robert_test_loader, bert_test_loader]\n",
    "\n",
    "for model, name, test_l in zip(models, model_names, test_loaders):\n",
    "    print(f\"\\n>> Evaluate {name}...\")\n",
    "    evalutate_mode(model, name, test_l, index2tag)"
   ]
  },
  {
   "cell_type": "markdown",
   "metadata": {},
   "source": [
    "#### 🔨 set classification layer\n",
    "\n",
    "label의 개수대로 Linear Layer로 classification 하는 layer를 추가한 NERClassification class를 만듭니다.\n",
    "\n",
    "* NERClassification\n",
    "  1. pretrained model\n",
    "  2. classification layer"
   ]
  },
  {
   "cell_type": "code",
   "execution_count": 35,
   "metadata": {},
   "outputs": [
    {
     "data": {
      "text/plain": [
       "17"
      ]
     },
     "execution_count": 35,
     "metadata": {},
     "output_type": "execute_result"
    }
   ],
   "source": [
    "len(index2tag)"
   ]
  },
  {
   "cell_type": "code",
   "execution_count": 36,
   "metadata": {},
   "outputs": [
    {
     "name": "stderr",
     "output_type": "stream",
     "text": [
      "Some weights of RobertaModel were not initialized from the model checkpoint at roberta-base and are newly initialized: ['pooler.dense.bias', 'pooler.dense.weight']\n",
      "You should probably TRAIN this model on a down-stream task to be able to use it for predictions and inference.\n"
     ]
    }
   ],
   "source": [
    "from transformers import AutoModel\n",
    "\n",
    "distil_base_model = AutoModel.from_pretrained(\"distilbert-base-cased\")\n",
    "robert_base_model = AutoModel.from_pretrained(\"roberta-base\")\n",
    "bert_base_model = AutoModel.from_pretrained(\"bert-base-cased\")"
   ]
  },
  {
   "cell_type": "code",
   "execution_count": 37,
   "metadata": {},
   "outputs": [],
   "source": [
    "import torch.nn as nn\n",
    "\n",
    "class NERClassification(nn.Module):\n",
    "    def __init__(self, model):\n",
    "        super().__init__()\n",
    "        self.encoder = model\n",
    "        self.dropout = nn.Dropout(p=0.1)\n",
    "        self.classifier = nn.Linear(self.encoder.config.hidden_size, 17) ## len(index2tag)의 값이 17\n",
    "\n",
    "    def forward(self, input_ids, attention_mask, labels=None):\n",
    "        outputs = self.encoder(input_ids = input_ids, attention_mask = attention_mask).last_hidden_state\n",
    "        outputs = self.dropout(outputs)\n",
    "        preds = self.classifier(outputs)\n",
    "\n",
    "        return preds"
   ]
  },
  {
   "cell_type": "code",
   "execution_count": 38,
   "metadata": {},
   "outputs": [],
   "source": [
    "distil_finetune_model = NERClassification(distil_base_model)\n",
    "robert_finetune_model = NERClassification(robert_base_model)\n",
    "bert_finetune_model = NERClassification(bert_base_model)"
   ]
  },
  {
   "cell_type": "markdown",
   "metadata": {},
   "source": [
    "3개 모델에 대해 기본 pre trained model의 layer는 freeze 한다."
   ]
  },
  {
   "cell_type": "code",
   "execution_count": 39,
   "metadata": {},
   "outputs": [],
   "source": [
    "finetune_models = [distil_finetune_model, robert_finetune_model, bert_finetune_model]\n",
    "\n",
    "for model in finetune_models:\n",
    "    for param in model.encoder.parameters():\n",
    "        param.requires_grad = False"
   ]
  },
  {
   "cell_type": "markdown",
   "metadata": {},
   "source": [
    "#### 📈 finetuning"
   ]
  },
  {
   "cell_type": "code",
   "execution_count": 40,
   "metadata": {},
   "outputs": [],
   "source": [
    "import matplotlib.pyplot as plt\n",
    "\n",
    "from transformers import get_scheduler\n",
    "from torch.optim import AdamW\n"
   ]
  },
  {
   "cell_type": "code",
   "execution_count": 41,
   "metadata": {},
   "outputs": [],
   "source": [
    "for model in finetune_models:\n",
    "    model.to('cuda')"
   ]
  },
  {
   "cell_type": "code",
   "execution_count": 42,
   "metadata": {},
   "outputs": [],
   "source": [
    "def eval_accuracy(model, model_name, dataloader, print_report=False):\n",
    "    model.eval()\n",
    "    model.to('cuda')\n",
    "\n",
    "    correct = 0\n",
    "    total = 0\n",
    "    all_preds = []\n",
    "    all_labels = []\n",
    "\n",
    "    with torch.no_grad():\n",
    "        for data in tqdm(dataloader, desc=\"Evaluating\", leave=False):\n",
    "            input_ids = data['input_ids'].to('cuda')\n",
    "            attention_mask = data['attention_mask'].to('cuda')\n",
    "            labels = data['labels'].to('cuda')\n",
    "\n",
    "            preds = model(input_ids=input_ids, attention_mask = attention_mask)\n",
    "            preds = torch.argmax(preds, dim=-1)\n",
    "\n",
    "            for pred, label in zip(preds, labels):\n",
    "                for p, l in zip(pred, label):\n",
    "                    if l == -100:\n",
    "                        continue\n",
    "                    if print_report:\n",
    "                        all_preds.append(p.item())\n",
    "                        all_labels.append(l.item())\n",
    "                    total += 1\n",
    "                    correct += (p==l).item()\n",
    "\n",
    "    if print_report:\n",
    "        save_classification_report(all_labels, all_preds, index2tag, model_name)\n",
    "    acc = correct/total if total > 0 else 0.0\n",
    "    print(f\"[{model_name} Eval Acc] {acc: .4f}\")\n",
    "    return acc"
   ]
  },
  {
   "cell_type": "markdown",
   "metadata": {},
   "source": [
    "* scheduler\n",
    "  * **학습률(learning rate)**를 훈련 중에 점진적으로 조정해주는 도구\n",
    "  * \"linear\" : 선형적으로 감소시키는 스케쥴러\n",
    "    * warmup_step만큼 증가 num_training_step 만큼 감소"
   ]
  },
  {
   "cell_type": "code",
   "execution_count": 46,
   "metadata": {},
   "outputs": [],
   "source": [
    "def train_model(model, model_name, train_loader, test_loader, optimizer, scheduler, num_epochs):\n",
    "    loss_fn = torch.nn.CrossEntropyLoss(ignore_index=-100)\n",
    "\n",
    "    train_loss_list = []\n",
    "    train_acc_list = []\n",
    "    test_acc_list = []\n",
    "\n",
    "    for epoch in range(num_epochs):\n",
    "        total_loss = 0.\n",
    "        model.train()\n",
    "\n",
    "        for data in tqdm(train_loader, desc=f\"Epoch {epoch + 1}/{num_epochs}\"):\n",
    "            model.zero_grad()\n",
    "\n",
    "            inputs = data['input_ids'].to('cuda')\n",
    "            attention_mask = data['attention_mask'].to('cuda')\n",
    "            labels = data['labels'].to('cuda')\n",
    "\n",
    "            preds = model(input_ids=inputs, attention_mask=attention_mask)\n",
    "\n",
    "            loss = loss_fn(preds.view(-1, preds.size(-1)), labels.view(-1))\n",
    "\n",
    "            loss.backward()\n",
    "            optimizer.step()\n",
    "            scheduler.step()\n",
    "\n",
    "            total_loss += loss.item()\n",
    "\n",
    "        print(f\"[Epoch {epoch}] Train loss: {total_loss:.4f}\")\n",
    "\n",
    "        print(\"[Test Acc]\")\n",
    "        test_acc = eval_accuracy(model, model_name, test_loader, print_report=(epoch==num_epochs-1))\n",
    "\n",
    "        train_loss_list.append(total_loss)\n",
    "        test_acc_list.append(test_acc)\n",
    "\n",
    "    return train_loss_list, test_acc_list"
   ]
  },
  {
   "cell_type": "code",
   "execution_count": 47,
   "metadata": {},
   "outputs": [],
   "source": [
    "def finetune_model(model, model_name, train_loader, test_loader, lr, num_epochs):\n",
    "    model.to('cuda')\n",
    "\n",
    "    optimizer = AdamW(model.parameters(), lr=lr)\n",
    "\n",
    "    total_steps=len(train_loader)* num_epochs\n",
    "    scheduler = get_scheduler(\n",
    "        name=\"linear\",\n",
    "        optimizer=optimizer,\n",
    "        num_warmup_steps=0,\n",
    "        num_training_steps=total_steps\n",
    "    )\n",
    "\n",
    "    train_loss_list, test_acc_list = train_model(\n",
    "        model = model,\n",
    "        model_name = model_name,\n",
    "        train_loader = train_loader,\n",
    "        test_loader = test_loader,\n",
    "        optimizer = optimizer,\n",
    "        scheduler = scheduler,\n",
    "        num_epochs = num_epochs\n",
    "    )\n",
    "\n",
    "    return train_loss_list, test_acc_list"
   ]
  },
  {
   "cell_type": "code",
   "execution_count": 48,
   "metadata": {},
   "outputs": [
    {
     "name": "stderr",
     "output_type": "stream",
     "text": [
      "Epoch 1/3: 100%|██████████| 1199/1199 [00:19<00:00, 62.38it/s]\n"
     ]
    },
    {
     "name": "stdout",
     "output_type": "stream",
     "text": [
      "[Epoch 0] Train loss: 203.3426\n",
      "[Test Acc]\n"
     ]
    },
    {
     "name": "stderr",
     "output_type": "stream",
     "text": [
      "                                                             \r"
     ]
    },
    {
     "name": "stdout",
     "output_type": "stream",
     "text": [
      "[DistilBERT-finetune Eval Acc]  0.9540\n"
     ]
    },
    {
     "name": "stderr",
     "output_type": "stream",
     "text": [
      "Epoch 2/3: 100%|██████████| 1199/1199 [00:19<00:00, 62.36it/s]\n"
     ]
    },
    {
     "name": "stdout",
     "output_type": "stream",
     "text": [
      "[Epoch 1] Train loss: 191.7298\n",
      "[Test Acc]\n"
     ]
    },
    {
     "name": "stderr",
     "output_type": "stream",
     "text": [
      "                                                             \r"
     ]
    },
    {
     "name": "stdout",
     "output_type": "stream",
     "text": [
      "[DistilBERT-finetune Eval Acc]  0.9554\n"
     ]
    },
    {
     "name": "stderr",
     "output_type": "stream",
     "text": [
      "Epoch 3/3: 100%|██████████| 1199/1199 [00:19<00:00, 62.28it/s]\n"
     ]
    },
    {
     "name": "stdout",
     "output_type": "stream",
     "text": [
      "[Epoch 2] Train loss: 188.3608\n",
      "[Test Acc]\n"
     ]
    },
    {
     "name": "stderr",
     "output_type": "stream",
     "text": [
      "                                                             "
     ]
    },
    {
     "name": "stdout",
     "output_type": "stream",
     "text": [
      "save report DistilBERT-finetune...\n",
      "[DistilBERT-finetune Eval Acc]  0.9556\n"
     ]
    },
    {
     "name": "stderr",
     "output_type": "stream",
     "text": [
      "\r"
     ]
    }
   ],
   "source": [
    "distil_loss, distil_test_acc = finetune_model(distil_finetune_model, \"DistilBERT-finetune\", distil_train_loader, distil_test_loader, 0.001, 3)"
   ]
  },
  {
   "cell_type": "code",
   "execution_count": 49,
   "metadata": {},
   "outputs": [
    {
     "name": "stderr",
     "output_type": "stream",
     "text": [
      "Epoch 1/3: 100%|██████████| 1199/1199 [00:31<00:00, 37.84it/s]\n"
     ]
    },
    {
     "name": "stdout",
     "output_type": "stream",
     "text": [
      "[Epoch 0] Train loss: 403.4286\n",
      "[Test Acc]\n"
     ]
    },
    {
     "name": "stderr",
     "output_type": "stream",
     "text": [
      "                                                             \r"
     ]
    },
    {
     "name": "stdout",
     "output_type": "stream",
     "text": [
      "[RoBERTa-finetune Eval Acc]  0.9500\n"
     ]
    },
    {
     "name": "stderr",
     "output_type": "stream",
     "text": [
      "Epoch 2/3: 100%|██████████| 1199/1199 [00:31<00:00, 37.54it/s]\n"
     ]
    },
    {
     "name": "stdout",
     "output_type": "stream",
     "text": [
      "[Epoch 1] Train loss: 233.9981\n",
      "[Test Acc]\n"
     ]
    },
    {
     "name": "stderr",
     "output_type": "stream",
     "text": [
      "                                                             \r"
     ]
    },
    {
     "name": "stdout",
     "output_type": "stream",
     "text": [
      "[RoBERTa-finetune Eval Acc]  0.9530\n"
     ]
    },
    {
     "name": "stderr",
     "output_type": "stream",
     "text": [
      "Epoch 3/3: 100%|██████████| 1199/1199 [00:31<00:00, 38.01it/s]\n"
     ]
    },
    {
     "name": "stdout",
     "output_type": "stream",
     "text": [
      "[Epoch 2] Train loss: 223.0349\n",
      "[Test Acc]\n"
     ]
    },
    {
     "name": "stderr",
     "output_type": "stream",
     "text": [
      "                                                             \r"
     ]
    },
    {
     "name": "stdout",
     "output_type": "stream",
     "text": [
      "save report RoBERTa-finetune...\n",
      "[RoBERTa-finetune Eval Acc]  0.9535\n"
     ]
    },
    {
     "name": "stderr",
     "output_type": "stream",
     "text": [
      "/home/jovyan/NLP_study/myenv/lib/python3.12/site-packages/sklearn/metrics/_classification.py:1565: UndefinedMetricWarning: Precision is ill-defined and being set to 0.0 in labels with no predicted samples. Use `zero_division` parameter to control this behavior.\n",
      "  _warn_prf(average, modifier, f\"{metric.capitalize()} is\", len(result))\n",
      "/home/jovyan/NLP_study/myenv/lib/python3.12/site-packages/sklearn/metrics/_classification.py:1565: UndefinedMetricWarning: Precision is ill-defined and being set to 0.0 in labels with no predicted samples. Use `zero_division` parameter to control this behavior.\n",
      "  _warn_prf(average, modifier, f\"{metric.capitalize()} is\", len(result))\n",
      "/home/jovyan/NLP_study/myenv/lib/python3.12/site-packages/sklearn/metrics/_classification.py:1565: UndefinedMetricWarning: Precision is ill-defined and being set to 0.0 in labels with no predicted samples. Use `zero_division` parameter to control this behavior.\n",
      "  _warn_prf(average, modifier, f\"{metric.capitalize()} is\", len(result))\n"
     ]
    }
   ],
   "source": [
    "robert_loss, robert_test_acc = finetune_model(robert_finetune_model, \"RoBERTa-finetune\", robert_train_loader, robert_test_loader, 0.001, 3)"
   ]
  },
  {
   "cell_type": "code",
   "execution_count": 50,
   "metadata": {},
   "outputs": [
    {
     "name": "stderr",
     "output_type": "stream",
     "text": [
      "Epoch 1/3: 100%|██████████| 1199/1199 [00:31<00:00, 37.54it/s]\n"
     ]
    },
    {
     "name": "stdout",
     "output_type": "stream",
     "text": [
      "[Epoch 0] Train loss: 302.9510\n",
      "[Test Acc]\n"
     ]
    },
    {
     "name": "stderr",
     "output_type": "stream",
     "text": [
      "                                                             \r"
     ]
    },
    {
     "name": "stdout",
     "output_type": "stream",
     "text": [
      "[BERT-finetune Eval Acc]  0.9535\n"
     ]
    },
    {
     "name": "stderr",
     "output_type": "stream",
     "text": [
      "Epoch 2/3: 100%|██████████| 1199/1199 [00:31<00:00, 38.46it/s]\n"
     ]
    },
    {
     "name": "stdout",
     "output_type": "stream",
     "text": [
      "[Epoch 1] Train loss: 206.6014\n",
      "[Test Acc]\n"
     ]
    },
    {
     "name": "stderr",
     "output_type": "stream",
     "text": [
      "                                                             \r"
     ]
    },
    {
     "name": "stdout",
     "output_type": "stream",
     "text": [
      "[BERT-finetune Eval Acc]  0.9560\n"
     ]
    },
    {
     "name": "stderr",
     "output_type": "stream",
     "text": [
      "Epoch 3/3: 100%|██████████| 1199/1199 [00:31<00:00, 38.19it/s]\n"
     ]
    },
    {
     "name": "stdout",
     "output_type": "stream",
     "text": [
      "[Epoch 2] Train loss: 199.2357\n",
      "[Test Acc]\n"
     ]
    },
    {
     "name": "stderr",
     "output_type": "stream",
     "text": [
      "                                                             "
     ]
    },
    {
     "name": "stdout",
     "output_type": "stream",
     "text": [
      "save report BERT-finetune...\n",
      "[BERT-finetune Eval Acc]  0.9563\n"
     ]
    },
    {
     "name": "stderr",
     "output_type": "stream",
     "text": [
      "\r"
     ]
    }
   ],
   "source": [
    "bert_loss, bert_test_acc = finetune_model(bert_finetune_model, \"BERT-finetune\", bert_train_loader, bert_test_loader, 0.001, 3)"
   ]
  },
  {
   "cell_type": "markdown",
   "metadata": {},
   "source": [
    "#### 📊 loss graph"
   ]
  },
  {
   "cell_type": "code",
   "execution_count": 51,
   "metadata": {},
   "outputs": [],
   "source": [
    "def plot_loss(mode_name, loss_list):\n",
    "    plt.plot(loss_list)\n",
    "    plt.xlabel('Epoch')\n",
    "    plt.ylabel('Loss')\n",
    "    plt.title(f'[{model_name} ]Training Loss per Epoch')\n",
    "    plt.grid(True)\n",
    "    plt.show()"
   ]
  },
  {
   "cell_type": "code",
   "execution_count": 52,
   "metadata": {},
   "outputs": [
    {
     "data": {
      "image/png": "[encoded data removed]",
      "text/plain": [
       "<Figure size 640x480 with 1 Axes>"
      ]
     },
     "metadata": {},
     "output_type": "display_data"
    },
    {
     "name": "stdout",
     "output_type": "stream",
     "text": [
      "None\n"
     ]
    },
    {
     "data": {
      "image/png": "[encoded data removed]",
      "text/plain": [
       "<Figure size 640x480 with 1 Axes>"
      ]
     },
     "metadata": {},
     "output_type": "display_data"
    },
    {
     "name": "stdout",
     "output_type": "stream",
     "text": [
      "None\n"
     ]
    },
    {
     "data": {
      "image/png": "[encoded data removed]",
      "text/plain": [
       "<Figure size 640x480 with 1 Axes>"
      ]
     },
     "metadata": {},
     "output_type": "display_data"
    },
    {
     "name": "stdout",
     "output_type": "stream",
     "text": [
      "None\n"
     ]
    }
   ],
   "source": [
    "print(plot_loss(\"distilBERT\", distil_loss))\n",
    "print(plot_loss(\"roBERT\", robert_loss))\n",
    "print(plot_loss(\"BERT\", bert_loss))"
   ]
  },
  {
   "cell_type": "markdown",
   "metadata": {},
   "source": [
    "#### 📝 정확도 분석\n",
    "\n",
    "report를 보면 3개의 정확도를 나타내는 변수들이 있다.\n",
    "\n",
    "* Accuracy : 전체 토큰 중 맞춘 비율\n",
    "* macro avg : 클래스별 F1의 단순 평균\n",
    "* weighted avg : 클래스별 F1의 가중 평균 (비율 기준으로)\n",
    "\n",
    "  * F1 score : Precision과 Recall의 조화 평균\n",
    "\n",
    "위와 같은 특성때문에 macro 와 weight-avg/Acc와 차이가 난다.\n",
    "\n",
    "Acc와 weight-avg는 O의 비율이 많으면 높아지는 경향이 있어서 macro-avg를 주로 비교한다.\n"
   ]
  },
  {
   "cell_type": "code",
   "execution_count": 56,
   "metadata": {},
   "outputs": [],
   "source": [
    "import json\n",
    "\n",
    "def load_report(filepath):\n",
    "    with open(filepath, 'r') as f:\n",
    "        return json.load(f)\n",
    "\n",
    "reports = {\n",
    "    \"BERT\": {\n",
    "        \"base\": load_report(\"base_BERT_report.json\"),\n",
    "        \"finetune\": load_report(\"base_BERT-finetune_report.json\")\n",
    "    },\n",
    "    \"RoBERTa\": {\n",
    "        \"base\": load_report(\"base_RoBERTa_report.json\"),\n",
    "        \"finetune\": load_report(\"base_RoBERTa-finetune_report.json\")\n",
    "    },\n",
    "    \"DistilBERT\": {\n",
    "        \"base\": load_report(\"base_DistilBERT_report.json\"),\n",
    "        \"finetune\": load_report(\"base_DistilBERT-finetune_report.json\")\n",
    "    }\n",
    "}"
   ]
  },
  {
   "cell_type": "code",
   "execution_count": 68,
   "metadata": {},
   "outputs": [],
   "source": [
    "def plot_base_vs_finetune_f1(reports):\n",
    "    for model_name, result in reports.items():\n",
    "        base_f1 = result[\"base\"][\"weighted avg\"][\"f1-score\"]\n",
    "        fine_f1 = result[\"finetune\"][\"weighted avg\"][\"f1-score\"]\n",
    "\n",
    "        plt.figure()\n",
    "        plt.bar([\"Base\", \"Fine-tuned\"], [base_f1, fine_f1])\n",
    "        plt.title(f\"{model_name}: Base vs Fine-tuned (Macro F1)\")\n",
    "        plt.ylabel(\"F1-score\")\n",
    "        plt.ylim(0, 1)\n",
    "        plt.grid(axis='y')\n",
    "        plt.show()"
   ]
  },
  {
   "cell_type": "code",
   "execution_count": 63,
   "metadata": {},
   "outputs": [],
   "source": [
    "def plot_finetuned_model_comparison(reports):\n",
    "    model_names = []\n",
    "    f1_scores = []\n",
    "\n",
    "    for model_name, result in reports.items():\n",
    "        model_names.append(model_name)\n",
    "        f1_scores.append(result[\"finetune\"][\"weighted avg\"][\"f1-score\"])\n",
    "\n",
    "    plt.figure()\n",
    "    plt.bar(model_names, f1_scores)\n",
    "    plt.title(\"Fine-tuned Model Comparison (Macro F1)\")\n",
    "    plt.ylabel(\"F1-score\")\n",
    "    plt.ylim(0, 1)\n",
    "    plt.grid(axis='y')\n",
    "    plt.show()"
   ]
  },
  {
   "cell_type": "code",
   "execution_count": 69,
   "metadata": {},
   "outputs": [
    {
     "data": {
      "image/png": "[encoded data removed]",
      "text/plain": [
       "<Figure size 640x480 with 1 Axes>"
      ]
     },
     "metadata": {},
     "output_type": "display_data"
    },
    {
     "data": {
      "image/png": "[encoded data removed]",
      "text/plain": [
       "<Figure size 640x480 with 1 Axes>"
      ]
     },
     "metadata": {},
     "output_type": "display_data"
    },
    {
     "data": {
      "image/png": "[encoded data removed]",
      "text/plain": [
       "<Figure size 640x480 with 1 Axes>"
      ]
     },
     "metadata": {},
     "output_type": "display_data"
    }
   ],
   "source": [
    "plot_base_vs_finetune_f1(reports)"
   ]
  },
  {
   "cell_type": "code",
   "execution_count": 65,
   "metadata": {},
   "outputs": [
    {
     "data": {
      "image/png": "[encoded data removed]",
      "text/plain": [
       "<Figure size 640x480 with 1 Axes>"
      ]
     },
     "metadata": {},
     "output_type": "display_data"
    }
   ],
   "source": [
    "plot_finetuned_model_comparison(reports)"
   ]
  },
  {
   "cell_type": "code",
   "execution_count": 66,
   "metadata": {},
   "outputs": [],
   "source": [
    "def print_report_summary(report, label=\"\"):\n",
    "    print(f\"\\n=== {label} Report Summary ===\")\n",
    "    print(\"Accuracy       :\", report[\"accuracy\"])\n",
    "    print(\"Macro F1 score :\", report[\"macro avg\"][\"f1-score\"])\n",
    "    print(\"Weighted F1    :\", report[\"weighted avg\"][\"f1-score\"])"
   ]
  },
  {
   "cell_type": "code",
   "execution_count": 67,
   "metadata": {},
   "outputs": [
    {
     "name": "stdout",
     "output_type": "stream",
     "text": [
      "\n",
      "=== BERT Fine tuned Report Summary ===\n",
      "Accuracy       : 0.9563468805245426\n",
      "Macro F1 score : 0.5670287410626359\n",
      "Weighted F1    : 0.9548205498676731\n"
     ]
    }
   ],
   "source": [
    "print_report_summary(reports[\"BERT\"][\"finetune\"], label=\"BERT Fine tuned\")"
   ]
  },
  {
   "cell_type": "markdown",
   "metadata": {},
   "source": [
    "label 당 불균형이 심해서 weighted 값을 봐야하는 것 같다.\n",
    "\n",
    "어떤 모델을 써도 대폭 성능이 올라간 걸 확인할 수 있었다."
   ]
  },
  {
   "cell_type": "code",
   "execution_count": null,
   "metadata": {},
   "outputs": [],
   "source": []
  }
 ],
 "metadata": {
  "kernelspec": {
   "display_name": "myenv",
   "language": "python",
   "name": "python3"
  },
  "language_info": {
   "codemirror_mode": {
    "name": "ipython",
    "version": 3
   },
   "file_extension": ".py",
   "mimetype": "text/x-python",
   "name": "python",
   "nbconvert_exporter": "python",
   "pygments_lexer": "ipython3",
   "version": "3.12.8"
  }
 },
 "nbformat": 4,
 "nbformat_minor": 2
}
