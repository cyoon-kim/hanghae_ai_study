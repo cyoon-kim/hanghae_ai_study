{
  "nbformat": 4,
  "nbformat_minor": 0,
  "metadata": {
    "colab": {
      "provenance": [],
      "gpuType": "T4"
    },
    "kernelspec": {
      "name": "python3",
      "display_name": "Python 3"
    },
    "language_info": {
      "name": "python"
    },
    "accelerator": "GPU"
  },
  "cells": [
    {
      "cell_type": "markdown",
      "source": [
        "# MNIST 기본 과제\n",
        "\n",
        "이번 과제에서는 MNIST를 regression mo*-del이 아닌 classification model로 구현합니다. 그리고 train과 test data에 대한 모델의 정확도를 plot하여 generalization error를 살펴봅니다."
      ],
      "metadata": {
        "id": "OPJenlrhihrh"
      }
    },
    {
      "cell_type": "code",
      "execution_count": 8,
      "metadata": {
        "id": "6lXVfXoDtoQh"
      },
      "outputs": [],
      "source": [
        "import torch\n",
        "import torchvision\n",
        "import torchvision.transforms as transforms"
      ]
    },
    {
      "cell_type": "markdown",
      "source": [
        "다음은 dataset을 준비합니다.\n",
        "train param을 통해 trainset과 testset을 분리해서 다운받을 수 있다"
      ],
      "metadata": {
        "id": "pF-1zQvmiult"
      }
    },
    {
      "cell_type": "code",
      "source": [
        "transform = transforms.ToTensor()\n",
        "\n",
        "trainset = torchvision.datasets.MNIST(root='./data', train=True, download=True, transform=transform)\n",
        "testset = torchvision.datasets.MNIST(root='./data', train=False, download=True, transform=transform)"
      ],
      "metadata": {
        "id": "KAYlqPaRt6ti"
      },
      "execution_count": 9,
      "outputs": []
    },
    {
      "cell_type": "markdown",
      "source": [
        "MNIST는 손글씨 사진과 어떤 숫자를 의미하는지에 대한 label의 pair들로 구성되어있습니다.\n",
        "이 때, 우리는 PyTorch model을 사용할 것이기 때문에 손글씨 사진들을 모두 tensor로 변환해야합니다.\n",
        "이러한 부가적인 변환들은 `torchvision.transforms`에서 제공하고 있으며, `torchvision.datasets.MNIST`에서 `transform` 인자로 받을 수 있습니다.\n",
        "우리는 단순히 사진을 tensor로 바꾸고 싶기 때문에 `transforms.ToTensor()` transformation을 넘겨줍니다.\n",
        "\n",
        "trainset과 testset의 데이터 요약을 프린트함"
      ],
      "metadata": {
        "id": "p-GqH7_ZjVMs"
      }
    },
    {
      "cell_type": "code",
      "source": [
        "from matplotlib import pyplot as plt\n",
        "\n",
        "print(f\"[INFO] trainset len : {len(trainset)}\")\n",
        "print(f\"[INFO] trainset shape : {trainset[0][0].shape}\")\n",
        "print(f\"[INFO] trainset 1st data : {trainset[0][1]}\")\n",
        "print(plt.imshow(trainset[0][0][0], cmap='gray'))"
      ],
      "metadata": {
        "colab": {
          "base_uri": "https://localhost:8080/",
          "height": 503
        },
        "id": "Zsp3sHmojyhT",
        "outputId": "daeba943-a767-47a2-eed2-84fee5f702d4"
      },
      "execution_count": 10,
      "outputs": [
        {
          "output_type": "stream",
          "name": "stdout",
          "text": [
            "[INFO] trainset len : 60000\n",
            "[INFO] trainset shape : torch.Size([1, 28, 28])\n",
            "[INFO] trainset 1st data : 5\n",
            "AxesImage(shape=(28, 28))\n"
          ]
        },
        {
          "output_type": "display_data",
          "data": {
            "text/plain": [
              "<Figure size 640x480 with 1 Axes>"
            ],
            "image/png": "[encoded data removed]"
          },
          "metadata": {}
        }
      ]
    },
    {
      "cell_type": "code",
      "source": [
        "print(f\"[INFO] testset len : {len(testset)}\")\n",
        "print(f\"[INFO] testset shape : {testset[0][0].shape}\")\n",
        "print(f\"[INFO] testset 1st data : {testset[0][1]}\")\n",
        "print(plt.imshow(testset[0][0][0], cmap='gray'))"
      ],
      "metadata": {
        "colab": {
          "base_uri": "https://localhost:8080/",
          "height": 503
        },
        "id": "aDE3yf76JVRO",
        "outputId": "07fd3e07-b9f7-43ce-9a3a-f2bc74a922a5"
      },
      "execution_count": 11,
      "outputs": [
        {
          "output_type": "stream",
          "name": "stdout",
          "text": [
            "[INFO] testset len : 10000\n",
            "[INFO] testset shape : torch.Size([1, 28, 28])\n",
            "[INFO] testset 1st data : 7\n",
            "AxesImage(shape=(28, 28))\n"
          ]
        },
        {
          "output_type": "display_data",
          "data": {
            "text/plain": [
              "<Figure size 640x480 with 1 Axes>"
            ],
            "image/png": "[encoded data removed]"
          },
          "metadata": {}
        }
      ]
    },
    {
      "cell_type": "markdown",
      "source": [
        "위 출력 결과를 통해 testset과 dataset의 개수와 예시를 알 수 있었다.\n",
        "\n",
        "아래 과정을 통해 SGD 에 필요하도록 batch size를 넣어서 loader를 구현했고, test_data는 shuffle을 False로 두어 섞이지 않도록 했다."
      ],
      "metadata": {
        "id": "udm8wDBsi301"
      }
    },
    {
      "cell_type": "code",
      "source": [
        "batch_size = 64\n",
        "\n",
        "trainloader = torch.utils.data.DataLoader(\n",
        "    trainset,\n",
        "    batch_size=batch_size,\n",
        "    shuffle=True\n",
        ")\n",
        "\n",
        "testloader = torch.utils.data.DataLoader(\n",
        "    testset,\n",
        "    batch_size=batch_size,\n",
        "    shuffle=False\n",
        ")"
      ],
      "metadata": {
        "id": "UxKu3kA2i5WH"
      },
      "execution_count": 12,
      "outputs": []
    },
    {
      "cell_type": "code",
      "source": [
        "dataiter = iter(trainloader)\n",
        "images, labels = next(dataiter)\n",
        "print(images.shape, labels.shape)"
      ],
      "metadata": {
        "colab": {
          "base_uri": "https://localhost:8080/"
        },
        "id": "_Hd7XxyAvVNz",
        "outputId": "18abe48f-22fc-449a-9d52-2074a01cdd14"
      },
      "execution_count": 13,
      "outputs": [
        {
          "output_type": "stream",
          "name": "stdout",
          "text": [
            "torch.Size([64, 1, 28, 28]) torch.Size([64])\n"
          ]
        }
      ]
    },
    {
      "cell_type": "markdown",
      "source": [
        "`images`는 첫 번째 batch의 image들이고 `labels`는 첫 번째 batch의 label들입니다.\n",
        "위에서 batch size를 64로 설정했기 때문에 총 64개의 image와 label들이 있어야 합니다.\n",
        "실제 shape 출력 결과를 보면 그렇다는 것을 알 수 있습니다.\n",
        "\n",
        "#### 과제 변경점\n",
        "\n",
        "다음은 (n, 1, 28, 28) shape의 image를 입력받아 학습하는 모델을 만들어야하는데, 다만 지금은 classifier 모델을 만들 것 이므로 출력 차원을 10으로 만들어야 함.\n",
        "\n",
        "MNIST는 0~9까지 10개의 데이터로 classify 하는 모델이기 때문..!\n",
        "마지막 출력차원을 10으로 값을 고정해줘야한다.\n",
        "\n",
        "그리고 마지막layer를 loss를 계산하기 위해 softmax를 사용해줘야 할 것 같"
      ],
      "metadata": {
        "id": "h0ZY5mDimRUK"
      }
    },
    {
      "cell_type": "code",
      "source": [
        "from torch import nn\n",
        "\n",
        "\n",
        "class Model(nn.Module):\n",
        "  def __init__(self, input_dim, n_dim):\n",
        "    super().__init__()\n",
        "\n",
        "    self.layer1 = nn.Linear(input_dim, n_dim)\n",
        "    self.layer2 = nn.Linear(n_dim, n_dim)\n",
        "    self.layer3 = nn.Linear(n_dim, 10)\n",
        "\n",
        "    self.act = nn.ReLU()\n",
        "\n",
        "  def forward(self, x):\n",
        "    x = torch.flatten(x, start_dim=1)\n",
        "    x = self.act(self.layer1(x))\n",
        "    x = self.act(self.layer2(x))\n",
        "    x = self.act(self.layer3(x))\n",
        "\n",
        "    return x\n",
        "\n",
        "\n",
        "model = Model(28 * 28 * 1, 1024)"
      ],
      "metadata": {
        "id": "OLOA-ZGTuVVG"
      },
      "execution_count": 14,
      "outputs": []
    },
    {
      "cell_type": "code",
      "source": [
        "from torch.optim import SGD\n",
        "\n",
        "lr = 0.001\n",
        "model = model.to('cuda')\n",
        "\n",
        "optimizer = SGD(model.parameters(), lr=lr)"
      ],
      "metadata": {
        "id": "ypS0TcOlvBhZ"
      },
      "execution_count": 15,
      "outputs": []
    },
    {
      "cell_type": "markdown",
      "source": [
        "어떤 dataloader에 대한 model의 정확도를 측정하는 코드는 다음 함수를 사용하시면 됩니다:"
      ],
      "metadata": {
        "id": "lODgo0anSCL5"
      }
    },
    {
      "cell_type": "code",
      "source": [
        "def accuracy(model, dataloader):\n",
        "  cnt = 0\n",
        "  acc = 0\n",
        "\n",
        "  for data in dataloader:\n",
        "    inputs, labels = data\n",
        "    inputs, labels = inputs.to('cuda'), labels.to('cuda')\n",
        "\n",
        "    preds = model(inputs)\n",
        "    preds = torch.argmax(preds, dim=-1) #가장 높은 점수의 class index 선\n",
        "\n",
        "    cnt += labels.shape[0]\n",
        "    acc += (labels == preds).sum().item()\n",
        "\n",
        "  return acc / cnt"
      ],
      "metadata": {
        "id": "vM9cI9AdSBhC"
      },
      "execution_count": 17,
      "outputs": []
    },
    {
      "cell_type": "code",
      "source": [
        "n_epochs = 100\n",
        "loss_function = nn.CrossEntropyLoss()\n",
        "\n",
        "train_accuracy = []\n",
        "test_accuracy = []\n",
        "\n",
        "for epoch in range(n_epochs):\n",
        "  total_loss = 0.\n",
        "  for data in trainloader:\n",
        "    model.zero_grad()\n",
        "    inputs, labels = data\n",
        "    inputs, labels = inputs.to('cuda'), labels.to('cuda')\n",
        "\n",
        "    preds = model(inputs)\n",
        "    loss = loss_function(preds, labels)\n",
        "    loss.backward()\n",
        "    optimizer.step()\n",
        "\n",
        "    total_loss += loss.item()\n",
        "\n",
        "  train_accuracy.append(accuracy(model, trainloader))\n",
        "  test_accuracy.append(accuracy(model, testloader))\n",
        "  print(f\"Epoch {epoch:3d} | Loss: {total_loss}\")"
      ],
      "metadata": {
        "colab": {
          "base_uri": "https://localhost:8080/"
        },
        "id": "TryX1hewvNiB",
        "outputId": "e4f05613-8dc2-490d-b551-70873853dfc0"
      },
      "execution_count": 18,
      "outputs": [
        {
          "output_type": "stream",
          "name": "stdout",
          "text": [
            "Epoch   0 | Loss: 1701.1823058128357\n",
            "Epoch   1 | Loss: 1548.9454630613327\n",
            "Epoch   2 | Loss: 1420.488335609436\n",
            "Epoch   3 | Loss: 1319.9984084367752\n",
            "Epoch   4 | Loss: 1242.0286822915077\n",
            "Epoch   5 | Loss: 1181.5687093138695\n",
            "Epoch   6 | Loss: 1134.1757454872131\n",
            "Epoch   7 | Loss: 1096.1010156273842\n",
            "Epoch   8 | Loss: 1064.931885778904\n",
            "Epoch   9 | Loss: 1039.292270720005\n",
            "Epoch  10 | Loss: 1017.8069027662277\n",
            "Epoch  11 | Loss: 999.7520169615746\n",
            "Epoch  12 | Loss: 984.2711514234543\n",
            "Epoch  13 | Loss: 971.0525387525558\n",
            "Epoch  14 | Loss: 959.9650185108185\n",
            "Epoch  15 | Loss: 950.0790750980377\n",
            "Epoch  16 | Loss: 941.3376605510712\n",
            "Epoch  17 | Loss: 933.6616029143333\n",
            "Epoch  18 | Loss: 927.0780718326569\n",
            "Epoch  19 | Loss: 920.7826083302498\n",
            "Epoch  20 | Loss: 915.3740813732147\n",
            "Epoch  21 | Loss: 910.1813960075378\n",
            "Epoch  22 | Loss: 905.4991443753242\n",
            "Epoch  23 | Loss: 901.3629570007324\n",
            "Epoch  24 | Loss: 897.4032746553421\n",
            "Epoch  25 | Loss: 893.7425600588322\n",
            "Epoch  26 | Loss: 890.4253905415535\n",
            "Epoch  27 | Loss: 886.9406649172306\n",
            "Epoch  28 | Loss: 883.8926609754562\n",
            "Epoch  29 | Loss: 881.203217625618\n",
            "Epoch  30 | Loss: 878.2473921477795\n",
            "Epoch  31 | Loss: 875.7115898728371\n",
            "Epoch  32 | Loss: 873.4232170879841\n",
            "Epoch  33 | Loss: 870.7830978035927\n",
            "Epoch  34 | Loss: 868.7680593132973\n",
            "Epoch  35 | Loss: 866.5688614547253\n",
            "Epoch  36 | Loss: 864.3963675498962\n",
            "Epoch  37 | Loss: 862.42253947258\n",
            "Epoch  38 | Loss: 860.1668287813663\n",
            "Epoch  39 | Loss: 858.2919057607651\n",
            "Epoch  40 | Loss: 856.521129488945\n",
            "Epoch  41 | Loss: 854.5927391350269\n",
            "Epoch  42 | Loss: 852.9069454371929\n",
            "Epoch  43 | Loss: 851.421905875206\n",
            "Epoch  44 | Loss: 849.4068423211575\n",
            "Epoch  45 | Loss: 847.932632535696\n",
            "Epoch  46 | Loss: 846.4275267124176\n",
            "Epoch  47 | Loss: 844.921169668436\n",
            "Epoch  48 | Loss: 843.3204833269119\n",
            "Epoch  49 | Loss: 841.9572615027428\n",
            "Epoch  50 | Loss: 840.1344219446182\n",
            "Epoch  51 | Loss: 838.9564189910889\n",
            "Epoch  52 | Loss: 837.5980857312679\n",
            "Epoch  53 | Loss: 836.3395479917526\n",
            "Epoch  54 | Loss: 834.6361697912216\n",
            "Epoch  55 | Loss: 833.4060985744\n",
            "Epoch  56 | Loss: 832.0696267783642\n",
            "Epoch  57 | Loss: 831.0665226578712\n",
            "Epoch  58 | Loss: 829.6016001999378\n",
            "Epoch  59 | Loss: 828.3993031382561\n",
            "Epoch  60 | Loss: 827.1617105305195\n",
            "Epoch  61 | Loss: 825.8602613806725\n",
            "Epoch  62 | Loss: 824.6693102419376\n",
            "Epoch  63 | Loss: 823.6559798717499\n",
            "Epoch  64 | Loss: 822.5794295966625\n",
            "Epoch  65 | Loss: 821.2296109199524\n",
            "Epoch  66 | Loss: 820.2395087480545\n",
            "Epoch  67 | Loss: 818.9983650445938\n",
            "Epoch  68 | Loss: 818.130428135395\n",
            "Epoch  69 | Loss: 816.6561069786549\n",
            "Epoch  70 | Loss: 815.8932267129421\n",
            "Epoch  71 | Loss: 814.743646800518\n",
            "Epoch  72 | Loss: 813.7804963588715\n",
            "Epoch  73 | Loss: 812.5933700203896\n",
            "Epoch  74 | Loss: 811.627772808075\n",
            "Epoch  75 | Loss: 810.6743532121181\n",
            "Epoch  76 | Loss: 809.5312462449074\n",
            "Epoch  77 | Loss: 808.5026393830776\n",
            "Epoch  78 | Loss: 807.5504149198532\n",
            "Epoch  79 | Loss: 806.8035595119\n",
            "Epoch  80 | Loss: 805.8088865578175\n",
            "Epoch  81 | Loss: 804.9180824458599\n",
            "Epoch  82 | Loss: 803.7252871096134\n",
            "Epoch  83 | Loss: 802.7095132768154\n",
            "Epoch  84 | Loss: 801.9826368391514\n",
            "Epoch  85 | Loss: 801.1841224730015\n",
            "Epoch  86 | Loss: 800.0578663945198\n",
            "Epoch  87 | Loss: 798.9912032485008\n",
            "Epoch  88 | Loss: 798.1125387847424\n",
            "Epoch  89 | Loss: 797.3534464240074\n",
            "Epoch  90 | Loss: 796.4684322476387\n",
            "Epoch  91 | Loss: 795.7063326537609\n",
            "Epoch  92 | Loss: 794.7392363846302\n",
            "Epoch  93 | Loss: 793.7149234116077\n",
            "Epoch  94 | Loss: 793.0827361643314\n",
            "Epoch  95 | Loss: 792.1256780773401\n",
            "Epoch  96 | Loss: 791.3406248092651\n",
            "Epoch  97 | Loss: 790.4263190329075\n",
            "Epoch  98 | Loss: 789.5270605385303\n",
            "Epoch  99 | Loss: 788.5946868062019\n"
          ]
        }
      ]
    },
    {
      "cell_type": "code",
      "source": [
        "import numpy as np\n",
        "\n",
        "def plot_acc(train_accs, test_accs, label1='train', label2='test'):\n",
        "  x = np.arange(len(train_accs))\n",
        "\n",
        "  plt.plot(x, train_accs, label=label1)\n",
        "  plt.plot(x, test_accs, label=label2)\n",
        "  plt.legend()\n",
        "  plt.show()\n",
        "\n",
        "plot_acc(train_accuracy, test_accuracy)"
      ],
      "metadata": {
        "id": "d6M4SpWQoML9",
        "colab": {
          "base_uri": "https://localhost:8080/",
          "height": 430
        },
        "outputId": "99d5ee2c-11e5-464f-ee7b-fb4488eeedbc"
      },
      "execution_count": 22,
      "outputs": [
        {
          "output_type": "display_data",
          "data": {
            "text/plain": [
              "<Figure size 640x480 with 1 Axes>"
            ],
            "image/png": "[encoded data removed]"
          },
          "metadata": {}
        }
      ]
    },
    {
      "cell_type": "markdown",
      "source": [
        "### 2번째 모델 (개인학습)\n",
        "이론을 보면 마지막에 sigmoid로 loss가 계산되기 때문에 relu가 필요 없어보임.\n",
        "아니 오히려 음수를 제거해서 성능이 안좋아질 것 같음\n",
        "\n",
        "relu를 뺐을때 학습이 어떻게 되는지 비교해보고자한다."
      ],
      "metadata": {
        "id": "e9Bc5hCoX-Dw"
      }
    },
    {
      "cell_type": "code",
      "source": [
        "from torch import nn\n",
        "\n",
        "\n",
        "class Model2(nn.Module):\n",
        "  def __init__(self, input_dim, n_dim):\n",
        "    super().__init__()\n",
        "\n",
        "    self.layer1 = nn.Linear(input_dim, n_dim)\n",
        "    self.layer2 = nn.Linear(n_dim, n_dim)\n",
        "    self.layer3 = nn.Linear(n_dim, 10)\n",
        "\n",
        "    self.act = nn.ReLU()\n",
        "\n",
        "  def forward(self, x):\n",
        "    x = torch.flatten(x, start_dim=1)\n",
        "    x = self.act(self.layer1(x))\n",
        "    x = self.act(self.layer2(x))\n",
        "    x = self.layer3(x) ## 마지막에 act 제거\n",
        "\n",
        "    return x\n",
        "\n",
        "\n",
        "model2 = Model2(28 * 28 * 1, 1024)"
      ],
      "metadata": {
        "id": "B5sOOp40XpTz"
      },
      "execution_count": 24,
      "outputs": []
    },
    {
      "cell_type": "code",
      "source": [
        "lr = 0.001\n",
        "model2 = model2.to('cuda')\n",
        "\n",
        "optimizer = SGD(model2.parameters(), lr=lr)"
      ],
      "metadata": {
        "id": "J-l88F8TYOPt"
      },
      "execution_count": 27,
      "outputs": []
    },
    {
      "cell_type": "code",
      "source": [
        "n_epochs = 100\n",
        "loss_function = nn.CrossEntropyLoss()\n",
        "\n",
        "train_accuracy = []\n",
        "test_accuracy = []\n",
        "\n",
        "for epoch in range(n_epochs):\n",
        "  total_loss = 0.\n",
        "  for data in trainloader:\n",
        "    model2.zero_grad()\n",
        "    inputs, labels = data\n",
        "    inputs, labels = inputs.to('cuda'), labels.to('cuda')\n",
        "\n",
        "    preds = model2(inputs)\n",
        "    loss = loss_function(preds, labels)\n",
        "    loss.backward()\n",
        "    optimizer.step()\n",
        "\n",
        "    total_loss += loss.item()\n",
        "\n",
        "  train_accuracy.append(accuracy(model2, trainloader))\n",
        "  test_accuracy.append(accuracy(model2, testloader))\n",
        "  print(f\"Epoch {epoch:3d} | Loss: {total_loss}\")"
      ],
      "metadata": {
        "colab": {
          "base_uri": "https://localhost:8080/"
        },
        "id": "fOCKUyPDYSeV",
        "outputId": "889e09bd-b7c7-4ddb-d61d-ee20386b50ee"
      },
      "execution_count": 28,
      "outputs": [
        {
          "output_type": "stream",
          "name": "stdout",
          "text": [
            "Epoch   0 | Loss: 2125.5058104991913\n",
            "Epoch   1 | Loss: 2047.3193619251251\n",
            "Epoch   2 | Loss: 1919.7570799589157\n",
            "Epoch   3 | Loss: 1702.6039134263992\n",
            "Epoch   4 | Loss: 1398.5246274471283\n",
            "Epoch   5 | Loss: 1101.8093925714493\n",
            "Epoch   6 | Loss: 886.6548193693161\n",
            "Epoch   7 | Loss: 745.8592165708542\n",
            "Epoch   8 | Loss: 651.9011164009571\n",
            "Epoch   9 | Loss: 586.1044919788837\n",
            "Epoch  10 | Loss: 537.6129494607449\n",
            "Epoch  11 | Loss: 500.58635142445564\n",
            "Epoch  12 | Loss: 471.6141185760498\n",
            "Epoch  13 | Loss: 448.152096837759\n",
            "Epoch  14 | Loss: 428.45929166674614\n",
            "Epoch  15 | Loss: 412.2635189294815\n",
            "Epoch  16 | Loss: 398.4814452826977\n",
            "Epoch  17 | Loss: 386.4862726777792\n",
            "Epoch  18 | Loss: 376.3422183841467\n",
            "Epoch  19 | Loss: 366.96713748574257\n",
            "Epoch  20 | Loss: 358.83553194999695\n",
            "Epoch  21 | Loss: 351.57297602295876\n",
            "Epoch  22 | Loss: 345.0904711037874\n",
            "Epoch  23 | Loss: 339.0655264556408\n",
            "Epoch  24 | Loss: 333.6813910752535\n",
            "Epoch  25 | Loss: 328.2070271521807\n",
            "Epoch  26 | Loss: 323.50233925879\n",
            "Epoch  27 | Loss: 319.06708735227585\n",
            "Epoch  28 | Loss: 314.82817029207945\n",
            "Epoch  29 | Loss: 310.9823294207454\n",
            "Epoch  30 | Loss: 307.33159597963095\n",
            "Epoch  31 | Loss: 303.7558145597577\n",
            "Epoch  32 | Loss: 300.36674374341965\n",
            "Epoch  33 | Loss: 297.0710944533348\n",
            "Epoch  34 | Loss: 293.95410776138306\n",
            "Epoch  35 | Loss: 290.98077791929245\n",
            "Epoch  36 | Loss: 288.25619999319315\n",
            "Epoch  37 | Loss: 285.29281267523766\n",
            "Epoch  38 | Loss: 282.6295166686177\n",
            "Epoch  39 | Loss: 279.9317691028118\n",
            "Epoch  40 | Loss: 277.49108462035656\n",
            "Epoch  41 | Loss: 274.93478614091873\n",
            "Epoch  42 | Loss: 272.7448355779052\n",
            "Epoch  43 | Loss: 270.2605007737875\n",
            "Epoch  44 | Loss: 268.00950326025486\n",
            "Epoch  45 | Loss: 265.7759855091572\n",
            "Epoch  46 | Loss: 263.43481163680553\n",
            "Epoch  47 | Loss: 261.44534681364894\n",
            "Epoch  48 | Loss: 259.34811159968376\n",
            "Epoch  49 | Loss: 257.20264553278685\n",
            "Epoch  50 | Loss: 255.23191229999065\n",
            "Epoch  51 | Loss: 253.40738612413406\n",
            "Epoch  52 | Loss: 251.3249187208712\n",
            "Epoch  53 | Loss: 249.41567171365023\n",
            "Epoch  54 | Loss: 247.41159765422344\n",
            "Epoch  55 | Loss: 245.56261239945889\n",
            "Epoch  56 | Loss: 243.745041385293\n",
            "Epoch  57 | Loss: 241.92209676280618\n",
            "Epoch  58 | Loss: 240.18254550546408\n",
            "Epoch  59 | Loss: 238.37434531003237\n",
            "Epoch  60 | Loss: 236.71669958531857\n",
            "Epoch  61 | Loss: 234.94554413482547\n",
            "Epoch  62 | Loss: 233.29552981629968\n",
            "Epoch  63 | Loss: 231.58298906683922\n",
            "Epoch  64 | Loss: 229.89977526664734\n",
            "Epoch  65 | Loss: 228.32844128459692\n",
            "Epoch  66 | Loss: 226.79290589690208\n",
            "Epoch  67 | Loss: 225.00722060725093\n",
            "Epoch  68 | Loss: 223.41717261448503\n",
            "Epoch  69 | Loss: 221.97192809730768\n",
            "Epoch  70 | Loss: 220.41935370117426\n",
            "Epoch  71 | Loss: 218.80367275699973\n",
            "Epoch  72 | Loss: 217.433591555804\n",
            "Epoch  73 | Loss: 215.79254306852818\n",
            "Epoch  74 | Loss: 214.2992691025138\n",
            "Epoch  75 | Loss: 212.9460046812892\n",
            "Epoch  76 | Loss: 211.37995098531246\n",
            "Epoch  77 | Loss: 209.9501020014286\n",
            "Epoch  78 | Loss: 208.68412759527564\n",
            "Epoch  79 | Loss: 207.1877639591694\n",
            "Epoch  80 | Loss: 205.71949281543493\n",
            "Epoch  81 | Loss: 204.54256797209382\n",
            "Epoch  82 | Loss: 202.9906389899552\n",
            "Epoch  83 | Loss: 201.63430947810411\n",
            "Epoch  84 | Loss: 200.31987988203764\n",
            "Epoch  85 | Loss: 198.9987968429923\n",
            "Epoch  86 | Loss: 197.7166683189571\n",
            "Epoch  87 | Loss: 196.44333621487021\n",
            "Epoch  88 | Loss: 195.16391729190946\n",
            "Epoch  89 | Loss: 193.89175744354725\n",
            "Epoch  90 | Loss: 192.7147522121668\n",
            "Epoch  91 | Loss: 191.28185462206602\n",
            "Epoch  92 | Loss: 190.16529244184494\n",
            "Epoch  93 | Loss: 188.88856518268585\n",
            "Epoch  94 | Loss: 187.62277300283313\n",
            "Epoch  95 | Loss: 186.382937412709\n",
            "Epoch  96 | Loss: 185.52446526661515\n",
            "Epoch  97 | Loss: 184.1582575328648\n",
            "Epoch  98 | Loss: 182.99469456076622\n",
            "Epoch  99 | Loss: 181.83506206795573\n"
          ]
        }
      ]
    },
    {
      "cell_type": "code",
      "source": [
        "plot_acc(train_accuracy, test_accuracy)"
      ],
      "metadata": {
        "colab": {
          "base_uri": "https://localhost:8080/",
          "height": 430
        },
        "id": "36M1ervTctqE",
        "outputId": "77b40d30-5d87-4fc0-c7e6-ecadf68b6013"
      },
      "execution_count": 29,
      "outputs": [
        {
          "output_type": "display_data",
          "data": {
            "text/plain": [
              "<Figure size 640x480 with 1 Axes>"
            ],
            "image/png": "[encoded data removed]"
          },
          "metadata": {}
        }
      ]
    },
    {
      "cell_type": "markdown",
      "source": [
        "성능이 엄청나게 좋아진 걸 확인할 수 있었다\n",
        "예상대로 relu가 음수를 없애서 그런건지 멘토링 시간에 물어봐야겠다."
      ],
      "metadata": {
        "id": "nlouAUueel8S"
      }
    },
    {
      "cell_type": "code",
      "source": [],
      "metadata": {
        "id": "EHuO1aKhej4e"
      },
      "execution_count": null,
      "outputs": []
    }
  ]
}