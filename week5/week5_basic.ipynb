{
  "nbformat": 4,
  "nbformat_minor": 0,
  "metadata": {
    "colab": {
      "provenance": []
    },
    "kernelspec": {
      "name": "python3",
      "display_name": "Python 3"
    },
    "language_info": {
      "name": "python"
    }
  },
  "cells": [
    {
      "cell_type": "markdown",
      "source": [
        "## [5주차] 기본과제 - 외부 블로그의 정보와 함께 챗봇 구현하기"
      ],
      "metadata": {
        "id": "JK8QrM_EI9p7"
      }
    },
    {
      "cell_type": "markdown",
      "source": [
        "#### lib download"
      ],
      "metadata": {
        "id": "Z3pAxMSzJArX"
      }
    },
    {
      "cell_type": "code",
      "execution_count": 1,
      "metadata": {
        "colab": {
          "base_uri": "https://localhost:8080/"
        },
        "id": "TwaANvAGIwl4",
        "outputId": "9aee0ece-3ff6-4f27-81da-c91dbc4e1aea",
        "collapsed": true
      },
      "outputs": [
        {
          "output_type": "stream",
          "name": "stdout",
          "text": [
            "Requirement already satisfied: langchain-community in /usr/local/lib/python3.11/dist-packages (0.3.21)\n",
            "Requirement already satisfied: langchain-chroma in /usr/local/lib/python3.11/dist-packages (0.2.3)\n",
            "Requirement already satisfied: langchain-openai in /usr/local/lib/python3.11/dist-packages (0.3.14)\n",
            "Requirement already satisfied: bs4 in /usr/local/lib/python3.11/dist-packages (0.0.2)\n",
            "Requirement already satisfied: langchain-core<1.0.0,>=0.3.51 in /usr/local/lib/python3.11/dist-packages (from langchain-community) (0.3.55)\n",
            "Requirement already satisfied: langchain<1.0.0,>=0.3.23 in /usr/local/lib/python3.11/dist-packages (from langchain-community) (0.3.23)\n",
            "Requirement already satisfied: SQLAlchemy<3,>=1.4 in /usr/local/lib/python3.11/dist-packages (from langchain-community) (2.0.40)\n",
            "Requirement already satisfied: requests<3,>=2 in /usr/local/lib/python3.11/dist-packages (from langchain-community) (2.32.3)\n",
            "Requirement already satisfied: PyYAML>=5.3 in /usr/local/lib/python3.11/dist-packages (from langchain-community) (6.0.2)\n",
            "Requirement already satisfied: aiohttp<4.0.0,>=3.8.3 in /usr/local/lib/python3.11/dist-packages (from langchain-community) (3.11.15)\n",
            "Requirement already satisfied: tenacity!=8.4.0,<10,>=8.1.0 in /usr/local/lib/python3.11/dist-packages (from langchain-community) (9.1.2)\n",
            "Requirement already satisfied: dataclasses-json<0.7,>=0.5.7 in /usr/local/lib/python3.11/dist-packages (from langchain-community) (0.6.7)\n",
            "Requirement already satisfied: pydantic-settings<3.0.0,>=2.4.0 in /usr/local/lib/python3.11/dist-packages (from langchain-community) (2.9.1)\n",
            "Requirement already satisfied: langsmith<0.4,>=0.1.125 in /usr/local/lib/python3.11/dist-packages (from langchain-community) (0.3.31)\n",
            "Requirement already satisfied: httpx-sse<1.0.0,>=0.4.0 in /usr/local/lib/python3.11/dist-packages (from langchain-community) (0.4.0)\n",
            "Requirement already satisfied: numpy<3,>=1.26.2 in /usr/local/lib/python3.11/dist-packages (from langchain-community) (2.0.2)\n",
            "Requirement already satisfied: chromadb!=0.5.10,!=0.5.11,!=0.5.12,!=0.5.4,!=0.5.5,!=0.5.7,!=0.5.9,<0.7.0,>=0.4.0 in /usr/local/lib/python3.11/dist-packages (from langchain-chroma) (0.6.3)\n",
            "Requirement already satisfied: openai<2.0.0,>=1.68.2 in /usr/local/lib/python3.11/dist-packages (from langchain-openai) (1.75.0)\n",
            "Requirement already satisfied: tiktoken<1,>=0.7 in /usr/local/lib/python3.11/dist-packages (from langchain-openai) (0.9.0)\n",
            "Requirement already satisfied: beautifulsoup4 in /usr/local/lib/python3.11/dist-packages (from bs4) (4.13.4)\n",
            "Requirement already satisfied: aiohappyeyeballs>=2.3.0 in /usr/local/lib/python3.11/dist-packages (from aiohttp<4.0.0,>=3.8.3->langchain-community) (2.6.1)\n",
            "Requirement already satisfied: aiosignal>=1.1.2 in /usr/local/lib/python3.11/dist-packages (from aiohttp<4.0.0,>=3.8.3->langchain-community) (1.3.2)\n",
            "Requirement already satisfied: attrs>=17.3.0 in /usr/local/lib/python3.11/dist-packages (from aiohttp<4.0.0,>=3.8.3->langchain-community) (25.3.0)\n",
            "Requirement already satisfied: frozenlist>=1.1.1 in /usr/local/lib/python3.11/dist-packages (from aiohttp<4.0.0,>=3.8.3->langchain-community) (1.5.0)\n",
            "Requirement already satisfied: multidict<7.0,>=4.5 in /usr/local/lib/python3.11/dist-packages (from aiohttp<4.0.0,>=3.8.3->langchain-community) (6.4.3)\n",
            "Requirement already satisfied: propcache>=0.2.0 in /usr/local/lib/python3.11/dist-packages (from aiohttp<4.0.0,>=3.8.3->langchain-community) (0.3.1)\n",
            "Requirement already satisfied: yarl<2.0,>=1.17.0 in /usr/local/lib/python3.11/dist-packages (from aiohttp<4.0.0,>=3.8.3->langchain-community) (1.19.0)\n",
            "Requirement already satisfied: build>=1.0.3 in /usr/local/lib/python3.11/dist-packages (from chromadb!=0.5.10,!=0.5.11,!=0.5.12,!=0.5.4,!=0.5.5,!=0.5.7,!=0.5.9,<0.7.0,>=0.4.0->langchain-chroma) (1.2.2.post1)\n",
            "Requirement already satisfied: pydantic>=1.9 in /usr/local/lib/python3.11/dist-packages (from chromadb!=0.5.10,!=0.5.11,!=0.5.12,!=0.5.4,!=0.5.5,!=0.5.7,!=0.5.9,<0.7.0,>=0.4.0->langchain-chroma) (2.11.3)\n",
            "Requirement already satisfied: chroma-hnswlib==0.7.6 in /usr/local/lib/python3.11/dist-packages (from chromadb!=0.5.10,!=0.5.11,!=0.5.12,!=0.5.4,!=0.5.5,!=0.5.7,!=0.5.9,<0.7.0,>=0.4.0->langchain-chroma) (0.7.6)\n",
            "Requirement already satisfied: fastapi>=0.95.2 in /usr/local/lib/python3.11/dist-packages (from chromadb!=0.5.10,!=0.5.11,!=0.5.12,!=0.5.4,!=0.5.5,!=0.5.7,!=0.5.9,<0.7.0,>=0.4.0->langchain-chroma) (0.115.12)\n",
            "Requirement already satisfied: uvicorn>=0.18.3 in /usr/local/lib/python3.11/dist-packages (from uvicorn[standard]>=0.18.3->chromadb!=0.5.10,!=0.5.11,!=0.5.12,!=0.5.4,!=0.5.5,!=0.5.7,!=0.5.9,<0.7.0,>=0.4.0->langchain-chroma) (0.34.2)\n",
            "Requirement already satisfied: posthog>=2.4.0 in /usr/local/lib/python3.11/dist-packages (from chromadb!=0.5.10,!=0.5.11,!=0.5.12,!=0.5.4,!=0.5.5,!=0.5.7,!=0.5.9,<0.7.0,>=0.4.0->langchain-chroma) (3.25.0)\n",
            "Requirement already satisfied: typing_extensions>=4.5.0 in /usr/local/lib/python3.11/dist-packages (from chromadb!=0.5.10,!=0.5.11,!=0.5.12,!=0.5.4,!=0.5.5,!=0.5.7,!=0.5.9,<0.7.0,>=0.4.0->langchain-chroma) (4.13.2)\n",
            "Requirement already satisfied: onnxruntime>=1.14.1 in /usr/local/lib/python3.11/dist-packages (from chromadb!=0.5.10,!=0.5.11,!=0.5.12,!=0.5.4,!=0.5.5,!=0.5.7,!=0.5.9,<0.7.0,>=0.4.0->langchain-chroma) (1.21.1)\n",
            "Requirement already satisfied: opentelemetry-api>=1.2.0 in /usr/local/lib/python3.11/dist-packages (from chromadb!=0.5.10,!=0.5.11,!=0.5.12,!=0.5.4,!=0.5.5,!=0.5.7,!=0.5.9,<0.7.0,>=0.4.0->langchain-chroma) (1.32.1)\n",
            "Requirement already satisfied: opentelemetry-exporter-otlp-proto-grpc>=1.2.0 in /usr/local/lib/python3.11/dist-packages (from chromadb!=0.5.10,!=0.5.11,!=0.5.12,!=0.5.4,!=0.5.5,!=0.5.7,!=0.5.9,<0.7.0,>=0.4.0->langchain-chroma) (1.32.1)\n",
            "Requirement already satisfied: opentelemetry-instrumentation-fastapi>=0.41b0 in /usr/local/lib/python3.11/dist-packages (from chromadb!=0.5.10,!=0.5.11,!=0.5.12,!=0.5.4,!=0.5.5,!=0.5.7,!=0.5.9,<0.7.0,>=0.4.0->langchain-chroma) (0.53b1)\n",
            "Requirement already satisfied: opentelemetry-sdk>=1.2.0 in /usr/local/lib/python3.11/dist-packages (from chromadb!=0.5.10,!=0.5.11,!=0.5.12,!=0.5.4,!=0.5.5,!=0.5.7,!=0.5.9,<0.7.0,>=0.4.0->langchain-chroma) (1.32.1)\n",
            "Requirement already satisfied: tokenizers>=0.13.2 in /usr/local/lib/python3.11/dist-packages (from chromadb!=0.5.10,!=0.5.11,!=0.5.12,!=0.5.4,!=0.5.5,!=0.5.7,!=0.5.9,<0.7.0,>=0.4.0->langchain-chroma) (0.21.1)\n",
            "Requirement already satisfied: pypika>=0.48.9 in /usr/local/lib/python3.11/dist-packages (from chromadb!=0.5.10,!=0.5.11,!=0.5.12,!=0.5.4,!=0.5.5,!=0.5.7,!=0.5.9,<0.7.0,>=0.4.0->langchain-chroma) (0.48.9)\n",
            "Requirement already satisfied: tqdm>=4.65.0 in /usr/local/lib/python3.11/dist-packages (from chromadb!=0.5.10,!=0.5.11,!=0.5.12,!=0.5.4,!=0.5.5,!=0.5.7,!=0.5.9,<0.7.0,>=0.4.0->langchain-chroma) (4.67.1)\n",
            "Requirement already satisfied: overrides>=7.3.1 in /usr/local/lib/python3.11/dist-packages (from chromadb!=0.5.10,!=0.5.11,!=0.5.12,!=0.5.4,!=0.5.5,!=0.5.7,!=0.5.9,<0.7.0,>=0.4.0->langchain-chroma) (7.7.0)\n",
            "Requirement already satisfied: importlib-resources in /usr/local/lib/python3.11/dist-packages (from chromadb!=0.5.10,!=0.5.11,!=0.5.12,!=0.5.4,!=0.5.5,!=0.5.7,!=0.5.9,<0.7.0,>=0.4.0->langchain-chroma) (6.5.2)\n",
            "Requirement already satisfied: grpcio>=1.58.0 in /usr/local/lib/python3.11/dist-packages (from chromadb!=0.5.10,!=0.5.11,!=0.5.12,!=0.5.4,!=0.5.5,!=0.5.7,!=0.5.9,<0.7.0,>=0.4.0->langchain-chroma) (1.71.0)\n",
            "Requirement already satisfied: bcrypt>=4.0.1 in /usr/local/lib/python3.11/dist-packages (from chromadb!=0.5.10,!=0.5.11,!=0.5.12,!=0.5.4,!=0.5.5,!=0.5.7,!=0.5.9,<0.7.0,>=0.4.0->langchain-chroma) (4.3.0)\n",
            "Requirement already satisfied: typer>=0.9.0 in /usr/local/lib/python3.11/dist-packages (from chromadb!=0.5.10,!=0.5.11,!=0.5.12,!=0.5.4,!=0.5.5,!=0.5.7,!=0.5.9,<0.7.0,>=0.4.0->langchain-chroma) (0.15.2)\n",
            "Requirement already satisfied: kubernetes>=28.1.0 in /usr/local/lib/python3.11/dist-packages (from chromadb!=0.5.10,!=0.5.11,!=0.5.12,!=0.5.4,!=0.5.5,!=0.5.7,!=0.5.9,<0.7.0,>=0.4.0->langchain-chroma) (32.0.1)\n",
            "Requirement already satisfied: mmh3>=4.0.1 in /usr/local/lib/python3.11/dist-packages (from chromadb!=0.5.10,!=0.5.11,!=0.5.12,!=0.5.4,!=0.5.5,!=0.5.7,!=0.5.9,<0.7.0,>=0.4.0->langchain-chroma) (5.1.0)\n",
            "Requirement already satisfied: orjson>=3.9.12 in /usr/local/lib/python3.11/dist-packages (from chromadb!=0.5.10,!=0.5.11,!=0.5.12,!=0.5.4,!=0.5.5,!=0.5.7,!=0.5.9,<0.7.0,>=0.4.0->langchain-chroma) (3.10.16)\n",
            "Requirement already satisfied: httpx>=0.27.0 in /usr/local/lib/python3.11/dist-packages (from chromadb!=0.5.10,!=0.5.11,!=0.5.12,!=0.5.4,!=0.5.5,!=0.5.7,!=0.5.9,<0.7.0,>=0.4.0->langchain-chroma) (0.28.1)\n",
            "Requirement already satisfied: rich>=10.11.0 in /usr/local/lib/python3.11/dist-packages (from chromadb!=0.5.10,!=0.5.11,!=0.5.12,!=0.5.4,!=0.5.5,!=0.5.7,!=0.5.9,<0.7.0,>=0.4.0->langchain-chroma) (13.9.4)\n",
            "Requirement already satisfied: marshmallow<4.0.0,>=3.18.0 in /usr/local/lib/python3.11/dist-packages (from dataclasses-json<0.7,>=0.5.7->langchain-community) (3.26.1)\n",
            "Requirement already satisfied: typing-inspect<1,>=0.4.0 in /usr/local/lib/python3.11/dist-packages (from dataclasses-json<0.7,>=0.5.7->langchain-community) (0.9.0)\n",
            "Requirement already satisfied: langchain-text-splitters<1.0.0,>=0.3.8 in /usr/local/lib/python3.11/dist-packages (from langchain<1.0.0,>=0.3.23->langchain-community) (0.3.8)\n",
            "Requirement already satisfied: jsonpatch<2.0,>=1.33 in /usr/local/lib/python3.11/dist-packages (from langchain-core<1.0.0,>=0.3.51->langchain-community) (1.33)\n",
            "Requirement already satisfied: packaging<25,>=23.2 in /usr/local/lib/python3.11/dist-packages (from langchain-core<1.0.0,>=0.3.51->langchain-community) (24.2)\n",
            "Requirement already satisfied: requests-toolbelt<2.0.0,>=1.0.0 in /usr/local/lib/python3.11/dist-packages (from langsmith<0.4,>=0.1.125->langchain-community) (1.0.0)\n",
            "Requirement already satisfied: zstandard<0.24.0,>=0.23.0 in /usr/local/lib/python3.11/dist-packages (from langsmith<0.4,>=0.1.125->langchain-community) (0.23.0)\n",
            "Requirement already satisfied: anyio<5,>=3.5.0 in /usr/local/lib/python3.11/dist-packages (from openai<2.0.0,>=1.68.2->langchain-openai) (4.9.0)\n",
            "Requirement already satisfied: distro<2,>=1.7.0 in /usr/local/lib/python3.11/dist-packages (from openai<2.0.0,>=1.68.2->langchain-openai) (1.9.0)\n",
            "Requirement already satisfied: jiter<1,>=0.4.0 in /usr/local/lib/python3.11/dist-packages (from openai<2.0.0,>=1.68.2->langchain-openai) (0.9.0)\n",
            "Requirement already satisfied: sniffio in /usr/local/lib/python3.11/dist-packages (from openai<2.0.0,>=1.68.2->langchain-openai) (1.3.1)\n",
            "Requirement already satisfied: python-dotenv>=0.21.0 in /usr/local/lib/python3.11/dist-packages (from pydantic-settings<3.0.0,>=2.4.0->langchain-community) (1.1.0)\n",
            "Requirement already satisfied: typing-inspection>=0.4.0 in /usr/local/lib/python3.11/dist-packages (from pydantic-settings<3.0.0,>=2.4.0->langchain-community) (0.4.0)\n",
            "Requirement already satisfied: charset-normalizer<4,>=2 in /usr/local/lib/python3.11/dist-packages (from requests<3,>=2->langchain-community) (3.4.1)\n",
            "Requirement already satisfied: idna<4,>=2.5 in /usr/local/lib/python3.11/dist-packages (from requests<3,>=2->langchain-community) (3.10)\n",
            "Requirement already satisfied: urllib3<3,>=1.21.1 in /usr/local/lib/python3.11/dist-packages (from requests<3,>=2->langchain-community) (2.3.0)\n",
            "Requirement already satisfied: certifi>=2017.4.17 in /usr/local/lib/python3.11/dist-packages (from requests<3,>=2->langchain-community) (2025.1.31)\n",
            "Requirement already satisfied: greenlet>=1 in /usr/local/lib/python3.11/dist-packages (from SQLAlchemy<3,>=1.4->langchain-community) (3.2.0)\n",
            "Requirement already satisfied: regex>=2022.1.18 in /usr/local/lib/python3.11/dist-packages (from tiktoken<1,>=0.7->langchain-openai) (2024.11.6)\n",
            "Requirement already satisfied: soupsieve>1.2 in /usr/local/lib/python3.11/dist-packages (from beautifulsoup4->bs4) (2.6)\n",
            "Requirement already satisfied: pyproject_hooks in /usr/local/lib/python3.11/dist-packages (from build>=1.0.3->chromadb!=0.5.10,!=0.5.11,!=0.5.12,!=0.5.4,!=0.5.5,!=0.5.7,!=0.5.9,<0.7.0,>=0.4.0->langchain-chroma) (1.2.0)\n",
            "Requirement already satisfied: starlette<0.47.0,>=0.40.0 in /usr/local/lib/python3.11/dist-packages (from fastapi>=0.95.2->chromadb!=0.5.10,!=0.5.11,!=0.5.12,!=0.5.4,!=0.5.5,!=0.5.7,!=0.5.9,<0.7.0,>=0.4.0->langchain-chroma) (0.46.2)\n",
            "Requirement already satisfied: httpcore==1.* in /usr/local/lib/python3.11/dist-packages (from httpx>=0.27.0->chromadb!=0.5.10,!=0.5.11,!=0.5.12,!=0.5.4,!=0.5.5,!=0.5.7,!=0.5.9,<0.7.0,>=0.4.0->langchain-chroma) (1.0.8)\n",
            "Requirement already satisfied: h11<0.15,>=0.13 in /usr/local/lib/python3.11/dist-packages (from httpcore==1.*->httpx>=0.27.0->chromadb!=0.5.10,!=0.5.11,!=0.5.12,!=0.5.4,!=0.5.5,!=0.5.7,!=0.5.9,<0.7.0,>=0.4.0->langchain-chroma) (0.14.0)\n",
            "Requirement already satisfied: jsonpointer>=1.9 in /usr/local/lib/python3.11/dist-packages (from jsonpatch<2.0,>=1.33->langchain-core<1.0.0,>=0.3.51->langchain-community) (3.0.0)\n",
            "Requirement already satisfied: six>=1.9.0 in /usr/local/lib/python3.11/dist-packages (from kubernetes>=28.1.0->chromadb!=0.5.10,!=0.5.11,!=0.5.12,!=0.5.4,!=0.5.5,!=0.5.7,!=0.5.9,<0.7.0,>=0.4.0->langchain-chroma) (1.17.0)\n",
            "Requirement already satisfied: python-dateutil>=2.5.3 in /usr/local/lib/python3.11/dist-packages (from kubernetes>=28.1.0->chromadb!=0.5.10,!=0.5.11,!=0.5.12,!=0.5.4,!=0.5.5,!=0.5.7,!=0.5.9,<0.7.0,>=0.4.0->langchain-chroma) (2.8.2)\n",
            "Requirement already satisfied: google-auth>=1.0.1 in /usr/local/lib/python3.11/dist-packages (from kubernetes>=28.1.0->chromadb!=0.5.10,!=0.5.11,!=0.5.12,!=0.5.4,!=0.5.5,!=0.5.7,!=0.5.9,<0.7.0,>=0.4.0->langchain-chroma) (2.38.0)\n",
            "Requirement already satisfied: websocket-client!=0.40.0,!=0.41.*,!=0.42.*,>=0.32.0 in /usr/local/lib/python3.11/dist-packages (from kubernetes>=28.1.0->chromadb!=0.5.10,!=0.5.11,!=0.5.12,!=0.5.4,!=0.5.5,!=0.5.7,!=0.5.9,<0.7.0,>=0.4.0->langchain-chroma) (1.8.0)\n",
            "Requirement already satisfied: requests-oauthlib in /usr/local/lib/python3.11/dist-packages (from kubernetes>=28.1.0->chromadb!=0.5.10,!=0.5.11,!=0.5.12,!=0.5.4,!=0.5.5,!=0.5.7,!=0.5.9,<0.7.0,>=0.4.0->langchain-chroma) (2.0.0)\n",
            "Requirement already satisfied: oauthlib>=3.2.2 in /usr/local/lib/python3.11/dist-packages (from kubernetes>=28.1.0->chromadb!=0.5.10,!=0.5.11,!=0.5.12,!=0.5.4,!=0.5.5,!=0.5.7,!=0.5.9,<0.7.0,>=0.4.0->langchain-chroma) (3.2.2)\n",
            "Requirement already satisfied: durationpy>=0.7 in /usr/local/lib/python3.11/dist-packages (from kubernetes>=28.1.0->chromadb!=0.5.10,!=0.5.11,!=0.5.12,!=0.5.4,!=0.5.5,!=0.5.7,!=0.5.9,<0.7.0,>=0.4.0->langchain-chroma) (0.9)\n",
            "Requirement already satisfied: coloredlogs in /usr/local/lib/python3.11/dist-packages (from onnxruntime>=1.14.1->chromadb!=0.5.10,!=0.5.11,!=0.5.12,!=0.5.4,!=0.5.5,!=0.5.7,!=0.5.9,<0.7.0,>=0.4.0->langchain-chroma) (15.0.1)\n",
            "Requirement already satisfied: flatbuffers in /usr/local/lib/python3.11/dist-packages (from onnxruntime>=1.14.1->chromadb!=0.5.10,!=0.5.11,!=0.5.12,!=0.5.4,!=0.5.5,!=0.5.7,!=0.5.9,<0.7.0,>=0.4.0->langchain-chroma) (25.2.10)\n",
            "Requirement already satisfied: protobuf in /usr/local/lib/python3.11/dist-packages (from onnxruntime>=1.14.1->chromadb!=0.5.10,!=0.5.11,!=0.5.12,!=0.5.4,!=0.5.5,!=0.5.7,!=0.5.9,<0.7.0,>=0.4.0->langchain-chroma) (5.29.4)\n",
            "Requirement already satisfied: sympy in /usr/local/lib/python3.11/dist-packages (from onnxruntime>=1.14.1->chromadb!=0.5.10,!=0.5.11,!=0.5.12,!=0.5.4,!=0.5.5,!=0.5.7,!=0.5.9,<0.7.0,>=0.4.0->langchain-chroma) (1.13.1)\n",
            "Requirement already satisfied: deprecated>=1.2.6 in /usr/local/lib/python3.11/dist-packages (from opentelemetry-api>=1.2.0->chromadb!=0.5.10,!=0.5.11,!=0.5.12,!=0.5.4,!=0.5.5,!=0.5.7,!=0.5.9,<0.7.0,>=0.4.0->langchain-chroma) (1.2.18)\n",
            "Requirement already satisfied: importlib-metadata<8.7.0,>=6.0 in /usr/local/lib/python3.11/dist-packages (from opentelemetry-api>=1.2.0->chromadb!=0.5.10,!=0.5.11,!=0.5.12,!=0.5.4,!=0.5.5,!=0.5.7,!=0.5.9,<0.7.0,>=0.4.0->langchain-chroma) (8.6.1)\n",
            "Requirement already satisfied: googleapis-common-protos~=1.52 in /usr/local/lib/python3.11/dist-packages (from opentelemetry-exporter-otlp-proto-grpc>=1.2.0->chromadb!=0.5.10,!=0.5.11,!=0.5.12,!=0.5.4,!=0.5.5,!=0.5.7,!=0.5.9,<0.7.0,>=0.4.0->langchain-chroma) (1.70.0)\n",
            "Requirement already satisfied: opentelemetry-exporter-otlp-proto-common==1.32.1 in /usr/local/lib/python3.11/dist-packages (from opentelemetry-exporter-otlp-proto-grpc>=1.2.0->chromadb!=0.5.10,!=0.5.11,!=0.5.12,!=0.5.4,!=0.5.5,!=0.5.7,!=0.5.9,<0.7.0,>=0.4.0->langchain-chroma) (1.32.1)\n",
            "Requirement already satisfied: opentelemetry-proto==1.32.1 in /usr/local/lib/python3.11/dist-packages (from opentelemetry-exporter-otlp-proto-grpc>=1.2.0->chromadb!=0.5.10,!=0.5.11,!=0.5.12,!=0.5.4,!=0.5.5,!=0.5.7,!=0.5.9,<0.7.0,>=0.4.0->langchain-chroma) (1.32.1)\n",
            "Requirement already satisfied: opentelemetry-instrumentation-asgi==0.53b1 in /usr/local/lib/python3.11/dist-packages (from opentelemetry-instrumentation-fastapi>=0.41b0->chromadb!=0.5.10,!=0.5.11,!=0.5.12,!=0.5.4,!=0.5.5,!=0.5.7,!=0.5.9,<0.7.0,>=0.4.0->langchain-chroma) (0.53b1)\n",
            "Requirement already satisfied: opentelemetry-instrumentation==0.53b1 in /usr/local/lib/python3.11/dist-packages (from opentelemetry-instrumentation-fastapi>=0.41b0->chromadb!=0.5.10,!=0.5.11,!=0.5.12,!=0.5.4,!=0.5.5,!=0.5.7,!=0.5.9,<0.7.0,>=0.4.0->langchain-chroma) (0.53b1)\n",
            "Requirement already satisfied: opentelemetry-semantic-conventions==0.53b1 in /usr/local/lib/python3.11/dist-packages (from opentelemetry-instrumentation-fastapi>=0.41b0->chromadb!=0.5.10,!=0.5.11,!=0.5.12,!=0.5.4,!=0.5.5,!=0.5.7,!=0.5.9,<0.7.0,>=0.4.0->langchain-chroma) (0.53b1)\n",
            "Requirement already satisfied: opentelemetry-util-http==0.53b1 in /usr/local/lib/python3.11/dist-packages (from opentelemetry-instrumentation-fastapi>=0.41b0->chromadb!=0.5.10,!=0.5.11,!=0.5.12,!=0.5.4,!=0.5.5,!=0.5.7,!=0.5.9,<0.7.0,>=0.4.0->langchain-chroma) (0.53b1)\n",
            "Requirement already satisfied: wrapt<2.0.0,>=1.0.0 in /usr/local/lib/python3.11/dist-packages (from opentelemetry-instrumentation==0.53b1->opentelemetry-instrumentation-fastapi>=0.41b0->chromadb!=0.5.10,!=0.5.11,!=0.5.12,!=0.5.4,!=0.5.5,!=0.5.7,!=0.5.9,<0.7.0,>=0.4.0->langchain-chroma) (1.17.2)\n",
            "Requirement already satisfied: asgiref~=3.0 in /usr/local/lib/python3.11/dist-packages (from opentelemetry-instrumentation-asgi==0.53b1->opentelemetry-instrumentation-fastapi>=0.41b0->chromadb!=0.5.10,!=0.5.11,!=0.5.12,!=0.5.4,!=0.5.5,!=0.5.7,!=0.5.9,<0.7.0,>=0.4.0->langchain-chroma) (3.8.1)\n",
            "Requirement already satisfied: monotonic>=1.5 in /usr/local/lib/python3.11/dist-packages (from posthog>=2.4.0->chromadb!=0.5.10,!=0.5.11,!=0.5.12,!=0.5.4,!=0.5.5,!=0.5.7,!=0.5.9,<0.7.0,>=0.4.0->langchain-chroma) (1.6)\n",
            "Requirement already satisfied: backoff>=1.10.0 in /usr/local/lib/python3.11/dist-packages (from posthog>=2.4.0->chromadb!=0.5.10,!=0.5.11,!=0.5.12,!=0.5.4,!=0.5.5,!=0.5.7,!=0.5.9,<0.7.0,>=0.4.0->langchain-chroma) (2.2.1)\n",
            "Requirement already satisfied: annotated-types>=0.6.0 in /usr/local/lib/python3.11/dist-packages (from pydantic>=1.9->chromadb!=0.5.10,!=0.5.11,!=0.5.12,!=0.5.4,!=0.5.5,!=0.5.7,!=0.5.9,<0.7.0,>=0.4.0->langchain-chroma) (0.7.0)\n",
            "Requirement already satisfied: pydantic-core==2.33.1 in /usr/local/lib/python3.11/dist-packages (from pydantic>=1.9->chromadb!=0.5.10,!=0.5.11,!=0.5.12,!=0.5.4,!=0.5.5,!=0.5.7,!=0.5.9,<0.7.0,>=0.4.0->langchain-chroma) (2.33.1)\n",
            "Requirement already satisfied: markdown-it-py>=2.2.0 in /usr/local/lib/python3.11/dist-packages (from rich>=10.11.0->chromadb!=0.5.10,!=0.5.11,!=0.5.12,!=0.5.4,!=0.5.5,!=0.5.7,!=0.5.9,<0.7.0,>=0.4.0->langchain-chroma) (3.0.0)\n",
            "Requirement already satisfied: pygments<3.0.0,>=2.13.0 in /usr/local/lib/python3.11/dist-packages (from rich>=10.11.0->chromadb!=0.5.10,!=0.5.11,!=0.5.12,!=0.5.4,!=0.5.5,!=0.5.7,!=0.5.9,<0.7.0,>=0.4.0->langchain-chroma) (2.18.0)\n",
            "Requirement already satisfied: huggingface-hub<1.0,>=0.16.4 in /usr/local/lib/python3.11/dist-packages (from tokenizers>=0.13.2->chromadb!=0.5.10,!=0.5.11,!=0.5.12,!=0.5.4,!=0.5.5,!=0.5.7,!=0.5.9,<0.7.0,>=0.4.0->langchain-chroma) (0.30.2)\n",
            "Requirement already satisfied: click>=8.0.0 in /usr/local/lib/python3.11/dist-packages (from typer>=0.9.0->chromadb!=0.5.10,!=0.5.11,!=0.5.12,!=0.5.4,!=0.5.5,!=0.5.7,!=0.5.9,<0.7.0,>=0.4.0->langchain-chroma) (8.1.8)\n",
            "Requirement already satisfied: shellingham>=1.3.0 in /usr/local/lib/python3.11/dist-packages (from typer>=0.9.0->chromadb!=0.5.10,!=0.5.11,!=0.5.12,!=0.5.4,!=0.5.5,!=0.5.7,!=0.5.9,<0.7.0,>=0.4.0->langchain-chroma) (1.5.4)\n",
            "Requirement already satisfied: mypy-extensions>=0.3.0 in /usr/local/lib/python3.11/dist-packages (from typing-inspect<1,>=0.4.0->dataclasses-json<0.7,>=0.5.7->langchain-community) (1.1.0)\n",
            "Requirement already satisfied: httptools>=0.6.3 in /usr/local/lib/python3.11/dist-packages (from uvicorn[standard]>=0.18.3->chromadb!=0.5.10,!=0.5.11,!=0.5.12,!=0.5.4,!=0.5.5,!=0.5.7,!=0.5.9,<0.7.0,>=0.4.0->langchain-chroma) (0.6.4)\n",
            "Requirement already satisfied: uvloop!=0.15.0,!=0.15.1,>=0.14.0 in /usr/local/lib/python3.11/dist-packages (from uvicorn[standard]>=0.18.3->chromadb!=0.5.10,!=0.5.11,!=0.5.12,!=0.5.4,!=0.5.5,!=0.5.7,!=0.5.9,<0.7.0,>=0.4.0->langchain-chroma) (0.21.0)\n",
            "Requirement already satisfied: watchfiles>=0.13 in /usr/local/lib/python3.11/dist-packages (from uvicorn[standard]>=0.18.3->chromadb!=0.5.10,!=0.5.11,!=0.5.12,!=0.5.4,!=0.5.5,!=0.5.7,!=0.5.9,<0.7.0,>=0.4.0->langchain-chroma) (1.0.5)\n",
            "Requirement already satisfied: websockets>=10.4 in /usr/local/lib/python3.11/dist-packages (from uvicorn[standard]>=0.18.3->chromadb!=0.5.10,!=0.5.11,!=0.5.12,!=0.5.4,!=0.5.5,!=0.5.7,!=0.5.9,<0.7.0,>=0.4.0->langchain-chroma) (15.0.1)\n",
            "Requirement already satisfied: cachetools<6.0,>=2.0.0 in /usr/local/lib/python3.11/dist-packages (from google-auth>=1.0.1->kubernetes>=28.1.0->chromadb!=0.5.10,!=0.5.11,!=0.5.12,!=0.5.4,!=0.5.5,!=0.5.7,!=0.5.9,<0.7.0,>=0.4.0->langchain-chroma) (5.5.2)\n",
            "Requirement already satisfied: pyasn1-modules>=0.2.1 in /usr/local/lib/python3.11/dist-packages (from google-auth>=1.0.1->kubernetes>=28.1.0->chromadb!=0.5.10,!=0.5.11,!=0.5.12,!=0.5.4,!=0.5.5,!=0.5.7,!=0.5.9,<0.7.0,>=0.4.0->langchain-chroma) (0.4.2)\n",
            "Requirement already satisfied: rsa<5,>=3.1.4 in /usr/local/lib/python3.11/dist-packages (from google-auth>=1.0.1->kubernetes>=28.1.0->chromadb!=0.5.10,!=0.5.11,!=0.5.12,!=0.5.4,!=0.5.5,!=0.5.7,!=0.5.9,<0.7.0,>=0.4.0->langchain-chroma) (4.9.1)\n",
            "Requirement already satisfied: filelock in /usr/local/lib/python3.11/dist-packages (from huggingface-hub<1.0,>=0.16.4->tokenizers>=0.13.2->chromadb!=0.5.10,!=0.5.11,!=0.5.12,!=0.5.4,!=0.5.5,!=0.5.7,!=0.5.9,<0.7.0,>=0.4.0->langchain-chroma) (3.18.0)\n",
            "Requirement already satisfied: fsspec>=2023.5.0 in /usr/local/lib/python3.11/dist-packages (from huggingface-hub<1.0,>=0.16.4->tokenizers>=0.13.2->chromadb!=0.5.10,!=0.5.11,!=0.5.12,!=0.5.4,!=0.5.5,!=0.5.7,!=0.5.9,<0.7.0,>=0.4.0->langchain-chroma) (2025.3.2)\n",
            "Requirement already satisfied: zipp>=3.20 in /usr/local/lib/python3.11/dist-packages (from importlib-metadata<8.7.0,>=6.0->opentelemetry-api>=1.2.0->chromadb!=0.5.10,!=0.5.11,!=0.5.12,!=0.5.4,!=0.5.5,!=0.5.7,!=0.5.9,<0.7.0,>=0.4.0->langchain-chroma) (3.21.0)\n",
            "Requirement already satisfied: mdurl~=0.1 in /usr/local/lib/python3.11/dist-packages (from markdown-it-py>=2.2.0->rich>=10.11.0->chromadb!=0.5.10,!=0.5.11,!=0.5.12,!=0.5.4,!=0.5.5,!=0.5.7,!=0.5.9,<0.7.0,>=0.4.0->langchain-chroma) (0.1.2)\n",
            "Requirement already satisfied: humanfriendly>=9.1 in /usr/local/lib/python3.11/dist-packages (from coloredlogs->onnxruntime>=1.14.1->chromadb!=0.5.10,!=0.5.11,!=0.5.12,!=0.5.4,!=0.5.5,!=0.5.7,!=0.5.9,<0.7.0,>=0.4.0->langchain-chroma) (10.0)\n",
            "Requirement already satisfied: mpmath<1.4,>=1.1.0 in /usr/local/lib/python3.11/dist-packages (from sympy->onnxruntime>=1.14.1->chromadb!=0.5.10,!=0.5.11,!=0.5.12,!=0.5.4,!=0.5.5,!=0.5.7,!=0.5.9,<0.7.0,>=0.4.0->langchain-chroma) (1.3.0)\n",
            "Requirement already satisfied: pyasn1<0.7.0,>=0.6.1 in /usr/local/lib/python3.11/dist-packages (from pyasn1-modules>=0.2.1->google-auth>=1.0.1->kubernetes>=28.1.0->chromadb!=0.5.10,!=0.5.11,!=0.5.12,!=0.5.4,!=0.5.5,!=0.5.7,!=0.5.9,<0.7.0,>=0.4.0->langchain-chroma) (0.6.1)\n"
          ]
        }
      ],
      "source": [
        "!pip install langchain-community langchain-chroma langchain-openai bs4"
      ]
    },
    {
      "cell_type": "markdown",
      "source": [
        "#### 환경 설정\n",
        "\n",
        "custom print : colab 화면을 작게 쓰면서 출력이 길게 되는 것 불편해서 생성"
      ],
      "metadata": {
        "id": "kSu2OIt1Qslr"
      }
    },
    {
      "cell_type": "code",
      "source": [
        "import bs4\n",
        "from langchain import hub\n",
        "from langchain_chroma import Chroma\n",
        "from langchain_openai import ChatOpenAI\n",
        "from langchain_openai import OpenAIEmbeddings\n",
        "from langchain_community.document_loaders import WebBaseLoader\n",
        "from langchain_text_splitters import RecursiveCharacterTextSplitter\n",
        "from bs4 import SoupStrainer\n",
        "import os"
      ],
      "metadata": {
        "colab": {
          "base_uri": "https://localhost:8080/"
        },
        "id": "lrlcWNMyI0HQ",
        "outputId": "b5e299c2-0f9c-4942-8e6e-9e365a9e26dc"
      },
      "execution_count": 2,
      "outputs": [
        {
          "output_type": "stream",
          "name": "stderr",
          "text": [
            "WARNING:langchain_community.utils.user_agent:USER_AGENT environment variable not set, consider setting it to identify your requests.\n"
          ]
        }
      ]
    },
    {
      "cell_type": "code",
      "source": [
        "with open('secrets.env') as f:\n",
        "    for line in f:\n",
        "        k, v = line.strip().split(\"=\")\n",
        "        os.environ[k] = v"
      ],
      "metadata": {
        "id": "g5ozZUzcMXTT"
      },
      "execution_count": 3,
      "outputs": []
    },
    {
      "cell_type": "code",
      "source": [
        "import textwrap\n",
        "\n",
        "def custom_print(text, width=70):\n",
        "    print(textwrap.fill(text, width=width))"
      ],
      "metadata": {
        "id": "cYT6t4lrkppK"
      },
      "execution_count": 4,
      "outputs": []
    },
    {
      "cell_type": "code",
      "source": [
        "from IPython.display import display, HTML\n",
        "\n",
        "def display_prompt_flow(user_query, response_content):\n",
        "    html = f\"\"\"\n",
        "    <div style=\"font-family: monospace; line-height: 1.5;\">\n",
        "        <h4>🧑 User Query</h4>\n",
        "        <pre style=\"white-space: pre-wrap; word-break: break-word;\">{user_query}</pre>\n",
        "        <hr>\n",
        "        <h4>🤖 LLM Response</h4>\n",
        "        <pre style=\"white-space: pre-wrap; word-break: break-word;\">{response_content}</pre>\n",
        "    </div>\n",
        "    \"\"\"\n",
        "    display(HTML(html))\n"
      ],
      "metadata": {
        "id": "mQLd7hBIJPHW"
      },
      "execution_count": 34,
      "outputs": []
    },
    {
      "cell_type": "markdown",
      "source": [
        "### RAG 구성"
      ],
      "metadata": {
        "id": "0HyhMWGYQvyf"
      }
    },
    {
      "cell_type": "markdown",
      "source": [
        "### 1. Document Loader   \n",
        "* 웹문서 BeautifulSoup을 사용해서 html 안에 값 파싱하기   \n",
        "* header 넣어주는 이유   \n",
        "  사이트가 requests 같은 봇 요청을 차단할 수 있어서 브라우저에서 접근한 것처럼 보이게 하는 트릭   \n",
        "* CustomWebBaseLoader   \n",
        "  WebBaseLoader 사용 시 encoding 이슈로 text가 깨져보여 encoding 강제 지정하는 class 생성"
      ],
      "metadata": {
        "id": "qk1MFny2bUKv"
      }
    },
    {
      "cell_type": "code",
      "source": [
        "llm = ChatOpenAI(\n",
        "    model=\"gpt-4o-mini\",\n",
        "    api_key=os.environ[\"OPENAI_API_KEY\"],\n",
        "    temperature=0.1,\n",
        "    top_p=0.9,\n",
        "    max_tokens=1024,\n",
        "    frequency_penalty=0.0\n",
        ")"
      ],
      "metadata": {
        "id": "gdjtGqsgI2Ub"
      },
      "execution_count": 5,
      "outputs": []
    },
    {
      "cell_type": "code",
      "source": [
        "from langchain.document_loaders import WebBaseLoader\n",
        "from langchain.schema import Document\n",
        "import requests\n",
        "from bs4 import BeautifulSoup, SoupStrainer\n",
        "\n",
        "class CustomWebBaseLoader(WebBaseLoader):\n",
        "    def _get_bs(self, url: str, **bs_kwargs) -> BeautifulSoup:\n",
        "        response = requests.get(url, headers={\"User-Agent\": \"Mozilla/5.0\"})\n",
        "\n",
        "        # 🔥 인코딩 강제 지정\n",
        "        response.encoding = \"utf-8\"\n",
        "\n",
        "        return BeautifulSoup(\n",
        "            response.text,\n",
        "            \"html.parser\",\n",
        "            **bs_kwargs\n",
        "        )\n",
        "\n",
        "    def load(self) -> list[Document]:\n",
        "        docs = []\n",
        "        for url in self.web_paths:\n",
        "            soup = self._get_bs(url, **(self.bs_kwargs or {}))\n",
        "            text = soup.get_text(separator=\"\\n\").strip()\n",
        "            metadata = {\"source\": url}\n",
        "            docs.append(Document(page_content=text, metadata=metadata))\n",
        "        return docs\n"
      ],
      "metadata": {
        "id": "Y4kgox8ma2hT"
      },
      "execution_count": 6,
      "outputs": []
    },
    {
      "cell_type": "code",
      "source": [
        "from bs4 import SoupStrainer\n",
        "\n",
        "loader = CustomWebBaseLoader(\n",
        "    web_paths=[\"https://spartacodingclub.kr/blog/all-in-challenge_winner\"],\n",
        "    bs_kwargs={\n",
        "        \"parse_only\": SoupStrainer(\"div\", class_=\"editedContent\")\n",
        "    }\n",
        ")\n",
        "\n",
        "docs = loader.load()\n",
        "print(docs[0].page_content[:500])\n",
        "print(f\"\\n문서 길이: {len(docs[0].page_content)}\")"
      ],
      "metadata": {
        "id": "79ZvV-K1a3tm",
        "outputId": "03107096-b0fa-4de7-c83b-b137a80004a7",
        "colab": {
          "base_uri": "https://localhost:8080/"
        }
      },
      "execution_count": 7,
      "outputs": [
        {
          "output_type": "stream",
          "name": "stdout",
          "text": [
            "코딩은 더 이상 개발자만의 영역이 아닙니다. 누구나 아이디어만 있다면 창의적인 서비스를 만들어 세상을 바꿀 수 있습니다. 스파르타코딩클럽에서는 이러한 가능성을 믿고, 누구나 코딩을 통해 자신의 아이디어를 실현하고 실제 문제를 해결하는 경험을 쌓을 수 있도록 다양한 프로그램을 마련하고 있습니다.\n",
            "<All-in> 코딩 공모전은 대학생들이 캠퍼스에서 겪은 불편함과 문제를 자신만의 아이디어로 해결해보는 대회였는데요. 이번 공모전에서 다양한 혁신적인 아이디어와 열정으로 가득한 수많은 프로젝트가 탄생했습니다. 그중 뛰어난 성과를 낸 수상작 6개를 소개합니다.\n",
            "🏆 대상\n",
            "[Lexi Note] 언어공부 필기 웹 서비스\n",
            "서비스 제작자: 다나와(김다애, 박나경)\n",
            "💡W는 어문학을 전공하는 대학생입니다. 매일 새로운 단어와 문장 구조를 공부하고 있지만, 효율적으로 학습하는 것이 쉽지 않았습니다. 단어의 의미를 찾기 위해 사전을 뒤적이고, 긴 문장을 이해하려고 번역기를 사용하다 보면, 필기 노트는 어느새 뒷\n",
            "\n",
            "문서 길이: 5462\n"
          ]
        }
      ]
    },
    {
      "cell_type": "markdown",
      "source": [
        "### 2. Text Splitter\n",
        "문서를 chunk로 나눌 수 있도록 해주는 부분\n",
        "\n",
        "* CharacterTextSplitter   \n",
        "단순한 문자 기반 분할기\n",
        "\n",
        "* RecursiveCharacterTextSplitter (사용)   \n",
        "우선 순위 separator list 기반 분할기\n",
        "\n",
        "\n"
      ],
      "metadata": {
        "id": "-q0vQnqRbL9x"
      }
    },
    {
      "cell_type": "code",
      "source": [
        "default_text_splitter = RecursiveCharacterTextSplitter(\n",
        "    chunk_size=1000,\n",
        "    chunk_overlap=200\n",
        ")\n",
        "default_splits = default_text_splitter.split_documents(docs)\n",
        "print(f\"chunk 개수 : {len(default_splits)}\")"
      ],
      "metadata": {
        "id": "ewqNBMS_I7zB",
        "outputId": "18ba7ab3-49ea-408a-f692-468ee871e655",
        "colab": {
          "base_uri": "https://localhost:8080/"
        }
      },
      "execution_count": 8,
      "outputs": [
        {
          "output_type": "stream",
          "name": "stdout",
          "text": [
            "chunk 개수 : 7\n"
          ]
        }
      ]
    },
    {
      "cell_type": "markdown",
      "source": [
        "#### chunk split 어떻게 되었는지 확인해보기"
      ],
      "metadata": {
        "id": "KNCbPP22yOSn"
      }
    },
    {
      "cell_type": "code",
      "source": [
        "import pandas as pd\n",
        "\n",
        "d_df = pd.DataFrame([{\n",
        "    \"chunk_id\": i,\n",
        "    \"content\": chunk.page_content,\n",
        "    \"length\": len(chunk.page_content),\n",
        "    \"source\": chunk.metadata.get(\"source\", \"\")\n",
        "} for i, chunk in enumerate(default_splits)])"
      ],
      "metadata": {
        "id": "-YyGqb0hxxss"
      },
      "execution_count": 9,
      "outputs": []
    },
    {
      "cell_type": "code",
      "source": [
        "d_df"
      ],
      "metadata": {
        "colab": {
          "base_uri": "https://localhost:8080/",
          "height": 425
        },
        "id": "oezTgpWPGyhx",
        "outputId": "015c1c4a-1a4b-4113-985b-b60c7baf3514"
      },
      "execution_count": 10,
      "outputs": [
        {
          "output_type": "execute_result",
          "data": {
            "text/plain": [
              "   chunk_id                                            content  length  \\\n",
              "0         0  코딩은 더 이상 개발자만의 영역이 아닙니다. 누구나 아이디어만 있다면 창의적인 서비...     999   \n",
              "1         1  사용한 기술 스택 \\n-FE(프론트엔드): React, Tesseract.js, R...     896   \n",
              "2         2  사용한 기술 스택 \\n-FE(프론트엔드): React Native, Expo, Ax...     987   \n",
              "3         3  사용한 기술 스택 \\n-FE(프론트엔드): Flutter, Socket.IO, Ex...     975   \n",
              "4         4  💡A는 올해 복학한 3학년 학생입니다. 강의실과 도서관을 오가며 바쁜 일정을 소화하...     840   \n",
              "5         5  사용한 기술 스택 \\n-FE(프론트엔드): Flutter\\n-BE(백엔드): Fir...     956   \n",
              "6         6  사용한 기술 스택\\n-FE(프론트엔드): Spring Boot, MySQL, Spr...     545   \n",
              "\n",
              "                                              source  \n",
              "0  https://spartacodingclub.kr/blog/all-in-challe...  \n",
              "1  https://spartacodingclub.kr/blog/all-in-challe...  \n",
              "2  https://spartacodingclub.kr/blog/all-in-challe...  \n",
              "3  https://spartacodingclub.kr/blog/all-in-challe...  \n",
              "4  https://spartacodingclub.kr/blog/all-in-challe...  \n",
              "5  https://spartacodingclub.kr/blog/all-in-challe...  \n",
              "6  https://spartacodingclub.kr/blog/all-in-challe...  "
            ],
            "text/html": [
              "\n",
              "  <div id=\"df-aba80ffe-de6b-433a-a9dd-9bf37a445d0d\" class=\"colab-df-container\">\n",
              "    <div>\n",
              "<style scoped>\n",
              "    .dataframe tbody tr th:only-of-type {\n",
              "        vertical-align: middle;\n",
              "    }\n",
              "\n",
              "    .dataframe tbody tr th {\n",
              "        vertical-align: top;\n",
              "    }\n",
              "\n",
              "    .dataframe thead th {\n",
              "        text-align: right;\n",
              "    }\n",
              "</style>\n",
              "<table border=\"1\" class=\"dataframe\">\n",
              "  <thead>\n",
              "    <tr style=\"text-align: right;\">\n",
              "      <th></th>\n",
              "      <th>chunk_id</th>\n",
              "      <th>content</th>\n",
              "      <th>length</th>\n",
              "      <th>source</th>\n",
              "    </tr>\n",
              "  </thead>\n",
              "  <tbody>\n",
              "    <tr>\n",
              "      <th>0</th>\n",
              "      <td>0</td>\n",
              "      <td>코딩은 더 이상 개발자만의 영역이 아닙니다. 누구나 아이디어만 있다면 창의적인 서비...</td>\n",
              "      <td>999</td>\n",
              "      <td>https://spartacodingclub.kr/blog/all-in-challe...</td>\n",
              "    </tr>\n",
              "    <tr>\n",
              "      <th>1</th>\n",
              "      <td>1</td>\n",
              "      <td>사용한 기술 스택 \\n-FE(프론트엔드): React, Tesseract.js, R...</td>\n",
              "      <td>896</td>\n",
              "      <td>https://spartacodingclub.kr/blog/all-in-challe...</td>\n",
              "    </tr>\n",
              "    <tr>\n",
              "      <th>2</th>\n",
              "      <td>2</td>\n",
              "      <td>사용한 기술 스택 \\n-FE(프론트엔드): React Native, Expo, Ax...</td>\n",
              "      <td>987</td>\n",
              "      <td>https://spartacodingclub.kr/blog/all-in-challe...</td>\n",
              "    </tr>\n",
              "    <tr>\n",
              "      <th>3</th>\n",
              "      <td>3</td>\n",
              "      <td>사용한 기술 스택 \\n-FE(프론트엔드): Flutter, Socket.IO, Ex...</td>\n",
              "      <td>975</td>\n",
              "      <td>https://spartacodingclub.kr/blog/all-in-challe...</td>\n",
              "    </tr>\n",
              "    <tr>\n",
              "      <th>4</th>\n",
              "      <td>4</td>\n",
              "      <td>💡A는 올해 복학한 3학년 학생입니다. 강의실과 도서관을 오가며 바쁜 일정을 소화하...</td>\n",
              "      <td>840</td>\n",
              "      <td>https://spartacodingclub.kr/blog/all-in-challe...</td>\n",
              "    </tr>\n",
              "    <tr>\n",
              "      <th>5</th>\n",
              "      <td>5</td>\n",
              "      <td>사용한 기술 스택 \\n-FE(프론트엔드): Flutter\\n-BE(백엔드): Fir...</td>\n",
              "      <td>956</td>\n",
              "      <td>https://spartacodingclub.kr/blog/all-in-challe...</td>\n",
              "    </tr>\n",
              "    <tr>\n",
              "      <th>6</th>\n",
              "      <td>6</td>\n",
              "      <td>사용한 기술 스택\\n-FE(프론트엔드): Spring Boot, MySQL, Spr...</td>\n",
              "      <td>545</td>\n",
              "      <td>https://spartacodingclub.kr/blog/all-in-challe...</td>\n",
              "    </tr>\n",
              "  </tbody>\n",
              "</table>\n",
              "</div>\n",
              "    <div class=\"colab-df-buttons\">\n",
              "\n",
              "  <div class=\"colab-df-container\">\n",
              "    <button class=\"colab-df-convert\" onclick=\"convertToInteractive('df-aba80ffe-de6b-433a-a9dd-9bf37a445d0d')\"\n",
              "            title=\"Convert this dataframe to an interactive table.\"\n",
              "            style=\"display:none;\">\n",
              "\n",
              "  <svg xmlns=\"http://www.w3.org/2000/svg\" height=\"24px\" viewBox=\"0 -960 960 960\">\n",
              "    <path d=\"M120-120v-720h720v720H120Zm60-500h600v-160H180v160Zm220 220h160v-160H400v160Zm0 220h160v-160H400v160ZM180-400h160v-160H180v160Zm440 0h160v-160H620v160ZM180-180h160v-160H180v160Zm440 0h160v-160H620v160Z\"/>\n",
              "  </svg>\n",
              "    </button>\n",
              "\n",
              "  <style>\n",
              "    .colab-df-container {\n",
              "      display:flex;\n",
              "      gap: 12px;\n",
              "    }\n",
              "\n",
              "    .colab-df-convert {\n",
              "      background-color: #E8F0FE;\n",
              "      border: none;\n",
              "      border-radius: 50%;\n",
              "      cursor: pointer;\n",
              "      display: none;\n",
              "      fill: #1967D2;\n",
              "      height: 32px;\n",
              "      padding: 0 0 0 0;\n",
              "      width: 32px;\n",
              "    }\n",
              "\n",
              "    .colab-df-convert:hover {\n",
              "      background-color: #E2EBFA;\n",
              "      box-shadow: 0px 1px 2px rgba(60, 64, 67, 0.3), 0px 1px 3px 1px rgba(60, 64, 67, 0.15);\n",
              "      fill: #174EA6;\n",
              "    }\n",
              "\n",
              "    .colab-df-buttons div {\n",
              "      margin-bottom: 4px;\n",
              "    }\n",
              "\n",
              "    [theme=dark] .colab-df-convert {\n",
              "      background-color: #3B4455;\n",
              "      fill: #D2E3FC;\n",
              "    }\n",
              "\n",
              "    [theme=dark] .colab-df-convert:hover {\n",
              "      background-color: #434B5C;\n",
              "      box-shadow: 0px 1px 3px 1px rgba(0, 0, 0, 0.15);\n",
              "      filter: drop-shadow(0px 1px 2px rgba(0, 0, 0, 0.3));\n",
              "      fill: #FFFFFF;\n",
              "    }\n",
              "  </style>\n",
              "\n",
              "    <script>\n",
              "      const buttonEl =\n",
              "        document.querySelector('#df-aba80ffe-de6b-433a-a9dd-9bf37a445d0d button.colab-df-convert');\n",
              "      buttonEl.style.display =\n",
              "        google.colab.kernel.accessAllowed ? 'block' : 'none';\n",
              "\n",
              "      async function convertToInteractive(key) {\n",
              "        const element = document.querySelector('#df-aba80ffe-de6b-433a-a9dd-9bf37a445d0d');\n",
              "        const dataTable =\n",
              "          await google.colab.kernel.invokeFunction('convertToInteractive',\n",
              "                                                    [key], {});\n",
              "        if (!dataTable) return;\n",
              "\n",
              "        const docLinkHtml = 'Like what you see? Visit the ' +\n",
              "          '<a target=\"_blank\" href=https://colab.research.google.com/notebooks/data_table.ipynb>data table notebook</a>'\n",
              "          + ' to learn more about interactive tables.';\n",
              "        element.innerHTML = '';\n",
              "        dataTable['output_type'] = 'display_data';\n",
              "        await google.colab.output.renderOutput(dataTable, element);\n",
              "        const docLink = document.createElement('div');\n",
              "        docLink.innerHTML = docLinkHtml;\n",
              "        element.appendChild(docLink);\n",
              "      }\n",
              "    </script>\n",
              "  </div>\n",
              "\n",
              "\n",
              "<div id=\"df-233201a6-1a9e-42f3-9a83-96e99a6d5042\">\n",
              "  <button class=\"colab-df-quickchart\" onclick=\"quickchart('df-233201a6-1a9e-42f3-9a83-96e99a6d5042')\"\n",
              "            title=\"Suggest charts\"\n",
              "            style=\"display:none;\">\n",
              "\n",
              "<svg xmlns=\"http://www.w3.org/2000/svg\" height=\"24px\"viewBox=\"0 0 24 24\"\n",
              "     width=\"24px\">\n",
              "    <g>\n",
              "        <path d=\"M19 3H5c-1.1 0-2 .9-2 2v14c0 1.1.9 2 2 2h14c1.1 0 2-.9 2-2V5c0-1.1-.9-2-2-2zM9 17H7v-7h2v7zm4 0h-2V7h2v10zm4 0h-2v-4h2v4z\"/>\n",
              "    </g>\n",
              "</svg>\n",
              "  </button>\n",
              "\n",
              "<style>\n",
              "  .colab-df-quickchart {\n",
              "      --bg-color: #E8F0FE;\n",
              "      --fill-color: #1967D2;\n",
              "      --hover-bg-color: #E2EBFA;\n",
              "      --hover-fill-color: #174EA6;\n",
              "      --disabled-fill-color: #AAA;\n",
              "      --disabled-bg-color: #DDD;\n",
              "  }\n",
              "\n",
              "  [theme=dark] .colab-df-quickchart {\n",
              "      --bg-color: #3B4455;\n",
              "      --fill-color: #D2E3FC;\n",
              "      --hover-bg-color: #434B5C;\n",
              "      --hover-fill-color: #FFFFFF;\n",
              "      --disabled-bg-color: #3B4455;\n",
              "      --disabled-fill-color: #666;\n",
              "  }\n",
              "\n",
              "  .colab-df-quickchart {\n",
              "    background-color: var(--bg-color);\n",
              "    border: none;\n",
              "    border-radius: 50%;\n",
              "    cursor: pointer;\n",
              "    display: none;\n",
              "    fill: var(--fill-color);\n",
              "    height: 32px;\n",
              "    padding: 0;\n",
              "    width: 32px;\n",
              "  }\n",
              "\n",
              "  .colab-df-quickchart:hover {\n",
              "    background-color: var(--hover-bg-color);\n",
              "    box-shadow: 0 1px 2px rgba(60, 64, 67, 0.3), 0 1px 3px 1px rgba(60, 64, 67, 0.15);\n",
              "    fill: var(--button-hover-fill-color);\n",
              "  }\n",
              "\n",
              "  .colab-df-quickchart-complete:disabled,\n",
              "  .colab-df-quickchart-complete:disabled:hover {\n",
              "    background-color: var(--disabled-bg-color);\n",
              "    fill: var(--disabled-fill-color);\n",
              "    box-shadow: none;\n",
              "  }\n",
              "\n",
              "  .colab-df-spinner {\n",
              "    border: 2px solid var(--fill-color);\n",
              "    border-color: transparent;\n",
              "    border-bottom-color: var(--fill-color);\n",
              "    animation:\n",
              "      spin 1s steps(1) infinite;\n",
              "  }\n",
              "\n",
              "  @keyframes spin {\n",
              "    0% {\n",
              "      border-color: transparent;\n",
              "      border-bottom-color: var(--fill-color);\n",
              "      border-left-color: var(--fill-color);\n",
              "    }\n",
              "    20% {\n",
              "      border-color: transparent;\n",
              "      border-left-color: var(--fill-color);\n",
              "      border-top-color: var(--fill-color);\n",
              "    }\n",
              "    30% {\n",
              "      border-color: transparent;\n",
              "      border-left-color: var(--fill-color);\n",
              "      border-top-color: var(--fill-color);\n",
              "      border-right-color: var(--fill-color);\n",
              "    }\n",
              "    40% {\n",
              "      border-color: transparent;\n",
              "      border-right-color: var(--fill-color);\n",
              "      border-top-color: var(--fill-color);\n",
              "    }\n",
              "    60% {\n",
              "      border-color: transparent;\n",
              "      border-right-color: var(--fill-color);\n",
              "    }\n",
              "    80% {\n",
              "      border-color: transparent;\n",
              "      border-right-color: var(--fill-color);\n",
              "      border-bottom-color: var(--fill-color);\n",
              "    }\n",
              "    90% {\n",
              "      border-color: transparent;\n",
              "      border-bottom-color: var(--fill-color);\n",
              "    }\n",
              "  }\n",
              "</style>\n",
              "\n",
              "  <script>\n",
              "    async function quickchart(key) {\n",
              "      const quickchartButtonEl =\n",
              "        document.querySelector('#' + key + ' button');\n",
              "      quickchartButtonEl.disabled = true;  // To prevent multiple clicks.\n",
              "      quickchartButtonEl.classList.add('colab-df-spinner');\n",
              "      try {\n",
              "        const charts = await google.colab.kernel.invokeFunction(\n",
              "            'suggestCharts', [key], {});\n",
              "      } catch (error) {\n",
              "        console.error('Error during call to suggestCharts:', error);\n",
              "      }\n",
              "      quickchartButtonEl.classList.remove('colab-df-spinner');\n",
              "      quickchartButtonEl.classList.add('colab-df-quickchart-complete');\n",
              "    }\n",
              "    (() => {\n",
              "      let quickchartButtonEl =\n",
              "        document.querySelector('#df-233201a6-1a9e-42f3-9a83-96e99a6d5042 button');\n",
              "      quickchartButtonEl.style.display =\n",
              "        google.colab.kernel.accessAllowed ? 'block' : 'none';\n",
              "    })();\n",
              "  </script>\n",
              "</div>\n",
              "\n",
              "  <div id=\"id_645e8612-c2bc-44d3-9a8b-ca67127c9249\">\n",
              "    <style>\n",
              "      .colab-df-generate {\n",
              "        background-color: #E8F0FE;\n",
              "        border: none;\n",
              "        border-radius: 50%;\n",
              "        cursor: pointer;\n",
              "        display: none;\n",
              "        fill: #1967D2;\n",
              "        height: 32px;\n",
              "        padding: 0 0 0 0;\n",
              "        width: 32px;\n",
              "      }\n",
              "\n",
              "      .colab-df-generate:hover {\n",
              "        background-color: #E2EBFA;\n",
              "        box-shadow: 0px 1px 2px rgba(60, 64, 67, 0.3), 0px 1px 3px 1px rgba(60, 64, 67, 0.15);\n",
              "        fill: #174EA6;\n",
              "      }\n",
              "\n",
              "      [theme=dark] .colab-df-generate {\n",
              "        background-color: #3B4455;\n",
              "        fill: #D2E3FC;\n",
              "      }\n",
              "\n",
              "      [theme=dark] .colab-df-generate:hover {\n",
              "        background-color: #434B5C;\n",
              "        box-shadow: 0px 1px 3px 1px rgba(0, 0, 0, 0.15);\n",
              "        filter: drop-shadow(0px 1px 2px rgba(0, 0, 0, 0.3));\n",
              "        fill: #FFFFFF;\n",
              "      }\n",
              "    </style>\n",
              "    <button class=\"colab-df-generate\" onclick=\"generateWithVariable('d_df')\"\n",
              "            title=\"Generate code using this dataframe.\"\n",
              "            style=\"display:none;\">\n",
              "\n",
              "  <svg xmlns=\"http://www.w3.org/2000/svg\" height=\"24px\"viewBox=\"0 0 24 24\"\n",
              "       width=\"24px\">\n",
              "    <path d=\"M7,19H8.4L18.45,9,17,7.55,7,17.6ZM5,21V16.75L18.45,3.32a2,2,0,0,1,2.83,0l1.4,1.43a1.91,1.91,0,0,1,.58,1.4,1.91,1.91,0,0,1-.58,1.4L9.25,21ZM18.45,9,17,7.55Zm-12,3A5.31,5.31,0,0,0,4.9,8.1,5.31,5.31,0,0,0,1,6.5,5.31,5.31,0,0,0,4.9,4.9,5.31,5.31,0,0,0,6.5,1,5.31,5.31,0,0,0,8.1,4.9,5.31,5.31,0,0,0,12,6.5,5.46,5.46,0,0,0,6.5,12Z\"/>\n",
              "  </svg>\n",
              "    </button>\n",
              "    <script>\n",
              "      (() => {\n",
              "      const buttonEl =\n",
              "        document.querySelector('#id_645e8612-c2bc-44d3-9a8b-ca67127c9249 button.colab-df-generate');\n",
              "      buttonEl.style.display =\n",
              "        google.colab.kernel.accessAllowed ? 'block' : 'none';\n",
              "\n",
              "      buttonEl.onclick = () => {\n",
              "        google.colab.notebook.generateWithVariable('d_df');\n",
              "      }\n",
              "      })();\n",
              "    </script>\n",
              "  </div>\n",
              "\n",
              "    </div>\n",
              "  </div>\n"
            ],
            "application/vnd.google.colaboratory.intrinsic+json": {
              "type": "dataframe",
              "variable_name": "d_df",
              "summary": "{\n  \"name\": \"d_df\",\n  \"rows\": 7,\n  \"fields\": [\n    {\n      \"column\": \"chunk_id\",\n      \"properties\": {\n        \"dtype\": \"number\",\n        \"std\": 2,\n        \"min\": 0,\n        \"max\": 6,\n        \"num_unique_values\": 7,\n        \"samples\": [\n          0,\n          1,\n          5\n        ],\n        \"semantic_type\": \"\",\n        \"description\": \"\"\n      }\n    },\n    {\n      \"column\": \"content\",\n      \"properties\": {\n        \"dtype\": \"string\",\n        \"num_unique_values\": 7,\n        \"samples\": [\n          \"\\ucf54\\ub529\\uc740 \\ub354 \\uc774\\uc0c1 \\uac1c\\ubc1c\\uc790\\ub9cc\\uc758 \\uc601\\uc5ed\\uc774 \\uc544\\ub2d9\\ub2c8\\ub2e4. \\ub204\\uad6c\\ub098 \\uc544\\uc774\\ub514\\uc5b4\\ub9cc \\uc788\\ub2e4\\uba74 \\ucc3d\\uc758\\uc801\\uc778 \\uc11c\\ube44\\uc2a4\\ub97c \\ub9cc\\ub4e4\\uc5b4 \\uc138\\uc0c1\\uc744 \\ubc14\\uafc0 \\uc218 \\uc788\\uc2b5\\ub2c8\\ub2e4. \\uc2a4\\ud30c\\ub974\\ud0c0\\ucf54\\ub529\\ud074\\ub7fd\\uc5d0\\uc11c\\ub294 \\uc774\\ub7ec\\ud55c \\uac00\\ub2a5\\uc131\\uc744 \\ubbff\\uace0, \\ub204\\uad6c\\ub098 \\ucf54\\ub529\\uc744 \\ud1b5\\ud574 \\uc790\\uc2e0\\uc758 \\uc544\\uc774\\ub514\\uc5b4\\ub97c \\uc2e4\\ud604\\ud558\\uace0 \\uc2e4\\uc81c \\ubb38\\uc81c\\ub97c \\ud574\\uacb0\\ud558\\ub294 \\uacbd\\ud5d8\\uc744 \\uc313\\uc744 \\uc218 \\uc788\\ub3c4\\ub85d \\ub2e4\\uc591\\ud55c \\ud504\\ub85c\\uadf8\\ub7a8\\uc744 \\ub9c8\\ub828\\ud558\\uace0 \\uc788\\uc2b5\\ub2c8\\ub2e4.\\n<All-in> \\ucf54\\ub529 \\uacf5\\ubaa8\\uc804\\uc740 \\ub300\\ud559\\uc0dd\\ub4e4\\uc774 \\ucea0\\ud37c\\uc2a4\\uc5d0\\uc11c \\uacaa\\uc740 \\ubd88\\ud3b8\\ud568\\uacfc \\ubb38\\uc81c\\ub97c \\uc790\\uc2e0\\ub9cc\\uc758 \\uc544\\uc774\\ub514\\uc5b4\\ub85c \\ud574\\uacb0\\ud574\\ubcf4\\ub294 \\ub300\\ud68c\\uc600\\ub294\\ub370\\uc694. \\uc774\\ubc88 \\uacf5\\ubaa8\\uc804\\uc5d0\\uc11c \\ub2e4\\uc591\\ud55c \\ud601\\uc2e0\\uc801\\uc778 \\uc544\\uc774\\ub514\\uc5b4\\uc640 \\uc5f4\\uc815\\uc73c\\ub85c \\uac00\\ub4dd\\ud55c \\uc218\\ub9ce\\uc740 \\ud504\\ub85c\\uc81d\\ud2b8\\uac00 \\ud0c4\\uc0dd\\ud588\\uc2b5\\ub2c8\\ub2e4. \\uadf8\\uc911 \\ub6f0\\uc5b4\\ub09c \\uc131\\uacfc\\ub97c \\ub0b8 \\uc218\\uc0c1\\uc791 6\\uac1c\\ub97c \\uc18c\\uac1c\\ud569\\ub2c8\\ub2e4.\\n\\ud83c\\udfc6\\u00a0\\ub300\\uc0c1\\n[Lexi Note] \\uc5b8\\uc5b4\\uacf5\\ubd80 \\ud544\\uae30 \\uc6f9 \\uc11c\\ube44\\uc2a4\\n\\uc11c\\ube44\\uc2a4 \\uc81c\\uc791\\uc790: \\ub2e4\\ub098\\uc640(\\uae40\\ub2e4\\uc560, \\ubc15\\ub098\\uacbd)\\n\\ud83d\\udca1W\\ub294 \\uc5b4\\ubb38\\ud559\\uc744 \\uc804\\uacf5\\ud558\\ub294 \\ub300\\ud559\\uc0dd\\uc785\\ub2c8\\ub2e4. \\ub9e4\\uc77c \\uc0c8\\ub85c\\uc6b4 \\ub2e8\\uc5b4\\uc640 \\ubb38\\uc7a5 \\uad6c\\uc870\\ub97c \\uacf5\\ubd80\\ud558\\uace0 \\uc788\\uc9c0\\ub9cc, \\ud6a8\\uc728\\uc801\\uc73c\\ub85c \\ud559\\uc2b5\\ud558\\ub294 \\uac83\\uc774 \\uc27d\\uc9c0 \\uc54a\\uc558\\uc2b5\\ub2c8\\ub2e4. \\ub2e8\\uc5b4\\uc758 \\uc758\\ubbf8\\ub97c \\ucc3e\\uae30 \\uc704\\ud574 \\uc0ac\\uc804\\uc744 \\ub4a4\\uc801\\uc774\\uace0, \\uae34 \\ubb38\\uc7a5\\uc744 \\uc774\\ud574\\ud558\\ub824\\uace0 \\ubc88\\uc5ed\\uae30\\ub97c \\uc0ac\\uc6a9\\ud558\\ub2e4 \\ubcf4\\uba74, \\ud544\\uae30 \\ub178\\ud2b8\\ub294 \\uc5b4\\ub290\\uc0c8 \\ub4b7\\uc804\\uc73c\\ub85c \\ubc00\\ub824\\ub0ac\\uac70\\ub4e0\\uc694. \\uc0ac\\uc804, \\ubc88\\uc5ed\\uae30, \\uc6d0\\uc11c, \\ud544\\uae30\\ub178\\ud2b8\\ub97c \\uc654\\ub2e4 \\uac14\\ub2e4 \\ud558\\ub2e4 \\ubcf4\\uba74 \\uc2dc\\uac04\\uc774 \\ub2e4 \\uc9c0\\ub098\\uac00 \\ubc84\\ub9ac\\uace4 \\ud588\\uc8e0.\\nW\\uc640 \\uac19\\uc774 \\uc5b4\\ubb38 \\uc804\\uacf5\\uc0dd\\uc740 \\ubb38\\ubc95, \\uc5b4\\ud718, \\ubb38\\uc7a5 \\uad6c\\uc870 \\ub4f1 \\ub2e4\\uc591\\ud55c \\uc790\\ub8cc\\ub97c \\ud559\\uc2b5\\ud574\\uc57c \\ud569\\ub2c8\\ub2e4. \\uc5ec\\ub7ec \\uc790\\ub8cc\\ub97c \\ubc88\\uac08\\uc544 \\ud559\\uc2b5\\ud558\\ub2e4\\ubcf4\\ub2c8 \\u2018\\uc0ac\\uc804-\\ubc88\\uc5ed\\uae30-\\uc6d0\\uc11c-\\ud544\\uae30\\ub178\\ud2b8\\u2019 \\uc655\\ubcf5\\uc73c\\ub85c \\ud559\\uc2b5 \\ud6a8\\uc728\\uc774 \\ub098\\uc9c0 \\uc54a\\uc544 \\uace0\\ubbfc\\uc778 \\uacbd\\uc6b0\\ub3c4 \\ub9ce\\uc73c\\uc2e4 \\uac70\\uc608\\uc694. <Lexi Note>\\ub294 \\ub2e8\\uc5b4\\ub97c \\ub4dc\\ub798\\uadf8\\ud558\\uba74 \\ub124\\uc774\\ubc84 \\uc0ac\\uc804\\uc73c\\ub85c \\ubc14\\ub85c \\uc5f0\\ub3d9 \\ub3fc \\ub2e8\\uc5b4\\uc758 \\uc758\\ubbf8\\ub97c \\ucc3e\\uc73c\\uba70 \\ub3d9\\uc2dc\\uc5d0 \\ud544\\uae30 \\ud560 \\uc218 \\uc788\\uc5b4\\uc694. \\uc774\\uc678\\uc5d0\\ub3c4 \\ubc88\\uc5ed \\ubc84\\ud2bc\\uc744 \\ub204\\ub974\\uba74 \\ud30c\\ud30c\\uace0 \\ubc88\\uc5ed\\uae30\\uac00 \\uc5f0\\ub3d9\\ub3fc \\uae34 \\ubb38\\uc7a5\\ub3c4 \\uc27d\\uac8c \\uc774\\ud574\\ud560 \\uc218 \\uc788\\uc5b4\\uc694. \\uc5b8\\uc5b4 \\ud559\\uc2b5\\uc5d0 \\ud544\\uc694\\ud55c \\ud560\\uc77c \\ubaa9\\ub85d\\uacfc \\uc2a4\\ucf00\\uc904 \\ud15c\\ud50c\\ub9bf\\uc744 \\uc81c\\uacf5\\ud558\\uc5ec \\ud6a8\\uc728\\uc801\\uc73c\\ub85c \\uacf5\\ubd80\\ud560 \\uc218 \\uc788\\uc2b5\\ub2c8\\ub2e4. \\ud544\\uae30, \\uc0ac\\uc804, \\ubc88\\uc5ed\\uc744 \\ud55c\\ubc88\\uc5d0 \\uc27d\\uace0 \\ud3b8\\ud558\\uac8c \\uc774\\uc6a9\\ud560 \\uc218 \\uc788\\uc8e0. \\ub354 \\uc774\\uc0c1 \\uc2dc\\uac04 \\ub0ad\\ube44 \\uc5c6\\uc774 \\ud6a8\\uc728\\uc801\\uc73c\\ub85c \\uc5b4\\ubb38\\ud559\\uc744 \\uacf5\\ubd80\\ud558\\uba70 \\ud559\\uc2b5 \\uc18d\\ub3c4\\ub3c4 \\ub208\\uc5d0 \\ub744\\uac8c \\ube68\\ub77c\\uc9c8 \\uc218 \\uc788\\uc5b4\\uc694. \\uc5b8\\uc5b4 \\uacf5\\ubd80\\uc758 \\ubcf5\\uc7a1\\ud568\\uc744 \\ub2e8\\uc21c\\ud558\\uac8c \\ub9cc\\ub4e4\\uc5b4\\uc8fc\\ub294 Lexi Note\\uac00 \\uc694\\uae34\\ud55c \\ud559\\uc2b5 \\ub3c4\\uc6b0\\ubbf8\\uac00 \\ub418\\uc5c8\\uae30 \\ub54c\\ubb38\\uc785\\ub2c8\\ub2e4.\\n\\uc0ac\\uc6a9\\ud55c \\uae30\\uc220 \\uc2a4\\ud0dd\",\n          \"\\uc0ac\\uc6a9\\ud55c \\uae30\\uc220 \\uc2a4\\ud0dd \\n-FE(\\ud504\\ub860\\ud2b8\\uc5d4\\ub4dc): React, Tesseract.js, React-Quill, HTML, CSS, JavaScript\\n-BE(\\ubc31\\uc5d4\\ub4dc): Java, Spring Boot, MariaDB\\n\\ud83c\\udf96\\ufe0f\\u00a0\\uc6b0\\uc218\\uc0c1\\n[\\uc6b0\\ub9ac\\uc9d1 \\ud788\\uc5b4\\ub85c\\uc988] \\ubc8c\\ub808 \\ud1f4\\uce58 \\uc601\\uc6c5 \\ub9e4\\uce6d \\uc11c\\ube44\\uc2a4\\n\\uc11c\\ube44\\uc2a4 \\uc81c\\uc791\\uc790: \\uc778\\ud2b8(\\ubc30\\uc815\\uc5f0, \\ud55c\\uc9c0\\uc218)\\n\\ud83d\\udca1C\\ub294 \\uc774\\ubc88 \\ud559\\uae30 \\ucc98\\uc74c\\uc73c\\ub85c \\uc790\\ucde8\\ub97c \\uc2dc\\uc791\\ud588\\uc2b5\\ub2c8\\ub2e4. \\uc6d0\\ub798\\ubd80\\ud130 \\uc791\\uc740 \\ubc8c\\ub808\\uc5d0 \\ubbfc\\uac10\\ud588\\ub358 C. \\uc790\\ucde8\\ubc29\\uc5d0\\uc11c \\uc790\\uc8fc \\ub098\\ud0c0\\ub098\\ub294 \\ubc8c\\ub808\\ub4e4 \\ub54c\\ubb38\\uc5d0 \\ubc24\\uc7a0\\uc744 \\uc124\\uce58\\uae38 \\ubc18\\ubcf5\\ud588\\uc2b5\\ub2c8\\ub2e4. \\ubc24\\ub9c8\\ub2e4 \\ubc8c\\ub808\\ub97c \\uc7a1\\uc73c\\ub824\\uace0 \\uc560\\uc4f0\\ub358 C\\ub294 \\ucee4\\ubba4\\ub2c8\\ud2f0\\ub97c \\ud1b5\\ud574 \\ub2e4\\ub978 \\ud559\\uc0dd\\ub4e4\\ub3c4 \\uac19\\uc740 \\ubb38\\uc81c\\ub97c \\uacaa\\uace0 \\uc788\\ub2e4\\ub294 \\uac83\\uc744 \\uc54c\\uac8c \\ub418\\uc5c8\\uc2b5\\ub2c8\\ub2e4. \\ud558\\uc9c0\\ub9cc \\ucee4\\ubba4\\ub2c8\\ud2f0\\uc5d0\\uc11c \\ubc8c\\ub808 \\ud1f4\\uce58 \\ud788\\uc5b4\\ub85c\\ub97c \\ucc3e\\uae30 \\uc704\\ud574\\uc11c\\ub294 \\ub0b4 \\uac1c\\uc778 \\uc815\\ubcf4\\ub97c \\ub178\\ucd9c\\ud574\\uc57c \\ud55c\\ub2e4\\ub294 \\uc810\\uc774 \\ucc1d\\ucc1d\\ud588\\uc8e0.\\n\\uc774 \\ubb38\\uc81c\\ub97c \\ud574\\uacb0\\ud560 \\uc218 \\uc788\\ub294 \\ubc29\\ubc95\\uc774 \\ubc14\\ub85c <\\uc6b0\\ub9ac\\uc9d1 \\ud788\\uc5b4\\ub85c\\uc988> \\uc11c\\ube44\\uc2a4\\uc785\\ub2c8\\ub2e4. \\ub300\\ud559\\uc0dd \\uc790\\ucde8\\uc0dd\\ub4e4\\uc774 \\uc790\\ucde8\\ubc29\\uc5d0\\uc11c \\uacaa\\ub294 \\ubc8c\\ub808 \\ubb38\\uc81c\\ub97c \\ud574\\uacb0\\ud558\\uae30 \\uc704\\ud574 \\uac1c\\ubc1c\\ub41c \\uc571\\uc774\\uc8e0. \\ubc8c\\ub808 \\ud1f4\\uce58\\uac00 \\ud544\\uc694\\ud55c \\uc0ac\\uc6a9\\uc790\\uac00 \\uc571\\uc5d0 \\uc694\\uccad\\uc744 \\uc62c\\ub9ac\\uba74 \\ubc8c\\ub808 \\ud1f4\\uce58 \\ud788\\uc5b4\\ub85c \\ud559\\uc6b0\\uc640 \\ub9e4\\uce6d\\ub429\\ub2c8\\ub2e4. \\uc0ac\\uc6a9\\uc790 \\uc2e0\\uc6d0\\uc740 \\uac19\\uc740 \\ud559\\uad50 \\ud559\\uc0dd\\uc73c\\ub85c, \\uc2e0\\uc6d0\\uc774 \\ubcf4\\uc7a5\\ub41c \\uc548\\uc804\\ud55c \\ud658\\uacbd\\uc5d0\\uc11c \\uc774\\ub904\\uc9c0\\uace0 \\ubc8c\\ub808\\ub97c \\ud1f4\\uce58\\ud574\\uc8fc\\ub294 \\ud788\\uc5b4\\ub85c\\ub294 \\ucd94\\uac00 \\uc218\\uc785\\uc744 \\uc5bb\\uc744 \\uc218 \\uc788\\ub294 \\uae30\\ud68c\\ub97c \\uac00\\uc9d1\\ub2c8\\ub2e4. \\uc2e4\\uc2dc\\uac04 \\uc54c\\ub9bc \\uae30\\ub2a5\\uc744 \\ud1b5\\ud574 \\ub9e4\\uce6d\\uc774 \\uc774\\ub904\\uc9c0\\uba74 \\uc989\\uc2dc \\uc54c\\ub9bc\\uc744 \\ubc1b\\uc744 \\uc218 \\uc788\\uc5b4 \\ube60\\ub974\\uac8c \\ubb38\\uc81c\\ub97c \\ud574\\uacb0\\ud560 \\uc218 \\uc788\\uc2b5\\ub2c8\\ub2e4. \\ubc8c\\ub808\\ub97c \\ud1f4\\uce58\\ud55c \\ud6c4 \\uc0ac\\uc6a9\\uc790\\ub294 \\uc11c\\ub85c\\ub97c \\ud3c9\\uac00\\ud560 \\uc218 \\uc788\\uc5b4\\uc694. \\ub354 \\ub098\\uc740 \\uc11c\\ube44\\uc2a4\\ub97c \\uc81c\\uacf5\\ud558\\uac70\\ub098 \\ubc1b\\uc744 \\uc218 \\uc788\\uc2b5\\ub2c8\\ub2e4.\\n\\uc0ac\\uc6a9\\ud55c \\uae30\\uc220 \\uc2a4\\ud0dd \\n-FE(\\ud504\\ub860\\ud2b8\\uc5d4\\ub4dc): React Native, Expo, Axios\\n-BE(\\ubc31\\uc5d4\\ub4dc): Spring Boot, Spring Security, MySQL, SSE, FCM, JWT, Postman\\n\\ud83c\\udf96\\ufe0f\\u00a0\\uc6b0\\uc218\\uc0c1\\n[\\uc5d0\\ucf54 \\ud074\\ub798\\uc2a4\\ub8f8] \\uc218\\uc5c5 \\uc2e4\\uc2dc\\uac04 \\uc18c\\ud1b5 \\uc11c\\ube44\\uc2a4\\n\\uc11c\\ube44\\uc2a4 \\uc81c\\uc791\\uc790: This is \\uc2a4\\ud30c\\uac8c\\ud2f0!!!(\\ubc15\\uc9c0\\uc131, \\uae40\\uc11c\\uc6d0, \\ubc15\\ubc94\\uc218)\",\n          \"\\uc0ac\\uc6a9\\ud55c \\uae30\\uc220 \\uc2a4\\ud0dd \\n-FE(\\ud504\\ub860\\ud2b8\\uc5d4\\ub4dc): Flutter\\n-BE(\\ubc31\\uc5d4\\ub4dc): Firebase\\n\\ud83c\\udfc5\\u00a0\\uc785\\uc120\\n[BLOTIE] \\uad50\\ub0b4 \\uc678\\uad6d\\uc778X\\ub0b4\\uad6d\\uc778 \\ub9e4\\uce6d \\ubc0f \\uad50\\ub958 \\ud50c\\ub7ab\\ud3fc\\n\\uc11c\\ube44\\uc2a4 \\uc81c\\uc791\\uc790: \\ube14\\ub85c\\ud2f0(\\uc774\\uc740\\uc8fc, \\ud55c\\uba85\\uc218, \\ud669\\uc900\\uc601)\\n\\ud83d\\udca1F\\ub294 T\\ub300\\ud559\\uc5d0 \\uad50\\ud658\\ud559\\uc0dd\\uc73c\\ub85c \\uc628 \\uc678\\uad6d\\uc778\\uc785\\ub2c8\\ub2e4. K\\ud31d \\ubb38\\ud654\\uac00 \\uc88b\\uc544 \\ud55c\\uad6d\\uc5d0 \\uc654\\uc9c0\\ub9cc, \\ub9d0\\ub3c4 \\uc798 \\ud1b5\\ud558\\uc9c0 \\uc54a\\uace0 \\ubb38\\ud654 \\ucc28\\uc774\\ub3c4 \\uc788\\uc5b4\\uc11c \\ud55c\\uad6d \\ucea0\\ud37c\\uc2a4 \\uc0dd\\ud65c\\uc774 \\uc27d\\uc9c0\\ub9cc\\uc740 \\uc54a\\uc740\\ub370\\uc694. \\ud55c\\uad6d\\uc5b4\\ub85c \\uc218\\uc5c5\\uc744 \\ub4e3\\uace0 \\ud55c\\uad6d \\uce5c\\uad6c\\ub3c4 \\uc0ac\\uadc0\\uace0 \\uc2f6\\uc9c0\\ub9cc \\ud55c\\uad6d \\ub300\\ud559\\uc758 \\ud559\\uc0ac \\uc77c\\uc815\\uacfc \\uacfc\\uc81c \\ub4f1 \\uc5ec\\ub7ec \\uc2dc\\uc2a4\\ud15c\\uc774 \\ub2ec\\ub77c\\uc11c \\uc801\\uc751\\ud558\\uae30 \\uc5b4\\ub824\\uc6e0\\uc2b5\\ub2c8\\ub2e4. \\ud55c\\uad6d\\uc5b4\\uac00 \\uc11c\\ud234\\ub2e4\\ubcf4\\ub2c8 \\uc218\\uc5c5\\uc5d0\\uc11c \\uc81c\\uacf5\\ub418\\ub294 \\ub2e4\\uc591\\ud55c \\uc815\\ubcf4\\ub97c \\uc774\\ud574\\ud558\\uae30 \\uc5b4\\ub824\\uc6e0\\uace0, \\uc911\\uc694\\ud55c \\uacf5\\uc9c0\\uc0ac\\ud56d\\uc744 \\ub193\\uce58\\uae30\\ub3c4 \\ud588\\uc2b5\\ub2c8\\ub2e4. \\ud55c\\uad6d\\uc778 \\uce5c\\uad6c\\ub97c \\uba3c\\uc800 \\uc0ac\\uadc0\\ub294 \\uac83\\uc774 \\uae09\\uc120\\ubb34\\ub77c\\uace0 \\uc0dd\\uac01\\ud588\\uc8e0.\\n<BLOTIE>\\ub294 \\uc678\\uad6d\\uc778 \\ud559\\uc0dd\\uc774 \\uac00\\uc9c4 \\uc774\\ub7f0 \\ubb38\\uc81c\\ub97c \\ud574\\uacb0\\ud558\\uace0, \\ubcf4\\ub2e4 \\uce5c\\ubc00\\ud558\\uace0 \\uc790\\uc720\\ub85c\\uc6b4 \\uae00\\ub85c\\ubc8c \\ucea0\\ud37c\\uc2a4 \\ubb38\\ud654\\ub97c \\uc870\\uc131\\ud558\\uae30 \\uc704\\ud574 \\ub9cc\\ub4e4\\uc5b4\\uc9c4 \\ud50c\\ub7ab\\ud3fc\\uc785\\ub2c8\\ub2e4. \\u20181:1 \\ub9e4\\uce6d \\uae30\\ub2a5\\u2019\\uc73c\\ub85c \\uad50\\ub0b4 \\uc678\\uad6d\\uc778 \\ud559\\uc0dd\\uacfc \\ud55c\\uad6d\\uc778 \\ud559\\uc0dd\\uc744 \\uc27d\\uac8c \\uc5f0\\uacb0\\ud560 \\uc218 \\uc788\\uc5b4\\uc694. \\uc11c\\ub85c\\uc758 \\ubb38\\ud654\\uc640 \\uc5b8\\uc5b4\\ub97c \\uc790\\uc5f0\\uc2a4\\ub7fd\\uac8c \\ubc30\\uc6b0\\uace0 \\uad50\\ub958\\ud560 \\uc218 \\uc788\\uc2b5\\ub2c8\\ub2e4. \\uad00\\uc2ec\\uc0ac, \\uc5b8\\uc5b4 \\ub2a5\\ub825, \\uc131\\uaca9 \\ub4f1\\uc744 \\uae30\\ubc18\\uc73c\\ub85c \\uc774\\ub904\\uc9c0\\uae30 \\ub54c\\ubb38\\uc5d0 \\uc77c\\ud68c\\uc131 \\ub9e4\\uce6d\\uc5d0 \\ub300\\ud55c \\uac71\\uc815\\ub3c4 \\uc904\\uc5b4\\ub4e4\\uc5b4\\uc694. \\ub9e4\\uce6d\\ub41c \\ud559\\uc0dd\\ub4e4\\uc740 \\ud50c\\ub7ab\\ud3fc \\ub0b4\\uc5d0\\uc11c \\u2018\\uc2e4\\uc2dc\\uac04 \\ucc44\\ud305\\uacfc \\ud53c\\ub4dc \\uae30\\ub2a5\\u2019\\uc73c\\ub85c \\uc790\\uc720\\ub86d\\uac8c \\uc18c\\ud1b5\\ud560 \\uc218 \\uc788\\uace0, \\ub2e4\\uc591\\ud55c \\uc8fc\\uc81c\\ub85c \\ub9cc\\ub0a8\\uc744 \\uc774\\uc5b4\\uac08 \\uc218 \\uc788\\uc2b5\\ub2c8\\ub2e4.\\n\\uc678\\uad6d\\uc778\\uc740 \\ud55c\\uad6d\\uc5b4 \\uc2e4\\ub825\\uc744 \\ud5a5\\uc0c1\\ud560 \\uc218 \\uc788\\uace0 \\ud55c\\uad6d\\uc778\\uc740 \\uc678\\uad6d\\uc5b4\\ub97c \\uc2e4\\uc0dd\\ud65c\\uc5d0\\uc11c \\uc5f0\\uc2b5\\ud560 \\uae30\\ud68c\\ub97c \\uc5bb\\uc744 \\uc218 \\uc788\\uc5b4\\uc694. BLOTIE\\ub97c \\ud1b5\\ud574 \\ucea0\\ud37c\\uc2a4 \\ub0b4\\uc5d0 \\ubcf4\\ub2e4 \\ub2e4\\uc591\\ud55c \\ubb38\\ud654\\uac00 \\uacf5\\uc874\\ud558\\uace0, \\ud559\\uc0dd\\ub4e4 \\uac04\\uc758 \\uc720\\ub300\\uac10\\uc774 \\uac15\\ud654\\ub418\\uace0, \\uc11c\\ub85c \\ub2e4\\ub978 \\ubc30\\uacbd\\uc744 \\uac00\\uc9c4 \\ud559\\uc0dd\\ub4e4\\uc774 \\ud568\\uaed8 \\uc131\\uc7a5\\ud560 \\uc218 \\uc788\\ub294 \\ud658\\uacbd\\uc774 \\uc870\\uc131\\ub429\\ub2c8\\ub2e4. \\uae00\\ub85c\\ubc8c \\uc0ac\\ud68c\\uc5d0\\uc11c \\uc911\\uc694\\ud55c \\uc18c\\ud1b5 \\ub2a5\\ub825\\uc744 \\uae30\\ub97c \\uc218 \\uc788\\ub294 \\ubb38\\ud654\\uc758 \\uc7a5\\uc73c\\ub85c \\uc4f0\\uc77c \\uc218 \\uc788\\uaca0\\uc8e0!\\n\\uc0ac\\uc6a9\\ud55c \\uae30\\uc220 \\uc2a4\\ud0dd\\n-FE(\\ud504\\ub860\\ud2b8\\uc5d4\\ub4dc): Spring Boot, MySQL, Spring WebSocket\\n-BE(\\ubc31\\uc5d4\\ub4dc): React Native, TanStack Query, Axios\"\n        ],\n        \"semantic_type\": \"\",\n        \"description\": \"\"\n      }\n    },\n    {\n      \"column\": \"length\",\n      \"properties\": {\n        \"dtype\": \"number\",\n        \"std\": 160,\n        \"min\": 545,\n        \"max\": 999,\n        \"num_unique_values\": 7,\n        \"samples\": [\n          999,\n          896,\n          956\n        ],\n        \"semantic_type\": \"\",\n        \"description\": \"\"\n      }\n    },\n    {\n      \"column\": \"source\",\n      \"properties\": {\n        \"dtype\": \"category\",\n        \"num_unique_values\": 1,\n        \"samples\": [\n          \"https://spartacodingclub.kr/blog/all-in-challenge_winner\"\n        ],\n        \"semantic_type\": \"\",\n        \"description\": \"\"\n      }\n    }\n  ]\n}"
            }
          },
          "metadata": {},
          "execution_count": 10
        }
      ]
    },
    {
      "cell_type": "code",
      "source": [
        "print(d_df.loc[3, \"content\"])"
      ],
      "metadata": {
        "id": "CGidGFXNyW6B",
        "outputId": "57366f55-0925-4c5e-8f50-40b29163c24e",
        "colab": {
          "base_uri": "https://localhost:8080/"
        }
      },
      "execution_count": 11,
      "outputs": [
        {
          "output_type": "stream",
          "name": "stdout",
          "text": [
            "사용한 기술 스택 \n",
            "-FE(프론트엔드): Flutter, Socket.IO, Expo CLI, Axios, TanStack Query\n",
            "-BE(백엔드): Spring Boot, Spring Security, JWT, MySQL, Spring WebSocket, AWS\n",
            "🏅 입선\n",
            "[Crewing] 연합동아리 정보 플랫폼\n",
            "서비스 제작자: 동학대학운동(김민아, 임경진, 신은혜, 고수)\n",
            "💡신입생인 S는 대학 생활을 알차게 보내고 싶어서 연합 동아리에 가입하려고 했지만 어떤 동아리가 자신에게 맞을지 고민이 많았습니다. 인터넷에 검색해보니 연합 동아리 후기는 대부분 여기저기 흩어져 있고, 신뢰할 만한 정보를 찾기 어려웠습니다.\n",
            "<Crewing>은 대학생들이 다양한 연합 동아리에 쉽게 가입하고, 적절한 동아리를 찾을 수 있도록 지원해주는 아카이빙 플랫폼입니다. 회원가입 시 생년, 성별, 관심 분야를 입력하자 딱 맞는 동아리를 추천해주죠. 플랫폼 내에서 동아리의 리크루팅 과정인 서류 전형, 인터뷰 일정, 최종 결과 발표 등을 한 번에 해결할 수 있어요. 실제 동아리에 가입한 사람들의 솔직한 후기를 제공해주기 때문에 보다 정확한 정보를 얻을 수 있어요. Crewing은 신뢰할 수 있는 정보와 솔직한 후기를 제공해주기 때문에 효율적으로 내게 꼭 맞는 동아리를 선택할 수 있습니다.\n",
            "사용한 기술 스택 \n",
            "-FE(프론트엔드): Spring Boot, Redis, MySQL\n",
            "-BE(백엔드): SwiftUI Framework, OAuth 2.0\n",
            "🏅 입선\n",
            "[학교생활 매니저] 학교생활 관리 서비스\n",
            "서비스 제작자: 아이칼F4(조민제, 이민기, 강건, 박근우)\n",
            "💡A는 올해 복학한 3학년 학생입니다. 강의실과 도서관을 오가며 바쁜 일정을 소화하느라 정신이 없지만, 수업마다 나오는 과제와 각종 활동, 시험 준비까지 겹치면서 혼란에 빠지기 일쑤였습니다. 복학생이다 보니 학교에서 전달되는 공지사항도 제대로 전달받지 못해 항상 중요한 정보를 놓칠까 봐 걱정이었죠.\n"
          ]
        }
      ]
    },
    {
      "cell_type": "markdown",
      "source": [
        "데이터를 확인해보면 프로젝트별로 나뉜게 아니라 정말 text 길이에 따라 split된 걸 볼 수 있었다. RecursiveCharacterTextSplitter을 선언하기는 했지만, 실제 사용은 CharacterTextSplitter랑 동일하게 사용하고 있다.\n",
        "\n",
        "따라서 우선순위를 주어서 내용별로 나눌 수 있도록 개선했다."
      ],
      "metadata": {
        "id": "XwWODmRxygPz"
      }
    },
    {
      "cell_type": "markdown",
      "source": [
        "#### chunk split 개선\n",
        "프로젝트 별로 앞에 이모티콘 \"🏆\",\"🎖️\",\"🏅\" 이 보이고 있다. 따라서 문단보다 해당 이모티콘으로 chunk를 나누도록 우선순위를 설정해주었다."
      ],
      "metadata": {
        "id": "jJFTgYXVz-DO"
      }
    },
    {
      "cell_type": "code",
      "source": [
        "new_text_splitter = RecursiveCharacterTextSplitter(\n",
        "    chunk_size=1000,\n",
        "    chunk_overlap=200,\n",
        "    separators=[\"🏆\",\"🎖️\",\"🏅\",\"\\n\\n\", \"\\n\", \".\", \" \", \"\"]\n",
        ")\n",
        "new_splits = new_text_splitter.split_documents(docs)\n",
        "print(f\"chunk 개수 : {len(new_splits)}\")"
      ],
      "metadata": {
        "id": "RJJhCMrEyywa",
        "outputId": "bd9aeb23-1195-4e71-abac-c01485b459b6",
        "colab": {
          "base_uri": "https://localhost:8080/"
        }
      },
      "execution_count": 12,
      "outputs": [
        {
          "output_type": "stream",
          "name": "stdout",
          "text": [
            "chunk 개수 : 8\n"
          ]
        }
      ]
    },
    {
      "cell_type": "code",
      "source": [
        "import pandas as pd\n",
        "\n",
        "df = pd.DataFrame([{\n",
        "    \"chunk_id\": i,\n",
        "    \"content\": chunk.page_content,\n",
        "    \"length\": len(chunk.page_content),\n",
        "    \"source\": chunk.metadata.get(\"source\", \"\")\n",
        "} for i, chunk in enumerate(new_splits)])\n",
        "\n",
        "df"
      ],
      "metadata": {
        "id": "UME8Hscwzalw",
        "outputId": "2c4b1e7e-b05e-4fc2-c19e-09bedc57d92e",
        "colab": {
          "base_uri": "https://localhost:8080/",
          "height": 456
        }
      },
      "execution_count": 13,
      "outputs": [
        {
          "output_type": "execute_result",
          "data": {
            "text/plain": [
              "   chunk_id                                            content  length  \\\n",
              "0         0  코딩은 더 이상 개발자만의 영역이 아닙니다. 누구나 아이디어만 있다면 창의적인 서비...     309   \n",
              "1         1  🏆 대상\\n[Lexi Note] 언어공부 필기 웹 서비스\\n서비스 제작자: 다나와(...     795   \n",
              "2         2  🎖️ 우수상\\n[우리집 히어로즈] 벌레 퇴치 영웅 매칭 서비스\\n서비스 제작자: 인...     709   \n",
              "3         3  🎖️ 우수상\\n[에코 클래스룸] 수업 실시간 소통 서비스\\n서비스 제작자: This...     863   \n",
              "4         4  🏅 입선\\n[Crewing] 연합동아리 정보 플랫폼\\n서비스 제작자: 동학대학운동(...     596   \n",
              "5         5  🏅 입선\\n[학교생활 매니저] 학교생활 관리 서비스\\n서비스 제작자: 아이칼F4(조...     837   \n",
              "6         6  🏅 입선\\n[BLOTIE] 교내 외국인X내국인 매칭 및 교류 플랫폼\\n서비스 제작자...     906   \n",
              "7         7  사용한 기술 스택\\n-FE(프론트엔드): Spring Boot, MySQL, Spr...     545   \n",
              "\n",
              "                                              source  \n",
              "0  https://spartacodingclub.kr/blog/all-in-challe...  \n",
              "1  https://spartacodingclub.kr/blog/all-in-challe...  \n",
              "2  https://spartacodingclub.kr/blog/all-in-challe...  \n",
              "3  https://spartacodingclub.kr/blog/all-in-challe...  \n",
              "4  https://spartacodingclub.kr/blog/all-in-challe...  \n",
              "5  https://spartacodingclub.kr/blog/all-in-challe...  \n",
              "6  https://spartacodingclub.kr/blog/all-in-challe...  \n",
              "7  https://spartacodingclub.kr/blog/all-in-challe...  "
            ],
            "text/html": [
              "\n",
              "  <div id=\"df-a44b4aaa-c848-4065-8b4a-c69eb2ca3eba\" class=\"colab-df-container\">\n",
              "    <div>\n",
              "<style scoped>\n",
              "    .dataframe tbody tr th:only-of-type {\n",
              "        vertical-align: middle;\n",
              "    }\n",
              "\n",
              "    .dataframe tbody tr th {\n",
              "        vertical-align: top;\n",
              "    }\n",
              "\n",
              "    .dataframe thead th {\n",
              "        text-align: right;\n",
              "    }\n",
              "</style>\n",
              "<table border=\"1\" class=\"dataframe\">\n",
              "  <thead>\n",
              "    <tr style=\"text-align: right;\">\n",
              "      <th></th>\n",
              "      <th>chunk_id</th>\n",
              "      <th>content</th>\n",
              "      <th>length</th>\n",
              "      <th>source</th>\n",
              "    </tr>\n",
              "  </thead>\n",
              "  <tbody>\n",
              "    <tr>\n",
              "      <th>0</th>\n",
              "      <td>0</td>\n",
              "      <td>코딩은 더 이상 개발자만의 영역이 아닙니다. 누구나 아이디어만 있다면 창의적인 서비...</td>\n",
              "      <td>309</td>\n",
              "      <td>https://spartacodingclub.kr/blog/all-in-challe...</td>\n",
              "    </tr>\n",
              "    <tr>\n",
              "      <th>1</th>\n",
              "      <td>1</td>\n",
              "      <td>🏆 대상\\n[Lexi Note] 언어공부 필기 웹 서비스\\n서비스 제작자: 다나와(...</td>\n",
              "      <td>795</td>\n",
              "      <td>https://spartacodingclub.kr/blog/all-in-challe...</td>\n",
              "    </tr>\n",
              "    <tr>\n",
              "      <th>2</th>\n",
              "      <td>2</td>\n",
              "      <td>🎖️ 우수상\\n[우리집 히어로즈] 벌레 퇴치 영웅 매칭 서비스\\n서비스 제작자: 인...</td>\n",
              "      <td>709</td>\n",
              "      <td>https://spartacodingclub.kr/blog/all-in-challe...</td>\n",
              "    </tr>\n",
              "    <tr>\n",
              "      <th>3</th>\n",
              "      <td>3</td>\n",
              "      <td>🎖️ 우수상\\n[에코 클래스룸] 수업 실시간 소통 서비스\\n서비스 제작자: This...</td>\n",
              "      <td>863</td>\n",
              "      <td>https://spartacodingclub.kr/blog/all-in-challe...</td>\n",
              "    </tr>\n",
              "    <tr>\n",
              "      <th>4</th>\n",
              "      <td>4</td>\n",
              "      <td>🏅 입선\\n[Crewing] 연합동아리 정보 플랫폼\\n서비스 제작자: 동학대학운동(...</td>\n",
              "      <td>596</td>\n",
              "      <td>https://spartacodingclub.kr/blog/all-in-challe...</td>\n",
              "    </tr>\n",
              "    <tr>\n",
              "      <th>5</th>\n",
              "      <td>5</td>\n",
              "      <td>🏅 입선\\n[학교생활 매니저] 학교생활 관리 서비스\\n서비스 제작자: 아이칼F4(조...</td>\n",
              "      <td>837</td>\n",
              "      <td>https://spartacodingclub.kr/blog/all-in-challe...</td>\n",
              "    </tr>\n",
              "    <tr>\n",
              "      <th>6</th>\n",
              "      <td>6</td>\n",
              "      <td>🏅 입선\\n[BLOTIE] 교내 외국인X내국인 매칭 및 교류 플랫폼\\n서비스 제작자...</td>\n",
              "      <td>906</td>\n",
              "      <td>https://spartacodingclub.kr/blog/all-in-challe...</td>\n",
              "    </tr>\n",
              "    <tr>\n",
              "      <th>7</th>\n",
              "      <td>7</td>\n",
              "      <td>사용한 기술 스택\\n-FE(프론트엔드): Spring Boot, MySQL, Spr...</td>\n",
              "      <td>545</td>\n",
              "      <td>https://spartacodingclub.kr/blog/all-in-challe...</td>\n",
              "    </tr>\n",
              "  </tbody>\n",
              "</table>\n",
              "</div>\n",
              "    <div class=\"colab-df-buttons\">\n",
              "\n",
              "  <div class=\"colab-df-container\">\n",
              "    <button class=\"colab-df-convert\" onclick=\"convertToInteractive('df-a44b4aaa-c848-4065-8b4a-c69eb2ca3eba')\"\n",
              "            title=\"Convert this dataframe to an interactive table.\"\n",
              "            style=\"display:none;\">\n",
              "\n",
              "  <svg xmlns=\"http://www.w3.org/2000/svg\" height=\"24px\" viewBox=\"0 -960 960 960\">\n",
              "    <path d=\"M120-120v-720h720v720H120Zm60-500h600v-160H180v160Zm220 220h160v-160H400v160Zm0 220h160v-160H400v160ZM180-400h160v-160H180v160Zm440 0h160v-160H620v160ZM180-180h160v-160H180v160Zm440 0h160v-160H620v160Z\"/>\n",
              "  </svg>\n",
              "    </button>\n",
              "\n",
              "  <style>\n",
              "    .colab-df-container {\n",
              "      display:flex;\n",
              "      gap: 12px;\n",
              "    }\n",
              "\n",
              "    .colab-df-convert {\n",
              "      background-color: #E8F0FE;\n",
              "      border: none;\n",
              "      border-radius: 50%;\n",
              "      cursor: pointer;\n",
              "      display: none;\n",
              "      fill: #1967D2;\n",
              "      height: 32px;\n",
              "      padding: 0 0 0 0;\n",
              "      width: 32px;\n",
              "    }\n",
              "\n",
              "    .colab-df-convert:hover {\n",
              "      background-color: #E2EBFA;\n",
              "      box-shadow: 0px 1px 2px rgba(60, 64, 67, 0.3), 0px 1px 3px 1px rgba(60, 64, 67, 0.15);\n",
              "      fill: #174EA6;\n",
              "    }\n",
              "\n",
              "    .colab-df-buttons div {\n",
              "      margin-bottom: 4px;\n",
              "    }\n",
              "\n",
              "    [theme=dark] .colab-df-convert {\n",
              "      background-color: #3B4455;\n",
              "      fill: #D2E3FC;\n",
              "    }\n",
              "\n",
              "    [theme=dark] .colab-df-convert:hover {\n",
              "      background-color: #434B5C;\n",
              "      box-shadow: 0px 1px 3px 1px rgba(0, 0, 0, 0.15);\n",
              "      filter: drop-shadow(0px 1px 2px rgba(0, 0, 0, 0.3));\n",
              "      fill: #FFFFFF;\n",
              "    }\n",
              "  </style>\n",
              "\n",
              "    <script>\n",
              "      const buttonEl =\n",
              "        document.querySelector('#df-a44b4aaa-c848-4065-8b4a-c69eb2ca3eba button.colab-df-convert');\n",
              "      buttonEl.style.display =\n",
              "        google.colab.kernel.accessAllowed ? 'block' : 'none';\n",
              "\n",
              "      async function convertToInteractive(key) {\n",
              "        const element = document.querySelector('#df-a44b4aaa-c848-4065-8b4a-c69eb2ca3eba');\n",
              "        const dataTable =\n",
              "          await google.colab.kernel.invokeFunction('convertToInteractive',\n",
              "                                                    [key], {});\n",
              "        if (!dataTable) return;\n",
              "\n",
              "        const docLinkHtml = 'Like what you see? Visit the ' +\n",
              "          '<a target=\"_blank\" href=https://colab.research.google.com/notebooks/data_table.ipynb>data table notebook</a>'\n",
              "          + ' to learn more about interactive tables.';\n",
              "        element.innerHTML = '';\n",
              "        dataTable['output_type'] = 'display_data';\n",
              "        await google.colab.output.renderOutput(dataTable, element);\n",
              "        const docLink = document.createElement('div');\n",
              "        docLink.innerHTML = docLinkHtml;\n",
              "        element.appendChild(docLink);\n",
              "      }\n",
              "    </script>\n",
              "  </div>\n",
              "\n",
              "\n",
              "<div id=\"df-15747ebf-b6e7-41d3-8843-9fec87b1d9c6\">\n",
              "  <button class=\"colab-df-quickchart\" onclick=\"quickchart('df-15747ebf-b6e7-41d3-8843-9fec87b1d9c6')\"\n",
              "            title=\"Suggest charts\"\n",
              "            style=\"display:none;\">\n",
              "\n",
              "<svg xmlns=\"http://www.w3.org/2000/svg\" height=\"24px\"viewBox=\"0 0 24 24\"\n",
              "     width=\"24px\">\n",
              "    <g>\n",
              "        <path d=\"M19 3H5c-1.1 0-2 .9-2 2v14c0 1.1.9 2 2 2h14c1.1 0 2-.9 2-2V5c0-1.1-.9-2-2-2zM9 17H7v-7h2v7zm4 0h-2V7h2v10zm4 0h-2v-4h2v4z\"/>\n",
              "    </g>\n",
              "</svg>\n",
              "  </button>\n",
              "\n",
              "<style>\n",
              "  .colab-df-quickchart {\n",
              "      --bg-color: #E8F0FE;\n",
              "      --fill-color: #1967D2;\n",
              "      --hover-bg-color: #E2EBFA;\n",
              "      --hover-fill-color: #174EA6;\n",
              "      --disabled-fill-color: #AAA;\n",
              "      --disabled-bg-color: #DDD;\n",
              "  }\n",
              "\n",
              "  [theme=dark] .colab-df-quickchart {\n",
              "      --bg-color: #3B4455;\n",
              "      --fill-color: #D2E3FC;\n",
              "      --hover-bg-color: #434B5C;\n",
              "      --hover-fill-color: #FFFFFF;\n",
              "      --disabled-bg-color: #3B4455;\n",
              "      --disabled-fill-color: #666;\n",
              "  }\n",
              "\n",
              "  .colab-df-quickchart {\n",
              "    background-color: var(--bg-color);\n",
              "    border: none;\n",
              "    border-radius: 50%;\n",
              "    cursor: pointer;\n",
              "    display: none;\n",
              "    fill: var(--fill-color);\n",
              "    height: 32px;\n",
              "    padding: 0;\n",
              "    width: 32px;\n",
              "  }\n",
              "\n",
              "  .colab-df-quickchart:hover {\n",
              "    background-color: var(--hover-bg-color);\n",
              "    box-shadow: 0 1px 2px rgba(60, 64, 67, 0.3), 0 1px 3px 1px rgba(60, 64, 67, 0.15);\n",
              "    fill: var(--button-hover-fill-color);\n",
              "  }\n",
              "\n",
              "  .colab-df-quickchart-complete:disabled,\n",
              "  .colab-df-quickchart-complete:disabled:hover {\n",
              "    background-color: var(--disabled-bg-color);\n",
              "    fill: var(--disabled-fill-color);\n",
              "    box-shadow: none;\n",
              "  }\n",
              "\n",
              "  .colab-df-spinner {\n",
              "    border: 2px solid var(--fill-color);\n",
              "    border-color: transparent;\n",
              "    border-bottom-color: var(--fill-color);\n",
              "    animation:\n",
              "      spin 1s steps(1) infinite;\n",
              "  }\n",
              "\n",
              "  @keyframes spin {\n",
              "    0% {\n",
              "      border-color: transparent;\n",
              "      border-bottom-color: var(--fill-color);\n",
              "      border-left-color: var(--fill-color);\n",
              "    }\n",
              "    20% {\n",
              "      border-color: transparent;\n",
              "      border-left-color: var(--fill-color);\n",
              "      border-top-color: var(--fill-color);\n",
              "    }\n",
              "    30% {\n",
              "      border-color: transparent;\n",
              "      border-left-color: var(--fill-color);\n",
              "      border-top-color: var(--fill-color);\n",
              "      border-right-color: var(--fill-color);\n",
              "    }\n",
              "    40% {\n",
              "      border-color: transparent;\n",
              "      border-right-color: var(--fill-color);\n",
              "      border-top-color: var(--fill-color);\n",
              "    }\n",
              "    60% {\n",
              "      border-color: transparent;\n",
              "      border-right-color: var(--fill-color);\n",
              "    }\n",
              "    80% {\n",
              "      border-color: transparent;\n",
              "      border-right-color: var(--fill-color);\n",
              "      border-bottom-color: var(--fill-color);\n",
              "    }\n",
              "    90% {\n",
              "      border-color: transparent;\n",
              "      border-bottom-color: var(--fill-color);\n",
              "    }\n",
              "  }\n",
              "</style>\n",
              "\n",
              "  <script>\n",
              "    async function quickchart(key) {\n",
              "      const quickchartButtonEl =\n",
              "        document.querySelector('#' + key + ' button');\n",
              "      quickchartButtonEl.disabled = true;  // To prevent multiple clicks.\n",
              "      quickchartButtonEl.classList.add('colab-df-spinner');\n",
              "      try {\n",
              "        const charts = await google.colab.kernel.invokeFunction(\n",
              "            'suggestCharts', [key], {});\n",
              "      } catch (error) {\n",
              "        console.error('Error during call to suggestCharts:', error);\n",
              "      }\n",
              "      quickchartButtonEl.classList.remove('colab-df-spinner');\n",
              "      quickchartButtonEl.classList.add('colab-df-quickchart-complete');\n",
              "    }\n",
              "    (() => {\n",
              "      let quickchartButtonEl =\n",
              "        document.querySelector('#df-15747ebf-b6e7-41d3-8843-9fec87b1d9c6 button');\n",
              "      quickchartButtonEl.style.display =\n",
              "        google.colab.kernel.accessAllowed ? 'block' : 'none';\n",
              "    })();\n",
              "  </script>\n",
              "</div>\n",
              "\n",
              "  <div id=\"id_1ebe8af0-e25c-4341-8f7b-c5d2c0b3ee53\">\n",
              "    <style>\n",
              "      .colab-df-generate {\n",
              "        background-color: #E8F0FE;\n",
              "        border: none;\n",
              "        border-radius: 50%;\n",
              "        cursor: pointer;\n",
              "        display: none;\n",
              "        fill: #1967D2;\n",
              "        height: 32px;\n",
              "        padding: 0 0 0 0;\n",
              "        width: 32px;\n",
              "      }\n",
              "\n",
              "      .colab-df-generate:hover {\n",
              "        background-color: #E2EBFA;\n",
              "        box-shadow: 0px 1px 2px rgba(60, 64, 67, 0.3), 0px 1px 3px 1px rgba(60, 64, 67, 0.15);\n",
              "        fill: #174EA6;\n",
              "      }\n",
              "\n",
              "      [theme=dark] .colab-df-generate {\n",
              "        background-color: #3B4455;\n",
              "        fill: #D2E3FC;\n",
              "      }\n",
              "\n",
              "      [theme=dark] .colab-df-generate:hover {\n",
              "        background-color: #434B5C;\n",
              "        box-shadow: 0px 1px 3px 1px rgba(0, 0, 0, 0.15);\n",
              "        filter: drop-shadow(0px 1px 2px rgba(0, 0, 0, 0.3));\n",
              "        fill: #FFFFFF;\n",
              "      }\n",
              "    </style>\n",
              "    <button class=\"colab-df-generate\" onclick=\"generateWithVariable('df')\"\n",
              "            title=\"Generate code using this dataframe.\"\n",
              "            style=\"display:none;\">\n",
              "\n",
              "  <svg xmlns=\"http://www.w3.org/2000/svg\" height=\"24px\"viewBox=\"0 0 24 24\"\n",
              "       width=\"24px\">\n",
              "    <path d=\"M7,19H8.4L18.45,9,17,7.55,7,17.6ZM5,21V16.75L18.45,3.32a2,2,0,0,1,2.83,0l1.4,1.43a1.91,1.91,0,0,1,.58,1.4,1.91,1.91,0,0,1-.58,1.4L9.25,21ZM18.45,9,17,7.55Zm-12,3A5.31,5.31,0,0,0,4.9,8.1,5.31,5.31,0,0,0,1,6.5,5.31,5.31,0,0,0,4.9,4.9,5.31,5.31,0,0,0,6.5,1,5.31,5.31,0,0,0,8.1,4.9,5.31,5.31,0,0,0,12,6.5,5.46,5.46,0,0,0,6.5,12Z\"/>\n",
              "  </svg>\n",
              "    </button>\n",
              "    <script>\n",
              "      (() => {\n",
              "      const buttonEl =\n",
              "        document.querySelector('#id_1ebe8af0-e25c-4341-8f7b-c5d2c0b3ee53 button.colab-df-generate');\n",
              "      buttonEl.style.display =\n",
              "        google.colab.kernel.accessAllowed ? 'block' : 'none';\n",
              "\n",
              "      buttonEl.onclick = () => {\n",
              "        google.colab.notebook.generateWithVariable('df');\n",
              "      }\n",
              "      })();\n",
              "    </script>\n",
              "  </div>\n",
              "\n",
              "    </div>\n",
              "  </div>\n"
            ],
            "application/vnd.google.colaboratory.intrinsic+json": {
              "type": "dataframe",
              "variable_name": "df",
              "summary": "{\n  \"name\": \"df\",\n  \"rows\": 8,\n  \"fields\": [\n    {\n      \"column\": \"chunk_id\",\n      \"properties\": {\n        \"dtype\": \"number\",\n        \"std\": 2,\n        \"min\": 0,\n        \"max\": 7,\n        \"num_unique_values\": 8,\n        \"samples\": [\n          1,\n          5,\n          0\n        ],\n        \"semantic_type\": \"\",\n        \"description\": \"\"\n      }\n    },\n    {\n      \"column\": \"content\",\n      \"properties\": {\n        \"dtype\": \"string\",\n        \"num_unique_values\": 8,\n        \"samples\": [\n          \"\\ud83c\\udfc6\\u00a0\\ub300\\uc0c1\\n[Lexi Note] \\uc5b8\\uc5b4\\uacf5\\ubd80 \\ud544\\uae30 \\uc6f9 \\uc11c\\ube44\\uc2a4\\n\\uc11c\\ube44\\uc2a4 \\uc81c\\uc791\\uc790: \\ub2e4\\ub098\\uc640(\\uae40\\ub2e4\\uc560, \\ubc15\\ub098\\uacbd)\\n\\ud83d\\udca1W\\ub294 \\uc5b4\\ubb38\\ud559\\uc744 \\uc804\\uacf5\\ud558\\ub294 \\ub300\\ud559\\uc0dd\\uc785\\ub2c8\\ub2e4. \\ub9e4\\uc77c \\uc0c8\\ub85c\\uc6b4 \\ub2e8\\uc5b4\\uc640 \\ubb38\\uc7a5 \\uad6c\\uc870\\ub97c \\uacf5\\ubd80\\ud558\\uace0 \\uc788\\uc9c0\\ub9cc, \\ud6a8\\uc728\\uc801\\uc73c\\ub85c \\ud559\\uc2b5\\ud558\\ub294 \\uac83\\uc774 \\uc27d\\uc9c0 \\uc54a\\uc558\\uc2b5\\ub2c8\\ub2e4. \\ub2e8\\uc5b4\\uc758 \\uc758\\ubbf8\\ub97c \\ucc3e\\uae30 \\uc704\\ud574 \\uc0ac\\uc804\\uc744 \\ub4a4\\uc801\\uc774\\uace0, \\uae34 \\ubb38\\uc7a5\\uc744 \\uc774\\ud574\\ud558\\ub824\\uace0 \\ubc88\\uc5ed\\uae30\\ub97c \\uc0ac\\uc6a9\\ud558\\ub2e4 \\ubcf4\\uba74, \\ud544\\uae30 \\ub178\\ud2b8\\ub294 \\uc5b4\\ub290\\uc0c8 \\ub4b7\\uc804\\uc73c\\ub85c \\ubc00\\ub824\\ub0ac\\uac70\\ub4e0\\uc694. \\uc0ac\\uc804, \\ubc88\\uc5ed\\uae30, \\uc6d0\\uc11c, \\ud544\\uae30\\ub178\\ud2b8\\ub97c \\uc654\\ub2e4 \\uac14\\ub2e4 \\ud558\\ub2e4 \\ubcf4\\uba74 \\uc2dc\\uac04\\uc774 \\ub2e4 \\uc9c0\\ub098\\uac00 \\ubc84\\ub9ac\\uace4 \\ud588\\uc8e0.\\nW\\uc640 \\uac19\\uc774 \\uc5b4\\ubb38 \\uc804\\uacf5\\uc0dd\\uc740 \\ubb38\\ubc95, \\uc5b4\\ud718, \\ubb38\\uc7a5 \\uad6c\\uc870 \\ub4f1 \\ub2e4\\uc591\\ud55c \\uc790\\ub8cc\\ub97c \\ud559\\uc2b5\\ud574\\uc57c \\ud569\\ub2c8\\ub2e4. \\uc5ec\\ub7ec \\uc790\\ub8cc\\ub97c \\ubc88\\uac08\\uc544 \\ud559\\uc2b5\\ud558\\ub2e4\\ubcf4\\ub2c8 \\u2018\\uc0ac\\uc804-\\ubc88\\uc5ed\\uae30-\\uc6d0\\uc11c-\\ud544\\uae30\\ub178\\ud2b8\\u2019 \\uc655\\ubcf5\\uc73c\\ub85c \\ud559\\uc2b5 \\ud6a8\\uc728\\uc774 \\ub098\\uc9c0 \\uc54a\\uc544 \\uace0\\ubbfc\\uc778 \\uacbd\\uc6b0\\ub3c4 \\ub9ce\\uc73c\\uc2e4 \\uac70\\uc608\\uc694. <Lexi Note>\\ub294 \\ub2e8\\uc5b4\\ub97c \\ub4dc\\ub798\\uadf8\\ud558\\uba74 \\ub124\\uc774\\ubc84 \\uc0ac\\uc804\\uc73c\\ub85c \\ubc14\\ub85c \\uc5f0\\ub3d9 \\ub3fc \\ub2e8\\uc5b4\\uc758 \\uc758\\ubbf8\\ub97c \\ucc3e\\uc73c\\uba70 \\ub3d9\\uc2dc\\uc5d0 \\ud544\\uae30 \\ud560 \\uc218 \\uc788\\uc5b4\\uc694. \\uc774\\uc678\\uc5d0\\ub3c4 \\ubc88\\uc5ed \\ubc84\\ud2bc\\uc744 \\ub204\\ub974\\uba74 \\ud30c\\ud30c\\uace0 \\ubc88\\uc5ed\\uae30\\uac00 \\uc5f0\\ub3d9\\ub3fc \\uae34 \\ubb38\\uc7a5\\ub3c4 \\uc27d\\uac8c \\uc774\\ud574\\ud560 \\uc218 \\uc788\\uc5b4\\uc694. \\uc5b8\\uc5b4 \\ud559\\uc2b5\\uc5d0 \\ud544\\uc694\\ud55c \\ud560\\uc77c \\ubaa9\\ub85d\\uacfc \\uc2a4\\ucf00\\uc904 \\ud15c\\ud50c\\ub9bf\\uc744 \\uc81c\\uacf5\\ud558\\uc5ec \\ud6a8\\uc728\\uc801\\uc73c\\ub85c \\uacf5\\ubd80\\ud560 \\uc218 \\uc788\\uc2b5\\ub2c8\\ub2e4. \\ud544\\uae30, \\uc0ac\\uc804, \\ubc88\\uc5ed\\uc744 \\ud55c\\ubc88\\uc5d0 \\uc27d\\uace0 \\ud3b8\\ud558\\uac8c \\uc774\\uc6a9\\ud560 \\uc218 \\uc788\\uc8e0. \\ub354 \\uc774\\uc0c1 \\uc2dc\\uac04 \\ub0ad\\ube44 \\uc5c6\\uc774 \\ud6a8\\uc728\\uc801\\uc73c\\ub85c \\uc5b4\\ubb38\\ud559\\uc744 \\uacf5\\ubd80\\ud558\\uba70 \\ud559\\uc2b5 \\uc18d\\ub3c4\\ub3c4 \\ub208\\uc5d0 \\ub744\\uac8c \\ube68\\ub77c\\uc9c8 \\uc218 \\uc788\\uc5b4\\uc694. \\uc5b8\\uc5b4 \\uacf5\\ubd80\\uc758 \\ubcf5\\uc7a1\\ud568\\uc744 \\ub2e8\\uc21c\\ud558\\uac8c \\ub9cc\\ub4e4\\uc5b4\\uc8fc\\ub294 Lexi Note\\uac00 \\uc694\\uae34\\ud55c \\ud559\\uc2b5 \\ub3c4\\uc6b0\\ubbf8\\uac00 \\ub418\\uc5c8\\uae30 \\ub54c\\ubb38\\uc785\\ub2c8\\ub2e4.\\n\\uc0ac\\uc6a9\\ud55c \\uae30\\uc220 \\uc2a4\\ud0dd \\n-FE(\\ud504\\ub860\\ud2b8\\uc5d4\\ub4dc): React, Tesseract.js, React-Quill, HTML, CSS, JavaScript\\n-BE(\\ubc31\\uc5d4\\ub4dc): Java, Spring Boot, MariaDB\",\n          \"\\ud83c\\udfc5\\u00a0\\uc785\\uc120\\n[\\ud559\\uad50\\uc0dd\\ud65c \\ub9e4\\ub2c8\\uc800] \\ud559\\uad50\\uc0dd\\ud65c \\uad00\\ub9ac \\uc11c\\ube44\\uc2a4\\n\\uc11c\\ube44\\uc2a4 \\uc81c\\uc791\\uc790: \\uc544\\uc774\\uce7cF4(\\uc870\\ubbfc\\uc81c, \\uc774\\ubbfc\\uae30, \\uac15\\uac74, \\ubc15\\uadfc\\uc6b0)\\n\\ud83d\\udca1A\\ub294 \\uc62c\\ud574 \\ubcf5\\ud559\\ud55c 3\\ud559\\ub144 \\ud559\\uc0dd\\uc785\\ub2c8\\ub2e4. \\uac15\\uc758\\uc2e4\\uacfc \\ub3c4\\uc11c\\uad00\\uc744 \\uc624\\uac00\\uba70 \\ubc14\\uc05c \\uc77c\\uc815\\uc744 \\uc18c\\ud654\\ud558\\ub290\\ub77c \\uc815\\uc2e0\\uc774 \\uc5c6\\uc9c0\\ub9cc, \\uc218\\uc5c5\\ub9c8\\ub2e4 \\ub098\\uc624\\ub294 \\uacfc\\uc81c\\uc640 \\uac01\\uc885 \\ud65c\\ub3d9, \\uc2dc\\ud5d8 \\uc900\\ube44\\uae4c\\uc9c0 \\uacb9\\uce58\\uba74\\uc11c \\ud63c\\ub780\\uc5d0 \\ube60\\uc9c0\\uae30 \\uc77c\\uc464\\uc600\\uc2b5\\ub2c8\\ub2e4. \\ubcf5\\ud559\\uc0dd\\uc774\\ub2e4 \\ubcf4\\ub2c8 \\ud559\\uad50\\uc5d0\\uc11c \\uc804\\ub2ec\\ub418\\ub294 \\uacf5\\uc9c0\\uc0ac\\ud56d\\ub3c4 \\uc81c\\ub300\\ub85c \\uc804\\ub2ec\\ubc1b\\uc9c0 \\ubabb\\ud574 \\ud56d\\uc0c1 \\uc911\\uc694\\ud55c \\uc815\\ubcf4\\ub97c \\ub193\\uce60\\uae4c \\ubd10 \\uac71\\uc815\\uc774\\uc5c8\\uc8e0.\\n<\\ud559\\uad50\\uc0dd\\ud65c \\ub9e4\\ub2c8\\uc800> \\uc11c\\ube44\\uc2a4\\ub294 \\ud559\\uad50 \\uc0dd\\ud65c\\uc744 \\ud6a8\\uc728\\uc801\\uc73c\\ub85c \\uad00\\ub9ac\\ud560 \\uc218 \\uc788\\ub3c4\\ub85d \\ub3d5\\uae30 \\uc704\\ud574 \\uac1c\\ubc1c\\ub41c \\uad00\\ub9ac \\uc571\\uc785\\ub2c8\\ub2e4. \\uc77c\\uc815\\uacfc \\uacfc\\uc81c \\uad00\\ub9ac, \\uc131\\uc801 \\uc608\\uce21, \\ud559\\uc810 \\uacc4\\uc0b0 \\ub4f1 \\ucea0\\ud37c\\uc2a4 \\uc0dd\\ud65c\\uacfc \\uad00\\ub828\\ub41c \\ub2e4\\uc591\\ud55c \\uae30\\ub2a5\\uc744 \\ud55c \\uacf3\\uc5d0\\uc11c \\uad00\\ub9ac\\ud560 \\uc218 \\uc788\\uc5b4\\uc694. \\u2018\\uce98\\ub9b0\\ub354 \\uae30\\ub2a5\\u2019\\uc744 \\ud1b5\\ud574 \\ud559\\uad50 \\ud559\\uc0ac \\uc77c\\uc815\\uacfc \\uac1c\\uc778 \\uc77c\\uc815\\uc744 \\ud55c\\ub208\\uc5d0 \\ud655\\uc778\\ud560 \\uc218 \\uc788\\uace0, \\ub0a0\\uc9dc\\ub9c8\\ub2e4 \\ud574\\uc57c \\ud560 \\uc77c\\uc744 To-Do List\\uc5d0 \\ucd94\\uac00\\ud574 \\ub450\\uba74 \\uc911\\uc694\\ud55c \\uacfc\\uc81c\\ub098 \\uc2dc\\ud5d8 \\uc77c\\uc815\\uc774 \\ub2e4\\uac00\\uc62c \\ub54c\\ub9c8\\ub2e4 \\uc54c\\ub9bc\\uc744 \\ubc1b\\uc544 \\ub193\\uce58\\ub294 \\uc77c\\uc774 \\uc5c6\\uc2b5\\ub2c8\\ub2e4. \\u2018\\uacf5\\uc9c0\\uc0ac\\ud56d \\uae30\\ub2a5\\u2019\\uc744 \\ud1b5\\ud574 \\uc2e4\\uc2dc\\uac04\\uc73c\\ub85c \\uc5c5\\ub370\\uc774\\ud2b8\\ub418\\ub294 \\ud559\\uad50 \\uacf5\\uc9c0\\ub97c \\ud55c \\uacf3\\uc5d0\\uc11c \\ud655\\uc778\\ud560 \\uc218 \\uc788\\uc2b5\\ub2c8\\ub2e4. \\u2018\\uc2dc\\uac04\\ud45c \\uae30\\ub2a5\\u2019\\uc740 \\uc218\\uc5c5\\uc2dc\\uac04, \\uac15\\uc758\\uc2e4, \\uad50\\uc218\\ub2d8 \\uc815\\ubcf4 \\ub4f1\\uc744 \\ud55c\\ub208\\uc5d0 \\ubcfc \\uc218 \\uc788\\uc5b4 \\ucd9c\\uacb0 \\uad00\\ub9ac\\ub3c4 \\ud655\\uc2e4\\ud558\\uac8c \\ud560 \\uc218 \\uc788\\uc5b4\\uc694.\\n\\uc571 \\ub0b4\\uc758 \\ud559\\uc810 \\uacc4\\uc0b0\\uae30\\ub97c \\uc0ac\\uc6a9\\ud558\\uba74 \\uc131\\uc801\\uc774 \\uadf8\\ub798\\ud504\\ub85c \\uc2dc\\uac01\\ud654\\ub418\\uc5b4 \\ubcc0\\ud654\\ub97c \\uc27d\\uac8c \\ud30c\\uc545\\ud560 \\uc218 \\uc788\\uace0, \\uc55e\\uc73c\\ub85c\\uc758 \\uc131\\uc801 \\ubaa9\\ud45c\\ub97c \\uc138\\uc6b0\\ub294 \\ub370\\uc5d0\\ub3c4 \\ud070 \\ub3c4\\uc6c0\\uc774 \\ub429\\ub2c8\\ub2e4. \\uc608\\uc0c1 \\ud559\\uc810 \\uae30\\ub2a5\\uc744 \\ud1b5\\ud574 \\uacfc\\ubaa9\\ubcc4 \\uc608\\uc0c1 \\ub4f1\\uc218\\uc640 \\ud559\\uc810\\uc744 \\ubbf8\\ub9ac \\uacc4\\uc0b0\\ud574 \\ubcf4\\uba70 \\ud559\\uc2b5 \\uacc4\\ud68d\\ub3c4 \\uc870\\uc815\\ud560 \\uc218 \\uc788\\uc5b4\\uc694. <\\ud559\\uad50\\uc0dd\\ud65c \\ub9e4\\ub2c8\\uc800>\\uc571\\uc744 \\uc0ac\\uc6a9\\ud558\\uba74 \\uccb4\\uacc4\\uc801\\uc73c\\ub85c \\ub300\\ud559 \\uc0dd\\ud65c\\uc744 \\uad00\\ub9ac\\ud558\\uace0, \\ub0a8\\uc740 \\ud559\\uc5c5\\uacfc \\uc77c\\uc815\\uc744 \\ud6a8\\uc728\\uc801\\uc73c\\ub85c \\uad00\\ub9ac\\ud560 \\uc218 \\uc788\\uc2b5\\ub2c8\\ub2e4.\\n\\uc0ac\\uc6a9\\ud55c \\uae30\\uc220 \\uc2a4\\ud0dd \\n-FE(\\ud504\\ub860\\ud2b8\\uc5d4\\ub4dc): Flutter\\n-BE(\\ubc31\\uc5d4\\ub4dc): Firebase\",\n          \"\\ucf54\\ub529\\uc740 \\ub354 \\uc774\\uc0c1 \\uac1c\\ubc1c\\uc790\\ub9cc\\uc758 \\uc601\\uc5ed\\uc774 \\uc544\\ub2d9\\ub2c8\\ub2e4. \\ub204\\uad6c\\ub098 \\uc544\\uc774\\ub514\\uc5b4\\ub9cc \\uc788\\ub2e4\\uba74 \\ucc3d\\uc758\\uc801\\uc778 \\uc11c\\ube44\\uc2a4\\ub97c \\ub9cc\\ub4e4\\uc5b4 \\uc138\\uc0c1\\uc744 \\ubc14\\uafc0 \\uc218 \\uc788\\uc2b5\\ub2c8\\ub2e4. \\uc2a4\\ud30c\\ub974\\ud0c0\\ucf54\\ub529\\ud074\\ub7fd\\uc5d0\\uc11c\\ub294 \\uc774\\ub7ec\\ud55c \\uac00\\ub2a5\\uc131\\uc744 \\ubbff\\uace0, \\ub204\\uad6c\\ub098 \\ucf54\\ub529\\uc744 \\ud1b5\\ud574 \\uc790\\uc2e0\\uc758 \\uc544\\uc774\\ub514\\uc5b4\\ub97c \\uc2e4\\ud604\\ud558\\uace0 \\uc2e4\\uc81c \\ubb38\\uc81c\\ub97c \\ud574\\uacb0\\ud558\\ub294 \\uacbd\\ud5d8\\uc744 \\uc313\\uc744 \\uc218 \\uc788\\ub3c4\\ub85d \\ub2e4\\uc591\\ud55c \\ud504\\ub85c\\uadf8\\ub7a8\\uc744 \\ub9c8\\ub828\\ud558\\uace0 \\uc788\\uc2b5\\ub2c8\\ub2e4.\\n<All-in> \\ucf54\\ub529 \\uacf5\\ubaa8\\uc804\\uc740 \\ub300\\ud559\\uc0dd\\ub4e4\\uc774 \\ucea0\\ud37c\\uc2a4\\uc5d0\\uc11c \\uacaa\\uc740 \\ubd88\\ud3b8\\ud568\\uacfc \\ubb38\\uc81c\\ub97c \\uc790\\uc2e0\\ub9cc\\uc758 \\uc544\\uc774\\ub514\\uc5b4\\ub85c \\ud574\\uacb0\\ud574\\ubcf4\\ub294 \\ub300\\ud68c\\uc600\\ub294\\ub370\\uc694. \\uc774\\ubc88 \\uacf5\\ubaa8\\uc804\\uc5d0\\uc11c \\ub2e4\\uc591\\ud55c \\ud601\\uc2e0\\uc801\\uc778 \\uc544\\uc774\\ub514\\uc5b4\\uc640 \\uc5f4\\uc815\\uc73c\\ub85c \\uac00\\ub4dd\\ud55c \\uc218\\ub9ce\\uc740 \\ud504\\ub85c\\uc81d\\ud2b8\\uac00 \\ud0c4\\uc0dd\\ud588\\uc2b5\\ub2c8\\ub2e4. \\uadf8\\uc911 \\ub6f0\\uc5b4\\ub09c \\uc131\\uacfc\\ub97c \\ub0b8 \\uc218\\uc0c1\\uc791 6\\uac1c\\ub97c \\uc18c\\uac1c\\ud569\\ub2c8\\ub2e4.\"\n        ],\n        \"semantic_type\": \"\",\n        \"description\": \"\"\n      }\n    },\n    {\n      \"column\": \"length\",\n      \"properties\": {\n        \"dtype\": \"number\",\n        \"std\": 201,\n        \"min\": 309,\n        \"max\": 906,\n        \"num_unique_values\": 8,\n        \"samples\": [\n          795,\n          837,\n          309\n        ],\n        \"semantic_type\": \"\",\n        \"description\": \"\"\n      }\n    },\n    {\n      \"column\": \"source\",\n      \"properties\": {\n        \"dtype\": \"category\",\n        \"num_unique_values\": 1,\n        \"samples\": [\n          \"https://spartacodingclub.kr/blog/all-in-challenge_winner\"\n        ],\n        \"semantic_type\": \"\",\n        \"description\": \"\"\n      }\n    }\n  ]\n}"
            }
          },
          "metadata": {},
          "execution_count": 13
        }
      ]
    },
    {
      "cell_type": "code",
      "source": [
        "print(df.loc[4, \"content\"])"
      ],
      "metadata": {
        "id": "feugHegRzsav",
        "outputId": "723a035e-4a60-4247-e3f6-94a953e7f47e",
        "colab": {
          "base_uri": "https://localhost:8080/"
        }
      },
      "execution_count": 14,
      "outputs": [
        {
          "output_type": "stream",
          "name": "stdout",
          "text": [
            "🏅 입선\n",
            "[Crewing] 연합동아리 정보 플랫폼\n",
            "서비스 제작자: 동학대학운동(김민아, 임경진, 신은혜, 고수)\n",
            "💡신입생인 S는 대학 생활을 알차게 보내고 싶어서 연합 동아리에 가입하려고 했지만 어떤 동아리가 자신에게 맞을지 고민이 많았습니다. 인터넷에 검색해보니 연합 동아리 후기는 대부분 여기저기 흩어져 있고, 신뢰할 만한 정보를 찾기 어려웠습니다.\n",
            "<Crewing>은 대학생들이 다양한 연합 동아리에 쉽게 가입하고, 적절한 동아리를 찾을 수 있도록 지원해주는 아카이빙 플랫폼입니다. 회원가입 시 생년, 성별, 관심 분야를 입력하자 딱 맞는 동아리를 추천해주죠. 플랫폼 내에서 동아리의 리크루팅 과정인 서류 전형, 인터뷰 일정, 최종 결과 발표 등을 한 번에 해결할 수 있어요. 실제 동아리에 가입한 사람들의 솔직한 후기를 제공해주기 때문에 보다 정확한 정보를 얻을 수 있어요. Crewing은 신뢰할 수 있는 정보와 솔직한 후기를 제공해주기 때문에 효율적으로 내게 꼭 맞는 동아리를 선택할 수 있습니다.\n",
            "사용한 기술 스택 \n",
            "-FE(프론트엔드): Spring Boot, Redis, MySQL\n",
            "-BE(백엔드): SwiftUI Framework, OAuth 2.0\n"
          ]
        }
      ]
    },
    {
      "cell_type": "markdown",
      "source": [
        "좀 더 프로젝트 별로 나뉜 걸 볼 수 있다."
      ],
      "metadata": {
        "id": "iyk_A4W1zwEr"
      }
    },
    {
      "cell_type": "markdown",
      "source": [
        "### 3. Embedding & Vector Store\n",
        "\n",
        "* OpenAIEmbeddings   \n",
        "OpenAI의 API를 활용하여 임베딩 벡터로 변환\n",
        "\n",
        "* Chroma   \n",
        "임베딩 벡터를 저장하기 위한 오픈소스 소프트웨어"
      ],
      "metadata": {
        "id": "Y7fmuLSCeYpx"
      }
    },
    {
      "cell_type": "code",
      "source": [
        "default_vectorstore = Chroma.from_documents(\n",
        "    documents=default_splits,\n",
        "    embedding=OpenAIEmbeddings(api_key=os.environ[\"OPENAI_API_KEY\"]),\n",
        "    persist_directory=\"./chroma_default\"\n",
        ")\n",
        "default_retriever = default_vectorstore.as_retriever(search_kwargs={\"k\": 4})"
      ],
      "metadata": {
        "id": "ywNrRy-0IKjd"
      },
      "execution_count": 25,
      "outputs": []
    },
    {
      "cell_type": "code",
      "source": [
        "new_vectorstore = Chroma.from_documents(\n",
        "    documents=new_splits,\n",
        "    embedding=OpenAIEmbeddings(api_key=os.environ[\"OPENAI_API_KEY\"]),\n",
        "    persist_directory=\"./chroma_new\"\n",
        ")\n",
        "new_retriever = new_vectorstore.as_retriever(search_kwargs={\"k\": 4})"
      ],
      "metadata": {
        "id": "dKwUiRrPJMq1"
      },
      "execution_count": 24,
      "outputs": []
    },
    {
      "cell_type": "markdown",
      "source": [
        "#### prompt\n",
        "\n",
        "* 기본 제공된 rag-prompt 사용\n",
        "* format_docs : 추출된 docs들을 문자열로 연결하는 함수 (prompt에 넣기 위함)\n"
      ],
      "metadata": {
        "id": "vzvvKdMCDmLG"
      }
    },
    {
      "cell_type": "code",
      "source": [
        "def format_docs(docs):\n",
        "    return \"\\n\\n---\\n\\n\".join(doc.page_content for doc in docs)\n",
        "\n",
        "prompt = hub.pull(\"rlm/rag-prompt\")"
      ],
      "metadata": {
        "id": "cg8wsCcnfEgq",
        "colab": {
          "base_uri": "https://localhost:8080/"
        },
        "outputId": "e0387932-4e74-40cd-d995-77295d443b54"
      },
      "execution_count": 21,
      "outputs": [
        {
          "output_type": "stream",
          "name": "stderr",
          "text": [
            "/usr/local/lib/python3.11/dist-packages/langsmith/client.py:280: LangSmithMissingAPIKeyWarning: API key must be provided when using hosted LangSmith API\n",
            "  warnings.warn(\n"
          ]
        }
      ]
    },
    {
      "cell_type": "code",
      "source": [
        "def get_prompt(retriever, user_query):\n",
        "    retrieved_docs = retriever.invoke(user_query)\n",
        "    retrieved_docs = retrieved_docs[:4]\n",
        "    user_prompt = prompt.invoke({\"context\": format_docs(retrieved_docs), \"question\": user_query})\n",
        "    print(user_prompt)\n",
        "\n",
        "    return user_prompt\n"
      ],
      "metadata": {
        "id": "OLf4c5i25jCz"
      },
      "execution_count": 64,
      "outputs": []
    },
    {
      "cell_type": "code",
      "source": [
        "user_query = \"ALL-in 코딩 공모전 수상작들을 요약해줘.\""
      ],
      "metadata": {
        "id": "UqTYVHbG9hyA"
      },
      "execution_count": 18,
      "outputs": []
    },
    {
      "cell_type": "code",
      "source": [
        "def generate_with_openai(retriever, user_query):\n",
        "    user_prompt = get_prompt(retriever, user_query)\n",
        "    response = llm.invoke(user_prompt)\n",
        "    display_prompt_flow(user_query, response.content)\n"
      ],
      "metadata": {
        "id": "JCWc2W9aItMk"
      },
      "execution_count": 36,
      "outputs": []
    },
    {
      "cell_type": "code",
      "source": [
        "generate_with_openai(new_retriever, user_query)"
      ],
      "metadata": {
        "colab": {
          "base_uri": "https://localhost:8080/",
          "height": 256
        },
        "id": "bqHKsIyUJc_m",
        "outputId": "47182d5b-53d2-4419-a714-e3c48e1b3555"
      },
      "execution_count": 37,
      "outputs": [
        {
          "output_type": "stream",
          "name": "stdout",
          "text": [
            "messages=[HumanMessage(content=\"You are an assistant for question-answering tasks. Use the following pieces of retrieved context to answer the question. If you don't know the answer, just say that you don't know. Use three sentences maximum and keep the answer concise.\\nQuestion: ALL-in 코딩 공모전 수상작들을 요약해줘. \\nContext: 코딩은 더 이상 개발자만의 영역이 아닙니다. 누구나 아이디어만 있다면 창의적인 서비스를 만들어 세상을 바꿀 수 있습니다. 스파르타코딩클럽에서는 이러한 가능성을 믿고, 누구나 코딩을 통해 자신의 아이디어를 실현하고 실제 문제를 해결하는 경험을 쌓을 수 있도록 다양한 프로그램을 마련하고 있습니다.\\n<All-in> 코딩 공모전은 대학생들이 캠퍼스에서 겪은 불편함과 문제를 자신만의 아이디어로 해결해보는 대회였는데요. 이번 공모전에서 다양한 혁신적인 아이디어와 열정으로 가득한 수많은 프로젝트가 탄생했습니다. 그중 뛰어난 성과를 낸 수상작 6개를 소개합니다.\\n\\n---\\n\\n사용한 기술 스택\\n-FE(프론트엔드): Spring Boot, MySQL, Spring WebSocket\\n-BE(백엔드): React Native, TanStack Query, Axios\\n코딩 공모전 수상작은 대학생들의 팀프로젝트를 통해 만들어진 웹/앱 서비스입니다. 캠퍼스에서의 문제를 해결하자는 참가자들의 아이디어에서 시작되었죠. 누구나 세상에 선보이고 싶은 나만의 아이디어와 기초 코딩 기술만 활용한다면, 얼마든지 서비스를 만들 수 있습니다. 스파르타코딩클럽의 내일배움캠프에서는 비전공, 초보자도 웹/앱 개발자로 거듭날 수 있는 다양한 트랙이 준비돼 있습니다. 나만의 아이디어를 세상에 선보이고 싶은 누구나에게 열려 있으니 주저말고 도전해 보세요.\\n💡<All-in> 코딩 공모전에서 만든 다양한 서비스를 만나보고 싶다면?\\n다양한 서비스와 기발한 아이디어가 모인 곳에 초대합니다. 참가자들의 문제 해결방법이 궁금하시다면 지금 바로 ‘All-in 공모전’에서 만나보세요!\\n👉🏻\\xa0공모전 결과물 보러가기\\n누구나 큰일 낼 수 있어\\n스파르타코딩클럽\\n글 | 신수지 팀스파르타 에디터\\n\\n---\\n\\n🏅\\xa0입선\\n[Crewing] 연합동아리 정보 플랫폼\\n서비스 제작자: 동학대학운동(김민아, 임경진, 신은혜, 고수)\\n💡신입생인 S는 대학 생활을 알차게 보내고 싶어서 연합 동아리에 가입하려고 했지만 어떤 동아리가 자신에게 맞을지 고민이 많았습니다. 인터넷에 검색해보니 연합 동아리 후기는 대부분 여기저기 흩어져 있고, 신뢰할 만한 정보를 찾기 어려웠습니다.\\n<Crewing>은 대학생들이 다양한 연합 동아리에 쉽게 가입하고, 적절한 동아리를 찾을 수 있도록 지원해주는 아카이빙 플랫폼입니다. 회원가입 시 생년, 성별, 관심 분야를 입력하자 딱 맞는 동아리를 추천해주죠. 플랫폼 내에서 동아리의 리크루팅 과정인 서류 전형, 인터뷰 일정, 최종 결과 발표 등을 한 번에 해결할 수 있어요. 실제 동아리에 가입한 사람들의 솔직한 후기를 제공해주기 때문에 보다 정확한 정보를 얻을 수 있어요. Crewing은 신뢰할 수 있는 정보와 솔직한 후기를 제공해주기 때문에 효율적으로 내게 꼭 맞는 동아리를 선택할 수 있습니다.\\n사용한 기술 스택 \\n-FE(프론트엔드): Spring Boot, Redis, MySQL\\n-BE(백엔드): SwiftUI Framework, OAuth 2.0\\n\\n---\\n\\n🎖️\\xa0우수상\\n[에코 클래스룸] 수업 실시간 소통 서비스\\n서비스 제작자: This is 스파게티!!!(박지성, 김서원, 박범수)\\n💡K교수는 항상 수업이 끝난 후 난이도가 적절했는지 궁금했습니다. “질문 있나요?”라는 말이 수업의 마무리였지만, 대부분의 학생은 답이 없었죠. 그저 고개를 끄덕이는 몇몇 학생들만 보일 뿐, 정말 이해한 것인지, 질문할 용기가 없는 것인지 알 수 없었습니다. 이때문에 학생들이 수업 내용을 제대로 이해하고 있는지 확인하기 어려웠습니다. 어느 날 강의가 끝나고 몇몇 학생들이 몰려와 어렵다고, 다시 설명해 달라고 요청했습니다. 그제야 K교수는 알게 되었어요. 학생들이 이해하지 못하고 있었지만, 질문을 하지 않았던 것이었습니다.\\n다른 학생들의 시선이 부담스러워서, 나만 모르는 거라고 생각해서 질문하지 않는 학생들을 위해 만들어진 서비스가 바로 <에코 클래스룸>입니다. 교수와 학생 간의 소통을 혁신적으로 바꾸기 위해 만들어졌어요. 학생들이 굳이 손을 들고 질문하지 않아도, 에코 클래스룸을 통해 자신의 의견을 표현할 수 있습니다. 익명으로 수업 중 자신의 의견이나 질문을 쉽게 제출할 수 있어 교수님은 실시간으로 학생들의 이해도를 파악할 수 있습니다. 수업 중 또는 후에 교수자가 수업에 대한 피드백을 받을 수 있는 평가 기능과 학생의 이해도를 테스트 할 수 있는 퀴즈 생성 기능이 있어 필요한 경우 수업 속도를 조절하고 추가 설명을 할 수 있어요.\\n사용한 기술 스택 \\n-FE(프론트엔드): Flutter, Socket.IO, Expo CLI, Axios, TanStack Query\\n-BE(백엔드): Spring Boot, Spring Security, JWT, MySQL, Spring WebSocket, AWS \\nAnswer:\", additional_kwargs={}, response_metadata={})]\n"
          ]
        },
        {
          "output_type": "display_data",
          "data": {
            "text/plain": [
              "<IPython.core.display.HTML object>"
            ],
            "text/html": [
              "\n",
              "    <div style=\"font-family: monospace; line-height: 1.5;\">\n",
              "        <h4>🧑 User Query</h4>\n",
              "        <pre style=\"white-space: pre-wrap; word-break: break-word;\">ALL-in 코딩 공모전 수상작들을 요약해줘.</pre>\n",
              "        <hr>\n",
              "        <h4>🤖 LLM Response</h4>\n",
              "        <pre style=\"white-space: pre-wrap; word-break: break-word;\">ALL-in 코딩 공모전에서는 대학생들이 캠퍼스의 문제를 해결하기 위한 다양한 혁신적인 프로젝트가 출품되었습니다. 수상작 중 하나인 [Crewing]은 연합 동아리 정보를 제공하는 플랫폼으로, 사용자가 맞춤형 동아리를 찾을 수 있도록 돕습니다. 또 다른 수상작인 [에코 클래스룸]은 교수와 학생 간의 실시간 소통을 개선하여 학생들이 익명으로 질문할 수 있는 기능을 제공합니다.</pre>\n",
              "    </div>\n",
              "    "
            ]
          },
          "metadata": {}
        }
      ]
    },
    {
      "cell_type": "code",
      "source": [
        "generate_with_openai(default_retriever, user_query)"
      ],
      "metadata": {
        "colab": {
          "base_uri": "https://localhost:8080/",
          "height": 256
        },
        "id": "4ve_yhVjJYUF",
        "outputId": "e3265a5c-4688-4fe4-9b15-4d5179b576ce"
      },
      "execution_count": 38,
      "outputs": [
        {
          "output_type": "stream",
          "name": "stdout",
          "text": [
            "messages=[HumanMessage(content=\"You are an assistant for question-answering tasks. Use the following pieces of retrieved context to answer the question. If you don't know the answer, just say that you don't know. Use three sentences maximum and keep the answer concise.\\nQuestion: ALL-in 코딩 공모전 수상작들을 요약해줘. \\nContext: 사용한 기술 스택\\n-FE(프론트엔드): Spring Boot, MySQL, Spring WebSocket\\n-BE(백엔드): React Native, TanStack Query, Axios\\n코딩 공모전 수상작은 대학생들의 팀프로젝트를 통해 만들어진 웹/앱 서비스입니다. 캠퍼스에서의 문제를 해결하자는 참가자들의 아이디어에서 시작되었죠. 누구나 세상에 선보이고 싶은 나만의 아이디어와 기초 코딩 기술만 활용한다면, 얼마든지 서비스를 만들 수 있습니다. 스파르타코딩클럽의 내일배움캠프에서는 비전공, 초보자도 웹/앱 개발자로 거듭날 수 있는 다양한 트랙이 준비돼 있습니다. 나만의 아이디어를 세상에 선보이고 싶은 누구나에게 열려 있으니 주저말고 도전해 보세요.\\n💡<All-in> 코딩 공모전에서 만든 다양한 서비스를 만나보고 싶다면?\\n다양한 서비스와 기발한 아이디어가 모인 곳에 초대합니다. 참가자들의 문제 해결방법이 궁금하시다면 지금 바로 ‘All-in 공모전’에서 만나보세요!\\n👉🏻\\xa0공모전 결과물 보러가기\\n누구나 큰일 낼 수 있어\\n스파르타코딩클럽\\n글 | 신수지 팀스파르타 에디터\\n\\n---\\n\\n코딩은 더 이상 개발자만의 영역이 아닙니다. 누구나 아이디어만 있다면 창의적인 서비스를 만들어 세상을 바꿀 수 있습니다. 스파르타코딩클럽에서는 이러한 가능성을 믿고, 누구나 코딩을 통해 자신의 아이디어를 실현하고 실제 문제를 해결하는 경험을 쌓을 수 있도록 다양한 프로그램을 마련하고 있습니다.\\n<All-in> 코딩 공모전은 대학생들이 캠퍼스에서 겪은 불편함과 문제를 자신만의 아이디어로 해결해보는 대회였는데요. 이번 공모전에서 다양한 혁신적인 아이디어와 열정으로 가득한 수많은 프로젝트가 탄생했습니다. 그중 뛰어난 성과를 낸 수상작 6개를 소개합니다.\\n🏆\\xa0대상\\n[Lexi Note] 언어공부 필기 웹 서비스\\n서비스 제작자: 다나와(김다애, 박나경)\\n💡W는 어문학을 전공하는 대학생입니다. 매일 새로운 단어와 문장 구조를 공부하고 있지만, 효율적으로 학습하는 것이 쉽지 않았습니다. 단어의 의미를 찾기 위해 사전을 뒤적이고, 긴 문장을 이해하려고 번역기를 사용하다 보면, 필기 노트는 어느새 뒷전으로 밀려났거든요. 사전, 번역기, 원서, 필기노트를 왔다 갔다 하다 보면 시간이 다 지나가 버리곤 했죠.\\nW와 같이 어문 전공생은 문법, 어휘, 문장 구조 등 다양한 자료를 학습해야 합니다. 여러 자료를 번갈아 학습하다보니 ‘사전-번역기-원서-필기노트’ 왕복으로 학습 효율이 나지 않아 고민인 경우도 많으실 거예요. <Lexi Note>는 단어를 드래그하면 네이버 사전으로 바로 연동 돼 단어의 의미를 찾으며 동시에 필기 할 수 있어요. 이외에도 번역 버튼을 누르면 파파고 번역기가 연동돼 긴 문장도 쉽게 이해할 수 있어요. 언어 학습에 필요한 할일 목록과 스케줄 템플릿을 제공하여 효율적으로 공부할 수 있습니다. 필기, 사전, 번역을 한번에 쉽고 편하게 이용할 수 있죠. 더 이상 시간 낭비 없이 효율적으로 어문학을 공부하며 학습 속도도 눈에 띄게 빨라질 수 있어요. 언어 공부의 복잡함을 단순하게 만들어주는 Lexi Note가 요긴한 학습 도우미가 되었기 때문입니다.\\n사용한 기술 스택\\n\\n---\\n\\n사용한 기술 스택 \\n-FE(프론트엔드): Flutter, Socket.IO, Expo CLI, Axios, TanStack Query\\n-BE(백엔드): Spring Boot, Spring Security, JWT, MySQL, Spring WebSocket, AWS\\n🏅\\xa0입선\\n[Crewing] 연합동아리 정보 플랫폼\\n서비스 제작자: 동학대학운동(김민아, 임경진, 신은혜, 고수)\\n💡신입생인 S는 대학 생활을 알차게 보내고 싶어서 연합 동아리에 가입하려고 했지만 어떤 동아리가 자신에게 맞을지 고민이 많았습니다. 인터넷에 검색해보니 연합 동아리 후기는 대부분 여기저기 흩어져 있고, 신뢰할 만한 정보를 찾기 어려웠습니다.\\n<Crewing>은 대학생들이 다양한 연합 동아리에 쉽게 가입하고, 적절한 동아리를 찾을 수 있도록 지원해주는 아카이빙 플랫폼입니다. 회원가입 시 생년, 성별, 관심 분야를 입력하자 딱 맞는 동아리를 추천해주죠. 플랫폼 내에서 동아리의 리크루팅 과정인 서류 전형, 인터뷰 일정, 최종 결과 발표 등을 한 번에 해결할 수 있어요. 실제 동아리에 가입한 사람들의 솔직한 후기를 제공해주기 때문에 보다 정확한 정보를 얻을 수 있어요. Crewing은 신뢰할 수 있는 정보와 솔직한 후기를 제공해주기 때문에 효율적으로 내게 꼭 맞는 동아리를 선택할 수 있습니다.\\n사용한 기술 스택 \\n-FE(프론트엔드): Spring Boot, Redis, MySQL\\n-BE(백엔드): SwiftUI Framework, OAuth 2.0\\n🏅\\xa0입선\\n[학교생활 매니저] 학교생활 관리 서비스\\n서비스 제작자: 아이칼F4(조민제, 이민기, 강건, 박근우)\\n💡A는 올해 복학한 3학년 학생입니다. 강의실과 도서관을 오가며 바쁜 일정을 소화하느라 정신이 없지만, 수업마다 나오는 과제와 각종 활동, 시험 준비까지 겹치면서 혼란에 빠지기 일쑤였습니다. 복학생이다 보니 학교에서 전달되는 공지사항도 제대로 전달받지 못해 항상 중요한 정보를 놓칠까 봐 걱정이었죠.\\n\\n---\\n\\n사용한 기술 스택 \\n-FE(프론트엔드): React Native, Expo, Axios\\n-BE(백엔드): Spring Boot, Spring Security, MySQL, SSE, FCM, JWT, Postman\\n🎖️\\xa0우수상\\n[에코 클래스룸] 수업 실시간 소통 서비스\\n서비스 제작자: This is 스파게티!!!(박지성, 김서원, 박범수)\\n💡K교수는 항상 수업이 끝난 후 난이도가 적절했는지 궁금했습니다. “질문 있나요?”라는 말이 수업의 마무리였지만, 대부분의 학생은 답이 없었죠. 그저 고개를 끄덕이는 몇몇 학생들만 보일 뿐, 정말 이해한 것인지, 질문할 용기가 없는 것인지 알 수 없었습니다. 이때문에 학생들이 수업 내용을 제대로 이해하고 있는지 확인하기 어려웠습니다. 어느 날 강의가 끝나고 몇몇 학생들이 몰려와 어렵다고, 다시 설명해 달라고 요청했습니다. 그제야 K교수는 알게 되었어요. 학생들이 이해하지 못하고 있었지만, 질문을 하지 않았던 것이었습니다.\\n다른 학생들의 시선이 부담스러워서, 나만 모르는 거라고 생각해서 질문하지 않는 학생들을 위해 만들어진 서비스가 바로 <에코 클래스룸>입니다. 교수와 학생 간의 소통을 혁신적으로 바꾸기 위해 만들어졌어요. 학생들이 굳이 손을 들고 질문하지 않아도, 에코 클래스룸을 통해 자신의 의견을 표현할 수 있습니다. 익명으로 수업 중 자신의 의견이나 질문을 쉽게 제출할 수 있어 교수님은 실시간으로 학생들의 이해도를 파악할 수 있습니다. 수업 중 또는 후에 교수자가 수업에 대한 피드백을 받을 수 있는 평가 기능과 학생의 이해도를 테스트 할 수 있는 퀴즈 생성 기능이 있어 필요한 경우 수업 속도를 조절하고 추가 설명을 할 수 있어요.\\n사용한 기술 스택 \\n-FE(프론트엔드): Flutter, Socket.IO, Expo CLI, Axios, TanStack Query\\n-BE(백엔드): Spring Boot, Spring Security, JWT, MySQL, Spring WebSocket, AWS\\n🏅\\xa0입선 \\nAnswer:\", additional_kwargs={}, response_metadata={})]\n"
          ]
        },
        {
          "output_type": "display_data",
          "data": {
            "text/plain": [
              "<IPython.core.display.HTML object>"
            ],
            "text/html": [
              "\n",
              "    <div style=\"font-family: monospace; line-height: 1.5;\">\n",
              "        <h4>🧑 User Query</h4>\n",
              "        <pre style=\"white-space: pre-wrap; word-break: break-word;\">ALL-in 코딩 공모전 수상작들을 요약해줘.</pre>\n",
              "        <hr>\n",
              "        <h4>🤖 LLM Response</h4>\n",
              "        <pre style=\"white-space: pre-wrap; word-break: break-word;\">ALL-in 코딩 공모전 수상작들은 대학생들이 캠퍼스에서의 문제를 해결하기 위해 개발한 웹/앱 서비스입니다. 주요 수상작으로는 언어 학습을 돕는 'Lexi Note', 연합 동아리 정보를 제공하는 'Crewing', 그리고 학교생활 관리를 지원하는 '학교생활 매니저'가 있습니다. 이 외에도 수업 중 실시간 소통을 위한 '에코 클래스룸'과 같은 혁신적인 아이디어들이 포함되어 있습니다.</pre>\n",
              "    </div>\n",
              "    "
            ]
          },
          "metadata": {}
        }
      ]
    },
    {
      "cell_type": "markdown",
      "source": [
        "default_retriever와 new_retriever의 결과를 보면 내용이 다른데, 일단 6개 요약은 당연히 문서가 4개만 뽑히므로 어렵고, 각자 검색된 project에 대해서만 요약하는 것을 볼 수 있다.\n",
        "\n",
        "다른 질문들을 비교해보면서 해보고자 한다."
      ],
      "metadata": {
        "id": "dVHiErSzKEIR"
      }
    },
    {
      "cell_type": "code",
      "source": [
        "def test_two_vectorDB(user_query):\n",
        "    generate_with_openai(default_retriever, user_query)\n",
        "    generate_with_openai(new_retriever, user_query)"
      ],
      "metadata": {
        "id": "kzdsIZiCLfa_"
      },
      "execution_count": 43,
      "outputs": []
    },
    {
      "cell_type": "markdown",
      "source": [
        "**Q. 에코 클래스룸의 기술 스택은 어떻게 되나요?**\n",
        "\n",
        "default_retriever의 결과를 보면 [에코 클래스룸] 의 기술 스택이 아니라 그 위에 소개된 프로젝트의 기술 스택인 걸 볼 수 있다.   \n",
        "chunk 단위가 project 단위가 아니기 때문에 LLM이 한 chunk에 있는 기술 스택이 해당 프로젝트의 기술스택이라고 이해하여 일어난 일이다.\n",
        "\n",
        "   \n",
        "new_retriever의 경우에는 정확하게 대답하고 있는 것을 볼 수 있다. project 단위로 chunk를 끊어줬기 때문이다."
      ],
      "metadata": {
        "id": "FNgkuWNOLUQX"
      }
    },
    {
      "cell_type": "code",
      "source": [
        "test_two_vectorDB(\"에코 클래스룸의 기술 스택은 어떻게 되나요?\")"
      ],
      "metadata": {
        "id": "yHp8JWNGkuLH",
        "colab": {
          "base_uri": "https://localhost:8080/",
          "height": 434
        },
        "outputId": "b8f58d14-54ac-4ad5-ecfc-5beab5fc5af9"
      },
      "execution_count": 62,
      "outputs": [
        {
          "output_type": "stream",
          "name": "stdout",
          "text": [
            "messages=[HumanMessage(content=\"You are an assistant for question-answering tasks. Use the following pieces of retrieved context to answer the question. If you don't know the answer, just say that you don't know. Use three sentences maximum and keep the answer concise.\\nQuestion: 에코 클래스룸의 기술 스택은 어떻게 되나요? \\nContext: 사용한 기술 스택 \\n-FE(프론트엔드): React Native, Expo, Axios\\n-BE(백엔드): Spring Boot, Spring Security, MySQL, SSE, FCM, JWT, Postman\\n🎖️\\xa0우수상\\n[에코 클래스룸] 수업 실시간 소통 서비스\\n서비스 제작자: This is 스파게티!!!(박지성, 김서원, 박범수)\\n💡K교수는 항상 수업이 끝난 후 난이도가 적절했는지 궁금했습니다. “질문 있나요?”라는 말이 수업의 마무리였지만, 대부분의 학생은 답이 없었죠. 그저 고개를 끄덕이는 몇몇 학생들만 보일 뿐, 정말 이해한 것인지, 질문할 용기가 없는 것인지 알 수 없었습니다. 이때문에 학생들이 수업 내용을 제대로 이해하고 있는지 확인하기 어려웠습니다. 어느 날 강의가 끝나고 몇몇 학생들이 몰려와 어렵다고, 다시 설명해 달라고 요청했습니다. 그제야 K교수는 알게 되었어요. 학생들이 이해하지 못하고 있었지만, 질문을 하지 않았던 것이었습니다.\\n다른 학생들의 시선이 부담스러워서, 나만 모르는 거라고 생각해서 질문하지 않는 학생들을 위해 만들어진 서비스가 바로 <에코 클래스룸>입니다. 교수와 학생 간의 소통을 혁신적으로 바꾸기 위해 만들어졌어요. 학생들이 굳이 손을 들고 질문하지 않아도, 에코 클래스룸을 통해 자신의 의견을 표현할 수 있습니다. 익명으로 수업 중 자신의 의견이나 질문을 쉽게 제출할 수 있어 교수님은 실시간으로 학생들의 이해도를 파악할 수 있습니다. 수업 중 또는 후에 교수자가 수업에 대한 피드백을 받을 수 있는 평가 기능과 학생의 이해도를 테스트 할 수 있는 퀴즈 생성 기능이 있어 필요한 경우 수업 속도를 조절하고 추가 설명을 할 수 있어요.\\n사용한 기술 스택 \\n-FE(프론트엔드): Flutter, Socket.IO, Expo CLI, Axios, TanStack Query\\n-BE(백엔드): Spring Boot, Spring Security, JWT, MySQL, Spring WebSocket, AWS\\n🏅\\xa0입선\\n\\n---\\n\\n사용한 기술 스택 \\n-FE(프론트엔드): Flutter, Socket.IO, Expo CLI, Axios, TanStack Query\\n-BE(백엔드): Spring Boot, Spring Security, JWT, MySQL, Spring WebSocket, AWS\\n🏅\\xa0입선\\n[Crewing] 연합동아리 정보 플랫폼\\n서비스 제작자: 동학대학운동(김민아, 임경진, 신은혜, 고수)\\n💡신입생인 S는 대학 생활을 알차게 보내고 싶어서 연합 동아리에 가입하려고 했지만 어떤 동아리가 자신에게 맞을지 고민이 많았습니다. 인터넷에 검색해보니 연합 동아리 후기는 대부분 여기저기 흩어져 있고, 신뢰할 만한 정보를 찾기 어려웠습니다.\\n<Crewing>은 대학생들이 다양한 연합 동아리에 쉽게 가입하고, 적절한 동아리를 찾을 수 있도록 지원해주는 아카이빙 플랫폼입니다. 회원가입 시 생년, 성별, 관심 분야를 입력하자 딱 맞는 동아리를 추천해주죠. 플랫폼 내에서 동아리의 리크루팅 과정인 서류 전형, 인터뷰 일정, 최종 결과 발표 등을 한 번에 해결할 수 있어요. 실제 동아리에 가입한 사람들의 솔직한 후기를 제공해주기 때문에 보다 정확한 정보를 얻을 수 있어요. Crewing은 신뢰할 수 있는 정보와 솔직한 후기를 제공해주기 때문에 효율적으로 내게 꼭 맞는 동아리를 선택할 수 있습니다.\\n사용한 기술 스택 \\n-FE(프론트엔드): Spring Boot, Redis, MySQL\\n-BE(백엔드): SwiftUI Framework, OAuth 2.0\\n🏅\\xa0입선\\n[학교생활 매니저] 학교생활 관리 서비스\\n서비스 제작자: 아이칼F4(조민제, 이민기, 강건, 박근우)\\n💡A는 올해 복학한 3학년 학생입니다. 강의실과 도서관을 오가며 바쁜 일정을 소화하느라 정신이 없지만, 수업마다 나오는 과제와 각종 활동, 시험 준비까지 겹치면서 혼란에 빠지기 일쑤였습니다. 복학생이다 보니 학교에서 전달되는 공지사항도 제대로 전달받지 못해 항상 중요한 정보를 놓칠까 봐 걱정이었죠.\\n\\n---\\n\\n사용한 기술 스택\\n-FE(프론트엔드): Spring Boot, MySQL, Spring WebSocket\\n-BE(백엔드): React Native, TanStack Query, Axios\\n코딩 공모전 수상작은 대학생들의 팀프로젝트를 통해 만들어진 웹/앱 서비스입니다. 캠퍼스에서의 문제를 해결하자는 참가자들의 아이디어에서 시작되었죠. 누구나 세상에 선보이고 싶은 나만의 아이디어와 기초 코딩 기술만 활용한다면, 얼마든지 서비스를 만들 수 있습니다. 스파르타코딩클럽의 내일배움캠프에서는 비전공, 초보자도 웹/앱 개발자로 거듭날 수 있는 다양한 트랙이 준비돼 있습니다. 나만의 아이디어를 세상에 선보이고 싶은 누구나에게 열려 있으니 주저말고 도전해 보세요.\\n💡<All-in> 코딩 공모전에서 만든 다양한 서비스를 만나보고 싶다면?\\n다양한 서비스와 기발한 아이디어가 모인 곳에 초대합니다. 참가자들의 문제 해결방법이 궁금하시다면 지금 바로 ‘All-in 공모전’에서 만나보세요!\\n👉🏻\\xa0공모전 결과물 보러가기\\n누구나 큰일 낼 수 있어\\n스파르타코딩클럽\\n글 | 신수지 팀스파르타 에디터\\n\\n---\\n\\n사용한 기술 스택 \\n-FE(프론트엔드): React, Tesseract.js, React-Quill, HTML, CSS, JavaScript\\n-BE(백엔드): Java, Spring Boot, MariaDB\\n🎖️\\xa0우수상\\n[우리집 히어로즈] 벌레 퇴치 영웅 매칭 서비스\\n서비스 제작자: 인트(배정연, 한지수)\\n💡C는 이번 학기 처음으로 자취를 시작했습니다. 원래부터 작은 벌레에 민감했던 C. 자취방에서 자주 나타나는 벌레들 때문에 밤잠을 설치길 반복했습니다. 밤마다 벌레를 잡으려고 애쓰던 C는 커뮤니티를 통해 다른 학생들도 같은 문제를 겪고 있다는 것을 알게 되었습니다. 하지만 커뮤니티에서 벌레 퇴치 히어로를 찾기 위해서는 내 개인 정보를 노출해야 한다는 점이 찝찝했죠.\\n이 문제를 해결할 수 있는 방법이 바로 <우리집 히어로즈> 서비스입니다. 대학생 자취생들이 자취방에서 겪는 벌레 문제를 해결하기 위해 개발된 앱이죠. 벌레 퇴치가 필요한 사용자가 앱에 요청을 올리면 벌레 퇴치 히어로 학우와 매칭됩니다. 사용자 신원은 같은 학교 학생으로, 신원이 보장된 안전한 환경에서 이뤄지고 벌레를 퇴치해주는 히어로는 추가 수입을 얻을 수 있는 기회를 가집니다. 실시간 알림 기능을 통해 매칭이 이뤄지면 즉시 알림을 받을 수 있어 빠르게 문제를 해결할 수 있습니다. 벌레를 퇴치한 후 사용자는 서로를 평가할 수 있어요. 더 나은 서비스를 제공하거나 받을 수 있습니다.\\n사용한 기술 스택 \\n-FE(프론트엔드): React Native, Expo, Axios\\n-BE(백엔드): Spring Boot, Spring Security, MySQL, SSE, FCM, JWT, Postman\\n🎖️\\xa0우수상\\n[에코 클래스룸] 수업 실시간 소통 서비스\\n서비스 제작자: This is 스파게티!!!(박지성, 김서원, 박범수) \\nAnswer:\", additional_kwargs={}, response_metadata={})]\n"
          ]
        },
        {
          "output_type": "display_data",
          "data": {
            "text/plain": [
              "<IPython.core.display.HTML object>"
            ],
            "text/html": [
              "\n",
              "    <div style=\"font-family: monospace; line-height: 1.5;\">\n",
              "        <h4>🧑 User Query</h4>\n",
              "        <pre style=\"white-space: pre-wrap; word-break: break-word;\">에코 클래스룸의 기술 스택은 어떻게 되나요?</pre>\n",
              "        <hr>\n",
              "        <h4>🤖 LLM Response</h4>\n",
              "        <pre style=\"white-space: pre-wrap; word-break: break-word;\">에코 클래스룸의 기술 스택은 프론트엔드에서 React Native, Expo, Axios를 사용하고, 백엔드에서는 Spring Boot, Spring Security, MySQL, SSE, FCM, JWT, Postman을 사용합니다.</pre>\n",
              "    </div>\n",
              "    "
            ]
          },
          "metadata": {}
        },
        {
          "output_type": "stream",
          "name": "stdout",
          "text": [
            "messages=[HumanMessage(content=\"You are an assistant for question-answering tasks. Use the following pieces of retrieved context to answer the question. If you don't know the answer, just say that you don't know. Use three sentences maximum and keep the answer concise.\\nQuestion: 에코 클래스룸의 기술 스택은 어떻게 되나요? \\nContext: 🎖️\\xa0우수상\\n[에코 클래스룸] 수업 실시간 소통 서비스\\n서비스 제작자: This is 스파게티!!!(박지성, 김서원, 박범수)\\n💡K교수는 항상 수업이 끝난 후 난이도가 적절했는지 궁금했습니다. “질문 있나요?”라는 말이 수업의 마무리였지만, 대부분의 학생은 답이 없었죠. 그저 고개를 끄덕이는 몇몇 학생들만 보일 뿐, 정말 이해한 것인지, 질문할 용기가 없는 것인지 알 수 없었습니다. 이때문에 학생들이 수업 내용을 제대로 이해하고 있는지 확인하기 어려웠습니다. 어느 날 강의가 끝나고 몇몇 학생들이 몰려와 어렵다고, 다시 설명해 달라고 요청했습니다. 그제야 K교수는 알게 되었어요. 학생들이 이해하지 못하고 있었지만, 질문을 하지 않았던 것이었습니다.\\n다른 학생들의 시선이 부담스러워서, 나만 모르는 거라고 생각해서 질문하지 않는 학생들을 위해 만들어진 서비스가 바로 <에코 클래스룸>입니다. 교수와 학생 간의 소통을 혁신적으로 바꾸기 위해 만들어졌어요. 학생들이 굳이 손을 들고 질문하지 않아도, 에코 클래스룸을 통해 자신의 의견을 표현할 수 있습니다. 익명으로 수업 중 자신의 의견이나 질문을 쉽게 제출할 수 있어 교수님은 실시간으로 학생들의 이해도를 파악할 수 있습니다. 수업 중 또는 후에 교수자가 수업에 대한 피드백을 받을 수 있는 평가 기능과 학생의 이해도를 테스트 할 수 있는 퀴즈 생성 기능이 있어 필요한 경우 수업 속도를 조절하고 추가 설명을 할 수 있어요.\\n사용한 기술 스택 \\n-FE(프론트엔드): Flutter, Socket.IO, Expo CLI, Axios, TanStack Query\\n-BE(백엔드): Spring Boot, Spring Security, JWT, MySQL, Spring WebSocket, AWS\\n\\n---\\n\\n사용한 기술 스택\\n-FE(프론트엔드): Spring Boot, MySQL, Spring WebSocket\\n-BE(백엔드): React Native, TanStack Query, Axios\\n코딩 공모전 수상작은 대학생들의 팀프로젝트를 통해 만들어진 웹/앱 서비스입니다. 캠퍼스에서의 문제를 해결하자는 참가자들의 아이디어에서 시작되었죠. 누구나 세상에 선보이고 싶은 나만의 아이디어와 기초 코딩 기술만 활용한다면, 얼마든지 서비스를 만들 수 있습니다. 스파르타코딩클럽의 내일배움캠프에서는 비전공, 초보자도 웹/앱 개발자로 거듭날 수 있는 다양한 트랙이 준비돼 있습니다. 나만의 아이디어를 세상에 선보이고 싶은 누구나에게 열려 있으니 주저말고 도전해 보세요.\\n💡<All-in> 코딩 공모전에서 만든 다양한 서비스를 만나보고 싶다면?\\n다양한 서비스와 기발한 아이디어가 모인 곳에 초대합니다. 참가자들의 문제 해결방법이 궁금하시다면 지금 바로 ‘All-in 공모전’에서 만나보세요!\\n👉🏻\\xa0공모전 결과물 보러가기\\n누구나 큰일 낼 수 있어\\n스파르타코딩클럽\\n글 | 신수지 팀스파르타 에디터\\n\\n---\\n\\n🏅\\xa0입선\\n[Crewing] 연합동아리 정보 플랫폼\\n서비스 제작자: 동학대학운동(김민아, 임경진, 신은혜, 고수)\\n💡신입생인 S는 대학 생활을 알차게 보내고 싶어서 연합 동아리에 가입하려고 했지만 어떤 동아리가 자신에게 맞을지 고민이 많았습니다. 인터넷에 검색해보니 연합 동아리 후기는 대부분 여기저기 흩어져 있고, 신뢰할 만한 정보를 찾기 어려웠습니다.\\n<Crewing>은 대학생들이 다양한 연합 동아리에 쉽게 가입하고, 적절한 동아리를 찾을 수 있도록 지원해주는 아카이빙 플랫폼입니다. 회원가입 시 생년, 성별, 관심 분야를 입력하자 딱 맞는 동아리를 추천해주죠. 플랫폼 내에서 동아리의 리크루팅 과정인 서류 전형, 인터뷰 일정, 최종 결과 발표 등을 한 번에 해결할 수 있어요. 실제 동아리에 가입한 사람들의 솔직한 후기를 제공해주기 때문에 보다 정확한 정보를 얻을 수 있어요. Crewing은 신뢰할 수 있는 정보와 솔직한 후기를 제공해주기 때문에 효율적으로 내게 꼭 맞는 동아리를 선택할 수 있습니다.\\n사용한 기술 스택 \\n-FE(프론트엔드): Spring Boot, Redis, MySQL\\n-BE(백엔드): SwiftUI Framework, OAuth 2.0\\n\\n---\\n\\n코딩은 더 이상 개발자만의 영역이 아닙니다. 누구나 아이디어만 있다면 창의적인 서비스를 만들어 세상을 바꿀 수 있습니다. 스파르타코딩클럽에서는 이러한 가능성을 믿고, 누구나 코딩을 통해 자신의 아이디어를 실현하고 실제 문제를 해결하는 경험을 쌓을 수 있도록 다양한 프로그램을 마련하고 있습니다.\\n<All-in> 코딩 공모전은 대학생들이 캠퍼스에서 겪은 불편함과 문제를 자신만의 아이디어로 해결해보는 대회였는데요. 이번 공모전에서 다양한 혁신적인 아이디어와 열정으로 가득한 수많은 프로젝트가 탄생했습니다. 그중 뛰어난 성과를 낸 수상작 6개를 소개합니다.\\n\\n---\\n\\n🎖️\\xa0우수상\\n[우리집 히어로즈] 벌레 퇴치 영웅 매칭 서비스\\n서비스 제작자: 인트(배정연, 한지수)\\n💡C는 이번 학기 처음으로 자취를 시작했습니다. 원래부터 작은 벌레에 민감했던 C. 자취방에서 자주 나타나는 벌레들 때문에 밤잠을 설치길 반복했습니다. 밤마다 벌레를 잡으려고 애쓰던 C는 커뮤니티를 통해 다른 학생들도 같은 문제를 겪고 있다는 것을 알게 되었습니다. 하지만 커뮤니티에서 벌레 퇴치 히어로를 찾기 위해서는 내 개인 정보를 노출해야 한다는 점이 찝찝했죠.\\n이 문제를 해결할 수 있는 방법이 바로 <우리집 히어로즈> 서비스입니다. 대학생 자취생들이 자취방에서 겪는 벌레 문제를 해결하기 위해 개발된 앱이죠. 벌레 퇴치가 필요한 사용자가 앱에 요청을 올리면 벌레 퇴치 히어로 학우와 매칭됩니다. 사용자 신원은 같은 학교 학생으로, 신원이 보장된 안전한 환경에서 이뤄지고 벌레를 퇴치해주는 히어로는 추가 수입을 얻을 수 있는 기회를 가집니다. 실시간 알림 기능을 통해 매칭이 이뤄지면 즉시 알림을 받을 수 있어 빠르게 문제를 해결할 수 있습니다. 벌레를 퇴치한 후 사용자는 서로를 평가할 수 있어요. 더 나은 서비스를 제공하거나 받을 수 있습니다.\\n사용한 기술 스택 \\n-FE(프론트엔드): React Native, Expo, Axios\\n-BE(백엔드): Spring Boot, Spring Security, MySQL, SSE, FCM, JWT, Postman \\nAnswer:\", additional_kwargs={}, response_metadata={})]\n"
          ]
        },
        {
          "output_type": "display_data",
          "data": {
            "text/plain": [
              "<IPython.core.display.HTML object>"
            ],
            "text/html": [
              "\n",
              "    <div style=\"font-family: monospace; line-height: 1.5;\">\n",
              "        <h4>🧑 User Query</h4>\n",
              "        <pre style=\"white-space: pre-wrap; word-break: break-word;\">에코 클래스룸의 기술 스택은 어떻게 되나요?</pre>\n",
              "        <hr>\n",
              "        <h4>🤖 LLM Response</h4>\n",
              "        <pre style=\"white-space: pre-wrap; word-break: break-word;\">에코 클래스룸의 기술 스택은 프론트엔드에서 Flutter, Socket.IO, Expo CLI, Axios, TanStack Query를 사용하고, 백엔드에서는 Spring Boot, Spring Security, JWT, MySQL, Spring WebSocket, AWS를 사용합니다. 이 서비스는 교수와 학생 간의 실시간 소통을 혁신적으로 개선하기 위해 개발되었습니다. 학생들은 익명으로 의견이나 질문을 제출할 수 있어 교수는 이해도를 파악할 수 있습니다.</pre>\n",
              "    </div>\n",
              "    "
            ]
          },
          "metadata": {}
        }
      ]
    },
    {
      "cell_type": "markdown",
      "source": [
        "**Q. 대상**"
      ],
      "metadata": {
        "id": "UVIZNwwoQq-e"
      }
    },
    {
      "cell_type": "code",
      "source": [
        "generate_with_openai(new_retriever, \"대상\")"
      ],
      "metadata": {
        "colab": {
          "base_uri": "https://localhost:8080/",
          "height": 235
        },
        "id": "MTsh3QWPQlkf",
        "outputId": "b922391d-ad4b-40ae-8a2d-6c9ee06e8517"
      },
      "execution_count": 63,
      "outputs": [
        {
          "output_type": "stream",
          "name": "stdout",
          "text": [
            "messages=[HumanMessage(content=\"You are an assistant for question-answering tasks. Use the following pieces of retrieved context to answer the question. If you don't know the answer, just say that you don't know. Use three sentences maximum and keep the answer concise.\\nQuestion: 대상 \\nContext: 코딩은 더 이상 개발자만의 영역이 아닙니다. 누구나 아이디어만 있다면 창의적인 서비스를 만들어 세상을 바꿀 수 있습니다. 스파르타코딩클럽에서는 이러한 가능성을 믿고, 누구나 코딩을 통해 자신의 아이디어를 실현하고 실제 문제를 해결하는 경험을 쌓을 수 있도록 다양한 프로그램을 마련하고 있습니다.\\n<All-in> 코딩 공모전은 대학생들이 캠퍼스에서 겪은 불편함과 문제를 자신만의 아이디어로 해결해보는 대회였는데요. 이번 공모전에서 다양한 혁신적인 아이디어와 열정으로 가득한 수많은 프로젝트가 탄생했습니다. 그중 뛰어난 성과를 낸 수상작 6개를 소개합니다.\\n\\n---\\n\\n사용한 기술 스택\\n-FE(프론트엔드): Spring Boot, MySQL, Spring WebSocket\\n-BE(백엔드): React Native, TanStack Query, Axios\\n코딩 공모전 수상작은 대학생들의 팀프로젝트를 통해 만들어진 웹/앱 서비스입니다. 캠퍼스에서의 문제를 해결하자는 참가자들의 아이디어에서 시작되었죠. 누구나 세상에 선보이고 싶은 나만의 아이디어와 기초 코딩 기술만 활용한다면, 얼마든지 서비스를 만들 수 있습니다. 스파르타코딩클럽의 내일배움캠프에서는 비전공, 초보자도 웹/앱 개발자로 거듭날 수 있는 다양한 트랙이 준비돼 있습니다. 나만의 아이디어를 세상에 선보이고 싶은 누구나에게 열려 있으니 주저말고 도전해 보세요.\\n💡<All-in> 코딩 공모전에서 만든 다양한 서비스를 만나보고 싶다면?\\n다양한 서비스와 기발한 아이디어가 모인 곳에 초대합니다. 참가자들의 문제 해결방법이 궁금하시다면 지금 바로 ‘All-in 공모전’에서 만나보세요!\\n👉🏻\\xa0공모전 결과물 보러가기\\n누구나 큰일 낼 수 있어\\n스파르타코딩클럽\\n글 | 신수지 팀스파르타 에디터\\n\\n---\\n\\n🎖️\\xa0우수상\\n[우리집 히어로즈] 벌레 퇴치 영웅 매칭 서비스\\n서비스 제작자: 인트(배정연, 한지수)\\n💡C는 이번 학기 처음으로 자취를 시작했습니다. 원래부터 작은 벌레에 민감했던 C. 자취방에서 자주 나타나는 벌레들 때문에 밤잠을 설치길 반복했습니다. 밤마다 벌레를 잡으려고 애쓰던 C는 커뮤니티를 통해 다른 학생들도 같은 문제를 겪고 있다는 것을 알게 되었습니다. 하지만 커뮤니티에서 벌레 퇴치 히어로를 찾기 위해서는 내 개인 정보를 노출해야 한다는 점이 찝찝했죠.\\n이 문제를 해결할 수 있는 방법이 바로 <우리집 히어로즈> 서비스입니다. 대학생 자취생들이 자취방에서 겪는 벌레 문제를 해결하기 위해 개발된 앱이죠. 벌레 퇴치가 필요한 사용자가 앱에 요청을 올리면 벌레 퇴치 히어로 학우와 매칭됩니다. 사용자 신원은 같은 학교 학생으로, 신원이 보장된 안전한 환경에서 이뤄지고 벌레를 퇴치해주는 히어로는 추가 수입을 얻을 수 있는 기회를 가집니다. 실시간 알림 기능을 통해 매칭이 이뤄지면 즉시 알림을 받을 수 있어 빠르게 문제를 해결할 수 있습니다. 벌레를 퇴치한 후 사용자는 서로를 평가할 수 있어요. 더 나은 서비스를 제공하거나 받을 수 있습니다.\\n사용한 기술 스택 \\n-FE(프론트엔드): React Native, Expo, Axios\\n-BE(백엔드): Spring Boot, Spring Security, MySQL, SSE, FCM, JWT, Postman\\n\\n---\\n\\n🏅\\xa0입선\\n[BLOTIE] 교내 외국인X내국인 매칭 및 교류 플랫폼\\n서비스 제작자: 블로티(이은주, 한명수, 황준영)\\n💡F는 T대학에 교환학생으로 온 외국인입니다. K팝 문화가 좋아 한국에 왔지만, 말도 잘 통하지 않고 문화 차이도 있어서 한국 캠퍼스 생활이 쉽지만은 않은데요. 한국어로 수업을 듣고 한국 친구도 사귀고 싶지만 한국 대학의 학사 일정과 과제 등 여러 시스템이 달라서 적응하기 어려웠습니다. 한국어가 서툴다보니 수업에서 제공되는 다양한 정보를 이해하기 어려웠고, 중요한 공지사항을 놓치기도 했습니다. 한국인 친구를 먼저 사귀는 것이 급선무라고 생각했죠.\\n<BLOTIE>는 외국인 학생이 가진 이런 문제를 해결하고, 보다 친밀하고 자유로운 글로벌 캠퍼스 문화를 조성하기 위해 만들어진 플랫폼입니다. ‘1:1 매칭 기능’으로 교내 외국인 학생과 한국인 학생을 쉽게 연결할 수 있어요. 서로의 문화와 언어를 자연스럽게 배우고 교류할 수 있습니다. 관심사, 언어 능력, 성격 등을 기반으로 이뤄지기 때문에 일회성 매칭에 대한 걱정도 줄어들어요. 매칭된 학생들은 플랫폼 내에서 ‘실시간 채팅과 피드 기능’으로 자유롭게 소통할 수 있고, 다양한 주제로 만남을 이어갈 수 있습니다.\\n외국인은 한국어 실력을 향상할 수 있고 한국인은 외국어를 실생활에서 연습할 기회를 얻을 수 있어요. BLOTIE를 통해 캠퍼스 내에 보다 다양한 문화가 공존하고, 학생들 간의 유대감이 강화되고, 서로 다른 배경을 가진 학생들이 함께 성장할 수 있는 환경이 조성됩니다. 글로벌 사회에서 중요한 소통 능력을 기를 수 있는 문화의 장으로 쓰일 수 있겠죠!\\n사용한 기술 스택\\n-FE(프론트엔드): Spring Boot, MySQL, Spring WebSocket\\n-BE(백엔드): React Native, TanStack Query, Axios \\nAnswer:\", additional_kwargs={}, response_metadata={})]\n"
          ]
        },
        {
          "output_type": "display_data",
          "data": {
            "text/plain": [
              "<IPython.core.display.HTML object>"
            ],
            "text/html": [
              "\n",
              "    <div style=\"font-family: monospace; line-height: 1.5;\">\n",
              "        <h4>🧑 User Query</h4>\n",
              "        <pre style=\"white-space: pre-wrap; word-break: break-word;\">대상</pre>\n",
              "        <hr>\n",
              "        <h4>🤖 LLM Response</h4>\n",
              "        <pre style=\"white-space: pre-wrap; word-break: break-word;\">대상은 대학생들이 캠퍼스에서 겪는 문제를 해결하기 위해 아이디어를 제안하고 개발한 서비스입니다. 스파르타코딩클럽의 코딩 공모전에서 수상작으로 선정된 프로젝트들이 포함되어 있습니다. 이 공모전은 누구나 자신의 아이디어를 실현할 수 있는 기회를 제공합니다.</pre>\n",
              "    </div>\n",
              "    "
            ]
          },
          "metadata": {}
        }
      ]
    },
    {
      "cell_type": "markdown",
      "source": [
        "\"대상\" 이라는 간단한 query에 new_retriever도 제대로 대상 프로젝트에 대해 대답하지 못하는 모습을 볼 수 있다. openai API msg를 보면 대상 프로젝트에 대한 문서 자체가 retriever에서 나오지 못한 걸 볼 수 있는데, 추측하건데 문서 길이에 비해 user_query가 너무 짧고, keyword 기반의 검색이 아니기 때문에 similarity를 비교하면서 의미를 찾지 못하는 것 같다.\n",
        "\n",
        "따라서 keywords 기반의 검색도 같이 하는 hybrid search를 langchain을 통해 쉽게 구현했다."
      ],
      "metadata": {
        "id": "EyejU2TuQtwJ"
      }
    },
    {
      "cell_type": "code",
      "source": [
        "!pip install rank_bm25"
      ],
      "metadata": {
        "colab": {
          "base_uri": "https://localhost:8080/"
        },
        "collapsed": true,
        "id": "Gf-dT30TOjwS",
        "outputId": "91991310-8082-4406-df3c-816ae6945b5e"
      },
      "execution_count": 54,
      "outputs": [
        {
          "output_type": "stream",
          "name": "stdout",
          "text": [
            "Collecting rank_bm25\n",
            "  Downloading rank_bm25-0.2.2-py3-none-any.whl.metadata (3.2 kB)\n",
            "Requirement already satisfied: numpy in /usr/local/lib/python3.11/dist-packages (from rank_bm25) (2.0.2)\n",
            "Downloading rank_bm25-0.2.2-py3-none-any.whl (8.6 kB)\n",
            "Installing collected packages: rank_bm25\n",
            "Successfully installed rank_bm25-0.2.2\n"
          ]
        }
      ]
    },
    {
      "cell_type": "code",
      "source": [
        "from langchain.retrievers import BM25Retriever\n",
        "from langchain.retrievers import EnsembleRetriever\n",
        "\n",
        "# ✅ 2. Sparse 기반: BM25Retriever\n",
        "bm25_retriever = BM25Retriever.from_documents(new_splits)\n",
        "bm25_retriever.k = 3\n",
        "\n",
        "# ✅ 3. Hybrid: EnsembleRetriever\n",
        "hybrid_retriever = EnsembleRetriever(\n",
        "    retrievers=[new_retriever, bm25_retriever],\n",
        "    weights=[0.5, 0.5],  # dense와 sparse 각각의 가중치 (튜닝 가능)\n",
        ")"
      ],
      "metadata": {
        "id": "HlplMl9FNx0P"
      },
      "execution_count": 58,
      "outputs": []
    },
    {
      "cell_type": "code",
      "source": [
        "generate_with_openai(hybrid_retriever, \"대상\")"
      ],
      "metadata": {
        "colab": {
          "base_uri": "https://localhost:8080/",
          "height": 256
        },
        "id": "OUcJ3utdPEdt",
        "outputId": "2b681051-da76-4db9-920d-c39698546875"
      },
      "execution_count": 65,
      "outputs": [
        {
          "output_type": "stream",
          "name": "stdout",
          "text": [
            "messages=[HumanMessage(content=\"You are an assistant for question-answering tasks. Use the following pieces of retrieved context to answer the question. If you don't know the answer, just say that you don't know. Use three sentences maximum and keep the answer concise.\\nQuestion: 대상 \\nContext: 사용한 기술 스택\\n-FE(프론트엔드): Spring Boot, MySQL, Spring WebSocket\\n-BE(백엔드): React Native, TanStack Query, Axios\\n코딩 공모전 수상작은 대학생들의 팀프로젝트를 통해 만들어진 웹/앱 서비스입니다. 캠퍼스에서의 문제를 해결하자는 참가자들의 아이디어에서 시작되었죠. 누구나 세상에 선보이고 싶은 나만의 아이디어와 기초 코딩 기술만 활용한다면, 얼마든지 서비스를 만들 수 있습니다. 스파르타코딩클럽의 내일배움캠프에서는 비전공, 초보자도 웹/앱 개발자로 거듭날 수 있는 다양한 트랙이 준비돼 있습니다. 나만의 아이디어를 세상에 선보이고 싶은 누구나에게 열려 있으니 주저말고 도전해 보세요.\\n💡<All-in> 코딩 공모전에서 만든 다양한 서비스를 만나보고 싶다면?\\n다양한 서비스와 기발한 아이디어가 모인 곳에 초대합니다. 참가자들의 문제 해결방법이 궁금하시다면 지금 바로 ‘All-in 공모전’에서 만나보세요!\\n👉🏻\\xa0공모전 결과물 보러가기\\n누구나 큰일 낼 수 있어\\n스파르타코딩클럽\\n글 | 신수지 팀스파르타 에디터\\n\\n---\\n\\n🏆\\xa0대상\\n[Lexi Note] 언어공부 필기 웹 서비스\\n서비스 제작자: 다나와(김다애, 박나경)\\n💡W는 어문학을 전공하는 대학생입니다. 매일 새로운 단어와 문장 구조를 공부하고 있지만, 효율적으로 학습하는 것이 쉽지 않았습니다. 단어의 의미를 찾기 위해 사전을 뒤적이고, 긴 문장을 이해하려고 번역기를 사용하다 보면, 필기 노트는 어느새 뒷전으로 밀려났거든요. 사전, 번역기, 원서, 필기노트를 왔다 갔다 하다 보면 시간이 다 지나가 버리곤 했죠.\\nW와 같이 어문 전공생은 문법, 어휘, 문장 구조 등 다양한 자료를 학습해야 합니다. 여러 자료를 번갈아 학습하다보니 ‘사전-번역기-원서-필기노트’ 왕복으로 학습 효율이 나지 않아 고민인 경우도 많으실 거예요. <Lexi Note>는 단어를 드래그하면 네이버 사전으로 바로 연동 돼 단어의 의미를 찾으며 동시에 필기 할 수 있어요. 이외에도 번역 버튼을 누르면 파파고 번역기가 연동돼 긴 문장도 쉽게 이해할 수 있어요. 언어 학습에 필요한 할일 목록과 스케줄 템플릿을 제공하여 효율적으로 공부할 수 있습니다. 필기, 사전, 번역을 한번에 쉽고 편하게 이용할 수 있죠. 더 이상 시간 낭비 없이 효율적으로 어문학을 공부하며 학습 속도도 눈에 띄게 빨라질 수 있어요. 언어 공부의 복잡함을 단순하게 만들어주는 Lexi Note가 요긴한 학습 도우미가 되었기 때문입니다.\\n사용한 기술 스택 \\n-FE(프론트엔드): React, Tesseract.js, React-Quill, HTML, CSS, JavaScript\\n-BE(백엔드): Java, Spring Boot, MariaDB\\n\\n---\\n\\n🏅\\xa0입선\\n[학교생활 매니저] 학교생활 관리 서비스\\n서비스 제작자: 아이칼F4(조민제, 이민기, 강건, 박근우)\\n💡A는 올해 복학한 3학년 학생입니다. 강의실과 도서관을 오가며 바쁜 일정을 소화하느라 정신이 없지만, 수업마다 나오는 과제와 각종 활동, 시험 준비까지 겹치면서 혼란에 빠지기 일쑤였습니다. 복학생이다 보니 학교에서 전달되는 공지사항도 제대로 전달받지 못해 항상 중요한 정보를 놓칠까 봐 걱정이었죠.\\n<학교생활 매니저> 서비스는 학교 생활을 효율적으로 관리할 수 있도록 돕기 위해 개발된 관리 앱입니다. 일정과 과제 관리, 성적 예측, 학점 계산 등 캠퍼스 생활과 관련된 다양한 기능을 한 곳에서 관리할 수 있어요. ‘캘린더 기능’을 통해 학교 학사 일정과 개인 일정을 한눈에 확인할 수 있고, 날짜마다 해야 할 일을 To-Do List에 추가해 두면 중요한 과제나 시험 일정이 다가올 때마다 알림을 받아 놓치는 일이 없습니다. ‘공지사항 기능’을 통해 실시간으로 업데이트되는 학교 공지를 한 곳에서 확인할 수 있습니다. ‘시간표 기능’은 수업시간, 강의실, 교수님 정보 등을 한눈에 볼 수 있어 출결 관리도 확실하게 할 수 있어요.\\n앱 내의 학점 계산기를 사용하면 성적이 그래프로 시각화되어 변화를 쉽게 파악할 수 있고, 앞으로의 성적 목표를 세우는 데에도 큰 도움이 됩니다. 예상 학점 기능을 통해 과목별 예상 등수와 학점을 미리 계산해 보며 학습 계획도 조정할 수 있어요. <학교생활 매니저>앱을 사용하면 체계적으로 대학 생활을 관리하고, 남은 학업과 일정을 효율적으로 관리할 수 있습니다.\\n사용한 기술 스택 \\n-FE(프론트엔드): Flutter\\n-BE(백엔드): Firebase\\n\\n---\\n\\n코딩은 더 이상 개발자만의 영역이 아닙니다. 누구나 아이디어만 있다면 창의적인 서비스를 만들어 세상을 바꿀 수 있습니다. 스파르타코딩클럽에서는 이러한 가능성을 믿고, 누구나 코딩을 통해 자신의 아이디어를 실현하고 실제 문제를 해결하는 경험을 쌓을 수 있도록 다양한 프로그램을 마련하고 있습니다.\\n<All-in> 코딩 공모전은 대학생들이 캠퍼스에서 겪은 불편함과 문제를 자신만의 아이디어로 해결해보는 대회였는데요. 이번 공모전에서 다양한 혁신적인 아이디어와 열정으로 가득한 수많은 프로젝트가 탄생했습니다. 그중 뛰어난 성과를 낸 수상작 6개를 소개합니다. \\nAnswer:\", additional_kwargs={}, response_metadata={})]\n"
          ]
        },
        {
          "output_type": "display_data",
          "data": {
            "text/plain": [
              "<IPython.core.display.HTML object>"
            ],
            "text/html": [
              "\n",
              "    <div style=\"font-family: monospace; line-height: 1.5;\">\n",
              "        <h4>🧑 User Query</h4>\n",
              "        <pre style=\"white-space: pre-wrap; word-break: break-word;\">대상</pre>\n",
              "        <hr>\n",
              "        <h4>🤖 LLM Response</h4>\n",
              "        <pre style=\"white-space: pre-wrap; word-break: break-word;\">대상은 \"Lexi Note\"라는 언어공부 필기 웹 서비스로, 제작자는 다나와(김다애, 박나경)입니다. 이 서비스는 단어를 드래그하여 네이버 사전과 연동하고, 번역 기능을 통해 효율적인 언어 학습을 지원합니다. 사용된 기술 스택은 프론트엔드에 React, Tesseract.js, React-Quill, HTML, CSS, JavaScript가 있으며, 백엔드는 Java, Spring Boot, MariaDB입니다.</pre>\n",
              "    </div>\n",
              "    "
            ]
          },
          "metadata": {}
        }
      ]
    },
    {
      "cell_type": "markdown",
      "source": [
        "대상 프로젝트에 정확하게 대답하는 것을 볼 수 있었다."
      ],
      "metadata": {
        "id": "xgJvSk98R5hP"
      }
    }
  ]
}