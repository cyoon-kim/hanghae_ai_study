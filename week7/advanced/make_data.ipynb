{
 "cells": [
  {
   "cell_type": "markdown",
   "id": "f924857b",
   "metadata": {},
   "source": [
    "### week7 심화과제\n",
    "\n",
    "RAG 서비스를 제공하는 솔루션에 있는 문서에 따른 질문 추천 모델을 파인튜닝"
   ]
  },
  {
   "cell_type": "code",
   "execution_count": null,
   "id": "f7c6869b",
   "metadata": {},
   "outputs": [],
   "source": [
    "import json\n",
    "\n",
    "with open(\"raw_data/KorQuAD_v1.0_dev.json\", \"r\", encoding=\"utf-8\") as f:\n",
    "    data = json.load(f)"
   ]
  },
  {
   "cell_type": "code",
   "execution_count": 38,
   "id": "befb9de0",
   "metadata": {},
   "outputs": [
    {
     "name": "stdout",
     "output_type": "stream",
     "text": [
      "데이터 개수 : 140\n",
      "{'paragraphs': [{'qas': [{'answers': [{'text': 'TBC', 'answer_start': 208}], 'id': '5782847-0-0', 'question': 'jtbc가 설립하기전에 처음 사용하려고 했던 이름은 무엇인가?'}, {'answers': [{'text': '2009년 7월 22일', 'answer_start': 0}], 'id': '5782847-0-1', 'question': '종편채널 설립에 있어 법적 근거를 부여하는 방송법이 국회를 통과된 날은 언제인가?'}, {'answers': [{'text': '대구방송', 'answer_start': 275}], 'id': '5782847-0-2', 'question': '이름을 jtbc전에 tbc를 사용하려 했으나 이름이 선점하고 있었기 때문인데, 어느 곳이 tbc라는 이름을 사용하고 있었나?'}, {'answers': [{'text': '2010년 11월 30일', 'answer_start': 147}], 'id': '6489801-0-0', 'question': '종합편성채널의 신청서가 접수된 해는?'}, {'answers': [{'text': 'TBC', 'answer_start': 208}], 'id': '6489801-0-1', 'question': 'JTBC 전 종합편성채널에 신청하려 했건 이름은?'}, {'answers': [{'text': 'TBC', 'answer_start': 208}], 'id': '6470395-0-0', 'question': '중앙일보가 종합편성채널의 명칭으로 사용하고자 했던 이름은 무엇인가?'}, {'answers': [{'text': '동양방송', 'answer_start': 195}], 'id': '6470395-0-1', 'question': '중앙일보의 종합편성채널 JTBC라는 명칭에서 TBC는 무엇의 영문 약칭인가?'}], 'context': '2009년 7월 22일에 여러 차례 논란 끝에 종합편성채널에 법적 근거를 부여하는 방송법 개정안이 당시 여당인 한나라당의 단독 강행 처리로 국회를 통과했는데, 이는 야당과 시민사회단체로부터 \"날치기\"라고 비판 받고, 일사부재의의 원칙 위배 논란이 불거졌다. 이후 2010년 11월 30일에 종합편성채널의 신청서 접수가 시작되었을 때, 중앙일보 측은 동양방송의 영문 약칭인 TBC라는 이름으로 신청을 시도하려 했으나, 해당 약칭을 1990년대부터 대구•경북 지역의 SBS 계열 지역민영방송사인 대구방송(Taegu Broadcasting Corporation, 현 주식회사 티비씨)이 선점하여 jTBC(소문자 j)라는 이름으로 신청서를 제출하였다. (이후 중앙일보 측은 J를 뺀 TBC 상표를 사용하고자 해당 상표를 보유한 대구방송과 여러번 접촉했으나, 결국 대구방송 측의 거절로 실패했다.)'}, {'qas': [{'answers': [{'text': '2013년 11월 15일', 'answer_start': 0}], 'id': '5782847-1-0', 'question': 'SBS와 MBC를 앞서 방송평가 3위를 한 날은 언제인가?'}, {'answers': [{'text': '1397억원', 'answer_start': 186}], 'id': '5782847-1-1', 'question': '2012년 jtbc의 영업손실은 얼마인가?'}, {'answers': [{'text': '2013년', 'answer_start': 90}], 'id': '6489801-1-0', 'question': 'JTBC가 지상파채널의 신뢰도를 뛰어넘은 해는?'}, {'answers': [{'text': '1397억원', 'answer_start': 186}], 'id': '6489801-1-1', 'question': 'JTBC의 2012년 영업손실 액은?'}, {'answers': [{'text': '3위', 'answer_start': 78}], 'id': '6470395-1-0', 'question': '2012년도 방송평가에서 JTBC는 지상파 포함 몇 위를 기록하였는가?'}, {'answers': [{'text': '1397억원', 'answer_start': 186}], 'id': '6470395-1-1', 'question': 'JTBC의 2012년 영업손실은 얼마인가?'}], 'context': '2013년 11월 15일, 방송통신위원회 전체회의에서 의결된 2012년도 방송평가에 따르면 JTBC는 SBS와 MBC를 제치고 지상파 포함 3위를 기록하였으며, 2013년 말 조사한 여론조사에서도 방송 신뢰도가 지상파채널인 MBC와 SBS를 추월했다. 그러나 이러한 지상파급 막대한 투자를 하다보니 과유불급인지 2012년 영업손실은 1397억원으로 종합편성채널과 보도전문편성 사업자들 중 가장 높은 것으로 집계되었다. 그럼에도 제작비가 비교적 적게 드는 시사, 교양 프로에 치중하는 다른 종편사들에 비해 예능, 드라마, 스포츠 같은 다양한 장르에 꾸준히 투자하는 모양새. 종합편성채널이란 원래 취지엔 가장 부합하는 포지션을 취하고 있다.'}], 'title': 'JTBC'}\n"
     ]
    }
   ],
   "source": [
    "print(f\"데이터 개수 : {len(data['data'])}\")\n",
    "print(data['data'][30])"
   ]
  },
  {
   "cell_type": "markdown",
   "id": "2e6ad8fb",
   "metadata": {},
   "source": [
    "#### ✍️ 학습용 데이터 생성\n",
    "\n",
    "이미 korQuAD는 QA dataset이기 때문에 해당 데이터에 있는 question을 활용하여 LLM을 사용하지 않고 데이터셋을 만들 수 있습니다.   \n",
    "RAG에 들어오는 chunk 마다 추천 질문을 만들 것 이기 때문에 여러 질문을 생성하게 하지 않고 한개의 질문을 생성하게 합니다.   \n",
    "  - 1개의 문서 -> 20개의 chunk -> chunk당 추천 질문 생성 -> 20개의 추천 질문 생성됨 (random 하게 n개 제공)   "
   ]
  },
  {
   "cell_type": "code",
   "execution_count": 43,
   "id": "0701f402",
   "metadata": {},
   "outputs": [
    {
     "name": "stdout",
     "output_type": "stream",
     "text": [
      "총 140개 생성됨\n",
      "{\n",
      "  \"instruction\": \"다음 문단을 읽고 질문을 만들어 주세요.\",\n",
      "  \"input\": \"\\\"내각과 장관들이 소외되고 대통령비서실의 권한이 너무 크다\\\", \\\"행보가 비서 본연의 역할을 벗어난다\\\"는 의견이 제기되었다. 대표적인 예가 10차 개헌안 발표이다. 원로 헌법학자인 허영 경희대 석좌교수는 정부의 헌법개정안 준비 과정에 대해 \\\"청와대 비서실이 아닌 국무회의 중심으로 이뤄졌어야 했다\\\"고 지적했다. '국무회의의 심의를 거쳐야 한다'(제89조)는 헌법 규정에 충실하지 않았다는 것이다. 그러면서 \\\"법무부 장관을 제쳐놓고 민정수석이 개정안을 설명하는 게 이해가 안 된다\\\"고 지적했다. 민정수석은 국회의원에 대해 책임지는 법무부 장관도 아니고, 국민에 대해 책임지는 사람도 아니기 때문에 정당성이 없고, 단지 대통령의 신임이 있을 뿐이라는 것이다. 또한 국무총리 선출 방식에 대한 기자의 질문에 \\\"문 대통령도 취임 전에 국무총리에게 실질적 권한을 주겠다고 했지만 그러지 못하고 있다. 대통령비서실장만도 못한 권한을 행사하고 있다.\\\"고 답변했다.\",\n",
      "  \"output\": \"정부의 헌법개정안 준비 과정에 대해서 청와대 비서실이 아니라 국무회의 중심으로 이뤄졌어야 했다고 지적한 원로 헌법학자는?\"\n",
      "}\n"
     ]
    }
   ],
   "source": [
    "import random\n",
    "\n",
    "instruction_data = []\n",
    "\n",
    "for doc in data[\"data\"]:\n",
    "    paragraphs = doc[\"paragraphs\"]\n",
    "    valid_paragraphs = [p for p in paragraphs if p[\"qas\"]]  # 질문이 있는 문단만\n",
    "\n",
    "    if not valid_paragraphs:\n",
    "        continue  # 질문 없는 문서 제외\n",
    "\n",
    "    # 랜덤으로 하나 선택\n",
    "    para = random.choice(valid_paragraphs)\n",
    "    context = para[\"context\"].strip()\n",
    "    question = para[\"qas\"][0][\"question\"].strip()\n",
    "\n",
    "    # instruction-format 구성\n",
    "    instruction_data.append({\n",
    "        \"instruction\": \"다음 문단을 읽고 질문을 만들어 주세요.\",\n",
    "        \"input\": context,\n",
    "        \"output\": question if question.endswith(\"?\") else question + \"?\"\n",
    "    })\n",
    "\n",
    "# 결과 예시 출력\n",
    "print(f\"총 {len(instruction_data)}개 생성됨\")\n",
    "print(json.dumps(instruction_data[0], ensure_ascii=False, indent=2))"
   ]
  },
  {
   "cell_type": "code",
   "execution_count": 44,
   "id": "e159cd0b",
   "metadata": {},
   "outputs": [],
   "source": [
    "with open(\"corpus.json\", \"w\", encoding=\"utf-8\") as f:\n",
    "    json.dump(instruction_data, f, ensure_ascii=False, indent=2)"
   ]
  }
 ],
 "metadata": {
  "kernelspec": {
   "display_name": "myenv",
   "language": "python",
   "name": "python3"
  },
  "language_info": {
   "codemirror_mode": {
    "name": "ipython",
    "version": 3
   },
   "file_extension": ".py",
   "mimetype": "text/x-python",
   "name": "python",
   "nbconvert_exporter": "python",
   "pygments_lexer": "ipython3",
   "version": "3.11.11"
  }
 },
 "nbformat": 4,
 "nbformat_minor": 5
}
