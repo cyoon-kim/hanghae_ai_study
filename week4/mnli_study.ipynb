{
 "cells": [
  {
   "cell_type": "markdown",
   "metadata": {},
   "source": [
    "HuggingFace로 두 문장의 논리적 모순 분류하기"
   ]
  },
  {
   "cell_type": "markdown",
   "metadata": {},
   "source": [
    "## 1. dataset 준비"
   ]
  },
  {
   "cell_type": "code",
   "execution_count": 1,
   "metadata": {},
   "outputs": [
    {
     "name": "stderr",
     "output_type": "stream",
     "text": [
      "/home/jovyan/NLP_study/myenv/lib/python3.12/site-packages/tqdm/auto.py:21: TqdmWarning: IProgress not found. Please update jupyter and ipywidgets. See https://ipywidgets.readthedocs.io/en/stable/user_install.html\n",
      "  from .autonotebook import tqdm as notebook_tqdm\n"
     ]
    }
   ],
   "source": [
    "import random\n",
    "import evaluate\n",
    "import numpy as np\n",
    "import pandas as pd\n",
    "\n",
    "from datasets import load_dataset\n",
    "from transformers import AutoTokenizer, AutoModelForSequenceClassification\n",
    "from collections import defaultdict\n",
    "import matplotlib.pyplot as plt"
   ]
  },
  {
   "cell_type": "code",
   "execution_count": 2,
   "metadata": {},
   "outputs": [],
   "source": [
    "ds = load_dataset(\"nyu-mll/glue\", \"mnli\")\n",
    "\n",
    "train_ds = ds['train']"
   ]
  },
  {
   "cell_type": "markdown",
   "metadata": {},
   "source": [
    "### 📋 MNLI 데이터셋 라벨 확인\n",
    "|label|설명|\n",
    "|--|--|\n",
    "|0|Entailment|\n",
    "|1|Neutral|\n",
    "|2|Contradiction|\n",
    "\n"
   ]
  },
  {
   "cell_type": "code",
   "execution_count": 4,
   "metadata": {},
   "outputs": [
    {
     "name": "stdout",
     "output_type": "stream",
     "text": [
      "\n",
      "Label: neutral\n",
      "[Sample 1] Premise: Conceptually cream skimming has two basic dimensions - product and geography.\n",
      "           Hypothesis: Product and geography are what make cream skimming work. \n",
      "[Sample 2] Premise: yeah i tell you what though if you go price some of those tennis shoes i can see why now you know they're getting up in the hundred dollar range\n",
      "           Hypothesis: The tennis shoes have a range of prices.\n",
      "\n",
      "Label: entailment\n",
      "[Sample 1] Premise: you know during the season and i guess at at your level uh you lose them to the next level if if they decide to recall the the parent team the Braves decide to call to recall a guy from triple A then a double A guy goes up to replace him and a single A guy goes up to replace him\n",
      "           Hypothesis: You lose the things to the following level if the people recall.\n",
      "[Sample 2] Premise: One of our number will carry out your instructions minutely.\n",
      "           Hypothesis: A member of my team will execute your orders with immense precision.\n",
      "\n",
      "Label: contradiction\n",
      "[Sample 1] Premise: Gays and lesbians.\n",
      "           Hypothesis: Heterosexuals.\n",
      "[Sample 2] Premise: At the end of Rue des Francs-Bourgeois is what many consider to be the city's most handsome residential square, the Place des Vosges, with its stone and red brick facades.\n",
      "           Hypothesis: Place des Vosges is constructed entirely of gray marble.\n"
     ]
    }
   ],
   "source": [
    "label_names = train_ds.features[\"label\"].names\n",
    "label_samples = defaultdict(list)\n",
    "\n",
    "for data in train_ds:\n",
    "    label = data['label']\n",
    "    if len(label_samples[label]) < 2:\n",
    "        label_samples[label].append(data)\n",
    "    if sum(len(v) for v in label_samples.values()) == 6:\n",
    "        break\n",
    "\n",
    "for label_idx, samples in label_samples.items():\n",
    "    print(f\"\\nLabel: {label_names[label_idx]}\")\n",
    "    for i, sample in enumerate(samples):\n",
    "        print(f\"[Sample {i+1}] Premise: {sample['premise']}\")\n",
    "        print(f\"           Hypothesis: {sample['hypothesis']}\")"
   ]
  },
  {
   "cell_type": "code",
   "execution_count": 5,
   "metadata": {},
   "outputs": [
    {
     "name": "stdout",
     "output_type": "stream",
     "text": [
      "0: entailment\n",
      "1: neutral\n",
      "2: contradiction\n"
     ]
    }
   ],
   "source": [
    "label_names = train_ds.features['label'].names\n",
    "\n",
    "for idx, name in enumerate(label_names):\n",
    "    print(f\"{idx}: {name}\")"
   ]
  },
  {
   "cell_type": "markdown",
   "metadata": {},
   "source": [
    "### dataset 전처리"
   ]
  },
  {
   "cell_type": "code",
   "execution_count": 6,
   "metadata": {},
   "outputs": [],
   "source": [
    "def preprocessing_data(model_name, ds):\n",
    "    tokenizer = AutoTokenizer.from_pretrained(model_name)\n",
    "\n",
    "    def preprocess_func(data):\n",
    "        return tokenizer(data['premise'], data['hypothesis'], truncation=True, padding=True)\n",
    "\n",
    "    encoded_ds = ds.map(preprocess_func, batched=True)\n",
    "\n",
    "    return encoded_ds, tokenizer"
   ]
  },
  {
   "cell_type": "code",
   "execution_count": 7,
   "metadata": {},
   "outputs": [],
   "source": [
    "model_name = \"distilbert-base-cased\"\n",
    "\n",
    "distil_ds, tokenizer = preprocessing_data(model_name, ds)"
   ]
  },
  {
   "cell_type": "markdown",
   "metadata": {},
   "source": [
    "## 2. model train"
   ]
  },
  {
   "cell_type": "markdown",
   "metadata": {},
   "source": [
    "### set BERT Config\n"
   ]
  },
  {
   "cell_type": "code",
   "execution_count": 8,
   "metadata": {},
   "outputs": [],
   "source": [
    "from transformers import BertConfig\n",
    "\n",
    "def setModel(hidden_size=64, num_hidden_layers=2, num_attention_heads=4, num_labels=3, hidden_act='gelu', hidden_dropout_prob=0, attention_probs_dropout_prob=0):\n",
    "    config = BertConfig()\n",
    "\n",
    "    config.hidden_size = hidden_size\n",
    "    config.intermediate_size = hidden_size * 4\n",
    "    config.num_hidden_layers = num_hidden_layers\n",
    "    config.num_attention_heads = num_attention_heads\n",
    "    config.num_labels = num_labels\n",
    "    config.hidden_dropout_prob = hidden_dropout_prob\n",
    "    config.attention_probs_dropout_prob = attention_probs_dropout_prob\n",
    "\n",
    "    model = AutoModelForSequenceClassification.from_config(config)\n",
    "\n",
    "    return model"
   ]
  },
  {
   "cell_type": "code",
   "execution_count": 9,
   "metadata": {},
   "outputs": [
    {
     "data": {
      "text/plain": [
       "BertForSequenceClassification(\n",
       "  (bert): BertModel(\n",
       "    (embeddings): BertEmbeddings(\n",
       "      (word_embeddings): Embedding(30522, 64, padding_idx=0)\n",
       "      (position_embeddings): Embedding(512, 64)\n",
       "      (token_type_embeddings): Embedding(2, 64)\n",
       "      (LayerNorm): LayerNorm((64,), eps=1e-12, elementwise_affine=True)\n",
       "      (dropout): Dropout(p=0, inplace=False)\n",
       "    )\n",
       "    (encoder): BertEncoder(\n",
       "      (layer): ModuleList(\n",
       "        (0-1): 2 x BertLayer(\n",
       "          (attention): BertAttention(\n",
       "            (self): BertSdpaSelfAttention(\n",
       "              (query): Linear(in_features=64, out_features=64, bias=True)\n",
       "              (key): Linear(in_features=64, out_features=64, bias=True)\n",
       "              (value): Linear(in_features=64, out_features=64, bias=True)\n",
       "              (dropout): Dropout(p=0, inplace=False)\n",
       "            )\n",
       "            (output): BertSelfOutput(\n",
       "              (dense): Linear(in_features=64, out_features=64, bias=True)\n",
       "              (LayerNorm): LayerNorm((64,), eps=1e-12, elementwise_affine=True)\n",
       "              (dropout): Dropout(p=0, inplace=False)\n",
       "            )\n",
       "          )\n",
       "          (intermediate): BertIntermediate(\n",
       "            (dense): Linear(in_features=64, out_features=256, bias=True)\n",
       "            (intermediate_act_fn): GELUActivation()\n",
       "          )\n",
       "          (output): BertOutput(\n",
       "            (dense): Linear(in_features=256, out_features=64, bias=True)\n",
       "            (LayerNorm): LayerNorm((64,), eps=1e-12, elementwise_affine=True)\n",
       "            (dropout): Dropout(p=0, inplace=False)\n",
       "          )\n",
       "        )\n",
       "      )\n",
       "    )\n",
       "    (pooler): BertPooler(\n",
       "      (dense): Linear(in_features=64, out_features=64, bias=True)\n",
       "      (activation): Tanh()\n",
       "    )\n",
       "  )\n",
       "  (dropout): Dropout(p=0, inplace=False)\n",
       "  (classifier): Linear(in_features=64, out_features=3, bias=True)\n",
       ")"
      ]
     },
     "execution_count": 9,
     "metadata": {},
     "output_type": "execute_result"
    }
   ],
   "source": [
    "base_model = setModel()\n",
    "base_model"
   ]
  },
  {
   "cell_type": "markdown",
   "metadata": {},
   "source": [
    "### 평가 매트릭 정의\n",
    "\n",
    "1. compute_metrics(eval_pred)   \n",
    "  eval_pred는 Trainer 가 자동으로 넣어주는 Tuple   \n",
    "\n",
    "```python\n",
    "eval_pred = (\n",
    "    np.array([1.2, 0.3, 3.1], [0.1, 2.7, 1.7]) #preds\n",
    "    np.array([2, 1]) #labels\n",
    ")\n",
    "```\n",
    "\n",
    "2. evaluate   \n",
    "  huggingface 제공 evalutate lib 사용   \n",
    "  * load(\"accuracy\") : accuracy\n",
    "  * load(\"f1\") : macro_f1"
   ]
  },
  {
   "cell_type": "code",
   "execution_count": 10,
   "metadata": {},
   "outputs": [],
   "source": [
    "accuracy = evaluate.load(\"accuracy\")\n",
    "f1 = evaluate.load(\"f1\")\n",
    "\n",
    "def compute_metrics(pred):\n",
    "    predictions, labels = pred\n",
    "    predictions = np.argmax(predictions, axis=1)\n",
    "\n",
    "    acc = accuracy.compute(predictions=predictions, references=labels)\n",
    "    f1_score = f1.compute(predictions=predictions, references=labels, average='macro')\n",
    "\n",
    "    return {\n",
    "        \"accuracy\": float(acc[\"accuracy\"]),\n",
    "        \"f1\": float(f1_score[\"f1\"])\n",
    "    }"
   ]
  },
  {
   "cell_type": "markdown",
   "metadata": {},
   "source": [
    "#### trainer log 시각화 plot"
   ]
  },
  {
   "cell_type": "code",
   "execution_count": 11,
   "metadata": {},
   "outputs": [],
   "source": [
    "def show_log_history(log_history):\n",
    "    df = pd.DataFrame(log_history)\n",
    "\n",
    "    eval_df = df[df['eval_loss'].notna()]\n",
    "\n",
    "    # Subplot으로 분할\n",
    "    fig, axes = plt.subplots(1, 2, figsize=(6, 3))\n",
    "\n",
    "    # Accuracy Plot\n",
    "    axes[0].plot(eval_df['step'], eval_df['eval_accuracy'], label='Eval Accuracy', marker='o')\n",
    "    axes[0].set_xlabel(\"Step\")\n",
    "    axes[0].set_ylabel(\"Accuracy\")\n",
    "    axes[0].set_title(\"Eval Accuracy\")\n",
    "    axes[0].grid(True)\n",
    "\n",
    "    # Loss Plot\n",
    "    axes[1].plot(eval_df['step'], eval_df['eval_loss'], label='Eval Loss', marker='x', color='orange')\n",
    "    axes[1].set_xlabel(\"Step\")\n",
    "    axes[1].set_ylabel(\"Loss\")\n",
    "    axes[1].set_title(\"Eval Loss\")\n",
    "    axes[1].grid(True)\n",
    "\n",
    "    plt.tight_layout()\n",
    "    plt.show()"
   ]
  },
  {
   "cell_type": "markdown",
   "metadata": {},
   "source": [
    "### 학습 설정"
   ]
  },
  {
   "cell_type": "code",
   "execution_count": 12,
   "metadata": {},
   "outputs": [],
   "source": [
    "from transformers import TrainingArguments, Trainer\n",
    "\n",
    "base_training_args = TrainingArguments(\n",
    "    output_dir='./hf_basic',\n",
    "    num_train_epochs=5,\n",
    "    per_device_train_batch_size=128,\n",
    "    per_device_eval_batch_size=128,\n",
    "    logging_strategy=\"epoch\",\n",
    "    do_train=True,\n",
    "    do_eval=True,\n",
    "    eval_strategy=\"epoch\",\n",
    "    save_strategy=\"epoch\",\n",
    "    learning_rate=2e-4,\n",
    "    load_best_model_at_end=True,\n",
    "    gradient_accumulation_steps=2\n",
    ")"
   ]
  },
  {
   "cell_type": "code",
   "execution_count": 13,
   "metadata": {},
   "outputs": [],
   "source": [
    "from transformers import EarlyStoppingCallback\n",
    "\n",
    "def make_trainier(model, training_args, compute_metrics, model_name):\n",
    "    encoded_ds, tokenizer = preprocessing_data(model_name, ds)\n",
    "\n",
    "    trainer = Trainer(\n",
    "        model=model,\n",
    "        args=training_args,\n",
    "        train_dataset=distil_ds['train'],\n",
    "        eval_dataset=distil_ds['validation_matched'],\n",
    "        compute_metrics=compute_metrics,\n",
    "        tokenizer=tokenizer\n",
    "    )\n",
    "    return trainer"
   ]
  },
  {
   "cell_type": "code",
   "execution_count": 14,
   "metadata": {},
   "outputs": [
    {
     "name": "stderr",
     "output_type": "stream",
     "text": [
      "/tmp/ipykernel_115084/3116004264.py:6: FutureWarning: `tokenizer` is deprecated and will be removed in version 5.0.0 for `Trainer.__init__`. Use `processing_class` instead.\n",
      "  trainer = Trainer(\n"
     ]
    }
   ],
   "source": [
    "distil_model_name = \"distilbert-base-cased\"\n",
    "\n",
    "base_trainier = make_trainier(base_model, base_training_args, compute_metrics, distil_model_name)"
   ]
  },
  {
   "cell_type": "code",
   "execution_count": 14,
   "metadata": {},
   "outputs": [
    {
     "name": "stderr",
     "output_type": "stream",
     "text": [
      "/home/jovyan/NLP_study/myenv/lib/python3.12/site-packages/torch/nn/parallel/_functions.py:70: UserWarning: Was asked to gather along dimension 0, but all input tensors were scalars; will instead unsqueeze and return a vector.\n",
      "  warnings.warn(\n"
     ]
    },
    {
     "data": {
      "text/html": [
       "\n",
       "    <div>\n",
       "      \n",
       "      <progress value='3835' max='3835' style='width:300px; height:20px; vertical-align: middle;'></progress>\n",
       "      [3835/3835 12:12, Epoch 5/5]\n",
       "    </div>\n",
       "    <table border=\"1\" class=\"dataframe\">\n",
       "  <thead>\n",
       " <tr style=\"text-align: left;\">\n",
       "      <th>Epoch</th>\n",
       "      <th>Training Loss</th>\n",
       "      <th>Validation Loss</th>\n",
       "      <th>Accuracy</th>\n",
       "      <th>F1</th>\n",
       "    </tr>\n",
       "  </thead>\n",
       "  <tbody>\n",
       "    <tr>\n",
       "      <td>1</td>\n",
       "      <td>1.020700</td>\n",
       "      <td>0.969945</td>\n",
       "      <td>0.528375</td>\n",
       "      <td>0.528423</td>\n",
       "    </tr>\n",
       "    <tr>\n",
       "      <td>2</td>\n",
       "      <td>0.942800</td>\n",
       "      <td>0.933178</td>\n",
       "      <td>0.549159</td>\n",
       "      <td>0.548918</td>\n",
       "    </tr>\n",
       "    <tr>\n",
       "      <td>3</td>\n",
       "      <td>0.903600</td>\n",
       "      <td>0.927544</td>\n",
       "      <td>0.551910</td>\n",
       "      <td>0.551018</td>\n",
       "    </tr>\n",
       "    <tr>\n",
       "      <td>4</td>\n",
       "      <td>0.878000</td>\n",
       "      <td>0.933367</td>\n",
       "      <td>0.549567</td>\n",
       "      <td>0.549712</td>\n",
       "    </tr>\n",
       "    <tr>\n",
       "      <td>5</td>\n",
       "      <td>0.858800</td>\n",
       "      <td>0.939401</td>\n",
       "      <td>0.550891</td>\n",
       "      <td>0.551299</td>\n",
       "    </tr>\n",
       "  </tbody>\n",
       "</table><p>"
      ],
      "text/plain": [
       "<IPython.core.display.HTML object>"
      ]
     },
     "metadata": {},
     "output_type": "display_data"
    },
    {
     "name": "stderr",
     "output_type": "stream",
     "text": [
      "/home/jovyan/NLP_study/myenv/lib/python3.12/site-packages/torch/nn/parallel/_functions.py:70: UserWarning: Was asked to gather along dimension 0, but all input tensors were scalars; will instead unsqueeze and return a vector.\n",
      "  warnings.warn(\n",
      "/home/jovyan/NLP_study/myenv/lib/python3.12/site-packages/torch/nn/parallel/_functions.py:70: UserWarning: Was asked to gather along dimension 0, but all input tensors were scalars; will instead unsqueeze and return a vector.\n",
      "  warnings.warn(\n",
      "/home/jovyan/NLP_study/myenv/lib/python3.12/site-packages/torch/nn/parallel/_functions.py:70: UserWarning: Was asked to gather along dimension 0, but all input tensors were scalars; will instead unsqueeze and return a vector.\n",
      "  warnings.warn(\n",
      "/home/jovyan/NLP_study/myenv/lib/python3.12/site-packages/torch/nn/parallel/_functions.py:70: UserWarning: Was asked to gather along dimension 0, but all input tensors were scalars; will instead unsqueeze and return a vector.\n",
      "  warnings.warn(\n"
     ]
    }
   ],
   "source": [
    "base_trainier.train()\n",
    "base_trainier.save_model()"
   ]
  },
  {
   "cell_type": "code",
   "execution_count": 19,
   "metadata": {},
   "outputs": [
    {
     "data": {
      "image/png": "[encoded data removed]",
      "text/plain": [
       "<Figure size 600x300 with 2 Axes>"
      ]
     },
     "metadata": {},
     "output_type": "display_data"
    }
   ],
   "source": [
    "show_log_history(base_trainier.state.log_history)"
   ]
  },
  {
   "cell_type": "markdown",
   "metadata": {},
   "source": [
    "---"
   ]
  },
  {
   "cell_type": "markdown",
   "metadata": {},
   "source": [
    "기본 예제에 있던 값들을 사용한 base와 model_1 비교\n",
    "\n",
    "||base|model_1|model_2|model_3|\n",
    "|--|--|--|--|--|\n",
    "|hidden_size|64|128|128|128|\n",
    "|num_hidden_layers|2|4|4|4|\n",
    "|hidden_act|gelu|relu|gelu|gelu|\n",
    "|hidden_dropout_prob|0|0.1|0.1|0.1|\n",
    "|scheduler|X|O|O|O|\n",
    "||||||\n",
    "|lr|2e-4|3e-5|3e-5|3e-4|\n",
    "|epoch|5|5|5|3|\n",
    "|성능|55.1%|53.8%|53.6%|59.3%|\n",
    "\n",
    "* base -> model1/model2\n",
    "  * 성능 감소\n",
    "    * learning_rate 너무 작게함\n",
    "    * relu gelu는 현재 param에서 큰 차이 없음\n",
    "* Model2 -> Model3\n",
    "  * 향상\n",
    "    * lr 크기 키움 -> 작은 모델에서는 천천히 학습되기 때문에 lr을 크게 가져가는 것이 성능 향상에 좋은 것 같다."
   ]
  },
  {
   "cell_type": "code",
   "execution_count": 20,
   "metadata": {},
   "outputs": [
    {
     "name": "stderr",
     "output_type": "stream",
     "text": [
      "/tmp/ipykernel_22462/3116004264.py:6: FutureWarning: `tokenizer` is deprecated and will be removed in version 5.0.0 for `Trainer.__init__`. Use `processing_class` instead.\n",
      "  trainer = Trainer(\n",
      "/home/jovyan/NLP_study/myenv/lib/python3.12/site-packages/torch/nn/parallel/_functions.py:70: UserWarning: Was asked to gather along dimension 0, but all input tensors were scalars; will instead unsqueeze and return a vector.\n",
      "  warnings.warn(\n"
     ]
    },
    {
     "data": {
      "text/html": [
       "\n",
       "    <div>\n",
       "      \n",
       "      <progress value='7670' max='7670' style='width:300px; height:20px; vertical-align: middle;'></progress>\n",
       "      [7670/7670 16:35, Epoch 5/5]\n",
       "    </div>\n",
       "    <table border=\"1\" class=\"dataframe\">\n",
       "  <thead>\n",
       " <tr style=\"text-align: left;\">\n",
       "      <th>Epoch</th>\n",
       "      <th>Training Loss</th>\n",
       "      <th>Validation Loss</th>\n",
       "      <th>Accuracy</th>\n",
       "      <th>F1</th>\n",
       "    </tr>\n",
       "  </thead>\n",
       "  <tbody>\n",
       "    <tr>\n",
       "      <td>1</td>\n",
       "      <td>1.068200</td>\n",
       "      <td>1.010463</td>\n",
       "      <td>0.487417</td>\n",
       "      <td>0.484596</td>\n",
       "    </tr>\n",
       "    <tr>\n",
       "      <td>2</td>\n",
       "      <td>0.991200</td>\n",
       "      <td>0.976641</td>\n",
       "      <td>0.522364</td>\n",
       "      <td>0.521686</td>\n",
       "    </tr>\n",
       "    <tr>\n",
       "      <td>3</td>\n",
       "      <td>0.968000</td>\n",
       "      <td>0.962374</td>\n",
       "      <td>0.528579</td>\n",
       "      <td>0.527709</td>\n",
       "    </tr>\n",
       "    <tr>\n",
       "      <td>4</td>\n",
       "      <td>0.951900</td>\n",
       "      <td>0.951903</td>\n",
       "      <td>0.536526</td>\n",
       "      <td>0.536563</td>\n",
       "    </tr>\n",
       "    <tr>\n",
       "      <td>5</td>\n",
       "      <td>0.941300</td>\n",
       "      <td>0.949062</td>\n",
       "      <td>0.537748</td>\n",
       "      <td>0.538076</td>\n",
       "    </tr>\n",
       "  </tbody>\n",
       "</table><p>"
      ],
      "text/plain": [
       "<IPython.core.display.HTML object>"
      ]
     },
     "metadata": {},
     "output_type": "display_data"
    },
    {
     "name": "stderr",
     "output_type": "stream",
     "text": [
      "/home/jovyan/NLP_study/myenv/lib/python3.12/site-packages/torch/nn/parallel/_functions.py:70: UserWarning: Was asked to gather along dimension 0, but all input tensors were scalars; will instead unsqueeze and return a vector.\n",
      "  warnings.warn(\n",
      "/home/jovyan/NLP_study/myenv/lib/python3.12/site-packages/torch/nn/parallel/_functions.py:70: UserWarning: Was asked to gather along dimension 0, but all input tensors were scalars; will instead unsqueeze and return a vector.\n",
      "  warnings.warn(\n",
      "/home/jovyan/NLP_study/myenv/lib/python3.12/site-packages/torch/nn/parallel/_functions.py:70: UserWarning: Was asked to gather along dimension 0, but all input tensors were scalars; will instead unsqueeze and return a vector.\n",
      "  warnings.warn(\n",
      "/home/jovyan/NLP_study/myenv/lib/python3.12/site-packages/torch/nn/parallel/_functions.py:70: UserWarning: Was asked to gather along dimension 0, but all input tensors were scalars; will instead unsqueeze and return a vector.\n",
      "  warnings.warn(\n"
     ]
    },
    {
     "data": {
      "image/png": "[encoded data removed]",
      "text/plain": [
       "<Figure size 600x300 with 2 Axes>"
      ]
     },
     "metadata": {},
     "output_type": "display_data"
    }
   ],
   "source": [
    "model_1 = setModel(hidden_size=128, num_hidden_layers=4, num_attention_heads=4, num_labels=3, hidden_act=\"relu\", hidden_dropout_prob=0.1)\n",
    "\n",
    "training_args_1 = TrainingArguments(\n",
    "    output_dir='./hf_model1',\n",
    "    num_train_epochs=5,\n",
    "    per_device_train_batch_size=128,\n",
    "    per_device_eval_batch_size=128,\n",
    "    logging_strategy=\"epoch\",\n",
    "    do_train=True,\n",
    "    do_eval=True,\n",
    "    eval_strategy=\"epoch\",\n",
    "    save_strategy=\"epoch\",\n",
    "    learning_rate=3e-5,\n",
    "    weight_decay=0.01,\n",
    "    warmup_steps=500,\n",
    "    lr_scheduler_type=\"linear\",\n",
    "    load_best_model_at_end=True\n",
    ")\n",
    "\n",
    "trainer_1 = make_trainier(model_1, training_args_1, compute_metrics, distil_model_name)\n",
    "\n",
    "trainer_1.train()\n",
    "trainer_1.save_model()\n",
    "\n",
    "show_log_history(trainer_1.state.log_history)"
   ]
  },
  {
   "cell_type": "code",
   "execution_count": 17,
   "metadata": {},
   "outputs": [
    {
     "name": "stderr",
     "output_type": "stream",
     "text": [
      "/tmp/ipykernel_115084/3116004264.py:6: FutureWarning: `tokenizer` is deprecated and will be removed in version 5.0.0 for `Trainer.__init__`. Use `processing_class` instead.\n",
      "  trainer = Trainer(\n",
      "/home/jovyan/NLP_study/myenv/lib/python3.12/site-packages/torch/nn/parallel/_functions.py:70: UserWarning: Was asked to gather along dimension 0, but all input tensors were scalars; will instead unsqueeze and return a vector.\n",
      "  warnings.warn(\n"
     ]
    },
    {
     "data": {
      "text/html": [
       "\n",
       "    <div>\n",
       "      \n",
       "      <progress value='7670' max='7670' style='width:300px; height:20px; vertical-align: middle;'></progress>\n",
       "      [7670/7670 16:27, Epoch 5/5]\n",
       "    </div>\n",
       "    <table border=\"1\" class=\"dataframe\">\n",
       "  <thead>\n",
       " <tr style=\"text-align: left;\">\n",
       "      <th>Epoch</th>\n",
       "      <th>Training Loss</th>\n",
       "      <th>Validation Loss</th>\n",
       "      <th>Accuracy</th>\n",
       "      <th>F1</th>\n",
       "    </tr>\n",
       "  </thead>\n",
       "  <tbody>\n",
       "    <tr>\n",
       "      <td>1</td>\n",
       "      <td>1.062300</td>\n",
       "      <td>1.008763</td>\n",
       "      <td>0.489557</td>\n",
       "      <td>0.487351</td>\n",
       "    </tr>\n",
       "    <tr>\n",
       "      <td>2</td>\n",
       "      <td>0.990500</td>\n",
       "      <td>0.976618</td>\n",
       "      <td>0.520937</td>\n",
       "      <td>0.520036</td>\n",
       "    </tr>\n",
       "    <tr>\n",
       "      <td>3</td>\n",
       "      <td>0.968600</td>\n",
       "      <td>0.963442</td>\n",
       "      <td>0.528477</td>\n",
       "      <td>0.527500</td>\n",
       "    </tr>\n",
       "    <tr>\n",
       "      <td>4</td>\n",
       "      <td>0.953800</td>\n",
       "      <td>0.954370</td>\n",
       "      <td>0.535813</td>\n",
       "      <td>0.535639</td>\n",
       "    </tr>\n",
       "    <tr>\n",
       "      <td>5</td>\n",
       "      <td>0.943800</td>\n",
       "      <td>0.951231</td>\n",
       "      <td>0.536322</td>\n",
       "      <td>0.536477</td>\n",
       "    </tr>\n",
       "  </tbody>\n",
       "</table><p>"
      ],
      "text/plain": [
       "<IPython.core.display.HTML object>"
      ]
     },
     "metadata": {},
     "output_type": "display_data"
    },
    {
     "name": "stderr",
     "output_type": "stream",
     "text": [
      "/home/jovyan/NLP_study/myenv/lib/python3.12/site-packages/torch/nn/parallel/_functions.py:70: UserWarning: Was asked to gather along dimension 0, but all input tensors were scalars; will instead unsqueeze and return a vector.\n",
      "  warnings.warn(\n",
      "/home/jovyan/NLP_study/myenv/lib/python3.12/site-packages/torch/nn/parallel/_functions.py:70: UserWarning: Was asked to gather along dimension 0, but all input tensors were scalars; will instead unsqueeze and return a vector.\n",
      "  warnings.warn(\n",
      "/home/jovyan/NLP_study/myenv/lib/python3.12/site-packages/torch/nn/parallel/_functions.py:70: UserWarning: Was asked to gather along dimension 0, but all input tensors were scalars; will instead unsqueeze and return a vector.\n",
      "  warnings.warn(\n",
      "/home/jovyan/NLP_study/myenv/lib/python3.12/site-packages/torch/nn/parallel/_functions.py:70: UserWarning: Was asked to gather along dimension 0, but all input tensors were scalars; will instead unsqueeze and return a vector.\n",
      "  warnings.warn(\n"
     ]
    },
    {
     "data": {
      "image/png": "[encoded data removed]",
      "text/plain": [
       "<Figure size 600x300 with 2 Axes>"
      ]
     },
     "metadata": {},
     "output_type": "display_data"
    }
   ],
   "source": [
    "model_2 = setModel(hidden_size=128, num_hidden_layers=4, num_attention_heads=4, num_labels=3, hidden_act=\"gelu\", hidden_dropout_prob=0.1)\n",
    "\n",
    "training_args_2 = TrainingArguments(\n",
    "    output_dir='./hf_model1',\n",
    "    num_train_epochs=5,\n",
    "    per_device_train_batch_size=128,\n",
    "    per_device_eval_batch_size=128,\n",
    "    logging_strategy=\"epoch\",\n",
    "    do_train=True,\n",
    "    do_eval=True,\n",
    "    eval_strategy=\"epoch\",\n",
    "    save_strategy=\"epoch\",\n",
    "    learning_rate=3e-5,\n",
    "    weight_decay=0.01,\n",
    "    warmup_steps=200,\n",
    "    lr_scheduler_type=\"linear\",\n",
    "    load_best_model_at_end=True\n",
    ")\n",
    "\n",
    "trainer_2 = make_trainier(model_2, training_args_2, compute_metrics, distil_model_name)\n",
    "\n",
    "trainer_2.train()\n",
    "trainer_2.save_model()\n",
    "\n",
    "show_log_history(trainer_2.state.log_history)"
   ]
  },
  {
   "cell_type": "code",
   "execution_count": 18,
   "metadata": {},
   "outputs": [
    {
     "name": "stderr",
     "output_type": "stream",
     "text": [
      "/tmp/ipykernel_115084/3116004264.py:6: FutureWarning: `tokenizer` is deprecated and will be removed in version 5.0.0 for `Trainer.__init__`. Use `processing_class` instead.\n",
      "  trainer = Trainer(\n"
     ]
    },
    {
     "name": "stderr",
     "output_type": "stream",
     "text": [
      "/home/jovyan/NLP_study/myenv/lib/python3.12/site-packages/torch/nn/parallel/_functions.py:70: UserWarning: Was asked to gather along dimension 0, but all input tensors were scalars; will instead unsqueeze and return a vector.\n",
      "  warnings.warn(\n"
     ]
    },
    {
     "data": {
      "text/html": [
       "\n",
       "    <div>\n",
       "      \n",
       "      <progress value='7670' max='7670' style='width:300px; height:20px; vertical-align: middle;'></progress>\n",
       "      [7670/7670 16:22, Epoch 5/5]\n",
       "    </div>\n",
       "    <table border=\"1\" class=\"dataframe\">\n",
       "  <thead>\n",
       " <tr style=\"text-align: left;\">\n",
       "      <th>Epoch</th>\n",
       "      <th>Training Loss</th>\n",
       "      <th>Validation Loss</th>\n",
       "      <th>Accuracy</th>\n",
       "      <th>F1</th>\n",
       "    </tr>\n",
       "  </thead>\n",
       "  <tbody>\n",
       "    <tr>\n",
       "      <td>1</td>\n",
       "      <td>0.947500</td>\n",
       "      <td>0.912028</td>\n",
       "      <td>0.566276</td>\n",
       "      <td>0.564990</td>\n",
       "    </tr>\n",
       "    <tr>\n",
       "      <td>2</td>\n",
       "      <td>0.886200</td>\n",
       "      <td>0.892467</td>\n",
       "      <td>0.580846</td>\n",
       "      <td>0.581957</td>\n",
       "    </tr>\n",
       "    <tr>\n",
       "      <td>3</td>\n",
       "      <td>0.831500</td>\n",
       "      <td>0.881912</td>\n",
       "      <td>0.589302</td>\n",
       "      <td>0.587828</td>\n",
       "    </tr>\n",
       "    <tr>\n",
       "      <td>4</td>\n",
       "      <td>0.779800</td>\n",
       "      <td>0.900891</td>\n",
       "      <td>0.594906</td>\n",
       "      <td>0.594621</td>\n",
       "    </tr>\n",
       "    <tr>\n",
       "      <td>5</td>\n",
       "      <td>0.733400</td>\n",
       "      <td>0.926828</td>\n",
       "      <td>0.593174</td>\n",
       "      <td>0.593134</td>\n",
       "    </tr>\n",
       "  </tbody>\n",
       "</table><p>"
      ],
      "text/plain": [
       "<IPython.core.display.HTML object>"
      ]
     },
     "metadata": {},
     "output_type": "display_data"
    },
    {
     "name": "stderr",
     "output_type": "stream",
     "text": [
      "/home/jovyan/NLP_study/myenv/lib/python3.12/site-packages/torch/nn/parallel/_functions.py:70: UserWarning: Was asked to gather along dimension 0, but all input tensors were scalars; will instead unsqueeze and return a vector.\n",
      "  warnings.warn(\n",
      "/home/jovyan/NLP_study/myenv/lib/python3.12/site-packages/torch/nn/parallel/_functions.py:70: UserWarning: Was asked to gather along dimension 0, but all input tensors were scalars; will instead unsqueeze and return a vector.\n",
      "  warnings.warn(\n",
      "/home/jovyan/NLP_study/myenv/lib/python3.12/site-packages/torch/nn/parallel/_functions.py:70: UserWarning: Was asked to gather along dimension 0, but all input tensors were scalars; will instead unsqueeze and return a vector.\n",
      "  warnings.warn(\n",
      "/home/jovyan/NLP_study/myenv/lib/python3.12/site-packages/torch/nn/parallel/_functions.py:70: UserWarning: Was asked to gather along dimension 0, but all input tensors were scalars; will instead unsqueeze and return a vector.\n",
      "  warnings.warn(\n"
     ]
    },
    {
     "data": {
      "image/png": "[encoded data removed]",
      "text/plain": [
       "<Figure size 600x300 with 2 Axes>"
      ]
     },
     "metadata": {},
     "output_type": "display_data"
    }
   ],
   "source": [
    "model_3 = setModel(hidden_size=128, num_hidden_layers=4, num_attention_heads=4, num_labels=3, hidden_act=\"gelu\", hidden_dropout_prob=0.1)\n",
    "\n",
    "training_args_3 = TrainingArguments(\n",
    "    output_dir='./hf_model3',\n",
    "    num_train_epochs=5,\n",
    "    per_device_train_batch_size=128,\n",
    "    per_device_eval_batch_size=128,\n",
    "    logging_strategy=\"epoch\",\n",
    "    do_train=True,\n",
    "    do_eval=True,\n",
    "    eval_strategy=\"epoch\",\n",
    "    save_strategy=\"epoch\",\n",
    "    learning_rate=3e-4,\n",
    "    weight_decay=0.01,\n",
    "    warmup_steps=200,\n",
    "    lr_scheduler_type=\"linear\",\n",
    "    load_best_model_at_end=True\n",
    ")\n",
    "\n",
    "trainer_3 = make_trainier(model_2, training_args_3, compute_metrics, distil_model_name)\n",
    "\n",
    "trainer_3.train()\n",
    "trainer_3.save_model()\n",
    "\n",
    "show_log_history(trainer_3.state.log_history)"
   ]
  },
  {
   "cell_type": "markdown",
   "metadata": {},
   "source": [
    "---"
   ]
  },
  {
   "cell_type": "markdown",
   "metadata": {},
   "source": [
    "### LLM으로 풀기\n",
    "\n"
   ]
  },
  {
   "cell_type": "markdown",
   "metadata": {},
   "source": [
    "#### 1. 학습 데이터 생성\n",
    "\n",
    "* ver1   \n",
    "```json\n",
    "{\"prompt\": \"Premise: you want to punch the button and go\n",
    "            Hypothesis: You don't want to push the button lightly, but rather punch it hard.\n",
    "            Is the hypothesis entailed by the premise?\", \n",
    "\"response\": \"neutral\"}\n",
    "```\n",
    "학습해보니 yes no 로 대답하는 게 많아 문구 변경\n",
    "\n",
    "* ver2\n",
    "```json\n",
    "{\"prompt\": \"Premise: Buffet and a  la carte available.\n",
    "            Hypothesis: It has a buffet.\n",
    "            \n",
    "            Question: What is the relationship between the premise and hypothesis?\n",
    "            Choices: entailment, neutral, contradiction\", \n",
    "\"response\": \"entailment\"}\n",
    "```"
   ]
  },
  {
   "cell_type": "markdown",
   "metadata": {},
   "source": [
    "#### 1. 데이터 준비"
   ]
  },
  {
   "cell_type": "code",
   "execution_count": 3,
   "metadata": {},
   "outputs": [],
   "source": [
    "import json\n",
    "\n",
    "label_map = {\n",
    "    0: \"entailment\",\n",
    "    1: \"neutral\",\n",
    "    2: \"contradiction\"\n",
    "}\n",
    "\n",
    "def convert_data(data):\n",
    "    return {\n",
    "        \"prompt\": f\"Premise: {data['premise']}\\nHypothesis: {data['hypothesis']}\\n\\nQuestion: What is the relationship between the premise and hypothesis?\\nChoices: entailment, neutral, contradiction\",\n",
    "        \"response\": label_map[data['label']]\n",
    "    }\n",
    "\n",
    "for split in ['train', 'validation_matched']:\n",
    "    file_name = f'{split}.jsonl'\n",
    "    with open(file_name, 'w', encoding='utf-8') as f:\n",
    "        for data in ds[split]:\n",
    "            converted_data = convert_data(data)\n",
    "            json.dump(converted_data, f, ensure_ascii=False)\n",
    "            f.write('\\n')"
   ]
  },
  {
   "cell_type": "markdown",
   "metadata": {},
   "source": [
    "#### 베이스 모델 준비\n",
    "\n",
    "* EleutherAI/gpt-neo-1.3B   \n",
    "  - 전통적 GPT2 구조의 모델\n",
    "  - trust_remote_code=False로 학습할 소형 모델을 찾아 선택"
   ]
  },
  {
   "cell_type": "code",
   "execution_count": null,
   "metadata": {},
   "outputs": [
    {
     "name": "stderr",
     "output_type": "stream",
     "text": [
      "/home/jovyan/NLP_study/myenv/lib/python3.12/site-packages/huggingface_hub/file_download.py:896: FutureWarning: `resume_download` is deprecated and will be removed in version 1.0.0. Downloads always resume when possible. If you want to force a new download, use `force_download=True`.\n",
      "  warnings.warn(\n"
     ]
    }
   ],
   "source": [
    "from transformers import AutoTokenizer, AutoModelForCausalLM, TrainingArguments, Trainer, DataCollatorForLanguageModeling\n",
    "from peft import LoraConfig, get_peft_model, TaskType\n",
    "import torch\n",
    "\n",
    "model_name= \"EleutherAI/gpt-neo-1.3B\"\n",
    "\n",
    "tokenizer = AutoTokenizer.from_pretrained(model_name)\n",
    "tokenizer.pad_token = tokenizer.eos_token\n",
    "model = AutoModelForCausalLM.from_pretrained(model_name)\n"
   ]
  },
  {
   "cell_type": "markdown",
   "metadata": {},
   "source": [
    "full fine tuning 방식이 아닌 PEFT 방식 선택"
   ]
  },
  {
   "cell_type": "code",
   "execution_count": 5,
   "metadata": {},
   "outputs": [],
   "source": [
    "peft_config = LoraConfig(\n",
    "    task_type=TaskType.CAUSAL_LM,\n",
    "    r=8,\n",
    "    lora_alpha=32,\n",
    "    lora_dropout=0.1,\n",
    "    bias=\"none\"\n",
    ")\n",
    "model = get_peft_model(model, peft_config)"
   ]
  },
  {
   "cell_type": "markdown",
   "metadata": {},
   "source": [
    "train time 이슈로 train_data 5000개 test_data 500개 랜덤 선정"
   ]
  },
  {
   "cell_type": "code",
   "execution_count": 6,
   "metadata": {},
   "outputs": [
    {
     "name": "stderr",
     "output_type": "stream",
     "text": [
      "Generating train split: 392702 examples [00:00, 1673450.00 examples/s]\n",
      "Generating validation split: 9815 examples [00:00, 1642216.92 examples/s]\n"
     ]
    }
   ],
   "source": [
    "llm_ds = load_dataset(\"json\", data_files={\"train\": \"train.jsonl\", \"validation\": \"validation_matched.jsonl\"})\n",
    "\n",
    "llm_ds['train'] = llm_ds[\"train\"].shuffle(seed=42).select(range(5000))\n",
    "llm_ds['validation'] = llm_ds['validation'].shuffle(seed=42).select(range(500))"
   ]
  },
  {
   "cell_type": "code",
   "execution_count": 8,
   "metadata": {},
   "outputs": [
    {
     "name": "stderr",
     "output_type": "stream",
     "text": [
      "Map:  37%|███▋      | 1826/5000 [00:01<00:02, 1460.38 examples/s]"
     ]
    },
    {
     "name": "stderr",
     "output_type": "stream",
     "text": [
      "Map: 100%|██████████| 5000/5000 [00:04<00:00, 1242.84 examples/s]\n"
     ]
    }
   ],
   "source": [
    "\n",
    "def tokenize(data):\n",
    "    full_text = data['prompt'] + \"\\nAnswer: \" + data['response']\n",
    "    tokenized = tokenizer(full_text, truncation=True, max_length=512, padding=\"max_length\")\n",
    "\n",
    "    input_ids = tokenized['input_ids']\n",
    "    tokenized['labels'] = [\n",
    "        token if token != tokenizer.pad_token_id else -100 for token in input_ids\n",
    "    ]\n",
    "    return tokenized\n",
    "\n",
    "tokenized_data = llm_ds.map(tokenize, remove_columns = llm_ds['train'].column_names)"
   ]
  },
  {
   "cell_type": "code",
   "execution_count": 10,
   "metadata": {},
   "outputs": [],
   "source": [
    "training_args = TrainingArguments(\n",
    "    output_dir=\"gptneo-lora2\",\n",
    "    per_device_train_batch_size=4,\n",
    "    per_device_eval_batch_size=4,\n",
    "    num_train_epochs=3,\n",
    "    learning_rate=5e-5,\n",
    "    weight_decay=0.01,\n",
    "    evaluation_strategy=\"epoch\",\n",
    "    eval_accumulation_steps=1,\n",
    "    save_strategy=\"epoch\",\n",
    "    logging_steps=200,\n",
    "    fp16=False,\n",
    "    bf16=False,\n",
    "    dataloader_num_workers=0\n",
    ")"
   ]
  },
  {
   "cell_type": "markdown",
   "metadata": {},
   "source": [
    "* compute_metric\n",
    "  * 처음에 설정하여 학습했지만 generated 방식이라 적합하지 않다고 생각해 두번째 학습시에는 끄고 학습"
   ]
  },
  {
   "cell_type": "code",
   "execution_count": 11,
   "metadata": {},
   "outputs": [],
   "source": [
    "#처음에 on 해서 학습했지만 뭔가 평가 방식이 맞지 않음\n",
    "\n",
    "accuracy = evaluate.load(\"accuracy\")\n",
    "\n",
    "def compute_metric(eval_pred):\n",
    "    logits, labels = eval_pred\n",
    "    preds = np.argmax(logits, axis=-1)\n",
    "\n",
    "    mask = labels != -100\n",
    "    preds = preds[mask]\n",
    "    labels = labels[mask]\n",
    "    \n",
    "    preds = preds.astype(np.int32)\n",
    "    labels = labels.astype(np.int32)\n",
    "\n",
    "    return accuracy.compute(predictions=preds, references=labels)"
   ]
  },
  {
   "cell_type": "code",
   "execution_count": 12,
   "metadata": {},
   "outputs": [
    {
     "name": "stderr",
     "output_type": "stream",
     "text": [
      "/home/jovyan/NLP_study/myenv/lib/python3.12/site-packages/torch/nn/parallel/_functions.py:70: UserWarning: Was asked to gather along dimension 0, but all input tensors were scalars; will instead unsqueeze and return a vector.\n",
      "  warnings.warn(\n"
     ]
    },
    {
     "data": {
      "text/html": [
       "\n",
       "    <div>\n",
       "      \n",
       "      <progress value='1875' max='1875' style='width:300px; height:20px; vertical-align: middle;'></progress>\n",
       "      [1875/1875 27:43, Epoch 3/3]\n",
       "    </div>\n",
       "    <table border=\"1\" class=\"dataframe\">\n",
       "  <thead>\n",
       " <tr style=\"text-align: left;\">\n",
       "      <th>Epoch</th>\n",
       "      <th>Training Loss</th>\n",
       "      <th>Validation Loss</th>\n",
       "    </tr>\n",
       "  </thead>\n",
       "  <tbody>\n",
       "    <tr>\n",
       "      <td>1</td>\n",
       "      <td>1.682700</td>\n",
       "      <td>1.605472</td>\n",
       "    </tr>\n",
       "    <tr>\n",
       "      <td>2</td>\n",
       "      <td>1.645800</td>\n",
       "      <td>1.587755</td>\n",
       "    </tr>\n",
       "    <tr>\n",
       "      <td>3</td>\n",
       "      <td>1.616700</td>\n",
       "      <td>1.583116</td>\n",
       "    </tr>\n",
       "  </tbody>\n",
       "</table><p>"
      ],
      "text/plain": [
       "<IPython.core.display.HTML object>"
      ]
     },
     "metadata": {},
     "output_type": "display_data"
    },
    {
     "name": "stderr",
     "output_type": "stream",
     "text": [
      "/home/jovyan/NLP_study/myenv/lib/python3.12/site-packages/torch/nn/parallel/_functions.py:70: UserWarning: Was asked to gather along dimension 0, but all input tensors were scalars; will instead unsqueeze and return a vector.\n",
      "  warnings.warn(\n",
      "/home/jovyan/NLP_study/myenv/lib/python3.12/site-packages/torch/nn/parallel/_functions.py:70: UserWarning: Was asked to gather along dimension 0, but all input tensors were scalars; will instead unsqueeze and return a vector.\n",
      "  warnings.warn(\n"
     ]
    },
    {
     "data": {
      "text/plain": [
       "TrainOutput(global_step=1875, training_loss=1.6874692423502604, metrics={'train_runtime': 1665.0573, 'train_samples_per_second': 9.009, 'train_steps_per_second': 1.126, 'total_flos': 5.575809171456e+16, 'train_loss': 1.6874692423502604, 'epoch': 3.0})"
      ]
     },
     "execution_count": 12,
     "metadata": {},
     "output_type": "execute_result"
    }
   ],
   "source": [
    "trainer = Trainer(\n",
    "    model=model,\n",
    "    args=training_args,\n",
    "    train_dataset=tokenized_data['train'],\n",
    "    eval_dataset=tokenized_data['validation'],\n",
    "    tokenizer=tokenizer,\n",
    "    data_collator=DataCollatorForLanguageModeling(tokenizer, mlm=False),\n",
    "    compute_metrics=None\n",
    ")\n",
    "\n",
    "trainer.train()"
   ]
  },
  {
   "cell_type": "code",
   "execution_count": 13,
   "metadata": {},
   "outputs": [
    {
     "data": {
      "text/plain": [
       "('final-lora/tokenizer_config.json',\n",
       " 'final-lora/special_tokens_map.json',\n",
       " 'final-lora/vocab.json',\n",
       " 'final-lora/merges.txt',\n",
       " 'final-lora/added_tokens.json',\n",
       " 'final-lora/tokenizer.json')"
      ]
     },
     "execution_count": 13,
     "metadata": {},
     "output_type": "execute_result"
    }
   ],
   "source": [
    "trainer.save_model('final-lora')\n",
    "tokenizer.save_pretrained('final-lora')"
   ]
  },
  {
   "cell_type": "code",
   "execution_count": 14,
   "metadata": {},
   "outputs": [
    {
     "name": "stderr",
     "output_type": "stream",
     "text": [
      "/home/jovyan/NLP_study/myenv/lib/python3.12/site-packages/huggingface_hub/file_download.py:896: FutureWarning: `resume_download` is deprecated and will be removed in version 1.0.0. Downloads always resume when possible. If you want to force a new download, use `force_download=True`.\n",
      "  warnings.warn(\n"
     ]
    }
   ],
   "source": [
    "from peft import PeftModel, PeftConfig\n",
    "\n",
    "adapter_path = \"final-lora\"\n",
    "\n",
    "peft_config = PeftConfig.from_pretrained(adapter_path)\n",
    "base_model = AutoModelForCausalLM.from_pretrained(model_name).to(\"cuda\")\n",
    "\n",
    "model = PeftModel.from_pretrained(base_model, adapter_path)\n",
    "\n",
    "tokenizer = AutoTokenizer.from_pretrained(model_name)\n",
    "tokenizer.pad_token = tokenizer.eos_token"
   ]
  },
  {
   "cell_type": "code",
   "execution_count": 15,
   "metadata": {},
   "outputs": [
    {
     "name": "stdout",
     "output_type": "stream",
     "text": [
      "Validation Accuracy: 0.0000\n",
      "결과 저장 완료: validation_results.csv\n"
     ]
    }
   ],
   "source": [
    "\n",
    "results = []\n",
    "\n",
    "for sample in llm_ds['validation']:\n",
    "    prompt = sample[\"prompt\"]\n",
    "    expected = sample[\"response\"]\n",
    "\n",
    "    input_text = prompt.strip() + \"\\nAnswer:\"\n",
    "    inputs = tokenizer(input_text, return_tensors=\"pt\").to(\"cuda\")\n",
    "\n",
    "    with torch.no_grad():\n",
    "        output = model.generate(\n",
    "            **inputs,\n",
    "            max_new_tokens=10,\n",
    "            do_sample=False,\n",
    "            pad_token_id=tokenizer.eos_token_id\n",
    "        )\n",
    "\n",
    "    generated = tokenizer.decode(output[0], skip_special_tokens=True)\n",
    "    prediction = generated.split(\"Answer:\")[-1].strip()\n",
    "\n",
    "    results.append({\n",
    "        \"prompt\": prompt,\n",
    "        \"expected\": expected,\n",
    "        \"generated\": prediction,\n",
    "        \"correct\": expected.strip().lower() == prediction.strip().lower()\n",
    "    })\n",
    "\n",
    "df = pd.DataFrame(results)\n",
    "accuracy = df[\"correct\"].mean()\n",
    "print(f\"Validation Accuracy: {accuracy:.4f}\")\n",
    "\n",
    "df.to_csv(\"validation_results.csv\", index=False, encoding=\"utf-8-sig\")\n",
    "print(\"결과 저장 완료: validation_results.csv\")"
   ]
  },
  {
   "cell_type": "markdown",
   "metadata": {},
   "source": [
    "validation acc가 0.00으로 나와 raw data 분석\n",
    "\n",
    "* entailment neutral contradiction 응답은 나왔지만 뒤에 다른 문장들도 생성되며 평가 방식과 맞지 않음 확인\n",
    "* 후처리 해주어 다시 평가 했지만 성능이 좋지는 않았음. 하지만 hyperperameter 등 여러 실험을 하지 않았고 여러 상황상 성능이 제일 좋은건 아닌 작은 모델을 사용했기 때문으로 보임."
   ]
  },
  {
   "cell_type": "code",
   "execution_count": 16,
   "metadata": {},
   "outputs": [
    {
     "data": {
      "text/html": [
       "<div>\n",
       "<style scoped>\n",
       "    .dataframe tbody tr th:only-of-type {\n",
       "        vertical-align: middle;\n",
       "    }\n",
       "\n",
       "    .dataframe tbody tr th {\n",
       "        vertical-align: top;\n",
       "    }\n",
       "\n",
       "    .dataframe thead th {\n",
       "        text-align: right;\n",
       "    }\n",
       "</style>\n",
       "<table border=\"1\" class=\"dataframe\">\n",
       "  <thead>\n",
       "    <tr style=\"text-align: right;\">\n",
       "      <th></th>\n",
       "      <th>prompt</th>\n",
       "      <th>expected</th>\n",
       "      <th>generated</th>\n",
       "      <th>correct</th>\n",
       "    </tr>\n",
       "  </thead>\n",
       "  <tbody>\n",
       "    <tr>\n",
       "      <th>0</th>\n",
       "      <td>Premise: Nobody knows much about the early Etr...</td>\n",
       "      <td>neutral</td>\n",
       "      <td>entailment\\n\\nQuestion: What is the relationship</td>\n",
       "      <td>False</td>\n",
       "    </tr>\n",
       "    <tr>\n",
       "      <th>1</th>\n",
       "      <td>Premise: Improved products and services   Init...</td>\n",
       "      <td>entailment</td>\n",
       "      <td>neutral\\n\\nQuestion: What is the relationship ...</td>\n",
       "      <td>False</td>\n",
       "    </tr>\n",
       "    <tr>\n",
       "      <th>2</th>\n",
       "      <td>Premise: The WP runs a piece inside reporting ...</td>\n",
       "      <td>neutral</td>\n",
       "      <td>entailment\\n\\nQuestion: What is the relationship</td>\n",
       "      <td>False</td>\n",
       "    </tr>\n",
       "    <tr>\n",
       "      <th>3</th>\n",
       "      <td>Premise: She didn't listen.\\nHypothesis: She d...</td>\n",
       "      <td>neutral</td>\n",
       "      <td>contradiction\\n\\nQuestion: What is the relatio...</td>\n",
       "      <td>False</td>\n",
       "    </tr>\n",
       "    <tr>\n",
       "      <th>4</th>\n",
       "      <td>Premise: It has served as a fortress for the G...</td>\n",
       "      <td>neutral</td>\n",
       "      <td>contradiction\\n\\nQuestion: What is the relatio...</td>\n",
       "      <td>False</td>\n",
       "    </tr>\n",
       "  </tbody>\n",
       "</table>\n",
       "</div>"
      ],
      "text/plain": [
       "                                              prompt    expected  \\\n",
       "0  Premise: Nobody knows much about the early Etr...     neutral   \n",
       "1  Premise: Improved products and services   Init...  entailment   \n",
       "2  Premise: The WP runs a piece inside reporting ...     neutral   \n",
       "3  Premise: She didn't listen.\\nHypothesis: She d...     neutral   \n",
       "4  Premise: It has served as a fortress for the G...     neutral   \n",
       "\n",
       "                                           generated  correct  \n",
       "0   entailment\\n\\nQuestion: What is the relationship    False  \n",
       "1  neutral\\n\\nQuestion: What is the relationship ...    False  \n",
       "2   entailment\\n\\nQuestion: What is the relationship    False  \n",
       "3  contradiction\\n\\nQuestion: What is the relatio...    False  \n",
       "4  contradiction\\n\\nQuestion: What is the relatio...    False  "
      ]
     },
     "execution_count": 16,
     "metadata": {},
     "output_type": "execute_result"
    }
   ],
   "source": [
    "result_df = pd.read_csv('./validation_results.csv')\n",
    "result_df.head()"
   ]
  },
  {
   "cell_type": "code",
   "execution_count": 17,
   "metadata": {},
   "outputs": [
    {
     "data": {
      "text/html": [
       "<div>\n",
       "<style scoped>\n",
       "    .dataframe tbody tr th:only-of-type {\n",
       "        vertical-align: middle;\n",
       "    }\n",
       "\n",
       "    .dataframe tbody tr th {\n",
       "        vertical-align: top;\n",
       "    }\n",
       "\n",
       "    .dataframe thead th {\n",
       "        text-align: right;\n",
       "    }\n",
       "</style>\n",
       "<table border=\"1\" class=\"dataframe\">\n",
       "  <thead>\n",
       "    <tr style=\"text-align: right;\">\n",
       "      <th></th>\n",
       "      <th>prompt</th>\n",
       "      <th>expected</th>\n",
       "      <th>generated</th>\n",
       "      <th>correct</th>\n",
       "      <th>predicted</th>\n",
       "    </tr>\n",
       "  </thead>\n",
       "  <tbody>\n",
       "    <tr>\n",
       "      <th>0</th>\n",
       "      <td>Premise: Nobody knows much about the early Etr...</td>\n",
       "      <td>neutral</td>\n",
       "      <td>entailment\\n\\nQuestion: What is the relationship</td>\n",
       "      <td>False</td>\n",
       "      <td>entailment</td>\n",
       "    </tr>\n",
       "    <tr>\n",
       "      <th>1</th>\n",
       "      <td>Premise: Improved products and services   Init...</td>\n",
       "      <td>entailment</td>\n",
       "      <td>neutral\\n\\nQuestion: What is the relationship ...</td>\n",
       "      <td>False</td>\n",
       "      <td>neutral</td>\n",
       "    </tr>\n",
       "    <tr>\n",
       "      <th>2</th>\n",
       "      <td>Premise: The WP runs a piece inside reporting ...</td>\n",
       "      <td>neutral</td>\n",
       "      <td>entailment\\n\\nQuestion: What is the relationship</td>\n",
       "      <td>False</td>\n",
       "      <td>entailment</td>\n",
       "    </tr>\n",
       "    <tr>\n",
       "      <th>3</th>\n",
       "      <td>Premise: She didn't listen.\\nHypothesis: She d...</td>\n",
       "      <td>neutral</td>\n",
       "      <td>contradiction\\n\\nQuestion: What is the relatio...</td>\n",
       "      <td>False</td>\n",
       "      <td>contradiction</td>\n",
       "    </tr>\n",
       "    <tr>\n",
       "      <th>4</th>\n",
       "      <td>Premise: It has served as a fortress for the G...</td>\n",
       "      <td>neutral</td>\n",
       "      <td>contradiction\\n\\nQuestion: What is the relatio...</td>\n",
       "      <td>False</td>\n",
       "      <td>contradiction</td>\n",
       "    </tr>\n",
       "  </tbody>\n",
       "</table>\n",
       "</div>"
      ],
      "text/plain": [
       "                                              prompt    expected  \\\n",
       "0  Premise: Nobody knows much about the early Etr...     neutral   \n",
       "1  Premise: Improved products and services   Init...  entailment   \n",
       "2  Premise: The WP runs a piece inside reporting ...     neutral   \n",
       "3  Premise: She didn't listen.\\nHypothesis: She d...     neutral   \n",
       "4  Premise: It has served as a fortress for the G...     neutral   \n",
       "\n",
       "                                           generated  correct      predicted  \n",
       "0   entailment\\n\\nQuestion: What is the relationship    False     entailment  \n",
       "1  neutral\\n\\nQuestion: What is the relationship ...    False        neutral  \n",
       "2   entailment\\n\\nQuestion: What is the relationship    False     entailment  \n",
       "3  contradiction\\n\\nQuestion: What is the relatio...    False  contradiction  \n",
       "4  contradiction\\n\\nQuestion: What is the relatio...    False  contradiction  "
      ]
     },
     "execution_count": 17,
     "metadata": {},
     "output_type": "execute_result"
    }
   ],
   "source": [
    "result_df['predicted'] = result_df[\"generated\"].str.strip().str.split().str[0]\n",
    "\n",
    "result_df.head()"
   ]
  },
  {
   "cell_type": "code",
   "execution_count": 18,
   "metadata": {},
   "outputs": [
    {
     "data": {
      "text/html": [
       "<div>\n",
       "<style scoped>\n",
       "    .dataframe tbody tr th:only-of-type {\n",
       "        vertical-align: middle;\n",
       "    }\n",
       "\n",
       "    .dataframe tbody tr th {\n",
       "        vertical-align: top;\n",
       "    }\n",
       "\n",
       "    .dataframe thead th {\n",
       "        text-align: right;\n",
       "    }\n",
       "</style>\n",
       "<table border=\"1\" class=\"dataframe\">\n",
       "  <thead>\n",
       "    <tr style=\"text-align: right;\">\n",
       "      <th></th>\n",
       "      <th>prompt</th>\n",
       "      <th>expected</th>\n",
       "      <th>generated</th>\n",
       "      <th>correct</th>\n",
       "      <th>predicted</th>\n",
       "      <th>real_correct</th>\n",
       "    </tr>\n",
       "  </thead>\n",
       "  <tbody>\n",
       "    <tr>\n",
       "      <th>0</th>\n",
       "      <td>Premise: Nobody knows much about the early Etr...</td>\n",
       "      <td>neutral</td>\n",
       "      <td>entailment\\n\\nQuestion: What is the relationship</td>\n",
       "      <td>False</td>\n",
       "      <td>entailment</td>\n",
       "      <td>False</td>\n",
       "    </tr>\n",
       "    <tr>\n",
       "      <th>1</th>\n",
       "      <td>Premise: Improved products and services   Init...</td>\n",
       "      <td>entailment</td>\n",
       "      <td>neutral\\n\\nQuestion: What is the relationship ...</td>\n",
       "      <td>False</td>\n",
       "      <td>neutral</td>\n",
       "      <td>False</td>\n",
       "    </tr>\n",
       "    <tr>\n",
       "      <th>2</th>\n",
       "      <td>Premise: The WP runs a piece inside reporting ...</td>\n",
       "      <td>neutral</td>\n",
       "      <td>entailment\\n\\nQuestion: What is the relationship</td>\n",
       "      <td>False</td>\n",
       "      <td>entailment</td>\n",
       "      <td>False</td>\n",
       "    </tr>\n",
       "    <tr>\n",
       "      <th>3</th>\n",
       "      <td>Premise: She didn't listen.\\nHypothesis: She d...</td>\n",
       "      <td>neutral</td>\n",
       "      <td>contradiction\\n\\nQuestion: What is the relatio...</td>\n",
       "      <td>False</td>\n",
       "      <td>contradiction</td>\n",
       "      <td>False</td>\n",
       "    </tr>\n",
       "    <tr>\n",
       "      <th>4</th>\n",
       "      <td>Premise: It has served as a fortress for the G...</td>\n",
       "      <td>neutral</td>\n",
       "      <td>contradiction\\n\\nQuestion: What is the relatio...</td>\n",
       "      <td>False</td>\n",
       "      <td>contradiction</td>\n",
       "      <td>False</td>\n",
       "    </tr>\n",
       "  </tbody>\n",
       "</table>\n",
       "</div>"
      ],
      "text/plain": [
       "                                              prompt    expected  \\\n",
       "0  Premise: Nobody knows much about the early Etr...     neutral   \n",
       "1  Premise: Improved products and services   Init...  entailment   \n",
       "2  Premise: The WP runs a piece inside reporting ...     neutral   \n",
       "3  Premise: She didn't listen.\\nHypothesis: She d...     neutral   \n",
       "4  Premise: It has served as a fortress for the G...     neutral   \n",
       "\n",
       "                                           generated  correct      predicted  \\\n",
       "0   entailment\\n\\nQuestion: What is the relationship    False     entailment   \n",
       "1  neutral\\n\\nQuestion: What is the relationship ...    False        neutral   \n",
       "2   entailment\\n\\nQuestion: What is the relationship    False     entailment   \n",
       "3  contradiction\\n\\nQuestion: What is the relatio...    False  contradiction   \n",
       "4  contradiction\\n\\nQuestion: What is the relatio...    False  contradiction   \n",
       "\n",
       "   real_correct  \n",
       "0         False  \n",
       "1         False  \n",
       "2         False  \n",
       "3         False  \n",
       "4         False  "
      ]
     },
     "execution_count": 18,
     "metadata": {},
     "output_type": "execute_result"
    }
   ],
   "source": [
    "result_df['real_correct'] = result_df['predicted'] == result_df['expected']\n",
    "result_df.head()"
   ]
  },
  {
   "cell_type": "code",
   "execution_count": 20,
   "metadata": {},
   "outputs": [
    {
     "data": {
      "text/plain": [
       "np.float64(0.468)"
      ]
     },
     "execution_count": 20,
     "metadata": {},
     "output_type": "execute_result"
    }
   ],
   "source": [
    "acc = result_df['real_correct'].mean()\n",
    "acc"
   ]
  },
  {
   "cell_type": "markdown",
   "metadata": {},
   "source": [
    "0.33을 상회하는 성능을 보면 학습이 된거 같긴 하지만 더 최적화 시켜야할 것 같다. (param.. prompt..)"
   ]
  },
  {
   "cell_type": "code",
   "execution_count": null,
   "metadata": {},
   "outputs": [],
   "source": []
  }
 ],
 "metadata": {
  "kernelspec": {
   "display_name": "myenv",
   "language": "python",
   "name": "python3"
  },
  "language_info": {
   "codemirror_mode": {
    "name": "ipython",
    "version": 3
   },
   "file_extension": ".py",
   "mimetype": "text/x-python",
   "name": "python",
   "nbconvert_exporter": "python",
   "pygments_lexer": "ipython3",
   "version": "3.12.8"
  }
 },
 "nbformat": 4,
 "nbformat_minor": 2
}
