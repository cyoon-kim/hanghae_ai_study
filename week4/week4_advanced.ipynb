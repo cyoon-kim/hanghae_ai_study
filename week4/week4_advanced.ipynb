{
  "nbformat": 4,
  "nbformat_minor": 0,
  "metadata": {
    "colab": {
      "provenance": [],
      "collapsed_sections": [
        "bXUChewNOb93",
        "CCBlIV0RlHI4"
      ]
    },
    "kernelspec": {
      "name": "python3",
      "display_name": "Python 3"
    },
    "language_info": {
      "name": "python"
    }
  },
  "cells": [
    {
      "cell_type": "markdown",
      "source": [
        "## 심화과제\n",
        "\n",
        "이번 과제에서는 2023년도 수능 국어 문제를 GPT-4로 풀어볼 것입니다."
      ],
      "metadata": {
        "id": "bYaV5zWzdBi9"
      }
    },
    {
      "cell_type": "markdown",
      "source": [
        "#### 환경설정"
      ],
      "metadata": {
        "id": "bXUChewNOb93"
      }
    },
    {
      "cell_type": "code",
      "source": [
        "!pip install openai"
      ],
      "metadata": {
        "colab": {
          "base_uri": "https://localhost:8080/"
        },
        "id": "TmW0k_WyujUV",
        "outputId": "738a0ab9-397a-4854-8f16-bea636fec03b"
      },
      "execution_count": 1,
      "outputs": [
        {
          "output_type": "stream",
          "name": "stdout",
          "text": [
            "Requirement already satisfied: openai in /usr/local/lib/python3.11/dist-packages (1.72.0)\n",
            "Requirement already satisfied: anyio<5,>=3.5.0 in /usr/local/lib/python3.11/dist-packages (from openai) (4.9.0)\n",
            "Requirement already satisfied: distro<2,>=1.7.0 in /usr/local/lib/python3.11/dist-packages (from openai) (1.9.0)\n",
            "Requirement already satisfied: httpx<1,>=0.23.0 in /usr/local/lib/python3.11/dist-packages (from openai) (0.28.1)\n",
            "Requirement already satisfied: jiter<1,>=0.4.0 in /usr/local/lib/python3.11/dist-packages (from openai) (0.9.0)\n",
            "Requirement already satisfied: pydantic<3,>=1.9.0 in /usr/local/lib/python3.11/dist-packages (from openai) (2.11.3)\n",
            "Requirement already satisfied: sniffio in /usr/local/lib/python3.11/dist-packages (from openai) (1.3.1)\n",
            "Requirement already satisfied: tqdm>4 in /usr/local/lib/python3.11/dist-packages (from openai) (4.67.1)\n",
            "Requirement already satisfied: typing-extensions<5,>=4.11 in /usr/local/lib/python3.11/dist-packages (from openai) (4.13.1)\n",
            "Requirement already satisfied: idna>=2.8 in /usr/local/lib/python3.11/dist-packages (from anyio<5,>=3.5.0->openai) (3.10)\n",
            "Requirement already satisfied: certifi in /usr/local/lib/python3.11/dist-packages (from httpx<1,>=0.23.0->openai) (2025.1.31)\n",
            "Requirement already satisfied: httpcore==1.* in /usr/local/lib/python3.11/dist-packages (from httpx<1,>=0.23.0->openai) (1.0.7)\n",
            "Requirement already satisfied: h11<0.15,>=0.13 in /usr/local/lib/python3.11/dist-packages (from httpcore==1.*->httpx<1,>=0.23.0->openai) (0.14.0)\n",
            "Requirement already satisfied: annotated-types>=0.6.0 in /usr/local/lib/python3.11/dist-packages (from pydantic<3,>=1.9.0->openai) (0.7.0)\n",
            "Requirement already satisfied: pydantic-core==2.33.1 in /usr/local/lib/python3.11/dist-packages (from pydantic<3,>=1.9.0->openai) (2.33.1)\n",
            "Requirement already satisfied: typing-inspection>=0.4.0 in /usr/local/lib/python3.11/dist-packages (from pydantic<3,>=1.9.0->openai) (0.4.0)\n"
          ]
        }
      ]
    },
    {
      "cell_type": "code",
      "source": [
        "from tqdm import tqdm"
      ],
      "metadata": {
        "id": "Qy9C1Fb9Ohzf"
      },
      "execution_count": 2,
      "outputs": []
    },
    {
      "cell_type": "markdown",
      "source": [
        "## 2. 데이터 준비\n",
        "\n",
        "2023년 수능 국어 문제 데이터를 처리합니다."
      ],
      "metadata": {
        "id": "wSC-Hg_oc-8c"
      }
    },
    {
      "cell_type": "code",
      "execution_count": 3,
      "metadata": {
        "colab": {
          "base_uri": "https://localhost:8080/",
          "height": 206
        },
        "id": "DEoMrx92SNgK",
        "outputId": "92bc8511-3a18-4287-b058-0e701a0b321a"
      },
      "outputs": [
        {
          "output_type": "execute_result",
          "data": {
            "text/plain": [
              "                   id                                          paragraph  \\\n",
              "0    2023_11_KICE_1-3  사람들이 지속적으로 책을 읽는 이유 중 하나는 즐거움이다. 독서의 즐거움에는 여러 ...   \n",
              "1    2023_11_KICE_4-9  (가)[A](중국에서 비롯된 유서(類書)는 고금의 서적에서 자료를 수집하고 항목별로...   \n",
              "2  2023_11_KICE_10-13  법령의 조문은 대개 ‘A에 해당하면 B를 해야 한다.’처럼 요건과효과로 구성된 조건...   \n",
              "3  2023_11_KICE_14-17  하루에 필요한 에너지의 양은 하루 동안의 총 열량 소모량인 대사량으로 구한다. 그중...   \n",
              "4  2023_11_KICE_18-21  혼례를 마친 후 최척이 아내와 함께 장모를 모시고 집으로 돌아오매 하인들이 기뻐했다...   \n",
              "\n",
              "   type                                           problems  \n",
              "0     0  [{'question': '윗글의 내용과 일치하지 않는 것은?', 'choices'...  \n",
              "1     0  [{'question': '(가)와 (나)에 대한 설명으로 가장 적절한 것은?', ...  \n",
              "2     0  [{'question': '윗글의 내용과 일치하지 않는 것은?', 'choices'...  \n",
              "3     0  [{'question': '윗글의 내용과 일치하지 않는 것은?', 'choices'...  \n",
              "4     1  [{'question': '윗글에 대한 설명으로 가장 적절한 것은?', 'choic...  "
            ],
            "text/html": [
              "\n",
              "  <div id=\"df-ac1d0b35-a7fa-438f-9a3e-72b08df91ed7\" class=\"colab-df-container\">\n",
              "    <div>\n",
              "<style scoped>\n",
              "    .dataframe tbody tr th:only-of-type {\n",
              "        vertical-align: middle;\n",
              "    }\n",
              "\n",
              "    .dataframe tbody tr th {\n",
              "        vertical-align: top;\n",
              "    }\n",
              "\n",
              "    .dataframe thead th {\n",
              "        text-align: right;\n",
              "    }\n",
              "</style>\n",
              "<table border=\"1\" class=\"dataframe\">\n",
              "  <thead>\n",
              "    <tr style=\"text-align: right;\">\n",
              "      <th></th>\n",
              "      <th>id</th>\n",
              "      <th>paragraph</th>\n",
              "      <th>type</th>\n",
              "      <th>problems</th>\n",
              "    </tr>\n",
              "  </thead>\n",
              "  <tbody>\n",
              "    <tr>\n",
              "      <th>0</th>\n",
              "      <td>2023_11_KICE_1-3</td>\n",
              "      <td>사람들이 지속적으로 책을 읽는 이유 중 하나는 즐거움이다. 독서의 즐거움에는 여러 ...</td>\n",
              "      <td>0</td>\n",
              "      <td>[{'question': '윗글의 내용과 일치하지 않는 것은?', 'choices'...</td>\n",
              "    </tr>\n",
              "    <tr>\n",
              "      <th>1</th>\n",
              "      <td>2023_11_KICE_4-9</td>\n",
              "      <td>(가)[A](중국에서 비롯된 유서(類書)는 고금의 서적에서 자료를 수집하고 항목별로...</td>\n",
              "      <td>0</td>\n",
              "      <td>[{'question': '(가)와 (나)에 대한 설명으로 가장 적절한 것은?', ...</td>\n",
              "    </tr>\n",
              "    <tr>\n",
              "      <th>2</th>\n",
              "      <td>2023_11_KICE_10-13</td>\n",
              "      <td>법령의 조문은 대개 ‘A에 해당하면 B를 해야 한다.’처럼 요건과효과로 구성된 조건...</td>\n",
              "      <td>0</td>\n",
              "      <td>[{'question': '윗글의 내용과 일치하지 않는 것은?', 'choices'...</td>\n",
              "    </tr>\n",
              "    <tr>\n",
              "      <th>3</th>\n",
              "      <td>2023_11_KICE_14-17</td>\n",
              "      <td>하루에 필요한 에너지의 양은 하루 동안의 총 열량 소모량인 대사량으로 구한다. 그중...</td>\n",
              "      <td>0</td>\n",
              "      <td>[{'question': '윗글의 내용과 일치하지 않는 것은?', 'choices'...</td>\n",
              "    </tr>\n",
              "    <tr>\n",
              "      <th>4</th>\n",
              "      <td>2023_11_KICE_18-21</td>\n",
              "      <td>혼례를 마친 후 최척이 아내와 함께 장모를 모시고 집으로 돌아오매 하인들이 기뻐했다...</td>\n",
              "      <td>1</td>\n",
              "      <td>[{'question': '윗글에 대한 설명으로 가장 적절한 것은?', 'choic...</td>\n",
              "    </tr>\n",
              "  </tbody>\n",
              "</table>\n",
              "</div>\n",
              "    <div class=\"colab-df-buttons\">\n",
              "\n",
              "  <div class=\"colab-df-container\">\n",
              "    <button class=\"colab-df-convert\" onclick=\"convertToInteractive('df-ac1d0b35-a7fa-438f-9a3e-72b08df91ed7')\"\n",
              "            title=\"Convert this dataframe to an interactive table.\"\n",
              "            style=\"display:none;\">\n",
              "\n",
              "  <svg xmlns=\"http://www.w3.org/2000/svg\" height=\"24px\" viewBox=\"0 -960 960 960\">\n",
              "    <path d=\"M120-120v-720h720v720H120Zm60-500h600v-160H180v160Zm220 220h160v-160H400v160Zm0 220h160v-160H400v160ZM180-400h160v-160H180v160Zm440 0h160v-160H620v160ZM180-180h160v-160H180v160Zm440 0h160v-160H620v160Z\"/>\n",
              "  </svg>\n",
              "    </button>\n",
              "\n",
              "  <style>\n",
              "    .colab-df-container {\n",
              "      display:flex;\n",
              "      gap: 12px;\n",
              "    }\n",
              "\n",
              "    .colab-df-convert {\n",
              "      background-color: #E8F0FE;\n",
              "      border: none;\n",
              "      border-radius: 50%;\n",
              "      cursor: pointer;\n",
              "      display: none;\n",
              "      fill: #1967D2;\n",
              "      height: 32px;\n",
              "      padding: 0 0 0 0;\n",
              "      width: 32px;\n",
              "    }\n",
              "\n",
              "    .colab-df-convert:hover {\n",
              "      background-color: #E2EBFA;\n",
              "      box-shadow: 0px 1px 2px rgba(60, 64, 67, 0.3), 0px 1px 3px 1px rgba(60, 64, 67, 0.15);\n",
              "      fill: #174EA6;\n",
              "    }\n",
              "\n",
              "    .colab-df-buttons div {\n",
              "      margin-bottom: 4px;\n",
              "    }\n",
              "\n",
              "    [theme=dark] .colab-df-convert {\n",
              "      background-color: #3B4455;\n",
              "      fill: #D2E3FC;\n",
              "    }\n",
              "\n",
              "    [theme=dark] .colab-df-convert:hover {\n",
              "      background-color: #434B5C;\n",
              "      box-shadow: 0px 1px 3px 1px rgba(0, 0, 0, 0.15);\n",
              "      filter: drop-shadow(0px 1px 2px rgba(0, 0, 0, 0.3));\n",
              "      fill: #FFFFFF;\n",
              "    }\n",
              "  </style>\n",
              "\n",
              "    <script>\n",
              "      const buttonEl =\n",
              "        document.querySelector('#df-ac1d0b35-a7fa-438f-9a3e-72b08df91ed7 button.colab-df-convert');\n",
              "      buttonEl.style.display =\n",
              "        google.colab.kernel.accessAllowed ? 'block' : 'none';\n",
              "\n",
              "      async function convertToInteractive(key) {\n",
              "        const element = document.querySelector('#df-ac1d0b35-a7fa-438f-9a3e-72b08df91ed7');\n",
              "        const dataTable =\n",
              "          await google.colab.kernel.invokeFunction('convertToInteractive',\n",
              "                                                    [key], {});\n",
              "        if (!dataTable) return;\n",
              "\n",
              "        const docLinkHtml = 'Like what you see? Visit the ' +\n",
              "          '<a target=\"_blank\" href=https://colab.research.google.com/notebooks/data_table.ipynb>data table notebook</a>'\n",
              "          + ' to learn more about interactive tables.';\n",
              "        element.innerHTML = '';\n",
              "        dataTable['output_type'] = 'display_data';\n",
              "        await google.colab.output.renderOutput(dataTable, element);\n",
              "        const docLink = document.createElement('div');\n",
              "        docLink.innerHTML = docLinkHtml;\n",
              "        element.appendChild(docLink);\n",
              "      }\n",
              "    </script>\n",
              "  </div>\n",
              "\n",
              "\n",
              "<div id=\"df-effe68e7-7c10-481a-821a-aa662fde544d\">\n",
              "  <button class=\"colab-df-quickchart\" onclick=\"quickchart('df-effe68e7-7c10-481a-821a-aa662fde544d')\"\n",
              "            title=\"Suggest charts\"\n",
              "            style=\"display:none;\">\n",
              "\n",
              "<svg xmlns=\"http://www.w3.org/2000/svg\" height=\"24px\"viewBox=\"0 0 24 24\"\n",
              "     width=\"24px\">\n",
              "    <g>\n",
              "        <path d=\"M19 3H5c-1.1 0-2 .9-2 2v14c0 1.1.9 2 2 2h14c1.1 0 2-.9 2-2V5c0-1.1-.9-2-2-2zM9 17H7v-7h2v7zm4 0h-2V7h2v10zm4 0h-2v-4h2v4z\"/>\n",
              "    </g>\n",
              "</svg>\n",
              "  </button>\n",
              "\n",
              "<style>\n",
              "  .colab-df-quickchart {\n",
              "      --bg-color: #E8F0FE;\n",
              "      --fill-color: #1967D2;\n",
              "      --hover-bg-color: #E2EBFA;\n",
              "      --hover-fill-color: #174EA6;\n",
              "      --disabled-fill-color: #AAA;\n",
              "      --disabled-bg-color: #DDD;\n",
              "  }\n",
              "\n",
              "  [theme=dark] .colab-df-quickchart {\n",
              "      --bg-color: #3B4455;\n",
              "      --fill-color: #D2E3FC;\n",
              "      --hover-bg-color: #434B5C;\n",
              "      --hover-fill-color: #FFFFFF;\n",
              "      --disabled-bg-color: #3B4455;\n",
              "      --disabled-fill-color: #666;\n",
              "  }\n",
              "\n",
              "  .colab-df-quickchart {\n",
              "    background-color: var(--bg-color);\n",
              "    border: none;\n",
              "    border-radius: 50%;\n",
              "    cursor: pointer;\n",
              "    display: none;\n",
              "    fill: var(--fill-color);\n",
              "    height: 32px;\n",
              "    padding: 0;\n",
              "    width: 32px;\n",
              "  }\n",
              "\n",
              "  .colab-df-quickchart:hover {\n",
              "    background-color: var(--hover-bg-color);\n",
              "    box-shadow: 0 1px 2px rgba(60, 64, 67, 0.3), 0 1px 3px 1px rgba(60, 64, 67, 0.15);\n",
              "    fill: var(--button-hover-fill-color);\n",
              "  }\n",
              "\n",
              "  .colab-df-quickchart-complete:disabled,\n",
              "  .colab-df-quickchart-complete:disabled:hover {\n",
              "    background-color: var(--disabled-bg-color);\n",
              "    fill: var(--disabled-fill-color);\n",
              "    box-shadow: none;\n",
              "  }\n",
              "\n",
              "  .colab-df-spinner {\n",
              "    border: 2px solid var(--fill-color);\n",
              "    border-color: transparent;\n",
              "    border-bottom-color: var(--fill-color);\n",
              "    animation:\n",
              "      spin 1s steps(1) infinite;\n",
              "  }\n",
              "\n",
              "  @keyframes spin {\n",
              "    0% {\n",
              "      border-color: transparent;\n",
              "      border-bottom-color: var(--fill-color);\n",
              "      border-left-color: var(--fill-color);\n",
              "    }\n",
              "    20% {\n",
              "      border-color: transparent;\n",
              "      border-left-color: var(--fill-color);\n",
              "      border-top-color: var(--fill-color);\n",
              "    }\n",
              "    30% {\n",
              "      border-color: transparent;\n",
              "      border-left-color: var(--fill-color);\n",
              "      border-top-color: var(--fill-color);\n",
              "      border-right-color: var(--fill-color);\n",
              "    }\n",
              "    40% {\n",
              "      border-color: transparent;\n",
              "      border-right-color: var(--fill-color);\n",
              "      border-top-color: var(--fill-color);\n",
              "    }\n",
              "    60% {\n",
              "      border-color: transparent;\n",
              "      border-right-color: var(--fill-color);\n",
              "    }\n",
              "    80% {\n",
              "      border-color: transparent;\n",
              "      border-right-color: var(--fill-color);\n",
              "      border-bottom-color: var(--fill-color);\n",
              "    }\n",
              "    90% {\n",
              "      border-color: transparent;\n",
              "      border-bottom-color: var(--fill-color);\n",
              "    }\n",
              "  }\n",
              "</style>\n",
              "\n",
              "  <script>\n",
              "    async function quickchart(key) {\n",
              "      const quickchartButtonEl =\n",
              "        document.querySelector('#' + key + ' button');\n",
              "      quickchartButtonEl.disabled = true;  // To prevent multiple clicks.\n",
              "      quickchartButtonEl.classList.add('colab-df-spinner');\n",
              "      try {\n",
              "        const charts = await google.colab.kernel.invokeFunction(\n",
              "            'suggestCharts', [key], {});\n",
              "      } catch (error) {\n",
              "        console.error('Error during call to suggestCharts:', error);\n",
              "      }\n",
              "      quickchartButtonEl.classList.remove('colab-df-spinner');\n",
              "      quickchartButtonEl.classList.add('colab-df-quickchart-complete');\n",
              "    }\n",
              "    (() => {\n",
              "      let quickchartButtonEl =\n",
              "        document.querySelector('#df-effe68e7-7c10-481a-821a-aa662fde544d button');\n",
              "      quickchartButtonEl.style.display =\n",
              "        google.colab.kernel.accessAllowed ? 'block' : 'none';\n",
              "    })();\n",
              "  </script>\n",
              "</div>\n",
              "\n",
              "    </div>\n",
              "  </div>\n"
            ],
            "application/vnd.google.colaboratory.intrinsic+json": {
              "type": "dataframe",
              "variable_name": "df",
              "summary": "{\n  \"name\": \"df\",\n  \"rows\": 11,\n  \"fields\": [\n    {\n      \"column\": \"id\",\n      \"properties\": {\n        \"dtype\": \"string\",\n        \"num_unique_values\": 11,\n        \"samples\": [\n          \"2023_11_KICE_22-26\",\n          \"2023_11_KICE_1-3\",\n          \"2023_11_KICE_38-42\"\n        ],\n        \"semantic_type\": \"\",\n        \"description\": \"\"\n      }\n    },\n    {\n      \"column\": \"paragraph\",\n      \"properties\": {\n        \"dtype\": \"string\",\n        \"num_unique_values\": 11,\n        \"samples\": [\n          \"(\\uac00)[A](\\uc774\\ub7f0\\ub4e4 \\uc5b4\\ub5a0\\ud558\\uba70 \\uc800\\ub7f0\\ub4e4 \\uc5b4\\ub5a0\\ud558\\ub8cc\\ucd08\\uc57c\\uc6b0\\uc0dd(\\u8349\\u91ce\\u611a\\u751f)\\uc774 \\uc774\\ub807\\ub2e4 \\uc5b4\\ub5a0\\ud558\\ub8cc\\ud558\\ubb3c\\uba70 \\ucc9c\\uc11d\\uace0\\ud669(\\u6cc9\\u77f3\\u818f\\u8093)\\uc744 \\uace0\\uccd0 \\ubbc0\\uc2b4\\ud558\\ub8cc <\\uc81c1\\uc218>\\uc5f0\\ud558(\\u70df\\u971e)\\ub85c \\uc9d1\\uc744 \\uc0bc\\uace0 \\ud48d\\uc6d4(\\u98a8\\u6708)\\ub85c \\ubc97\\uc744 \\uc0bc\\uc544\\ud0dc\\ud3c9\\uc131\\ub300\\uc5d0 \\ubcd1\\uc73c\\ub85c \\ub299\\uc5b4 \\uac00\\ub124\\uc774 \\uc911\\uc5d0 \\ubc14\\ub77c\\ub294 \\uc77c\\uc740 \\ud5c8\\ubb3c\\uc774\\ub098 \\uc5c6\\uace0\\uc790 <\\uc81c2\\uc218>)\\ucd98\\ud48d(\\u6625\\u98a8)\\uc5d0 \\ud654\\ub9cc\\uc0b0(\\u82b1\\u6eff\\u5c71)\\ud558\\uace0 \\ucd94\\uc57c(\\u79cb\\u591c)\\uc5d0 \\uc6d4\\ub9cc\\ub300(\\u6708\\u6eff\\u81fa)\\ub77c\\uc0ac\\uc2dc \\uac00\\ud765(\\u4f73\\u8208)\\uc774 \\uc0ac\\ub78c\\uacfc \\ud55c\\uac00\\uc9c0\\ub77c\\ud558\\ubb3c\\uba70 \\uc5b4\\uc57d\\uc5f0\\ube44(\\u9b5a\\u8e8d\\u9cf6\\u98db) \\uc6b4\\uc601\\ucc9c\\uad11(\\u96f2\\u5f71\\u5929\\u5149)\\uc774\\uc57c \\uc5b4\\ub290 \\ub05d\\uc774\\uc788\\uc73c\\ub9ac <\\uc81c6\\uc218>- \\uc774\\ud669, \\ub3c4\\uc0b0\\uc2ed\\uc774\\uace1 -(\\ub098)\\uc0b0\\uac00(\\u5c71\\u5bb6) \\ud48d\\uc218\\uc124\\uc5d0 \\ub3d9\\uad6c \\ubabb\\uc774 \\uc88b\\ub2e4 \\ud560\\uc0c8\\uc2ed \\ub144\\uc744 \\uacbd\\uc601\\ud558\\uc5ec \\ud55c \\ub545\\uc744 \\uc5bb\\uc73c\\ub2c8\\ud615\\uc138\\ub294 \\uc881\\uace0 \\uad75\\uc740 \\uc554\\uc11d\\uc740 \\ub9ce\\uace0 \\ub9ce\\ub2e4[B](\\uc61b \\uae38\\uc744 \\uc0c8\\ub85c \\ub0b4\\uace0 \\uc791\\uc740 \\uc5f0\\ubabb \\ud30c\\uc11c \\ud65c\\uc218*\\ub97c \\ub04c\\uc5b4 \\ub4e4\\uc5ec \\uac00\\ub294 \\uac83\\uc744 \\uba38\\ubb3c\\uac8c \\ud558\\ub2c8\\ub9d1\\uc740 \\uac70\\uc6b8 \\ud2f0 \\uc5c6\\uc5b4 \\uc0b0 \\uadf8\\ub9bc\\uc790 \\uc7a0\\uaca8 \\uc788\\ub2e4)\\ucc9c\\uace0(\\u5343\\u53e4)\\uc5d0 \\ud669\\ubb34\\uc9c0\\ub97c \\uc544\\ubb34\\ub3c4 \\ubaa8\\ub974\\ub354\\ub2c8\\uc77c\\uc870(\\u4e00\\u671d)\\uc5d0 \\uc9c4\\uba74\\ubaa9\\uc744 \\ub0b4 \\ud63c\\uc790 \\uc54c\\uc558\\ub178\\ub77c\\ucc98\\uc74c\\uc758 \\uc774 \\ub0b4 \\ub73b\\uc740 \\ubb3c \\uba38\\ubb3c\\uac8c \\ud560 \\ubfd0\\uc774\\ub354\\ub2c8\\uc774\\uc81c\\ub294 \\ub3cc\\uc544\\ubcf4\\ub2c8 \\uac00\\uc9c0\\uac00\\uc9c0 \\ub2e4 \\uc88b\\uad6c\\ub098\\ubc31\\uc11d\\uc740 \\uce58\\uce58(\\u9f52\\u9f52)\\ud558\\uc5ec \\uc740\\ub3c4\\ub85c \\uc0c8\\uaca8 \\uc788\\uace0\\ubcbd\\ub958\\ub294 \\ucf78\\ucf78 \\ud758\\ub7ec \\uc625 \\uc220\\uc794\\uc744 \\ub54c\\ub9ac\\ub294 \\ub4ef\\ucca9\\ucca9\\ud55c \\uc0b0\\ub4e4\\uc740 \\uc88c\\uc6b0\\uc758 \\ubcd1\\ud48d\\uc774\\uc694\\ube7d\\ube7d\\ud55c \\uc18c\\ub098\\ubb34\\ub294 \\uc804\\ud6c4\\uc758 \\uc6b8\\ud0c0\\ub9ac\\ub85c\\ub2e4\\uad6c\\uace1 \\uc0c1\\ud558\\ub300\\ub294 \\uce35\\uce35\\uc774 \\ub458\\ub7ec \\uc788\\uace0\\uc0bc\\uacbd(\\u4e09\\u9015) \\uc1a1\\uad6d\\uc8fd(\\u677e\\u83ca\\u7af9)\\uc740 \\uc904\\uc9c0\\uc5b4 \\ubc8c\\uc5ec \\uc788\\ub2e4\\ud558\\ubb3c\\uba70 \\ubc14\\uc704 \\ubcbc\\ub791 \\ub192\\uc740 \\uc704\\uc5d0 \\ub178\\uc1a1\\uc774 \\uc6a9\\uc774 \\ub418\\uc5b4 \\uad6c\\ubd80\\ub824 \\ub204\\uc6e0\\uac70\\ub298\\uc6b4\\uadfc(\\u96f2\\u6839)\\uc744 \\ubca0\\uc5b4 \\ub0b4\\uace0 \\u3260(\\uc791\\uc740 \\uc815\\uc790) \\ubd99\\uc5ec \\uc138\\uc6cc\\ub760 \\ud480\\ub85c \\uc9c0\\ubd95 \\uc774\\uace0 \\uc790\\ub974\\uc9c0 \\uc54a\\uc73c\\ub2c8 \\uc774\\uac83\\uc774 \\uc5b4\\ub5a4 \\uc9d1\\uc778\\uac00\\ub0a8\\uc591\\uc758 \\uc81c\\uac08\\ub824\\uc778\\uac00 \\ubb34\\uc774\\uc758 \\uc640\\ub8e1\\uc554\\uc778\\uac00*\\ub2e4\\uc2dc\\uae08 \\uc0b4\\ud3b4\\ubcf4\\ub2c8 \\ud544\\uad49 \\uc704\\uc5b8\\uc758 \\uadf8\\ub9bc\\uc758 \\uac83\\uc774\\ub85c\\ub2e4\\ubb34\\ub989\\ub3c4\\uc6d0\\uc744 \\uc608 \\ub4e3\\uace0 \\ubabb \\ubd24\\ub354\\ub2c8\\uc774\\uc81c\\uc57c \\uc54c\\uaca0\\uad6c\\ub098 \\uc774 \\uc9c4\\uc9dc \\uac70\\uae30\\ub85c\\ub2e4- \\uae40\\ub4dd\\uc5f0, \\uc9c0\\uc218\\uc815\\uac00 -* \\ud65c\\uc218 : \\ud750\\ub974\\ub294 \\ubb3c.* \\ub0a8\\uc591\\uc758 \\uc81c\\uac08\\ub824, \\ubb34\\uc774\\uc758 \\uc640\\ub8e1\\uc554 : \\uc61b \\ud604\\uc778\\uc774 \\uc740\\uac70\\ud55c \\uac70\\ucc98.(\\ub2e4)\\ub0b4 \\ucd08\\ub85c\\uc758 \\uc5b4\\ub290 \\uac00\\uc744\\ub0a0, \\ub098\\ub294 \\uacb8\\uc7ac\\uac00 \\ub3d9\\ud574\\uc548\\uc744 \\ub530\\ub77c \\ub0b4\\ub824\\uac00\\uba74\\uc11c\\ub3d9\\ud574 \\uc2b9\\uacbd\\uc744 \\ud654\\ud3ed\\uc5d0 \\uc62e\\uacbc\\ub358 \\uc6d4\\uc1a1\\uc815, \\ub9dd\\uc591\\uc815, \\uccad\\uac04\\uc815, \\uc131\\ub958\\uad74\\uc744 \\uc77c\\uc0bc\\uc544 \\ub5a0\\ub3cc\\uc544\\ub2e4\\ub154\\ub2e4. \\ub9dd\\uc591\\uc815\\uc740 \\uc61b \\uae30\\uc131\\uba74\\uc758 \\ubc14\\ub2f7\\uac00\\uc5d0\\uc11c \\uc9c0\\uae08\\uc758\\uadfc\\ub0a8\\uba74 \\uc0b0\\ud3ec\\ub9ac\\ub85c \\uc62e\\uaca8 \\uc138\\uc6b4 \\uc9c0\\uac00 140\\uc5ec \\ub144\\uc774 \\ub118\\uc5b4, \\uae30\\uc131\\uba74\\uc758 \\u3261(\\uc61b \\ub9dd\\uc591\\uc815) \\uc790\\ub9ac\\ub294 \\ub3c4\\ub85c \\uacf5\\uc0ac\\ub85c \\ub2e8\\uc560\\uc758 \\ud5c8\\ub9ac\\uac00 \\uc798\\ub9ac\\uc6cc \\ub098\\uac00, \\ubc14\\ub2f7\\ubb3c\\uc740 \\ub2e8\\uc560 \\ub05d\\uc73c\\ub85c\\ubd80\\ud130 \\uba40\\ucc0c\\uac10\\uce58 \\ucad3\\uaca8\\ub0ac\\uace0 \\uadf8 \\uc0ac\\uc774\\ub294 \\uc2dc\\uba58\\ud2b8\\uce60\\uac11\\uc774 \\ub418\\uc5b4 \\uc788\\uc5c8\\ub2e4. \\uc815\\uc790 \\ud130\\ub294 \\uc0ac\\ubc29\\uc774 \\uae4e\\uc5ec\\uc838 \\ub098\\uac14\\uace0 \\ud654\\ud3ed \\uc18d\\uc758\\uc18c\\ub098\\ubb34 \\uc232\\ub3c4 \\ubca0\\uc5b4\\uc838 \\ubc84\\ub9b0 \\ucc44, \\uadf8 \\uc5b8\\ub355\\uc740 \\uadf8\\uc800 \\ubb34\\uc758\\ubbf8\\ud55c \\ud759\\ub354\\ubbf8\\ub85c\\ubcc0\\ud574 \\uc788\\uc5c8\\ub2e4. \\ub9c8\\uc744\\uc758 \\uace0\\ub85c(\\u53e4\\u8001)\\ub4e4\\ub3c4 \\uadf8\\uacf3\\uc5d0 \\ub4e4\\uc5b4\\uc11c \\uc788\\ub358 \\uc815\\uc790\\ub97c\\ubcf8 \\uc77c\\uc740 \\uc5c6\\uc5c8\\uace0, \\ub2e4\\ub9cc \\uadf8\\ub4e4\\uc758 \\uc99d\\uc870\\ub098 \\uace0\\uc870\\ub85c\\ubd80\\ud130 \\uc804\\ud574 \\uc624\\ub294 \\uad6c\\uc804\\uc5d0 \\uc758\\ud574 \\uadf8 \\ud759\\ub354\\ubbf8\\uac00 \\ub9dd\\uc591\\uc815 \\uc61b\\ud130\\uc600\\uc74c\\uc744 \\uc62e\\uae38 \\ubfd0\\uc774\\uc5c8\\ub2e4.\\uacb8\\uc7ac\\uc758 \\ud654\\ud3ed\\uc744 \\ub9c8\\uc74c\\uc18d\\uc5d0 \\uc55e\\uc138\\uc6b0\\uace0 \\uacb8\\uc7ac \\uc2e4\\uacbd\\uc0b0\\uc218(\\u5be6\\u666f\\u5c71\\u6c34)\\uc758 \\uc790\\ub9ac\\ub97c \\ucc3e\\uc744 \\uc801\\uc5d0 \\uadf8\\uacf3\\uc5d0 \\uc61b \\uc815\\uc790\\uac00 \\uc774\\ubbf8 \\uc624\\ub798\\uc804\\uc5d0 \\uc5c6\\uc5b4\\uc838 \\ubc84\\ub9b0\\uadf8 \\ud5c8\\uc804\\ud55c \\uc0ac\\ud0dc\\ub294 \\uadf8\\ub2e4\\uc9c0 \\ud5c8\\uc804\\ud558\\uc9c0 \\uc54a\\uc558\\ub2e4. \\uc65c \\uadf8\\ub7f0\\uac00. \\ud604\\uc2e4 \\uc18d\\uc758\\uc815\\uc790\\uc5d0 \\uc624\\ub974\\uba74 \\ud654\\ud3ed \\uc18d\\uc758 \\uc815\\uc790\\ub294 \\ubcf4\\uc774\\uc9c0 \\uc54a\\ub294\\ub2e4. \\uc721\\uc2e0\\uc758 \\ub208\\uc744 \\uc55e\\uc138\\uc6cc \\uc815\\uc790\\ub97c \\ucc3e\\uc544\\uc624\\ub294 \\uc790\\uc5d0\\uac8c\\ub294 \\ud48d\\uacbd \\uc804\\uccb4 \\uc18d\\uc5d0\\uc11c \\uc778\\uac04\\uc138\\uc758 \\uc704\\uce58\\uc640 \\uaddc\\ubaa8\\ub97c \\ub300\\ud45c\\ud558\\ub294 \\uc0c1\\uc9d5\\uc73c\\ub85c\\uc11c\\uc758 \\uc815\\uc790\\ub294 \\ubcf4\\uc774\\uc9c0 \\uc54a\\ub294\\ub2e4.(\\uc911\\ub7b5)[C](\\uba3c \\uc0b0\\uc744 \\uadf8\\ub9b4 \\ub54c \\uadf8\\ub294 \\uadf8 \\uc0b0\\uacfc \\uc778\\uac04 \\uc0ac\\uc774\\uc758 \\uac70\\ub9ac\\ub97c \\uadf8\\ub9ac\\ub294\\uac83\\uc774 \\uc544\\ub2c8\\ub77c, \\uadf8 \\uac70\\ub9ac\\ub97c \\ub4e4\\uc5ec\\ub2e4\\ubcf4\\ub294 \\uc2dc\\uc120\\uc758 \\uae4a\\uc774\\ub97c \\uadf8\\ub9b0\\ub2e4. \\uba3c \\uac83\\ub4e4\\uc740 \\uc6d0\\uadfc\\uc0c1\\uc758 \\uac70\\ub9ac\\uc5d0 \\uc758\\ud574 \\uaca9\\ub9ac\\ub418\\ub294 \\uac83\\uc774 \\uc544\\ub2c8\\ub77c, \\uae4a\\uc774\\uc5d0 \\uc758\\ud574 \\uc790\\ub9ac \\uc7a1\\ub294\\ub2e4. \\uacb8\\uc7ac\\uc758 \\ud654\\ud3ed \\uc18d\\uc5d0\\uc11c \\ud48d\\uacbd\\uc740 \\uac00\\uae5d\\ub2e4\\ub294 \\uc774\\uc720\\ub9cc\\uc73c\\ub85c \\uc0ac\\uc2e4\\uc131\\uc744 \\ubd80\\uc5ec\\ubc1b\\uc9c0 \\uc54a\\uace0 \\ub610 \\uba40\\ub2e4\\ub294 \\uc774\\uc720\\ub9cc\\uc73c\\ub85c \\uc0ac\\uc2e4\\uc131\\uc744 \\ubc15\\ud0c8\\ub2f9\\ud558\\uc9c0 \\uc54a\\ub294\\ub2e4. \\ub300\\uccb4\\ub85c \\uadf8\\uc758 \\uadf8\\ub9bc \\uc18d\\uc5d0\\uc11c\\ub294 \\uc778\\uac04\\uacfc \\uc778\\uac04\\uc5d0 \\uc9c1\\uc811 \\uad00\\ub828\\ub41c \\uac83\\ub4e4\\uff0d\\uc815\\uc790, \\uc9d1, \\ubc30, \\ub098\\uadc0, \\uac00\\ub9c8, \\ud654\\ubd84, \\uc131\\uacfd \\uac19\\uc740 \\uac83\\ub4e4\\uc774 \\ube44\\uad50\\uc801 \\uba85\\ub8cc\\ud55c \\uc0ac\\uc2e4\\uc131\\uc744\\ub760\\uace0 \\uc788\\uc9c0\\ub9cc, \\uadf8 \\uc0ac\\uc2e4\\uc131\\uc740 \\uc6d0\\uadfc\\uc5d0 \\uc758\\ud574 \\uc815\\ub9bd\\ub418\\ub294 \\uc0ac\\uc2e4\\uc131\\uc774 \\uc544\\ub2c8\\ub77c, \\uc138\\uacc4\\ub97c \\uad00\\ucc30\\ud558\\ub294 \\uc778\\uac04\\uacfc\\uc758 \\uad00\\uacc4 \\uc18d\\uc5d0\\uc11c \\uc815\\ub9bd\\ub418\\ub294 \\uc0ac\\uc2e4\\uc131\\uc774\\ub2e4.) - \\uae40\\ud6c8, \\uacb8\\uc7ac\\uc758 \\ube5b -\",\n          \"\\uc0ac\\ub78c\\ub4e4\\uc774 \\uc9c0\\uc18d\\uc801\\uc73c\\ub85c \\ucc45\\uc744 \\uc77d\\ub294 \\uc774\\uc720 \\uc911 \\ud558\\ub098\\ub294 \\uc990\\uac70\\uc6c0\\uc774\\ub2e4. \\ub3c5\\uc11c\\uc758 \\uc990\\uac70\\uc6c0\\uc5d0\\ub294 \\uc5ec\\ub7ec \\uac00\\uc9c0\\uac00 \\uc788\\uaca0\\uc9c0\\ub9cc \\uadf8 \\uc911\\uc2ec\\uc5d0\\ub294 \\u2018\\uc18c\\ud1b5\\uc758 \\uc990\\uac70\\uc6c0\\u2019\\uc774 \\uc788\\ub2e4.\\ub3c5\\uc790\\ub294 \\ub3c5\\uc11c\\ub97c \\ud1b5\\ud574 \\ucc45\\uacfc \\uc18c\\ud1b5\\ud558\\ub294 \\uc990\\uac70\\uc6c0\\uc744 \\uacbd\\ud5d8\\ud55c\\ub2e4. \\ub3c5\\uc11c\\ub294\\ud544\\uc790\\uc640 \\uac04\\uc811\\uc801\\uc73c\\ub85c \\ub300\\ud654\\ud558\\ub294 \\uc18c\\ud1b5 \\ud589\\uc704\\uc774\\ub2e4. \\ub3c5\\uc790\\ub294 \\uc790\\uc2e0\\uc774 \\uc18d\\ud55c\\uc0ac\\ud68c\\ub098 \\uc2dc\\ub300\\uc758 \\uc601\\ud5a5 \\uc544\\ub798 \\ud544\\uc790\\uac00 \\uc18d\\ud574 \\uc788\\uac70\\ub098 \\ub4dc\\ub7ec\\ub0b4\\uace0\\uc790 \\ud558\\ub294 \\uc0ac\\ud68c\\ub098 \\uc2dc\\ub300\\ub97c \\uacbd\\ud5d8\\ud55c\\ub2e4. \\uc9c1\\uc811 \\uacbd\\ud5d8\\ud558\\uc9c0 \\ubabb\\ud588\\ub358 \\ub2e4\\uc591\\ud55c \\uc0b6\\uc744 \\ud544\\uc790\\ub97c \\ub9e4\\uac1c\\ub85c \\ub9cc\\ub098\\uace0 \\uc774\\ud574\\ud558\\uba74\\uc11c \\ub3c5\\uc790\\ub294 \\ub354 \\ub113\\uc740 \\uc2dc\\uc57c\\ub85c \\uc138\\uacc4\\ub97c\\ubc14\\ub77c\\ubcfc \\uc218 \\uc788\\ub2e4. \\uc774\\ub54c \\uac19\\uc740 \\ucc45\\uc744 \\uc77d\\uc740 \\ub3c5\\uc790\\ub77c\\ub3c4 \\ub3c5\\uc790\\uc758 \\ubc30\\uacbd\\uc9c0\\uc2dd\\uc774\\ub098 \\uad00\\uc810 \\ub4f1\\uc758 \\ub3c5\\uc790 \\uc694\\uc778, \\uc77d\\uae30 \\ud658\\uacbd\\uc774\\ub098 \\uacfc\\uc81c \\ub4f1\\uc758 \\uc0c1\\ud669 \\uc694\\uc778\\uc774 \\ub2e4\\ub974\\ubbc0\\ub85c, \\ud544\\uc790\\uac00 \\ubcf4\\uc5ec \\uc8fc\\ub294 \\uc138\\uacc4\\ub97c \\uadf8\\ub300\\ub85c \\uc218\\uc6a9\\ud558\\uc9c0 \\uc54a\\uace0 \\uc800\\ub9c8\\ub2e4 \\uc18c\\ud1b5 \\uacfc\\uc815\\uc5d0\\uc11c \\ub2e4\\ub978 \\uc758\\ubbf8\\ub97c \\uad6c\\uc131\\ud560 \\uc218 \\uc788\\ub2e4.[A] (\\uc774\\ub7ec\\ud55c \\uc18c\\ud1b5\\uc740 \\ub3c5\\uc790\\uac00 \\ucc45\\uc758 \\ub0b4\\uc6a9\\uc5d0 \\ub300\\ud574 \\uc9c8\\ubb38\\ud558\\uace0 \\ub2f5\\uc744 \\ucc3e\\uc544\\ub0b4\\ub294 \\uacfc\\uc815\\uc5d0\\uc11c \\uac00\\ub2a5\\ud574\\uc9c4\\ub2e4. \\ub3c5\\uc790\\ub294 \\ucc45\\uc5d0\\uc11c \\ub2f5\\uc744 \\ucc3e\\ub294 \\uc9c8\\ubb38, \\ub3c5\\uc790 \\uc790\\uc2e0\\uc5d0\\uac8c\\uc11c \\ub2f5\\uc744 \\ucc3e\\ub294 \\uc9c8\\ubb38 \\ub4f1\\uc744 \\uc81c\\uae30\\ud560 \\uc218 \\uc788\\ub2e4. \\uc804\\uc790\\uc758 \\uacbd\\uc6b0 \\ucc45\\uc5d0 \\uba85\\uc2dc\\ub41c \\ub0b4\\uc6a9\\uc5d0\\uc11c \\ub2f5\\uc744 \\ubc1c\\uacac\\ud560 \\uc218 \\uc788\\uace0, \\ucc45\\uc758 \\ub0b4\\uc6a9\\ub4e4\\uc744 \\uad00\\uacc4 \\uc9c0\\uc73c\\uba70 \\ub2f5\\uc5d0 \\ud574\\ub2f9\\ud558\\ub294 \\ub0b4\\uc6a9\\uc744 \\uc2a4\\uc2a4\\ub85c \\uad6c\\uc131\\ud560 \\uc218\\ub3c4 \\uc788\\ub2e4. \\ub610\\ud55c \\ud6c4\\uc790\\uc758 \\uacbd\\uc6b0 \\ucc45\\uc5d0\\ub294 \\uc5c6\\ub294 \\ub3c5\\uc790\\uc758 \\uacbd\\ud5d8\\uc5d0\\uc11c \\ub2f5\\uc744 \\ucc3e\\uc744 \\uc218 \\uc788\\ub2e4. \\uc774\\ub7f0 \\uc9c8\\ubb38\\ub4e4\\uc744 \\ud48d\\ubd80\\ud788 \\uc0dd\\uc131\\ud558\\uace0 \\uc8fc\\uccb4\\uc801\\uc73c\\ub85c \\ub2f5\\uc744 \\ucc3e\\uc744 \\ub54c \\uc18c\\ud1b5\\uc758 \\uc990\\uac70\\uc6c0\\uc740 \\ub354 \\ucee4\\uc9c4\\ub2e4.)\\ud55c\\ud3b8 \\ub3c5\\uc790\\ub294 \\u3260 (\\ub2e4\\ub978 \\ub3c5\\uc790\\uc640 \\uc18c\\ud1b5\\ud558\\ub294 \\uc990\\uac70\\uc6c0\\uc744 \\uacbd\\ud5d8\\ud560 \\uc218\\ub3c4 \\uc788\\ub2e4.) \\ucc45\\uacfc\\uc758 \\uc18c\\ud1b5\\uc744 \\ud1b5\\ud574 \\uac1c\\uc778\\uc801\\uc73c\\ub85c \\ud615\\uc131\\ud55c \\uc758\\ubbf8\\ub97c \\ub3c5\\uc11c \\ubaa8\\uc784\\uc774\\ub098 \\ub3c5\\uc11c \\ub3d9\\uc544\\ub9ac \\ub4f1\\uc5d0\\uc11c \\ub2e4\\ub978 \\ub3c5\\uc790\\ub4e4\\uacfc \\ub098\\ub204\\ub294 \\uc77c\\uc774 \\uc774\\uc5d0 \\ud574\\ub2f9\\ud55c\\ub2e4. \\ube44\\uc2b7\\ud55c \\ud574\\uc11d\\uc5d0 \\uc11c\\ub85c \\uacf5\\uac10\\ud558\\uba70 \\uae30\\uc874 \\uc778\\uc2dd\\uc744 \\uac15\\ud654\\ud558\\uac70\\ub098 \\uad00\\uc810\\uc758 \\ucc28\\uc774\\ub97c \\ud655\\uc778\\ud558\\uace0 \\uae30\\uc874 \\uc778\\uc2dd\\uc744 \\uc870\\uc815\\ud558\\ub294 \\uacfc\\uc815\\uc5d0\\uc11c, \\ub3c5\\uc790\\ub294\\uc790\\uc2e0\\uc758 \\uc778\\uc2dd\\uc744 \\uc2ec\\ud654 \\ud655\\uc7a5\\ud560 \\uc218 \\uc788\\ub2e4. \\ucd5c\\uadfc \\uc18c\\ud1b5 \\uacf5\\uac04\\uc774 \\uc628\\ub77c\\uc778\\uc73c\\ub85c \\ud655\\ub300\\ub418\\uba74\\uc11c \\ub3c5\\uc11c\\ub97c \\ud1b5\\ud574 \\ub2e4\\ub978 \\ub3c5\\uc790\\ub4e4\\uacfc \\uc18c\\ud1b5\\ud558\\uba70 \\uc990\\uac70\\uc6c0\\uc744\\ub204\\ub9ac\\ub294 \\uc591\\uc0c1\\uc774 \\ub354 \\ub2e4\\uc591\\ud574\\uc9c0\\uace0 \\uc788\\ub2e4. \\uc790\\uc2e0\\uc758 \\ub3c5\\uc11c \\uacbd\\ud5d8\\uc744 \\ub2f4\\uc740 \\uae00\\uc774\\ub098 \\ub3d9\\uc601\\uc0c1\\uc744 \\uc0dd\\uc0b0 \\uacf5\\uc720\\ud568\\uc73c\\ub85c\\uc368, \\ucc45\\uc744 \\uc77d\\uc9c0 \\uc54a\\uc740 \\ud0c0\\uc778\\uc774 \\ucc45\\uacfc \\uc18c\\ud1b5\\ud558\\ub3c4\\ub85d \\ub3d5\\ub294 \\uac83\\ub3c4 \\ucc45\\uc744 \\ud1b5\\ud55c \\uc18c\\ud1b5\\uc758 \\uc990\\uac70\\uc6c0\\uc744 \\ub098\\ub204\\ub294 \\uc77c\\uc774\\ub2e4.\",\n          \"(\\uac00)\\ub294 \\u25cb\\u25cb\\uace0\\ub4f1\\ud559\\uad50 \\ud589\\uc0ac\\uc5d0 \\ucc38\\uc5ec\\ud55c \\ud559\\uc0dd\\uc774 \\ub9c8\\uc744 \\uc18c\\uc2dd\\uc9c0\\uc5d0 \\uc4f4 \\ud6c4\\uae30\\uc774\\uace0, (\\ub098)\\ub294 \\uc774\\ub97c \\uc77d\\uc740 \\ub2e4\\ub978 \\uc9c0\\uc5ed\\uc758 \\ud559\\uc0dd\\ub4e4\\uc774 \\ub098\\ub208 \\ub300\\ud654\\uc774\\ub2e4. \\ubb3c\\uc74c\\uc5d0 \\ub2f5\\ud558\\uc2dc\\uc624. (\\uac00) (\\uc9c0\\ub09c \\ud55c \\ud559\\uae30 \\ub3d9\\uc548 \\uc6b0\\ub9ac \\ud559\\uad50\\uc5d0\\uc11c\\ub294 \\uc2dd\\ubb3c\\uc5d0 \\ub300\\ud55c \\uad00\\uc2ec\\uc744 \\ub192\\uc774\\uc790\\ub294 \\ucde8\\uc9c0\\uc5d0\\uc11c \\u2018\\ub2e4 \\ud568\\uaed8 \\uc2dd\\ubb3c \\uc9c0\\ub3c4 \\ub9cc\\ub4e4\\uae30\\u2019 \\ud589\\uc0ac\\ub97c \\uc9c4\\ud589\\ud558\\uc600\\ub2e4. \\ub9c8\\uc744 \\uc0ac\\ub78c\\ub4e4\\uc774 \\ubcfc \\u25b3\\u25b3\\ub3d9 \\uc2dd\\ubb3c \\uc9c0\\ub3c4\\ub97c \\uc804\\uad50\\uc0dd\\uc774 \\ud568\\uaed8 \\ub9cc\\ub4e4\\uba70, \\ub2e4\\uc591\\ud55c \\uc2dd\\ubb3c\\uc5d0 \\uad00\\uc2ec\\uc744 \\uac16\\uac8c \\ub418\\uc5c8\\uace0 \\uc790\\uc5f0\\uc758 \\uc18c\\uc911\\ud568\\ub3c4 \\uae68\\ub2eb\\uac8c \\ub418\\uc5c8\\ub2e4. \\uc2dd\\ubb3c \\uc9c0\\ub3c4 \\ub9cc\\ub4e4\\uae30\\ub294 \\u25b3\\u25b3\\ub3d9 \\uc804\\uccb4\\ub97c 30\\uac1c \\uad6c\\uc5ed\\uc73c\\ub85c \\ub098\\ub220 \\ud559\\uae09 \\ubcc4\\ub85c \\ub9e1\\uc740 \\uad6c\\uc5ed\\uc758 \\uc2dd\\ubb3c\\uc744 \\uc870\\uc0ac\\ud558\\ub294 \\ubc29\\uc2dd\\uc73c\\ub85c \\uc774\\ub8e8\\uc5b4\\uc84c\\ub2e4. \\uba3c\\uc800 \\ucd5c\\ub300\\ud55c \\uc5ec\\ub7ec \\uc885\\ub958\\uc758 \\uc2dd\\ubb3c \\uc0ac\\uc9c4\\uc744 \\ucc0d\\uc740 \\ub2e4\\uc74c, \\uc2dd\\ubb3c\\uc758 \\uc774\\ub984\\uc744 \\uc54c\\ub824 \\uc8fc\\ub294 \\ub204\\ub9ac\\uc9d1\\uc744 \\uc774\\uc6a9\\ud574 \\uc2dd\\ubb3c \\uc774\\ub984\\uc744 \\ud3b8\\ub9ac\\ud558\\uac8c \\ucc3e\\uc558\\ub2e4. \\uadf8\\ub9ac\\uace0 \\ud559\\uae09\\ub9c8\\ub2e4 \\ud2b9\\uc0c9 \\uc788\\uac8c \\uadf8\\ub9b0 \\uc9c0\\ub3c4 \\uc704\\uc5d0 \\uc870\\uc0ac\\ud55c \\ubaa8\\ub4e0 \\uc2dd\\ubb3c\\uc758 \\uc774\\ub984\\uc744 \\ud45c\\uc2dc\\ud558\\uc600\\ub2e4. \\uc774\\ub807\\uac8c \\ud559\\uae09\\ubcc4\\ub85c \\ub9cc\\ub4e0 \\uc9c0\\ub3c4\\ub97c \\uc774\\uc5b4 \\ubd99\\uc5ec 100\\uc5ec \\uc885\\uc758 \\uc2dd\\ubb3c\\uc774 \\ud45c\\uc2dc\\ub41c \\u25b3\\u25b3\\ub3d9 \\uc2dd\\ubb3c \\uc9c0\\ub3c4\\ub97c \\uc644\\uc131\\ud558\\uc600\\ub2e4. \\ud3c9\\uc18c \\uc6b0\\ub9ac\\uac00 \\uc798 \\ubaa8\\ub974\\ub358 \\uacf3\\uae4c\\uc9c0 \\uaf3c\\uaf3c\\ud788 \\uc0b4\\ud53c\\uba70 \\uc2dd\\ubb3c\\uc744 \\uc870\\uc0ac\\ud558\\ub294 \\uacfc\\uc815\\uc5d0\\uc11c \\uba87\\uba87 \\uce5c\\uad6c\\ub4e4\\uc740 \\ud798\\ub4e4\\ub2e4\\uace0 \\ud3ec\\uae30\\ud558\\ub294 \\ubaa8\\uc2b5\\ub3c4 \\ubcf4\\uc600\\uc9c0\\ub9cc, \\ub098\\ub294 \\uc774\\ub807\\uac8c \\uc0dd\\uac01\\ud588\\ub2e4. \\u2018\\ub204\\uad70\\uac00\\ub294 \\uc774 \\uc9c0\\ub3c4\\ub97c \\ubcf4\\uba70 \\ub9c8\\uc744\\uc758 \\uc2dd\\ubb3c\\uc5d0 \\uad00\\uc2ec\\uc744 \\uac16\\uac8c \\ub418\\uc9c0 \\uc54a\\uc744\\uae4c?\\u2019 \\uc774\\ub7f0 \\uc0dd\\uac01\\uc5d0 \\ub098\\ub294 \\uacc4\\uc18d\\ud574\\uc11c \\uc758\\uc695\\uc801 \\uc73c\\ub85c \\uc870\\uc0ac\\ub97c \\ud574 \\ub098\\uac08 \\uc218 \\uc788\\uc5c8\\ub2e4. \\uc774\\ubc88 \\ud589\\uc0ac\\ub97c \\ud1b5\\ud574 \\uadf8\\ub3d9\\uc548 \\uc8fc\\ubcc0\\uc758 \\uc2dd\\ubb3c\\uc5d0 \\ubb34\\uc2ec\\ud588\\ub358 \\ub098 \\uc790\\uc2e0\\uc744 \\ubc18\\uc131\\ud558\\uac8c \\ub418\\uc5c8\\ub2e4. \\uadf8\\ub9ac\\uace0 \\ud654\\uc0b4\\ub098\\ubb34\\ub098 \\ubd84\\uaf43 \\ub4f1\\uc758 \\uc2dd\\ubb3c\\uc744 \\uad50\\uc2e4 \\ubc16\\uc5d0\\uc11c \\uc9c1\\uc811 \\uad00\\ucc30\\ud558\\ub2c8 \\ucc45\\uc73c\\ub85c\\ub9cc \\uc811\\ud588\\uc744 \\ub54c\\ubcf4\\ub2e4 \\uc2dd\\ubb3c\\uc5d0 \\ub300\\ud55c \\uad00\\uc2ec\\uc774 \\ub354 \\ucee4\\uc9c0\\ub294 \\uac83 \\uac19\\uc558\\ub2e4. \\ub2e4\\ub978 \\ud559\\uad50\\uc5d0\\uc11c\\ub3c4 \\uc2dd\\ubb3c \\uc9c0\\ub3c4 \\ub9cc\\ub4e4\\uae30 \\ud589\\uc0ac\\ub97c \\uac1c\\ucd5c\\ud55c\\ub2e4\\uba74 \\ub354 \\ub9ce\\uc740 \\ud559\\uc0dd\\ub4e4\\uc774 \\uc790\\uc5f0\\uc758 \\uc18c\\uc911\\ud568\\uc744 \\ub290\\ub084 \\uc218 \\uc788\\uc744 \\uac83\\uc774\\ub77c\\ub294 \\uc0dd\\uac01\\uc774 \\ub4e4\\uc5c8\\ub2e4.) (\\ub098) \\ud559\\uc0dd 1 : \\uc774\\ubc88 \\uac00\\uc744\\uc5d0 \\uc5f4\\ub9b4 \\ub3d9\\uc544\\ub9ac \\ubc1c\\ud45c\\ud68c \\ub54c \\uc804\\uc2dc\\ud558\\uae30 \\uc704\\ud574 \\uc6b0\\ub9ac\\ub3c4 \\u25b3\\u25b3\\ub3d9 \\ub9c8\\uc744 \\uc18c\\uc2dd\\uc9c0\\uc5d0 \\uc2e4\\ub9b0 \\u25cb\\u25cb \\uace0\\ub4f1\\ud559\\uad50 \\uc0ac\\ub840\\ucc98\\ub7fc \\uc2dd\\ubb3c \\uc9c0\\ub3c4\\ub97c \\ub9cc\\ub4e4\\uae30\\ub85c \\ud588\\uc796\\uc544. \\u25cb\\u25cb\\uace0\\ub4f1\\ud559\\uad50 \\uc0ac\\ub840\\uc5d0\\uc11c \\uc5b4\\ub5a4 \\uc810\\uc744 \\uc218\\uc6a9\\ud558\\uace0 \\uc5b4\\ub5a4 \\uc810\\uc744 \\ub2ec\\ub9ac\\ud560\\uc9c0 \\ub17c\\uc758\\ud574 \\ubcf4\\uc790. \\ud559\\uc0dd 2 : \\uc0dd\\uac01\\ud574 \\ubd24\\ub294\\ub370, \\uc6b0\\ub9ac \\uc14b\\uc774\\uc11c \\u25cb\\u25cb \\uace0\\ub4f1\\ud559\\uad50\\uac00 \\ud55c \\uac83\\ucc98\\ub7fc \\ub113\\uc740 \\uacf5\\uac04\\uc744 \\uc870\\uc0ac\\ud558\\uae34 \\ud798\\ub4e4 \\ub4ef\\ud558\\ub2c8 \\ud559\\uad50\\uc5d0\\uc11c \\uac78\\uc5b4\\uac08 \\ub9cc\\ud55c \\uac70\\ub9ac\\ub9cc \\uc9c0\\ub3c4\\uc758 \\ubc94\\uc704\\ub85c \\uc0bc\\ub294 \\uac8c \\uc88b\\uc9c0 \\uc54a\\uc744\\uae4c? \\ud559\\uc0dd 1 : \\uadf8\\ub7ec\\uc790. \\ud559\\uad50\\uc5d0\\uc11c \\uac78\\uc5b4\\uac08 \\ub9cc\\ud07c \\uac00\\uae4c\\uc6b4 \\ubc94\\uc704 \\ub0b4\\uc5d0\\uc11c \\uc5b4\\ub514\\ub85c \\uc870\\uc0ac\\ud558\\ub7ec \\uac08\\uc9c0 \\uc7a5\\uc18c\\ub97c \\uc815\\ud574 \\ubcf4\\uc790. [A](\\ud559\\uc0dd 3 : \\u25a1\\u25a1 \\ub18d\\uc7a5\\uc5d0 \\uac14\\uc73c\\uba74 \\ud558\\ub294\\ub370, \\ub108\\ud76c \\uc0dd\\uac01\\uc740 \\uc5b4\\ub54c? \\uac70\\uae30\\ub294 \\ub098\\ubb34\\uac00 \\ub9ce\\uc73c\\ub2c8\\uae4c. \\ud559\\uc0dd 1 : \\uac70\\uae34 \\ub9e4\\uc2e4\\ub098\\ubb34\\ub9cc \\ub9ce\\uc796\\uc544. \\uc2dd\\ubb3c \\uc9c0\\ub3c4\\ub97c \\ub9cc\\ub4dc\\ub294 \\uac70\\ub2c8\\uae4c \\uc5ec\\ub7ec \\uc885\\ub958\\uc758 \\uc2dd\\ubb3c\\uc774 \\uc788\\ub294 \\uacf3\\uc73c\\ub85c \\uac00\\uc790. \\ud559\\uc0dd 2 : \\uc5ec\\ub7ec \\uc885\\ub958\\uc758 \\uc2dd\\ubb3c\\uc774 \\uc788\\ub294 \\uacf3\\ub3c4 \\uc88b\\uc9c0\\ub9cc, \\ub098\\ub294 \\uc6b0\\ub9ac \\ud559\\uad50 \\ud559\\uc0dd\\ub4e4\\uc774 \\ubcfc \\uc9c0\\ub3c4\\uc774\\ub2c8 \\ud559\\uc0dd\\ub4e4\\uc5d0\\uac8c \\uce5c\\uc219\\ud55c \\uc7a5\\uc18c\\uac00 \\ub354 \\uc88b\\uc744 \\ub4ef\\ud574. \\uadf8\\ub7f0\\ub370 \\uadf8 \\ub18d\\uc7a5\\uc740 \\uc544\\ubb34\\ub098 \\ub4e4\\uc5b4\\uac08 \\uc218\\uac00 \\uc5c6\\uc5b4\\uc11c \\uac00 \\ubcf8 \\ud559\\uc0dd\\uc774 \\uac70\\uc758 \\uc5c6\\uc744 \\ud14c\\ub2c8\\u2026\\u2026. )\\ud559\\uc0dd 3 : \\ub4e3\\uace0 \\ubcf4\\ub2c8 \\uc77c\\ub9ac\\uac00 \\uc788\\ub124. \\uce5c\\uc219\\ud55c \\uc7a5\\uc18c\\ub77c\\uba74 \\uc804\\uad50\\uc0dd\\uc774 \\ud568\\uaed8 \\uac77\\uae30 \\ud589\\uc0ac\\ub97c \\ud588\\ub358 \\ud589\\ubcf5\\uc0b0\\uacfc \\uad6c\\ub984\\ucc9c\\uc774 \\uc5b4\\ub54c? \\ud559\\uc0dd 1 : \\uac70\\uae30\\ub3c4 \\uc88b\\uace0 \\ud558\\ub298\\uc2b5\\uc9c0\\ub3c4 \\uc88b\\uc744 \\uac83 \\uac19\\uc544. \\ud559\\uc0dd\\ub4e4\\uc774 \\uc790\\uc8fc \\uc0b0\\ucc45\\ud558\\ub7ec \\uac00\\ub294 \\uacf3\\uc774\\uc796\\uc544. \\ud559\\uc0dd 2 : \\ubaa8\\ub450 \\uc88b\\uc740 \\uc0dd\\uac01\\uc774\\uc57c. \\ud559\\uc0dd 3 : \\uadf8\\ub7fc \\uc870\\uc0ac \\uc7a5\\uc18c\\ub294 \\uc138 \\uad70\\ub370\\ub85c \\uc815\\ud574\\uc9c4 \\uac70\\ub124. \\ud559\\uc0dd 2 : \\ub9de\\uc544. \\uc774\\uc81c \\uc5b4\\ub5a4 \\uc2dd\\ubb3c\\uc744 \\uc9c0\\ub3c4\\uc5d0 \\ud45c\\uc2dc\\ud560\\uc9c0 \\uc598\\uae30\\ud574 \\ubcf4\\uc790. \\ud559\\uc0dd 1 : \\uc6b0\\ub9ac \\ub9c8\\uc744\\uc740 \\ub2e4\\uc591\\ud55c \\uaf43\\uacfc \\ub098\\ubb34\\uac00 \\uc790\\uc0dd\\ud558\\uae30\\ub85c \\uc720\\uba85\\ud558 \\ub2c8\\uae4c \\uc6b0\\ub9ac\\ub3c4 \\uc9c0\\ub3c4\\uc5d0 \\ub418\\ub3c4\\ub85d \\ub2e4\\uc591\\ud55c \\uc885\\ub958\\uc758 \\uc2dd\\ubb3c\\uc744 \\ud45c\\uc2dc\\ud558\\uc790. \\ud559\\uc0dd 2 : \\uadfc\\ub370 \\ubc1c\\ud45c\\ud68c\\uae4c\\uc9c0 \\uc5bc\\ub9c8 \\uc548 \\ub0a8\\uc544\\uc11c \\uad6d\\uac00 \\ubcf4\\ud638\\uc885\\uc744 \\ube44\\ub86f\\ud574 \\uc8fc\\ubaa9\\ud560 \\ub9cc\\ud55c \\uba87\\uba87 \\uc2dd\\ubb3c\\ub9cc \\ud45c\\uc2dc\\ud574\\uc57c \\ud560 \\ub4ef\\ud574. \\uadf8\\ub9ac\\uace0 \\uc2dd\\ubb3c \\uc774\\ub984\\uc740 \\u25cb\\u25cb \\uace0\\ub4f1\\ud559\\uad50\\ucc98\\ub7fc \\ub204\\ub9ac\\uc9d1\\uc744 \\uc774\\uc6a9\\ud574 \\ud3b8\\ub9ac\\ud558\\uac8c \\ucc3e\\uc790. \\ud559\\uc0dd 1 : \\uadf8\\ub7ec\\uc790. [B](\\ud559\\uc0dd 3 : \\uc2dd\\ubb3c \\uc774\\ub984\\uacfc \\ud568\\uaed8 \\uc2dd\\ubb3c\\uc774 \\uc5b4\\ub5a4 \\ud6a8\\uc6a9\\uc774 \\uc788\\ub294\\uc9c0\\ub3c4 \\uc81c\\uc2dc\\ud588\\uc73c\\uba74 \\ud558\\ub294\\ub370, \\ub108\\ud76c\\ub294 \\uc5b4\\ub5bb\\uac8c \\uc0dd\\uac01\\ud574? \\ud559\\uc0dd 1 : \\uc57d\\ud6a8\\uac00 \\uc788\\ub294 \\uc2dd\\ubb3c\\uc740 \\uadf8 \\uc815\\ubcf4\\ub3c4 \\uc81c\\uc2dc\\ud558\\uc790\\ub294 \\uac70\\uc9c0? \\ud559\\uc0dd 3 : \\uc751? \\ub098\\ub294 \\uaf43\\uc774\\ub098 \\ub098\\ubb34\\uac00 \\ub9c8\\uc74c\\uc744 \\ud3b8\\uc548\\ud558\\uac8c \\ud574 \\uc8fc\\ub294 \\uac83 \\uac19\\uc740 \\ud6a8\\uc6a9\\uc744 \\ub9d0\\ud55c \\uac70\\uc600\\ub294\\ub370. \\ud559\\uc0dd 1 : \\uc2dd\\ubb3c\\uc774 \\uc0ac\\ub78c\\uc758 \\uc815\\uc11c\\uc5d0 \\uc5b4\\ub5a4 \\uc601\\ud5a5\\uc744 \\ubbf8\\uce60 \\uc218 \\uc788\\ub294\\uc9c0\\uc5d0 \\ub300\\ud55c \\ub0b4\\uc6a9\\uc744 \\uc2e3\\uc790\\ub294 \\ub9d0\\uc774\\uc5c8\\uc5b4? \\ud559\\uc0dd 3 : \\uc751. \\uadf8\\ub7f0 \\uc815\\ubcf4\\uac00 \\ud559\\uc0dd\\ub4e4\\uc5d0\\uac8c \\uc758\\ubbf8\\uac00 \\uc788\\uc744 \\uac83 \\uac19\\uc544. \\ud559\\uc0dd 2 : \\uadf8\\uac70 \\uc88b\\uc740\\ub370? \\uc6b0\\ub9ac\\uac00 \\ud589\\ubcf5\\uc0b0\\uc5d0\\uc11c \\uc870\\uc0ac\\ud560 \\uaf43\\uacfc \\ub098\\ubb34 \\uc911 \\uc77c\\ubd80\\uc5d0\\ub294 \\uadf8\\ub7f0 \\ub0b4\\uc6a9\\ub3c4 \\ucd94\\uac00\\ub85c \\ud45c\\uc2dc\\ud558\\uba74 \\ub418\\uaca0\\ub2e4.) \\ud559\\uc0dd 1 : \\uc88b\\uc544. \\uc774\\uc81c \\uc9c0\\ub3c4\\uc5d0 \\uc2dd\\ubb3c\\ub4e4\\uc744 \\uc5b4\\ub5bb\\uac8c \\ud45c\\ud604\\ud560\\uc9c0 \\uc598\\uae30\\ud574 \\ubcf4\\uc790. \\ud559\\uc0dd 2 : \\uc7a5\\uc18c\\ub9c8\\ub2e4 \\ub300\\ud45c \\uc2dd\\ubb3c\\uc744 \\ud558\\ub098\\uc529 \\uc120\\uc815\\ud574\\uc11c \\uadf8 \\uc2dd\\ubb3c \\uc774\\ub984 \\ubc11\\uc5d0 \\uc2dd\\ubb3c\\uc758 \\uc0ac\\uc9c4\\ub3c4 \\ud568\\uaed8 \\uc81c\\uc2dc\\ud558\\ub294 \\uac74 \\uc5b4\\ub54c? \\ud559\\uc0dd 3 : \\uadf8\\ub798. \\uadf8\\ub9ac\\uace0 \\uad70\\uc9d1\\uc744 \\uc774\\ub8e8\\uace0 \\uc788\\ub294 \\uc2dd\\ubb3c\\uc740 \\ubaa8\\ub450 \\ube57\\uae08\\uc73c\\ub85c \\ud45c\\uc2dc\\ud558\\uc790. \\ud589\\ubcf5\\uc0b0\\uc740 \\uac08\\ub9bc\\uae38\\uc774 \\ub9ce\\uc73c\\ub2c8 \\uac77\\uae30\\uc5d0 \\ub354 \\ud3b8\\ud55c \\uae38\\uc744 \\ud654\\uc0b4\\ud45c\\ub85c \\ud45c\\uc2dc\\ub3c4 \\ud558\\uace0. \\ud559\\uc0dd 1 : \\uc88b\\uc740 \\uc0dd\\uac01\\uc774\\uc57c. \\ubaa8\\ub450 \\uc801\\uc6a9\\ud574 \\ubcf4\\uc790. \\ud559\\uc0dd 2 : \\uadf8\\ub798. \\uadf8\\ub7f0\\ub370 \\u25cb\\u25cb \\uace0\\ub4f1\\ud559\\uad50\\uac00 \\uc774\\uc5b4 \\ubd99\\uc774\\ub294 \\ubc29\\uc2dd\\uc73c\\ub85c \\uc9c0\\ub3c4\\ub97c \\ub9cc\\ub4e0 \\uac74 \\ucc38\\uc2e0\\ud558\\uae34 \\ud55c\\ub370 \\ud1b5\\uc77c\\uac10\\uc774 \\uc5c6\\uc5b4 \\ubd80\\uc790\\uc5f0\\uc2a4\\ub7ec\\uc6b8 \\ub4ef\\ud574. \\uc6b0\\ub9ac\\ub294 \\uc870\\uc0ac\\ud55c \\ub0b4\\uc6a9\\uc744 \\ubaa8\\uc544 \\ud568\\uaed8 \\uc9c0\\ub3c4\\ub97c \\uadf8\\ub9ac\\uc790. \\ud559\\uc0dd 3 : \\uadf8\\ub7ec\\uc790. \\ud559\\uc0dd 1 : \\uc624\\ub298 \\ub17c\\uc758\\ud55c \\ub0b4\\uc6a9\\uc740 \\ub0b4\\uac00 [\\ud68c\\uc758\\ub85d]\\uc5d0 \\uc4f8\\uac8c. \\ud559\\uc0dd 2, 3 : \\uace0\\ub9c8\\uc6cc.\"\n        ],\n        \"semantic_type\": \"\",\n        \"description\": \"\"\n      }\n    },\n    {\n      \"column\": \"type\",\n      \"properties\": {\n        \"dtype\": \"number\",\n        \"std\": 0,\n        \"min\": 0,\n        \"max\": 2,\n        \"num_unique_values\": 3,\n        \"samples\": [\n          0,\n          1,\n          2\n        ],\n        \"semantic_type\": \"\",\n        \"description\": \"\"\n      }\n    },\n    {\n      \"column\": \"problems\",\n      \"properties\": {\n        \"dtype\": \"object\",\n        \"semantic_type\": \"\",\n        \"description\": \"\"\n      }\n    }\n  ]\n}"
            }
          },
          "metadata": {},
          "execution_count": 3
        }
      ],
      "source": [
        "import json\n",
        "import pandas as pd\n",
        "\n",
        "file_path = './2023_11_KICE.json'\n",
        "\n",
        "df = pd.read_json(file_path)\n",
        "df.head()"
      ]
    },
    {
      "cell_type": "markdown",
      "source": [
        "### 데이터 구조\n",
        "\n",
        "데이터는 paragraph를 기준으로 해당 지문에 있는 문제들을 list로 가지고 있는 걸 볼 수 있다. 이걸 problems 기준으로 펼쳐줘야 API에 문제를 쏠 때 question 단위로 물어볼 수 있다."
      ],
      "metadata": {
        "id": "b9G2cv4xcrHb"
      }
    },
    {
      "cell_type": "code",
      "source": [
        "records = []\n",
        "\n",
        "for _, row in df.iterrows():\n",
        "    paragraph = row['paragraph']\n",
        "    for problem in row['problems']:\n",
        "        record = {\n",
        "            'paragraph': paragraph,\n",
        "            'question': problem.get('question'),\n",
        "            'question_plus': problem.get('question_plus', ''),  # 없을 수 있으니 기본값 ''\n",
        "            'choices': problem.get('choices'),\n",
        "            'answer': problem.get('answer'),\n",
        "            'score': problem.get('score')\n",
        "        }\n",
        "        records.append(record)\n",
        "\n",
        "# 최종 DataFrame 생성\n",
        "df = pd.DataFrame(records)\n",
        "\n",
        "# 결과 미리 보기\n",
        "print(f\"문제 개수 : {len(df)}\")\n",
        "df.head()"
      ],
      "metadata": {
        "colab": {
          "base_uri": "https://localhost:8080/",
          "height": 311
        },
        "id": "FScXVPCIUhu9",
        "outputId": "945586f0-25e3-4761-d493-1adaa15a805f"
      },
      "execution_count": 4,
      "outputs": [
        {
          "output_type": "stream",
          "name": "stdout",
          "text": [
            "문제 개수 : 45\n"
          ]
        },
        {
          "output_type": "execute_result",
          "data": {
            "text/plain": [
              "                                           paragraph  \\\n",
              "0  사람들이 지속적으로 책을 읽는 이유 중 하나는 즐거움이다. 독서의 즐거움에는 여러 ...   \n",
              "1  사람들이 지속적으로 책을 읽는 이유 중 하나는 즐거움이다. 독서의 즐거움에는 여러 ...   \n",
              "2  사람들이 지속적으로 책을 읽는 이유 중 하나는 즐거움이다. 독서의 즐거움에는 여러 ...   \n",
              "3  (가)[A](중국에서 비롯된 유서(類書)는 고금의 서적에서 자료를 수집하고 항목별로...   \n",
              "4  (가)[A](중국에서 비롯된 유서(類書)는 고금의 서적에서 자료를 수집하고 항목별로...   \n",
              "\n",
              "                                            question  \\\n",
              "0                                윗글의 내용과 일치하지 않는 것은?   \n",
              "1  다음은 학생이 독서 후 작성한 글의 일부이다. [A]를 바탕으로 ⓐ～ⓔ를 이해한 내...   \n",
              "2                   윗글을 읽고 ㉠에 대해 보인 반응으로 적절하지 않은 것은?   \n",
              "3                       (가)와 (나)에 대한 설명으로 가장 적절한 것은?   \n",
              "4                            [A]에 대한 이해로 적절하지 않은 것은?   \n",
              "\n",
              "                                       question_plus  \\\n",
              "0                                                      \n",
              "1  ⓐ('음악 시간에 들었던 베토벤의 교향곡 <합창>이 위대한 작품인 이유는 무엇일까?...   \n",
              "2                                                      \n",
              "3                                                      \n",
              "4                                                      \n",
              "\n",
              "                                             choices  answer  score  \n",
              "0  [같은 책을 읽은 독자라도 서로 다른 의미를 구성할 수 있다., 다른 독자와의 소통...       4      2  \n",
              "1  [ⓐ와 ⓑ에는 모두 ‘독자 자신에게서 답을 찾는 질문’이 나타난다., ⓒ와 ⓓ에는 ...       5      3  \n",
              "2  [스스로 독서 계획을 세우고 자신에게 필요한 책을 찾아 개인적으로 읽는 과정에서 경...       1      2  \n",
              "3  [(가)는 유서의 유형을 분류하였고, (나)는 유서의 분류 기준과적절성 여부를 평가...       4      2  \n",
              "4  [조선에서 편찬자가 미상인 유서가 많았던 것은 편찬자의 개인적 목적으로 유서를 활용...       5      2  "
            ],
            "text/html": [
              "\n",
              "  <div id=\"df-33af61ad-db6c-419d-b7b3-5ec2ed7ecc17\" class=\"colab-df-container\">\n",
              "    <div>\n",
              "<style scoped>\n",
              "    .dataframe tbody tr th:only-of-type {\n",
              "        vertical-align: middle;\n",
              "    }\n",
              "\n",
              "    .dataframe tbody tr th {\n",
              "        vertical-align: top;\n",
              "    }\n",
              "\n",
              "    .dataframe thead th {\n",
              "        text-align: right;\n",
              "    }\n",
              "</style>\n",
              "<table border=\"1\" class=\"dataframe\">\n",
              "  <thead>\n",
              "    <tr style=\"text-align: right;\">\n",
              "      <th></th>\n",
              "      <th>paragraph</th>\n",
              "      <th>question</th>\n",
              "      <th>question_plus</th>\n",
              "      <th>choices</th>\n",
              "      <th>answer</th>\n",
              "      <th>score</th>\n",
              "    </tr>\n",
              "  </thead>\n",
              "  <tbody>\n",
              "    <tr>\n",
              "      <th>0</th>\n",
              "      <td>사람들이 지속적으로 책을 읽는 이유 중 하나는 즐거움이다. 독서의 즐거움에는 여러 ...</td>\n",
              "      <td>윗글의 내용과 일치하지 않는 것은?</td>\n",
              "      <td></td>\n",
              "      <td>[같은 책을 읽은 독자라도 서로 다른 의미를 구성할 수 있다., 다른 독자와의 소통...</td>\n",
              "      <td>4</td>\n",
              "      <td>2</td>\n",
              "    </tr>\n",
              "    <tr>\n",
              "      <th>1</th>\n",
              "      <td>사람들이 지속적으로 책을 읽는 이유 중 하나는 즐거움이다. 독서의 즐거움에는 여러 ...</td>\n",
              "      <td>다음은 학생이 독서 후 작성한 글의 일부이다. [A]를 바탕으로 ⓐ～ⓔ를 이해한 내...</td>\n",
              "      <td>ⓐ('음악 시간에 들었던 베토벤의 교향곡 &lt;합창&gt;이 위대한 작품인 이유는 무엇일까?...</td>\n",
              "      <td>[ⓐ와 ⓑ에는 모두 ‘독자 자신에게서 답을 찾는 질문’이 나타난다., ⓒ와 ⓓ에는 ...</td>\n",
              "      <td>5</td>\n",
              "      <td>3</td>\n",
              "    </tr>\n",
              "    <tr>\n",
              "      <th>2</th>\n",
              "      <td>사람들이 지속적으로 책을 읽는 이유 중 하나는 즐거움이다. 독서의 즐거움에는 여러 ...</td>\n",
              "      <td>윗글을 읽고 ㉠에 대해 보인 반응으로 적절하지 않은 것은?</td>\n",
              "      <td></td>\n",
              "      <td>[스스로 독서 계획을 세우고 자신에게 필요한 책을 찾아 개인적으로 읽는 과정에서 경...</td>\n",
              "      <td>1</td>\n",
              "      <td>2</td>\n",
              "    </tr>\n",
              "    <tr>\n",
              "      <th>3</th>\n",
              "      <td>(가)[A](중국에서 비롯된 유서(類書)는 고금의 서적에서 자료를 수집하고 항목별로...</td>\n",
              "      <td>(가)와 (나)에 대한 설명으로 가장 적절한 것은?</td>\n",
              "      <td></td>\n",
              "      <td>[(가)는 유서의 유형을 분류하였고, (나)는 유서의 분류 기준과적절성 여부를 평가...</td>\n",
              "      <td>4</td>\n",
              "      <td>2</td>\n",
              "    </tr>\n",
              "    <tr>\n",
              "      <th>4</th>\n",
              "      <td>(가)[A](중국에서 비롯된 유서(類書)는 고금의 서적에서 자료를 수집하고 항목별로...</td>\n",
              "      <td>[A]에 대한 이해로 적절하지 않은 것은?</td>\n",
              "      <td></td>\n",
              "      <td>[조선에서 편찬자가 미상인 유서가 많았던 것은 편찬자의 개인적 목적으로 유서를 활용...</td>\n",
              "      <td>5</td>\n",
              "      <td>2</td>\n",
              "    </tr>\n",
              "  </tbody>\n",
              "</table>\n",
              "</div>\n",
              "    <div class=\"colab-df-buttons\">\n",
              "\n",
              "  <div class=\"colab-df-container\">\n",
              "    <button class=\"colab-df-convert\" onclick=\"convertToInteractive('df-33af61ad-db6c-419d-b7b3-5ec2ed7ecc17')\"\n",
              "            title=\"Convert this dataframe to an interactive table.\"\n",
              "            style=\"display:none;\">\n",
              "\n",
              "  <svg xmlns=\"http://www.w3.org/2000/svg\" height=\"24px\" viewBox=\"0 -960 960 960\">\n",
              "    <path d=\"M120-120v-720h720v720H120Zm60-500h600v-160H180v160Zm220 220h160v-160H400v160Zm0 220h160v-160H400v160ZM180-400h160v-160H180v160Zm440 0h160v-160H620v160ZM180-180h160v-160H180v160Zm440 0h160v-160H620v160Z\"/>\n",
              "  </svg>\n",
              "    </button>\n",
              "\n",
              "  <style>\n",
              "    .colab-df-container {\n",
              "      display:flex;\n",
              "      gap: 12px;\n",
              "    }\n",
              "\n",
              "    .colab-df-convert {\n",
              "      background-color: #E8F0FE;\n",
              "      border: none;\n",
              "      border-radius: 50%;\n",
              "      cursor: pointer;\n",
              "      display: none;\n",
              "      fill: #1967D2;\n",
              "      height: 32px;\n",
              "      padding: 0 0 0 0;\n",
              "      width: 32px;\n",
              "    }\n",
              "\n",
              "    .colab-df-convert:hover {\n",
              "      background-color: #E2EBFA;\n",
              "      box-shadow: 0px 1px 2px rgba(60, 64, 67, 0.3), 0px 1px 3px 1px rgba(60, 64, 67, 0.15);\n",
              "      fill: #174EA6;\n",
              "    }\n",
              "\n",
              "    .colab-df-buttons div {\n",
              "      margin-bottom: 4px;\n",
              "    }\n",
              "\n",
              "    [theme=dark] .colab-df-convert {\n",
              "      background-color: #3B4455;\n",
              "      fill: #D2E3FC;\n",
              "    }\n",
              "\n",
              "    [theme=dark] .colab-df-convert:hover {\n",
              "      background-color: #434B5C;\n",
              "      box-shadow: 0px 1px 3px 1px rgba(0, 0, 0, 0.15);\n",
              "      filter: drop-shadow(0px 1px 2px rgba(0, 0, 0, 0.3));\n",
              "      fill: #FFFFFF;\n",
              "    }\n",
              "  </style>\n",
              "\n",
              "    <script>\n",
              "      const buttonEl =\n",
              "        document.querySelector('#df-33af61ad-db6c-419d-b7b3-5ec2ed7ecc17 button.colab-df-convert');\n",
              "      buttonEl.style.display =\n",
              "        google.colab.kernel.accessAllowed ? 'block' : 'none';\n",
              "\n",
              "      async function convertToInteractive(key) {\n",
              "        const element = document.querySelector('#df-33af61ad-db6c-419d-b7b3-5ec2ed7ecc17');\n",
              "        const dataTable =\n",
              "          await google.colab.kernel.invokeFunction('convertToInteractive',\n",
              "                                                    [key], {});\n",
              "        if (!dataTable) return;\n",
              "\n",
              "        const docLinkHtml = 'Like what you see? Visit the ' +\n",
              "          '<a target=\"_blank\" href=https://colab.research.google.com/notebooks/data_table.ipynb>data table notebook</a>'\n",
              "          + ' to learn more about interactive tables.';\n",
              "        element.innerHTML = '';\n",
              "        dataTable['output_type'] = 'display_data';\n",
              "        await google.colab.output.renderOutput(dataTable, element);\n",
              "        const docLink = document.createElement('div');\n",
              "        docLink.innerHTML = docLinkHtml;\n",
              "        element.appendChild(docLink);\n",
              "      }\n",
              "    </script>\n",
              "  </div>\n",
              "\n",
              "\n",
              "<div id=\"df-0c65b928-5cf3-4cf3-bd72-07a26f1d20de\">\n",
              "  <button class=\"colab-df-quickchart\" onclick=\"quickchart('df-0c65b928-5cf3-4cf3-bd72-07a26f1d20de')\"\n",
              "            title=\"Suggest charts\"\n",
              "            style=\"display:none;\">\n",
              "\n",
              "<svg xmlns=\"http://www.w3.org/2000/svg\" height=\"24px\"viewBox=\"0 0 24 24\"\n",
              "     width=\"24px\">\n",
              "    <g>\n",
              "        <path d=\"M19 3H5c-1.1 0-2 .9-2 2v14c0 1.1.9 2 2 2h14c1.1 0 2-.9 2-2V5c0-1.1-.9-2-2-2zM9 17H7v-7h2v7zm4 0h-2V7h2v10zm4 0h-2v-4h2v4z\"/>\n",
              "    </g>\n",
              "</svg>\n",
              "  </button>\n",
              "\n",
              "<style>\n",
              "  .colab-df-quickchart {\n",
              "      --bg-color: #E8F0FE;\n",
              "      --fill-color: #1967D2;\n",
              "      --hover-bg-color: #E2EBFA;\n",
              "      --hover-fill-color: #174EA6;\n",
              "      --disabled-fill-color: #AAA;\n",
              "      --disabled-bg-color: #DDD;\n",
              "  }\n",
              "\n",
              "  [theme=dark] .colab-df-quickchart {\n",
              "      --bg-color: #3B4455;\n",
              "      --fill-color: #D2E3FC;\n",
              "      --hover-bg-color: #434B5C;\n",
              "      --hover-fill-color: #FFFFFF;\n",
              "      --disabled-bg-color: #3B4455;\n",
              "      --disabled-fill-color: #666;\n",
              "  }\n",
              "\n",
              "  .colab-df-quickchart {\n",
              "    background-color: var(--bg-color);\n",
              "    border: none;\n",
              "    border-radius: 50%;\n",
              "    cursor: pointer;\n",
              "    display: none;\n",
              "    fill: var(--fill-color);\n",
              "    height: 32px;\n",
              "    padding: 0;\n",
              "    width: 32px;\n",
              "  }\n",
              "\n",
              "  .colab-df-quickchart:hover {\n",
              "    background-color: var(--hover-bg-color);\n",
              "    box-shadow: 0 1px 2px rgba(60, 64, 67, 0.3), 0 1px 3px 1px rgba(60, 64, 67, 0.15);\n",
              "    fill: var(--button-hover-fill-color);\n",
              "  }\n",
              "\n",
              "  .colab-df-quickchart-complete:disabled,\n",
              "  .colab-df-quickchart-complete:disabled:hover {\n",
              "    background-color: var(--disabled-bg-color);\n",
              "    fill: var(--disabled-fill-color);\n",
              "    box-shadow: none;\n",
              "  }\n",
              "\n",
              "  .colab-df-spinner {\n",
              "    border: 2px solid var(--fill-color);\n",
              "    border-color: transparent;\n",
              "    border-bottom-color: var(--fill-color);\n",
              "    animation:\n",
              "      spin 1s steps(1) infinite;\n",
              "  }\n",
              "\n",
              "  @keyframes spin {\n",
              "    0% {\n",
              "      border-color: transparent;\n",
              "      border-bottom-color: var(--fill-color);\n",
              "      border-left-color: var(--fill-color);\n",
              "    }\n",
              "    20% {\n",
              "      border-color: transparent;\n",
              "      border-left-color: var(--fill-color);\n",
              "      border-top-color: var(--fill-color);\n",
              "    }\n",
              "    30% {\n",
              "      border-color: transparent;\n",
              "      border-left-color: var(--fill-color);\n",
              "      border-top-color: var(--fill-color);\n",
              "      border-right-color: var(--fill-color);\n",
              "    }\n",
              "    40% {\n",
              "      border-color: transparent;\n",
              "      border-right-color: var(--fill-color);\n",
              "      border-top-color: var(--fill-color);\n",
              "    }\n",
              "    60% {\n",
              "      border-color: transparent;\n",
              "      border-right-color: var(--fill-color);\n",
              "    }\n",
              "    80% {\n",
              "      border-color: transparent;\n",
              "      border-right-color: var(--fill-color);\n",
              "      border-bottom-color: var(--fill-color);\n",
              "    }\n",
              "    90% {\n",
              "      border-color: transparent;\n",
              "      border-bottom-color: var(--fill-color);\n",
              "    }\n",
              "  }\n",
              "</style>\n",
              "\n",
              "  <script>\n",
              "    async function quickchart(key) {\n",
              "      const quickchartButtonEl =\n",
              "        document.querySelector('#' + key + ' button');\n",
              "      quickchartButtonEl.disabled = true;  // To prevent multiple clicks.\n",
              "      quickchartButtonEl.classList.add('colab-df-spinner');\n",
              "      try {\n",
              "        const charts = await google.colab.kernel.invokeFunction(\n",
              "            'suggestCharts', [key], {});\n",
              "      } catch (error) {\n",
              "        console.error('Error during call to suggestCharts:', error);\n",
              "      }\n",
              "      quickchartButtonEl.classList.remove('colab-df-spinner');\n",
              "      quickchartButtonEl.classList.add('colab-df-quickchart-complete');\n",
              "    }\n",
              "    (() => {\n",
              "      let quickchartButtonEl =\n",
              "        document.querySelector('#df-0c65b928-5cf3-4cf3-bd72-07a26f1d20de button');\n",
              "      quickchartButtonEl.style.display =\n",
              "        google.colab.kernel.accessAllowed ? 'block' : 'none';\n",
              "    })();\n",
              "  </script>\n",
              "</div>\n",
              "\n",
              "    </div>\n",
              "  </div>\n"
            ],
            "application/vnd.google.colaboratory.intrinsic+json": {
              "type": "dataframe",
              "variable_name": "df",
              "summary": "{\n  \"name\": \"df\",\n  \"rows\": 45,\n  \"fields\": [\n    {\n      \"column\": \"paragraph\",\n      \"properties\": {\n        \"dtype\": \"category\",\n        \"num_unique_values\": 11,\n        \"samples\": [\n          \"(\\uac00)[A](\\uc774\\ub7f0\\ub4e4 \\uc5b4\\ub5a0\\ud558\\uba70 \\uc800\\ub7f0\\ub4e4 \\uc5b4\\ub5a0\\ud558\\ub8cc\\ucd08\\uc57c\\uc6b0\\uc0dd(\\u8349\\u91ce\\u611a\\u751f)\\uc774 \\uc774\\ub807\\ub2e4 \\uc5b4\\ub5a0\\ud558\\ub8cc\\ud558\\ubb3c\\uba70 \\ucc9c\\uc11d\\uace0\\ud669(\\u6cc9\\u77f3\\u818f\\u8093)\\uc744 \\uace0\\uccd0 \\ubbc0\\uc2b4\\ud558\\ub8cc <\\uc81c1\\uc218>\\uc5f0\\ud558(\\u70df\\u971e)\\ub85c \\uc9d1\\uc744 \\uc0bc\\uace0 \\ud48d\\uc6d4(\\u98a8\\u6708)\\ub85c \\ubc97\\uc744 \\uc0bc\\uc544\\ud0dc\\ud3c9\\uc131\\ub300\\uc5d0 \\ubcd1\\uc73c\\ub85c \\ub299\\uc5b4 \\uac00\\ub124\\uc774 \\uc911\\uc5d0 \\ubc14\\ub77c\\ub294 \\uc77c\\uc740 \\ud5c8\\ubb3c\\uc774\\ub098 \\uc5c6\\uace0\\uc790 <\\uc81c2\\uc218>)\\ucd98\\ud48d(\\u6625\\u98a8)\\uc5d0 \\ud654\\ub9cc\\uc0b0(\\u82b1\\u6eff\\u5c71)\\ud558\\uace0 \\ucd94\\uc57c(\\u79cb\\u591c)\\uc5d0 \\uc6d4\\ub9cc\\ub300(\\u6708\\u6eff\\u81fa)\\ub77c\\uc0ac\\uc2dc \\uac00\\ud765(\\u4f73\\u8208)\\uc774 \\uc0ac\\ub78c\\uacfc \\ud55c\\uac00\\uc9c0\\ub77c\\ud558\\ubb3c\\uba70 \\uc5b4\\uc57d\\uc5f0\\ube44(\\u9b5a\\u8e8d\\u9cf6\\u98db) \\uc6b4\\uc601\\ucc9c\\uad11(\\u96f2\\u5f71\\u5929\\u5149)\\uc774\\uc57c \\uc5b4\\ub290 \\ub05d\\uc774\\uc788\\uc73c\\ub9ac <\\uc81c6\\uc218>- \\uc774\\ud669, \\ub3c4\\uc0b0\\uc2ed\\uc774\\uace1 -(\\ub098)\\uc0b0\\uac00(\\u5c71\\u5bb6) \\ud48d\\uc218\\uc124\\uc5d0 \\ub3d9\\uad6c \\ubabb\\uc774 \\uc88b\\ub2e4 \\ud560\\uc0c8\\uc2ed \\ub144\\uc744 \\uacbd\\uc601\\ud558\\uc5ec \\ud55c \\ub545\\uc744 \\uc5bb\\uc73c\\ub2c8\\ud615\\uc138\\ub294 \\uc881\\uace0 \\uad75\\uc740 \\uc554\\uc11d\\uc740 \\ub9ce\\uace0 \\ub9ce\\ub2e4[B](\\uc61b \\uae38\\uc744 \\uc0c8\\ub85c \\ub0b4\\uace0 \\uc791\\uc740 \\uc5f0\\ubabb \\ud30c\\uc11c \\ud65c\\uc218*\\ub97c \\ub04c\\uc5b4 \\ub4e4\\uc5ec \\uac00\\ub294 \\uac83\\uc744 \\uba38\\ubb3c\\uac8c \\ud558\\ub2c8\\ub9d1\\uc740 \\uac70\\uc6b8 \\ud2f0 \\uc5c6\\uc5b4 \\uc0b0 \\uadf8\\ub9bc\\uc790 \\uc7a0\\uaca8 \\uc788\\ub2e4)\\ucc9c\\uace0(\\u5343\\u53e4)\\uc5d0 \\ud669\\ubb34\\uc9c0\\ub97c \\uc544\\ubb34\\ub3c4 \\ubaa8\\ub974\\ub354\\ub2c8\\uc77c\\uc870(\\u4e00\\u671d)\\uc5d0 \\uc9c4\\uba74\\ubaa9\\uc744 \\ub0b4 \\ud63c\\uc790 \\uc54c\\uc558\\ub178\\ub77c\\ucc98\\uc74c\\uc758 \\uc774 \\ub0b4 \\ub73b\\uc740 \\ubb3c \\uba38\\ubb3c\\uac8c \\ud560 \\ubfd0\\uc774\\ub354\\ub2c8\\uc774\\uc81c\\ub294 \\ub3cc\\uc544\\ubcf4\\ub2c8 \\uac00\\uc9c0\\uac00\\uc9c0 \\ub2e4 \\uc88b\\uad6c\\ub098\\ubc31\\uc11d\\uc740 \\uce58\\uce58(\\u9f52\\u9f52)\\ud558\\uc5ec \\uc740\\ub3c4\\ub85c \\uc0c8\\uaca8 \\uc788\\uace0\\ubcbd\\ub958\\ub294 \\ucf78\\ucf78 \\ud758\\ub7ec \\uc625 \\uc220\\uc794\\uc744 \\ub54c\\ub9ac\\ub294 \\ub4ef\\ucca9\\ucca9\\ud55c \\uc0b0\\ub4e4\\uc740 \\uc88c\\uc6b0\\uc758 \\ubcd1\\ud48d\\uc774\\uc694\\ube7d\\ube7d\\ud55c \\uc18c\\ub098\\ubb34\\ub294 \\uc804\\ud6c4\\uc758 \\uc6b8\\ud0c0\\ub9ac\\ub85c\\ub2e4\\uad6c\\uace1 \\uc0c1\\ud558\\ub300\\ub294 \\uce35\\uce35\\uc774 \\ub458\\ub7ec \\uc788\\uace0\\uc0bc\\uacbd(\\u4e09\\u9015) \\uc1a1\\uad6d\\uc8fd(\\u677e\\u83ca\\u7af9)\\uc740 \\uc904\\uc9c0\\uc5b4 \\ubc8c\\uc5ec \\uc788\\ub2e4\\ud558\\ubb3c\\uba70 \\ubc14\\uc704 \\ubcbc\\ub791 \\ub192\\uc740 \\uc704\\uc5d0 \\ub178\\uc1a1\\uc774 \\uc6a9\\uc774 \\ub418\\uc5b4 \\uad6c\\ubd80\\ub824 \\ub204\\uc6e0\\uac70\\ub298\\uc6b4\\uadfc(\\u96f2\\u6839)\\uc744 \\ubca0\\uc5b4 \\ub0b4\\uace0 \\u3260(\\uc791\\uc740 \\uc815\\uc790) \\ubd99\\uc5ec \\uc138\\uc6cc\\ub760 \\ud480\\ub85c \\uc9c0\\ubd95 \\uc774\\uace0 \\uc790\\ub974\\uc9c0 \\uc54a\\uc73c\\ub2c8 \\uc774\\uac83\\uc774 \\uc5b4\\ub5a4 \\uc9d1\\uc778\\uac00\\ub0a8\\uc591\\uc758 \\uc81c\\uac08\\ub824\\uc778\\uac00 \\ubb34\\uc774\\uc758 \\uc640\\ub8e1\\uc554\\uc778\\uac00*\\ub2e4\\uc2dc\\uae08 \\uc0b4\\ud3b4\\ubcf4\\ub2c8 \\ud544\\uad49 \\uc704\\uc5b8\\uc758 \\uadf8\\ub9bc\\uc758 \\uac83\\uc774\\ub85c\\ub2e4\\ubb34\\ub989\\ub3c4\\uc6d0\\uc744 \\uc608 \\ub4e3\\uace0 \\ubabb \\ubd24\\ub354\\ub2c8\\uc774\\uc81c\\uc57c \\uc54c\\uaca0\\uad6c\\ub098 \\uc774 \\uc9c4\\uc9dc \\uac70\\uae30\\ub85c\\ub2e4- \\uae40\\ub4dd\\uc5f0, \\uc9c0\\uc218\\uc815\\uac00 -* \\ud65c\\uc218 : \\ud750\\ub974\\ub294 \\ubb3c.* \\ub0a8\\uc591\\uc758 \\uc81c\\uac08\\ub824, \\ubb34\\uc774\\uc758 \\uc640\\ub8e1\\uc554 : \\uc61b \\ud604\\uc778\\uc774 \\uc740\\uac70\\ud55c \\uac70\\ucc98.(\\ub2e4)\\ub0b4 \\ucd08\\ub85c\\uc758 \\uc5b4\\ub290 \\uac00\\uc744\\ub0a0, \\ub098\\ub294 \\uacb8\\uc7ac\\uac00 \\ub3d9\\ud574\\uc548\\uc744 \\ub530\\ub77c \\ub0b4\\ub824\\uac00\\uba74\\uc11c\\ub3d9\\ud574 \\uc2b9\\uacbd\\uc744 \\ud654\\ud3ed\\uc5d0 \\uc62e\\uacbc\\ub358 \\uc6d4\\uc1a1\\uc815, \\ub9dd\\uc591\\uc815, \\uccad\\uac04\\uc815, \\uc131\\ub958\\uad74\\uc744 \\uc77c\\uc0bc\\uc544 \\ub5a0\\ub3cc\\uc544\\ub2e4\\ub154\\ub2e4. \\ub9dd\\uc591\\uc815\\uc740 \\uc61b \\uae30\\uc131\\uba74\\uc758 \\ubc14\\ub2f7\\uac00\\uc5d0\\uc11c \\uc9c0\\uae08\\uc758\\uadfc\\ub0a8\\uba74 \\uc0b0\\ud3ec\\ub9ac\\ub85c \\uc62e\\uaca8 \\uc138\\uc6b4 \\uc9c0\\uac00 140\\uc5ec \\ub144\\uc774 \\ub118\\uc5b4, \\uae30\\uc131\\uba74\\uc758 \\u3261(\\uc61b \\ub9dd\\uc591\\uc815) \\uc790\\ub9ac\\ub294 \\ub3c4\\ub85c \\uacf5\\uc0ac\\ub85c \\ub2e8\\uc560\\uc758 \\ud5c8\\ub9ac\\uac00 \\uc798\\ub9ac\\uc6cc \\ub098\\uac00, \\ubc14\\ub2f7\\ubb3c\\uc740 \\ub2e8\\uc560 \\ub05d\\uc73c\\ub85c\\ubd80\\ud130 \\uba40\\ucc0c\\uac10\\uce58 \\ucad3\\uaca8\\ub0ac\\uace0 \\uadf8 \\uc0ac\\uc774\\ub294 \\uc2dc\\uba58\\ud2b8\\uce60\\uac11\\uc774 \\ub418\\uc5b4 \\uc788\\uc5c8\\ub2e4. \\uc815\\uc790 \\ud130\\ub294 \\uc0ac\\ubc29\\uc774 \\uae4e\\uc5ec\\uc838 \\ub098\\uac14\\uace0 \\ud654\\ud3ed \\uc18d\\uc758\\uc18c\\ub098\\ubb34 \\uc232\\ub3c4 \\ubca0\\uc5b4\\uc838 \\ubc84\\ub9b0 \\ucc44, \\uadf8 \\uc5b8\\ub355\\uc740 \\uadf8\\uc800 \\ubb34\\uc758\\ubbf8\\ud55c \\ud759\\ub354\\ubbf8\\ub85c\\ubcc0\\ud574 \\uc788\\uc5c8\\ub2e4. \\ub9c8\\uc744\\uc758 \\uace0\\ub85c(\\u53e4\\u8001)\\ub4e4\\ub3c4 \\uadf8\\uacf3\\uc5d0 \\ub4e4\\uc5b4\\uc11c \\uc788\\ub358 \\uc815\\uc790\\ub97c\\ubcf8 \\uc77c\\uc740 \\uc5c6\\uc5c8\\uace0, \\ub2e4\\ub9cc \\uadf8\\ub4e4\\uc758 \\uc99d\\uc870\\ub098 \\uace0\\uc870\\ub85c\\ubd80\\ud130 \\uc804\\ud574 \\uc624\\ub294 \\uad6c\\uc804\\uc5d0 \\uc758\\ud574 \\uadf8 \\ud759\\ub354\\ubbf8\\uac00 \\ub9dd\\uc591\\uc815 \\uc61b\\ud130\\uc600\\uc74c\\uc744 \\uc62e\\uae38 \\ubfd0\\uc774\\uc5c8\\ub2e4.\\uacb8\\uc7ac\\uc758 \\ud654\\ud3ed\\uc744 \\ub9c8\\uc74c\\uc18d\\uc5d0 \\uc55e\\uc138\\uc6b0\\uace0 \\uacb8\\uc7ac \\uc2e4\\uacbd\\uc0b0\\uc218(\\u5be6\\u666f\\u5c71\\u6c34)\\uc758 \\uc790\\ub9ac\\ub97c \\ucc3e\\uc744 \\uc801\\uc5d0 \\uadf8\\uacf3\\uc5d0 \\uc61b \\uc815\\uc790\\uac00 \\uc774\\ubbf8 \\uc624\\ub798\\uc804\\uc5d0 \\uc5c6\\uc5b4\\uc838 \\ubc84\\ub9b0\\uadf8 \\ud5c8\\uc804\\ud55c \\uc0ac\\ud0dc\\ub294 \\uadf8\\ub2e4\\uc9c0 \\ud5c8\\uc804\\ud558\\uc9c0 \\uc54a\\uc558\\ub2e4. \\uc65c \\uadf8\\ub7f0\\uac00. \\ud604\\uc2e4 \\uc18d\\uc758\\uc815\\uc790\\uc5d0 \\uc624\\ub974\\uba74 \\ud654\\ud3ed \\uc18d\\uc758 \\uc815\\uc790\\ub294 \\ubcf4\\uc774\\uc9c0 \\uc54a\\ub294\\ub2e4. \\uc721\\uc2e0\\uc758 \\ub208\\uc744 \\uc55e\\uc138\\uc6cc \\uc815\\uc790\\ub97c \\ucc3e\\uc544\\uc624\\ub294 \\uc790\\uc5d0\\uac8c\\ub294 \\ud48d\\uacbd \\uc804\\uccb4 \\uc18d\\uc5d0\\uc11c \\uc778\\uac04\\uc138\\uc758 \\uc704\\uce58\\uc640 \\uaddc\\ubaa8\\ub97c \\ub300\\ud45c\\ud558\\ub294 \\uc0c1\\uc9d5\\uc73c\\ub85c\\uc11c\\uc758 \\uc815\\uc790\\ub294 \\ubcf4\\uc774\\uc9c0 \\uc54a\\ub294\\ub2e4.(\\uc911\\ub7b5)[C](\\uba3c \\uc0b0\\uc744 \\uadf8\\ub9b4 \\ub54c \\uadf8\\ub294 \\uadf8 \\uc0b0\\uacfc \\uc778\\uac04 \\uc0ac\\uc774\\uc758 \\uac70\\ub9ac\\ub97c \\uadf8\\ub9ac\\ub294\\uac83\\uc774 \\uc544\\ub2c8\\ub77c, \\uadf8 \\uac70\\ub9ac\\ub97c \\ub4e4\\uc5ec\\ub2e4\\ubcf4\\ub294 \\uc2dc\\uc120\\uc758 \\uae4a\\uc774\\ub97c \\uadf8\\ub9b0\\ub2e4. \\uba3c \\uac83\\ub4e4\\uc740 \\uc6d0\\uadfc\\uc0c1\\uc758 \\uac70\\ub9ac\\uc5d0 \\uc758\\ud574 \\uaca9\\ub9ac\\ub418\\ub294 \\uac83\\uc774 \\uc544\\ub2c8\\ub77c, \\uae4a\\uc774\\uc5d0 \\uc758\\ud574 \\uc790\\ub9ac \\uc7a1\\ub294\\ub2e4. \\uacb8\\uc7ac\\uc758 \\ud654\\ud3ed \\uc18d\\uc5d0\\uc11c \\ud48d\\uacbd\\uc740 \\uac00\\uae5d\\ub2e4\\ub294 \\uc774\\uc720\\ub9cc\\uc73c\\ub85c \\uc0ac\\uc2e4\\uc131\\uc744 \\ubd80\\uc5ec\\ubc1b\\uc9c0 \\uc54a\\uace0 \\ub610 \\uba40\\ub2e4\\ub294 \\uc774\\uc720\\ub9cc\\uc73c\\ub85c \\uc0ac\\uc2e4\\uc131\\uc744 \\ubc15\\ud0c8\\ub2f9\\ud558\\uc9c0 \\uc54a\\ub294\\ub2e4. \\ub300\\uccb4\\ub85c \\uadf8\\uc758 \\uadf8\\ub9bc \\uc18d\\uc5d0\\uc11c\\ub294 \\uc778\\uac04\\uacfc \\uc778\\uac04\\uc5d0 \\uc9c1\\uc811 \\uad00\\ub828\\ub41c \\uac83\\ub4e4\\uff0d\\uc815\\uc790, \\uc9d1, \\ubc30, \\ub098\\uadc0, \\uac00\\ub9c8, \\ud654\\ubd84, \\uc131\\uacfd \\uac19\\uc740 \\uac83\\ub4e4\\uc774 \\ube44\\uad50\\uc801 \\uba85\\ub8cc\\ud55c \\uc0ac\\uc2e4\\uc131\\uc744\\ub760\\uace0 \\uc788\\uc9c0\\ub9cc, \\uadf8 \\uc0ac\\uc2e4\\uc131\\uc740 \\uc6d0\\uadfc\\uc5d0 \\uc758\\ud574 \\uc815\\ub9bd\\ub418\\ub294 \\uc0ac\\uc2e4\\uc131\\uc774 \\uc544\\ub2c8\\ub77c, \\uc138\\uacc4\\ub97c \\uad00\\ucc30\\ud558\\ub294 \\uc778\\uac04\\uacfc\\uc758 \\uad00\\uacc4 \\uc18d\\uc5d0\\uc11c \\uc815\\ub9bd\\ub418\\ub294 \\uc0ac\\uc2e4\\uc131\\uc774\\ub2e4.) - \\uae40\\ud6c8, \\uacb8\\uc7ac\\uc758 \\ube5b -\",\n          \"\\uc0ac\\ub78c\\ub4e4\\uc774 \\uc9c0\\uc18d\\uc801\\uc73c\\ub85c \\ucc45\\uc744 \\uc77d\\ub294 \\uc774\\uc720 \\uc911 \\ud558\\ub098\\ub294 \\uc990\\uac70\\uc6c0\\uc774\\ub2e4. \\ub3c5\\uc11c\\uc758 \\uc990\\uac70\\uc6c0\\uc5d0\\ub294 \\uc5ec\\ub7ec \\uac00\\uc9c0\\uac00 \\uc788\\uaca0\\uc9c0\\ub9cc \\uadf8 \\uc911\\uc2ec\\uc5d0\\ub294 \\u2018\\uc18c\\ud1b5\\uc758 \\uc990\\uac70\\uc6c0\\u2019\\uc774 \\uc788\\ub2e4.\\ub3c5\\uc790\\ub294 \\ub3c5\\uc11c\\ub97c \\ud1b5\\ud574 \\ucc45\\uacfc \\uc18c\\ud1b5\\ud558\\ub294 \\uc990\\uac70\\uc6c0\\uc744 \\uacbd\\ud5d8\\ud55c\\ub2e4. \\ub3c5\\uc11c\\ub294\\ud544\\uc790\\uc640 \\uac04\\uc811\\uc801\\uc73c\\ub85c \\ub300\\ud654\\ud558\\ub294 \\uc18c\\ud1b5 \\ud589\\uc704\\uc774\\ub2e4. \\ub3c5\\uc790\\ub294 \\uc790\\uc2e0\\uc774 \\uc18d\\ud55c\\uc0ac\\ud68c\\ub098 \\uc2dc\\ub300\\uc758 \\uc601\\ud5a5 \\uc544\\ub798 \\ud544\\uc790\\uac00 \\uc18d\\ud574 \\uc788\\uac70\\ub098 \\ub4dc\\ub7ec\\ub0b4\\uace0\\uc790 \\ud558\\ub294 \\uc0ac\\ud68c\\ub098 \\uc2dc\\ub300\\ub97c \\uacbd\\ud5d8\\ud55c\\ub2e4. \\uc9c1\\uc811 \\uacbd\\ud5d8\\ud558\\uc9c0 \\ubabb\\ud588\\ub358 \\ub2e4\\uc591\\ud55c \\uc0b6\\uc744 \\ud544\\uc790\\ub97c \\ub9e4\\uac1c\\ub85c \\ub9cc\\ub098\\uace0 \\uc774\\ud574\\ud558\\uba74\\uc11c \\ub3c5\\uc790\\ub294 \\ub354 \\ub113\\uc740 \\uc2dc\\uc57c\\ub85c \\uc138\\uacc4\\ub97c\\ubc14\\ub77c\\ubcfc \\uc218 \\uc788\\ub2e4. \\uc774\\ub54c \\uac19\\uc740 \\ucc45\\uc744 \\uc77d\\uc740 \\ub3c5\\uc790\\ub77c\\ub3c4 \\ub3c5\\uc790\\uc758 \\ubc30\\uacbd\\uc9c0\\uc2dd\\uc774\\ub098 \\uad00\\uc810 \\ub4f1\\uc758 \\ub3c5\\uc790 \\uc694\\uc778, \\uc77d\\uae30 \\ud658\\uacbd\\uc774\\ub098 \\uacfc\\uc81c \\ub4f1\\uc758 \\uc0c1\\ud669 \\uc694\\uc778\\uc774 \\ub2e4\\ub974\\ubbc0\\ub85c, \\ud544\\uc790\\uac00 \\ubcf4\\uc5ec \\uc8fc\\ub294 \\uc138\\uacc4\\ub97c \\uadf8\\ub300\\ub85c \\uc218\\uc6a9\\ud558\\uc9c0 \\uc54a\\uace0 \\uc800\\ub9c8\\ub2e4 \\uc18c\\ud1b5 \\uacfc\\uc815\\uc5d0\\uc11c \\ub2e4\\ub978 \\uc758\\ubbf8\\ub97c \\uad6c\\uc131\\ud560 \\uc218 \\uc788\\ub2e4.[A] (\\uc774\\ub7ec\\ud55c \\uc18c\\ud1b5\\uc740 \\ub3c5\\uc790\\uac00 \\ucc45\\uc758 \\ub0b4\\uc6a9\\uc5d0 \\ub300\\ud574 \\uc9c8\\ubb38\\ud558\\uace0 \\ub2f5\\uc744 \\ucc3e\\uc544\\ub0b4\\ub294 \\uacfc\\uc815\\uc5d0\\uc11c \\uac00\\ub2a5\\ud574\\uc9c4\\ub2e4. \\ub3c5\\uc790\\ub294 \\ucc45\\uc5d0\\uc11c \\ub2f5\\uc744 \\ucc3e\\ub294 \\uc9c8\\ubb38, \\ub3c5\\uc790 \\uc790\\uc2e0\\uc5d0\\uac8c\\uc11c \\ub2f5\\uc744 \\ucc3e\\ub294 \\uc9c8\\ubb38 \\ub4f1\\uc744 \\uc81c\\uae30\\ud560 \\uc218 \\uc788\\ub2e4. \\uc804\\uc790\\uc758 \\uacbd\\uc6b0 \\ucc45\\uc5d0 \\uba85\\uc2dc\\ub41c \\ub0b4\\uc6a9\\uc5d0\\uc11c \\ub2f5\\uc744 \\ubc1c\\uacac\\ud560 \\uc218 \\uc788\\uace0, \\ucc45\\uc758 \\ub0b4\\uc6a9\\ub4e4\\uc744 \\uad00\\uacc4 \\uc9c0\\uc73c\\uba70 \\ub2f5\\uc5d0 \\ud574\\ub2f9\\ud558\\ub294 \\ub0b4\\uc6a9\\uc744 \\uc2a4\\uc2a4\\ub85c \\uad6c\\uc131\\ud560 \\uc218\\ub3c4 \\uc788\\ub2e4. \\ub610\\ud55c \\ud6c4\\uc790\\uc758 \\uacbd\\uc6b0 \\ucc45\\uc5d0\\ub294 \\uc5c6\\ub294 \\ub3c5\\uc790\\uc758 \\uacbd\\ud5d8\\uc5d0\\uc11c \\ub2f5\\uc744 \\ucc3e\\uc744 \\uc218 \\uc788\\ub2e4. \\uc774\\ub7f0 \\uc9c8\\ubb38\\ub4e4\\uc744 \\ud48d\\ubd80\\ud788 \\uc0dd\\uc131\\ud558\\uace0 \\uc8fc\\uccb4\\uc801\\uc73c\\ub85c \\ub2f5\\uc744 \\ucc3e\\uc744 \\ub54c \\uc18c\\ud1b5\\uc758 \\uc990\\uac70\\uc6c0\\uc740 \\ub354 \\ucee4\\uc9c4\\ub2e4.)\\ud55c\\ud3b8 \\ub3c5\\uc790\\ub294 \\u3260 (\\ub2e4\\ub978 \\ub3c5\\uc790\\uc640 \\uc18c\\ud1b5\\ud558\\ub294 \\uc990\\uac70\\uc6c0\\uc744 \\uacbd\\ud5d8\\ud560 \\uc218\\ub3c4 \\uc788\\ub2e4.) \\ucc45\\uacfc\\uc758 \\uc18c\\ud1b5\\uc744 \\ud1b5\\ud574 \\uac1c\\uc778\\uc801\\uc73c\\ub85c \\ud615\\uc131\\ud55c \\uc758\\ubbf8\\ub97c \\ub3c5\\uc11c \\ubaa8\\uc784\\uc774\\ub098 \\ub3c5\\uc11c \\ub3d9\\uc544\\ub9ac \\ub4f1\\uc5d0\\uc11c \\ub2e4\\ub978 \\ub3c5\\uc790\\ub4e4\\uacfc \\ub098\\ub204\\ub294 \\uc77c\\uc774 \\uc774\\uc5d0 \\ud574\\ub2f9\\ud55c\\ub2e4. \\ube44\\uc2b7\\ud55c \\ud574\\uc11d\\uc5d0 \\uc11c\\ub85c \\uacf5\\uac10\\ud558\\uba70 \\uae30\\uc874 \\uc778\\uc2dd\\uc744 \\uac15\\ud654\\ud558\\uac70\\ub098 \\uad00\\uc810\\uc758 \\ucc28\\uc774\\ub97c \\ud655\\uc778\\ud558\\uace0 \\uae30\\uc874 \\uc778\\uc2dd\\uc744 \\uc870\\uc815\\ud558\\ub294 \\uacfc\\uc815\\uc5d0\\uc11c, \\ub3c5\\uc790\\ub294\\uc790\\uc2e0\\uc758 \\uc778\\uc2dd\\uc744 \\uc2ec\\ud654 \\ud655\\uc7a5\\ud560 \\uc218 \\uc788\\ub2e4. \\ucd5c\\uadfc \\uc18c\\ud1b5 \\uacf5\\uac04\\uc774 \\uc628\\ub77c\\uc778\\uc73c\\ub85c \\ud655\\ub300\\ub418\\uba74\\uc11c \\ub3c5\\uc11c\\ub97c \\ud1b5\\ud574 \\ub2e4\\ub978 \\ub3c5\\uc790\\ub4e4\\uacfc \\uc18c\\ud1b5\\ud558\\uba70 \\uc990\\uac70\\uc6c0\\uc744\\ub204\\ub9ac\\ub294 \\uc591\\uc0c1\\uc774 \\ub354 \\ub2e4\\uc591\\ud574\\uc9c0\\uace0 \\uc788\\ub2e4. \\uc790\\uc2e0\\uc758 \\ub3c5\\uc11c \\uacbd\\ud5d8\\uc744 \\ub2f4\\uc740 \\uae00\\uc774\\ub098 \\ub3d9\\uc601\\uc0c1\\uc744 \\uc0dd\\uc0b0 \\uacf5\\uc720\\ud568\\uc73c\\ub85c\\uc368, \\ucc45\\uc744 \\uc77d\\uc9c0 \\uc54a\\uc740 \\ud0c0\\uc778\\uc774 \\ucc45\\uacfc \\uc18c\\ud1b5\\ud558\\ub3c4\\ub85d \\ub3d5\\ub294 \\uac83\\ub3c4 \\ucc45\\uc744 \\ud1b5\\ud55c \\uc18c\\ud1b5\\uc758 \\uc990\\uac70\\uc6c0\\uc744 \\ub098\\ub204\\ub294 \\uc77c\\uc774\\ub2e4.\",\n          \"(\\uac00)\\ub294 \\u25cb\\u25cb\\uace0\\ub4f1\\ud559\\uad50 \\ud589\\uc0ac\\uc5d0 \\ucc38\\uc5ec\\ud55c \\ud559\\uc0dd\\uc774 \\ub9c8\\uc744 \\uc18c\\uc2dd\\uc9c0\\uc5d0 \\uc4f4 \\ud6c4\\uae30\\uc774\\uace0, (\\ub098)\\ub294 \\uc774\\ub97c \\uc77d\\uc740 \\ub2e4\\ub978 \\uc9c0\\uc5ed\\uc758 \\ud559\\uc0dd\\ub4e4\\uc774 \\ub098\\ub208 \\ub300\\ud654\\uc774\\ub2e4. \\ubb3c\\uc74c\\uc5d0 \\ub2f5\\ud558\\uc2dc\\uc624. (\\uac00) (\\uc9c0\\ub09c \\ud55c \\ud559\\uae30 \\ub3d9\\uc548 \\uc6b0\\ub9ac \\ud559\\uad50\\uc5d0\\uc11c\\ub294 \\uc2dd\\ubb3c\\uc5d0 \\ub300\\ud55c \\uad00\\uc2ec\\uc744 \\ub192\\uc774\\uc790\\ub294 \\ucde8\\uc9c0\\uc5d0\\uc11c \\u2018\\ub2e4 \\ud568\\uaed8 \\uc2dd\\ubb3c \\uc9c0\\ub3c4 \\ub9cc\\ub4e4\\uae30\\u2019 \\ud589\\uc0ac\\ub97c \\uc9c4\\ud589\\ud558\\uc600\\ub2e4. \\ub9c8\\uc744 \\uc0ac\\ub78c\\ub4e4\\uc774 \\ubcfc \\u25b3\\u25b3\\ub3d9 \\uc2dd\\ubb3c \\uc9c0\\ub3c4\\ub97c \\uc804\\uad50\\uc0dd\\uc774 \\ud568\\uaed8 \\ub9cc\\ub4e4\\uba70, \\ub2e4\\uc591\\ud55c \\uc2dd\\ubb3c\\uc5d0 \\uad00\\uc2ec\\uc744 \\uac16\\uac8c \\ub418\\uc5c8\\uace0 \\uc790\\uc5f0\\uc758 \\uc18c\\uc911\\ud568\\ub3c4 \\uae68\\ub2eb\\uac8c \\ub418\\uc5c8\\ub2e4. \\uc2dd\\ubb3c \\uc9c0\\ub3c4 \\ub9cc\\ub4e4\\uae30\\ub294 \\u25b3\\u25b3\\ub3d9 \\uc804\\uccb4\\ub97c 30\\uac1c \\uad6c\\uc5ed\\uc73c\\ub85c \\ub098\\ub220 \\ud559\\uae09 \\ubcc4\\ub85c \\ub9e1\\uc740 \\uad6c\\uc5ed\\uc758 \\uc2dd\\ubb3c\\uc744 \\uc870\\uc0ac\\ud558\\ub294 \\ubc29\\uc2dd\\uc73c\\ub85c \\uc774\\ub8e8\\uc5b4\\uc84c\\ub2e4. \\uba3c\\uc800 \\ucd5c\\ub300\\ud55c \\uc5ec\\ub7ec \\uc885\\ub958\\uc758 \\uc2dd\\ubb3c \\uc0ac\\uc9c4\\uc744 \\ucc0d\\uc740 \\ub2e4\\uc74c, \\uc2dd\\ubb3c\\uc758 \\uc774\\ub984\\uc744 \\uc54c\\ub824 \\uc8fc\\ub294 \\ub204\\ub9ac\\uc9d1\\uc744 \\uc774\\uc6a9\\ud574 \\uc2dd\\ubb3c \\uc774\\ub984\\uc744 \\ud3b8\\ub9ac\\ud558\\uac8c \\ucc3e\\uc558\\ub2e4. \\uadf8\\ub9ac\\uace0 \\ud559\\uae09\\ub9c8\\ub2e4 \\ud2b9\\uc0c9 \\uc788\\uac8c \\uadf8\\ub9b0 \\uc9c0\\ub3c4 \\uc704\\uc5d0 \\uc870\\uc0ac\\ud55c \\ubaa8\\ub4e0 \\uc2dd\\ubb3c\\uc758 \\uc774\\ub984\\uc744 \\ud45c\\uc2dc\\ud558\\uc600\\ub2e4. \\uc774\\ub807\\uac8c \\ud559\\uae09\\ubcc4\\ub85c \\ub9cc\\ub4e0 \\uc9c0\\ub3c4\\ub97c \\uc774\\uc5b4 \\ubd99\\uc5ec 100\\uc5ec \\uc885\\uc758 \\uc2dd\\ubb3c\\uc774 \\ud45c\\uc2dc\\ub41c \\u25b3\\u25b3\\ub3d9 \\uc2dd\\ubb3c \\uc9c0\\ub3c4\\ub97c \\uc644\\uc131\\ud558\\uc600\\ub2e4. \\ud3c9\\uc18c \\uc6b0\\ub9ac\\uac00 \\uc798 \\ubaa8\\ub974\\ub358 \\uacf3\\uae4c\\uc9c0 \\uaf3c\\uaf3c\\ud788 \\uc0b4\\ud53c\\uba70 \\uc2dd\\ubb3c\\uc744 \\uc870\\uc0ac\\ud558\\ub294 \\uacfc\\uc815\\uc5d0\\uc11c \\uba87\\uba87 \\uce5c\\uad6c\\ub4e4\\uc740 \\ud798\\ub4e4\\ub2e4\\uace0 \\ud3ec\\uae30\\ud558\\ub294 \\ubaa8\\uc2b5\\ub3c4 \\ubcf4\\uc600\\uc9c0\\ub9cc, \\ub098\\ub294 \\uc774\\ub807\\uac8c \\uc0dd\\uac01\\ud588\\ub2e4. \\u2018\\ub204\\uad70\\uac00\\ub294 \\uc774 \\uc9c0\\ub3c4\\ub97c \\ubcf4\\uba70 \\ub9c8\\uc744\\uc758 \\uc2dd\\ubb3c\\uc5d0 \\uad00\\uc2ec\\uc744 \\uac16\\uac8c \\ub418\\uc9c0 \\uc54a\\uc744\\uae4c?\\u2019 \\uc774\\ub7f0 \\uc0dd\\uac01\\uc5d0 \\ub098\\ub294 \\uacc4\\uc18d\\ud574\\uc11c \\uc758\\uc695\\uc801 \\uc73c\\ub85c \\uc870\\uc0ac\\ub97c \\ud574 \\ub098\\uac08 \\uc218 \\uc788\\uc5c8\\ub2e4. \\uc774\\ubc88 \\ud589\\uc0ac\\ub97c \\ud1b5\\ud574 \\uadf8\\ub3d9\\uc548 \\uc8fc\\ubcc0\\uc758 \\uc2dd\\ubb3c\\uc5d0 \\ubb34\\uc2ec\\ud588\\ub358 \\ub098 \\uc790\\uc2e0\\uc744 \\ubc18\\uc131\\ud558\\uac8c \\ub418\\uc5c8\\ub2e4. \\uadf8\\ub9ac\\uace0 \\ud654\\uc0b4\\ub098\\ubb34\\ub098 \\ubd84\\uaf43 \\ub4f1\\uc758 \\uc2dd\\ubb3c\\uc744 \\uad50\\uc2e4 \\ubc16\\uc5d0\\uc11c \\uc9c1\\uc811 \\uad00\\ucc30\\ud558\\ub2c8 \\ucc45\\uc73c\\ub85c\\ub9cc \\uc811\\ud588\\uc744 \\ub54c\\ubcf4\\ub2e4 \\uc2dd\\ubb3c\\uc5d0 \\ub300\\ud55c \\uad00\\uc2ec\\uc774 \\ub354 \\ucee4\\uc9c0\\ub294 \\uac83 \\uac19\\uc558\\ub2e4. \\ub2e4\\ub978 \\ud559\\uad50\\uc5d0\\uc11c\\ub3c4 \\uc2dd\\ubb3c \\uc9c0\\ub3c4 \\ub9cc\\ub4e4\\uae30 \\ud589\\uc0ac\\ub97c \\uac1c\\ucd5c\\ud55c\\ub2e4\\uba74 \\ub354 \\ub9ce\\uc740 \\ud559\\uc0dd\\ub4e4\\uc774 \\uc790\\uc5f0\\uc758 \\uc18c\\uc911\\ud568\\uc744 \\ub290\\ub084 \\uc218 \\uc788\\uc744 \\uac83\\uc774\\ub77c\\ub294 \\uc0dd\\uac01\\uc774 \\ub4e4\\uc5c8\\ub2e4.) (\\ub098) \\ud559\\uc0dd 1 : \\uc774\\ubc88 \\uac00\\uc744\\uc5d0 \\uc5f4\\ub9b4 \\ub3d9\\uc544\\ub9ac \\ubc1c\\ud45c\\ud68c \\ub54c \\uc804\\uc2dc\\ud558\\uae30 \\uc704\\ud574 \\uc6b0\\ub9ac\\ub3c4 \\u25b3\\u25b3\\ub3d9 \\ub9c8\\uc744 \\uc18c\\uc2dd\\uc9c0\\uc5d0 \\uc2e4\\ub9b0 \\u25cb\\u25cb \\uace0\\ub4f1\\ud559\\uad50 \\uc0ac\\ub840\\ucc98\\ub7fc \\uc2dd\\ubb3c \\uc9c0\\ub3c4\\ub97c \\ub9cc\\ub4e4\\uae30\\ub85c \\ud588\\uc796\\uc544. \\u25cb\\u25cb\\uace0\\ub4f1\\ud559\\uad50 \\uc0ac\\ub840\\uc5d0\\uc11c \\uc5b4\\ub5a4 \\uc810\\uc744 \\uc218\\uc6a9\\ud558\\uace0 \\uc5b4\\ub5a4 \\uc810\\uc744 \\ub2ec\\ub9ac\\ud560\\uc9c0 \\ub17c\\uc758\\ud574 \\ubcf4\\uc790. \\ud559\\uc0dd 2 : \\uc0dd\\uac01\\ud574 \\ubd24\\ub294\\ub370, \\uc6b0\\ub9ac \\uc14b\\uc774\\uc11c \\u25cb\\u25cb \\uace0\\ub4f1\\ud559\\uad50\\uac00 \\ud55c \\uac83\\ucc98\\ub7fc \\ub113\\uc740 \\uacf5\\uac04\\uc744 \\uc870\\uc0ac\\ud558\\uae34 \\ud798\\ub4e4 \\ub4ef\\ud558\\ub2c8 \\ud559\\uad50\\uc5d0\\uc11c \\uac78\\uc5b4\\uac08 \\ub9cc\\ud55c \\uac70\\ub9ac\\ub9cc \\uc9c0\\ub3c4\\uc758 \\ubc94\\uc704\\ub85c \\uc0bc\\ub294 \\uac8c \\uc88b\\uc9c0 \\uc54a\\uc744\\uae4c? \\ud559\\uc0dd 1 : \\uadf8\\ub7ec\\uc790. \\ud559\\uad50\\uc5d0\\uc11c \\uac78\\uc5b4\\uac08 \\ub9cc\\ud07c \\uac00\\uae4c\\uc6b4 \\ubc94\\uc704 \\ub0b4\\uc5d0\\uc11c \\uc5b4\\ub514\\ub85c \\uc870\\uc0ac\\ud558\\ub7ec \\uac08\\uc9c0 \\uc7a5\\uc18c\\ub97c \\uc815\\ud574 \\ubcf4\\uc790. [A](\\ud559\\uc0dd 3 : \\u25a1\\u25a1 \\ub18d\\uc7a5\\uc5d0 \\uac14\\uc73c\\uba74 \\ud558\\ub294\\ub370, \\ub108\\ud76c \\uc0dd\\uac01\\uc740 \\uc5b4\\ub54c? \\uac70\\uae30\\ub294 \\ub098\\ubb34\\uac00 \\ub9ce\\uc73c\\ub2c8\\uae4c. \\ud559\\uc0dd 1 : \\uac70\\uae34 \\ub9e4\\uc2e4\\ub098\\ubb34\\ub9cc \\ub9ce\\uc796\\uc544. \\uc2dd\\ubb3c \\uc9c0\\ub3c4\\ub97c \\ub9cc\\ub4dc\\ub294 \\uac70\\ub2c8\\uae4c \\uc5ec\\ub7ec \\uc885\\ub958\\uc758 \\uc2dd\\ubb3c\\uc774 \\uc788\\ub294 \\uacf3\\uc73c\\ub85c \\uac00\\uc790. \\ud559\\uc0dd 2 : \\uc5ec\\ub7ec \\uc885\\ub958\\uc758 \\uc2dd\\ubb3c\\uc774 \\uc788\\ub294 \\uacf3\\ub3c4 \\uc88b\\uc9c0\\ub9cc, \\ub098\\ub294 \\uc6b0\\ub9ac \\ud559\\uad50 \\ud559\\uc0dd\\ub4e4\\uc774 \\ubcfc \\uc9c0\\ub3c4\\uc774\\ub2c8 \\ud559\\uc0dd\\ub4e4\\uc5d0\\uac8c \\uce5c\\uc219\\ud55c \\uc7a5\\uc18c\\uac00 \\ub354 \\uc88b\\uc744 \\ub4ef\\ud574. \\uadf8\\ub7f0\\ub370 \\uadf8 \\ub18d\\uc7a5\\uc740 \\uc544\\ubb34\\ub098 \\ub4e4\\uc5b4\\uac08 \\uc218\\uac00 \\uc5c6\\uc5b4\\uc11c \\uac00 \\ubcf8 \\ud559\\uc0dd\\uc774 \\uac70\\uc758 \\uc5c6\\uc744 \\ud14c\\ub2c8\\u2026\\u2026. )\\ud559\\uc0dd 3 : \\ub4e3\\uace0 \\ubcf4\\ub2c8 \\uc77c\\ub9ac\\uac00 \\uc788\\ub124. \\uce5c\\uc219\\ud55c \\uc7a5\\uc18c\\ub77c\\uba74 \\uc804\\uad50\\uc0dd\\uc774 \\ud568\\uaed8 \\uac77\\uae30 \\ud589\\uc0ac\\ub97c \\ud588\\ub358 \\ud589\\ubcf5\\uc0b0\\uacfc \\uad6c\\ub984\\ucc9c\\uc774 \\uc5b4\\ub54c? \\ud559\\uc0dd 1 : \\uac70\\uae30\\ub3c4 \\uc88b\\uace0 \\ud558\\ub298\\uc2b5\\uc9c0\\ub3c4 \\uc88b\\uc744 \\uac83 \\uac19\\uc544. \\ud559\\uc0dd\\ub4e4\\uc774 \\uc790\\uc8fc \\uc0b0\\ucc45\\ud558\\ub7ec \\uac00\\ub294 \\uacf3\\uc774\\uc796\\uc544. \\ud559\\uc0dd 2 : \\ubaa8\\ub450 \\uc88b\\uc740 \\uc0dd\\uac01\\uc774\\uc57c. \\ud559\\uc0dd 3 : \\uadf8\\ub7fc \\uc870\\uc0ac \\uc7a5\\uc18c\\ub294 \\uc138 \\uad70\\ub370\\ub85c \\uc815\\ud574\\uc9c4 \\uac70\\ub124. \\ud559\\uc0dd 2 : \\ub9de\\uc544. \\uc774\\uc81c \\uc5b4\\ub5a4 \\uc2dd\\ubb3c\\uc744 \\uc9c0\\ub3c4\\uc5d0 \\ud45c\\uc2dc\\ud560\\uc9c0 \\uc598\\uae30\\ud574 \\ubcf4\\uc790. \\ud559\\uc0dd 1 : \\uc6b0\\ub9ac \\ub9c8\\uc744\\uc740 \\ub2e4\\uc591\\ud55c \\uaf43\\uacfc \\ub098\\ubb34\\uac00 \\uc790\\uc0dd\\ud558\\uae30\\ub85c \\uc720\\uba85\\ud558 \\ub2c8\\uae4c \\uc6b0\\ub9ac\\ub3c4 \\uc9c0\\ub3c4\\uc5d0 \\ub418\\ub3c4\\ub85d \\ub2e4\\uc591\\ud55c \\uc885\\ub958\\uc758 \\uc2dd\\ubb3c\\uc744 \\ud45c\\uc2dc\\ud558\\uc790. \\ud559\\uc0dd 2 : \\uadfc\\ub370 \\ubc1c\\ud45c\\ud68c\\uae4c\\uc9c0 \\uc5bc\\ub9c8 \\uc548 \\ub0a8\\uc544\\uc11c \\uad6d\\uac00 \\ubcf4\\ud638\\uc885\\uc744 \\ube44\\ub86f\\ud574 \\uc8fc\\ubaa9\\ud560 \\ub9cc\\ud55c \\uba87\\uba87 \\uc2dd\\ubb3c\\ub9cc \\ud45c\\uc2dc\\ud574\\uc57c \\ud560 \\ub4ef\\ud574. \\uadf8\\ub9ac\\uace0 \\uc2dd\\ubb3c \\uc774\\ub984\\uc740 \\u25cb\\u25cb \\uace0\\ub4f1\\ud559\\uad50\\ucc98\\ub7fc \\ub204\\ub9ac\\uc9d1\\uc744 \\uc774\\uc6a9\\ud574 \\ud3b8\\ub9ac\\ud558\\uac8c \\ucc3e\\uc790. \\ud559\\uc0dd 1 : \\uadf8\\ub7ec\\uc790. [B](\\ud559\\uc0dd 3 : \\uc2dd\\ubb3c \\uc774\\ub984\\uacfc \\ud568\\uaed8 \\uc2dd\\ubb3c\\uc774 \\uc5b4\\ub5a4 \\ud6a8\\uc6a9\\uc774 \\uc788\\ub294\\uc9c0\\ub3c4 \\uc81c\\uc2dc\\ud588\\uc73c\\uba74 \\ud558\\ub294\\ub370, \\ub108\\ud76c\\ub294 \\uc5b4\\ub5bb\\uac8c \\uc0dd\\uac01\\ud574? \\ud559\\uc0dd 1 : \\uc57d\\ud6a8\\uac00 \\uc788\\ub294 \\uc2dd\\ubb3c\\uc740 \\uadf8 \\uc815\\ubcf4\\ub3c4 \\uc81c\\uc2dc\\ud558\\uc790\\ub294 \\uac70\\uc9c0? \\ud559\\uc0dd 3 : \\uc751? \\ub098\\ub294 \\uaf43\\uc774\\ub098 \\ub098\\ubb34\\uac00 \\ub9c8\\uc74c\\uc744 \\ud3b8\\uc548\\ud558\\uac8c \\ud574 \\uc8fc\\ub294 \\uac83 \\uac19\\uc740 \\ud6a8\\uc6a9\\uc744 \\ub9d0\\ud55c \\uac70\\uc600\\ub294\\ub370. \\ud559\\uc0dd 1 : \\uc2dd\\ubb3c\\uc774 \\uc0ac\\ub78c\\uc758 \\uc815\\uc11c\\uc5d0 \\uc5b4\\ub5a4 \\uc601\\ud5a5\\uc744 \\ubbf8\\uce60 \\uc218 \\uc788\\ub294\\uc9c0\\uc5d0 \\ub300\\ud55c \\ub0b4\\uc6a9\\uc744 \\uc2e3\\uc790\\ub294 \\ub9d0\\uc774\\uc5c8\\uc5b4? \\ud559\\uc0dd 3 : \\uc751. \\uadf8\\ub7f0 \\uc815\\ubcf4\\uac00 \\ud559\\uc0dd\\ub4e4\\uc5d0\\uac8c \\uc758\\ubbf8\\uac00 \\uc788\\uc744 \\uac83 \\uac19\\uc544. \\ud559\\uc0dd 2 : \\uadf8\\uac70 \\uc88b\\uc740\\ub370? \\uc6b0\\ub9ac\\uac00 \\ud589\\ubcf5\\uc0b0\\uc5d0\\uc11c \\uc870\\uc0ac\\ud560 \\uaf43\\uacfc \\ub098\\ubb34 \\uc911 \\uc77c\\ubd80\\uc5d0\\ub294 \\uadf8\\ub7f0 \\ub0b4\\uc6a9\\ub3c4 \\ucd94\\uac00\\ub85c \\ud45c\\uc2dc\\ud558\\uba74 \\ub418\\uaca0\\ub2e4.) \\ud559\\uc0dd 1 : \\uc88b\\uc544. \\uc774\\uc81c \\uc9c0\\ub3c4\\uc5d0 \\uc2dd\\ubb3c\\ub4e4\\uc744 \\uc5b4\\ub5bb\\uac8c \\ud45c\\ud604\\ud560\\uc9c0 \\uc598\\uae30\\ud574 \\ubcf4\\uc790. \\ud559\\uc0dd 2 : \\uc7a5\\uc18c\\ub9c8\\ub2e4 \\ub300\\ud45c \\uc2dd\\ubb3c\\uc744 \\ud558\\ub098\\uc529 \\uc120\\uc815\\ud574\\uc11c \\uadf8 \\uc2dd\\ubb3c \\uc774\\ub984 \\ubc11\\uc5d0 \\uc2dd\\ubb3c\\uc758 \\uc0ac\\uc9c4\\ub3c4 \\ud568\\uaed8 \\uc81c\\uc2dc\\ud558\\ub294 \\uac74 \\uc5b4\\ub54c? \\ud559\\uc0dd 3 : \\uadf8\\ub798. \\uadf8\\ub9ac\\uace0 \\uad70\\uc9d1\\uc744 \\uc774\\ub8e8\\uace0 \\uc788\\ub294 \\uc2dd\\ubb3c\\uc740 \\ubaa8\\ub450 \\ube57\\uae08\\uc73c\\ub85c \\ud45c\\uc2dc\\ud558\\uc790. \\ud589\\ubcf5\\uc0b0\\uc740 \\uac08\\ub9bc\\uae38\\uc774 \\ub9ce\\uc73c\\ub2c8 \\uac77\\uae30\\uc5d0 \\ub354 \\ud3b8\\ud55c \\uae38\\uc744 \\ud654\\uc0b4\\ud45c\\ub85c \\ud45c\\uc2dc\\ub3c4 \\ud558\\uace0. \\ud559\\uc0dd 1 : \\uc88b\\uc740 \\uc0dd\\uac01\\uc774\\uc57c. \\ubaa8\\ub450 \\uc801\\uc6a9\\ud574 \\ubcf4\\uc790. \\ud559\\uc0dd 2 : \\uadf8\\ub798. \\uadf8\\ub7f0\\ub370 \\u25cb\\u25cb \\uace0\\ub4f1\\ud559\\uad50\\uac00 \\uc774\\uc5b4 \\ubd99\\uc774\\ub294 \\ubc29\\uc2dd\\uc73c\\ub85c \\uc9c0\\ub3c4\\ub97c \\ub9cc\\ub4e0 \\uac74 \\ucc38\\uc2e0\\ud558\\uae34 \\ud55c\\ub370 \\ud1b5\\uc77c\\uac10\\uc774 \\uc5c6\\uc5b4 \\ubd80\\uc790\\uc5f0\\uc2a4\\ub7ec\\uc6b8 \\ub4ef\\ud574. \\uc6b0\\ub9ac\\ub294 \\uc870\\uc0ac\\ud55c \\ub0b4\\uc6a9\\uc744 \\ubaa8\\uc544 \\ud568\\uaed8 \\uc9c0\\ub3c4\\ub97c \\uadf8\\ub9ac\\uc790. \\ud559\\uc0dd 3 : \\uadf8\\ub7ec\\uc790. \\ud559\\uc0dd 1 : \\uc624\\ub298 \\ub17c\\uc758\\ud55c \\ub0b4\\uc6a9\\uc740 \\ub0b4\\uac00 [\\ud68c\\uc758\\ub85d]\\uc5d0 \\uc4f8\\uac8c. \\ud559\\uc0dd 2, 3 : \\uace0\\ub9c8\\uc6cc.\"\n        ],\n        \"semantic_type\": \"\",\n        \"description\": \"\"\n      }\n    },\n    {\n      \"column\": \"question\",\n      \"properties\": {\n        \"dtype\": \"string\",\n        \"num_unique_values\": 42,\n        \"samples\": [\n          \"[A]\\uff5e[E]\\uc758 \\uc11c\\uc220 \\ubc29\\uc2dd\\uc5d0 \\ub300\\ud55c \\uc124\\uba85\\uc73c\\ub85c \\uc801\\uc808\\ud558\\uc9c0 \\uc54a\\uc740 \\uac83\\uc740?\",\n          \"\\u3260, \\u3261\\uc5d0 \\ub300\\ud55c \\uc774\\ud574\\ub85c \\uac00\\uc7a5 \\uc801\\uc808\\ud55c \\uac83\\uc740?\",\n          \"\\ubb38\\ub9e5\\uc0c1 \\u24d0\\uff5e\\u24d4\\uc640 \\ubc14\\uafb8\\uc5b4 \\uc4f0\\uae30\\uc5d0 \\uc801\\uc808\\ud558\\uc9c0 \\uc54a\\uc740 \\uac83\\uc740?\"\n        ],\n        \"semantic_type\": \"\",\n        \"description\": \"\"\n      }\n    },\n    {\n      \"column\": \"question_plus\",\n      \"properties\": {\n        \"dtype\": \"category\",\n        \"num_unique_values\": 17,\n        \"samples\": [\n          \"\",\n          \"\\u24d0('\\uc74c\\uc545 \\uc2dc\\uac04\\uc5d0 \\ub4e4\\uc5c8\\ub358 \\ubca0\\ud1a0\\ubca4\\uc758 \\uad50\\ud5a5\\uace1 <\\ud569\\ucc3d>\\uc774 \\uc704\\ub300\\ud55c \\uc791\\ud488\\uc778 \\uc774\\uc720\\ub294 \\ubb34\\uc5c7\\uc77c\\uae4c?'\\ud558\\ub294 \\uc0dd\\uac01)\\uc5d0, \\ubca0\\ud1a0\\ubca4\\uc5d0 \\ub300\\ud55c \\ucc45\\uc744 \\ube4c\\ub838\\ub2e4. \\ucc45\\uc5d0\\uc11c\\ub294 \\uae30\\uc57d\\ub9cc\\uc73c\\ub85c \\uad6c\\uc131\\ub410\\ub358 \\uad50\\ud5a5\\uace1\\uc5d0 \\uc131\\uc545\\uc744 \\uacb0\\ud569\\ud5e4 \\uac1c\\uc131\\uc744 \\ub4dc\\ub7ec\\ub0c8\\ub2e4\\ub294 \\uc810\\uc5d0\\uc11c \\u24d1(\\uc774 \\uace1\\uc774 \\ub0ad\\ub9cc\\uc8fc\\uc758 \\uc74c\\uc545\\uc758 \\ud2b9\\uc9d5\\uc744 \\ubcf4\\uc5ec \\uc900\\ub2e4\\uace0 \\ud588\\ub2e4.) <\\ud569\\ucc3d>\\uc744 \\ud574\\uc124\\ud55c \\ubd80\\ubd84\\uc5d0 \\uc774\\uc5b4, \\ubca0\\ud1a0\\ubca4\\uc758 \\uc0dd\\uc560\\uc5d0 \\uad00\\ud55c \\ub4b7\\ubd80\\ubd84\\ub3c4 \\uc77d\\uc5c8\\ub294\\ub370, \\u24d2(\\uc774 \\ub0b4\\uc6a9\\ub4e4\\uc744 \\uc885\\ud569\\ud574, \\uc808\\ub9dd\\uc801 \\uc0c1\\ud669\\uc5d0\\uc11c\\ub3c4 \\uc5f4\\uc815\\uc801\\uc73c\\ub85c \\uc790\\uc2e0\\uc774 \\uc88b\\uc544\\ud558\\ub294 \\uc77c\\uc744 \\ud588\\uae30\\uc5d0 \\uad50\\ud5a5\\uace1 \\uad6c\\uc131\\uc758 \\uc0c8\\ub85c\\uc6c0\\uc744 \\ubcf4\\uc5ec \\uc900 \\uba85\\uc791\\uc774 \\ud0c4\\uc0dd\\ud588\\uc74c\\uc744 \\uc54c\\uac8c \\ub410\\ub2e4.) \\uc774\\ud6c4 \\u24d3(\\ub0b4\\uac00 \\uc9c4\\uc815\\uc73c\\ub85c \\uc88b\\uc544\\ud558\\ub294 \\uc77c\\uc774 \\ubb34\\uc5c7\\uc778\\uc9c0 \\ub098\\uc5d0\\uac8c \\ubb3b\\uac8c \\ub418\\uc5c8\\ub2e4.) \\u24d4(\\uae00 \\uc4f0\\ub294 \\uc77c\\uc5d0\\uc11c \\uac00\\uc7a5 \\ud070 \\ud589\\ubcf5\\uc744 \\ub290\\uaf08\\ub358 \\ub098\\ub97c \\ubc1c\\uacac)\\ud560 \\uc218 \\uc788\\uc5c8\\uace0, \\ub098\\ub3c4 \\uc5b4\\ub5a4 \\uc0c1\\ud669\\uc5d0\\uc11c\\ub4e0 \\uc88b\\uc544\\ud558\\ub294 \\uc77c\\uc744 \\uacc4\\uc18d\\ud574\\uc57c\\uaca0\\ub2e4\\uace0 \\uc0dd\\uac01\\ud588\\ub2e4.\",\n          \"<\\ubcf4 \\uae30>\\ucd5c\\ucc99\\uc804 \\uc5d0\\ub294 \\ud558\\ub098\\uc758 \\ubb38\\uc81c \\uc0c1\\ud669\\uc774 \\ud574\\uacb0\\ub418\\uba74 \\ub610 \\ub2e4\\ub978 \\ubb38\\uc81c\\uac00\\ud655\\uc778\\ub418\\ub294 \\uc11c\\uc0ac \\uad6c\\uc870\\uac00 \\ub098\\ud0c0\\ub098\\uace0 \\uc788\\ub2e4. \\uc774 \\uacfc\\uc815\\uc5d0\\uc11c \\ub3c4\\uc6c0\\uc744 \\uc8fc\\ub294 \\uc2e0\\uc774\\ud55c \\uc874\\uc7ac\\ub97c \\ub098\\ud0c0\\ub098\\uac8c \\ud558\\uac70\\ub098, \\uc608\\uc5b8\\uc758 \\uc2e4\\ud604\\uc744 \\ubcf4\\uc5ec \\uc8fc\\ub294 \\ud2b9\\uc774\\ud55c \\uc99d\\uac70\\ub97c \\ud65c\\uc6a9\\ud558\\uac70\\ub098, \\ubb38\\uc81c \\ud574\\uacb0\\uc758 \\uacc4\\uae30\\uac00 \\ub418\\ub294 \\uc18c\\uc7ac\\ub97c \\uc81c\\uc2dc\\ud558\\uac70\\ub098, \\uacf5\\uac04\\uc801 \\ubc30\\uacbd\\uc744 \\ud655\\uc7a5\\ud558\\uc5ec \\ub2e4\\uc591\\ud55c \\uad6d\\uc801\\uc758 \\uc0ac\\ub78c\\ub4e4\\uc744 \\ub4f1\\uc7a5\\uc2dc\\ud0a4\\ub294 \\ub4f1\\uc758 \\uc11c\\uc0ac\\uc801 \\uc7a5\\uce58\\ub4e4\\uc774 \\ud655\\uc778\\ub41c\\ub2e4. \\uc774\\ub7ec\\ud55c\\uc11c\\uc0ac \\uad6c\\uc870\\uc640 \\ub2e4\\uc591\\ud55c \\uc11c\\uc0ac\\uc801 \\uc7a5\\uce58\\ub294 \\ub3c5\\uc790\\uac00 \\uc774\\uc57c\\uae30\\uc5d0 \\ud765\\ubbf8\\ub97c \\uac00\\uc9c0\\uace0 \\uadf8\\uac83\\uc744 \\uc790\\uc5f0\\uc2a4\\ub7fd\\uac8c \\uc218\\uc6a9\\ud558\\ub294 \\ub370 \\uae30\\uc5ec\\ud55c\\ub2e4\"\n        ],\n        \"semantic_type\": \"\",\n        \"description\": \"\"\n      }\n    },\n    {\n      \"column\": \"choices\",\n      \"properties\": {\n        \"dtype\": \"object\",\n        \"semantic_type\": \"\",\n        \"description\": \"\"\n      }\n    },\n    {\n      \"column\": \"answer\",\n      \"properties\": {\n        \"dtype\": \"number\",\n        \"std\": 1,\n        \"min\": 1,\n        \"max\": 5,\n        \"num_unique_values\": 5,\n        \"samples\": [\n          5,\n          2,\n          1\n        ],\n        \"semantic_type\": \"\",\n        \"description\": \"\"\n      }\n    },\n    {\n      \"column\": \"score\",\n      \"properties\": {\n        \"dtype\": \"number\",\n        \"std\": 0,\n        \"min\": 2,\n        \"max\": 3,\n        \"num_unique_values\": 2,\n        \"samples\": [\n          3,\n          2\n        ],\n        \"semantic_type\": \"\",\n        \"description\": \"\"\n      }\n    }\n  ]\n}"
            }
          },
          "metadata": {},
          "execution_count": 4
        }
      ]
    },
    {
      "cell_type": "markdown",
      "source": [
        "## plot method\n",
        "\n",
        "* show_prompt_score   \n",
        "  한 prompt에 대해 여러 model의 score가 있을때 이를 막대그래프로 시각화 해주는 method"
      ],
      "metadata": {
        "id": "5jNd2em9nCA8"
      }
    },
    {
      "cell_type": "code",
      "source": [
        "def show_prompt_score(prompt_name, yaml_path=\"prompts.yaml\"):\n",
        "    # YAML 파일 불러오기\n",
        "    with open(yaml_path, \"r\", encoding=\"utf-8\") as f:\n",
        "        data = yaml.safe_load(f)\n",
        "\n",
        "    if prompt_name not in data or \"score\" not in data[prompt_name]:\n",
        "        print(f\"'{prompt_name}'에 대한 score 정보가 없습니다.\")\n",
        "        return\n",
        "\n",
        "    score_data = data[prompt_name][\"score\"]\n",
        "    models = list(score_data.keys())\n",
        "    scores = list(score_data.values())\n",
        "\n",
        "    # 막대그래프 그리기\n",
        "    plt.figure(figsize=(8, 5))\n",
        "    plt.bar(models, scores)\n",
        "    plt.ylim(0, 100)\n",
        "    plt.title(f\"Model Scores for Prompt: {prompt_name}\")\n",
        "    plt.xlabel(\"Model\")\n",
        "    plt.ylabel(\"Score\")\n",
        "    plt.grid(axis='y')\n",
        "    plt.show()"
      ],
      "metadata": {
        "id": "7LL8FNyAnD23"
      },
      "execution_count": 5,
      "outputs": []
    },
    {
      "cell_type": "markdown",
      "source": [
        "### prompt 적용한 데이터 만들기\n",
        "\n",
        "question_plus 라는 보기가 제공되는 항목은 필수가 아니기 때문에 prompt의 yaml 파일 구조를 아래와 같이 잡는다.\n",
        "\n",
        "```yaml\n",
        "prompt_name:\n",
        "  description: prompt를 설명하는 문장이 있습니다. (로그용)\n",
        "  main: |\n",
        "    기본 prompt가 있습니다.\n",
        "  plus: |\n",
        "    question_plus가 있는 prompt가 있습니다.\n",
        "  score: # 나중에 테스트 후 추가되는 부분\n",
        "    gpt-4o: 48\n",
        "    gpt-4o-mini: 30\n",
        "\n",
        "prompt_name_2: ...\n",
        "```\n",
        "\n",
        "그리고 dataframe에 위 prompt를 적용한 prompt라는 column을 만드는 method를 만든다."
      ],
      "metadata": {
        "id": "cBGz7LGHg3OP"
      }
    },
    {
      "cell_type": "code",
      "source": [
        "import yaml\n",
        "import matplotlib.pyplot as plt\n",
        "\n",
        "with open('prompt_v2.yaml','r', encoding='utf-8') as file:\n",
        "    prompt_templates = yaml.safe_load(file)"
      ],
      "metadata": {
        "id": "yGSyCkq6Uj47"
      },
      "execution_count": 26,
      "outputs": []
    },
    {
      "cell_type": "code",
      "source": [
        "def get_prompt_template(prompt_name, yaml_name):\n",
        "    with open(yaml_name,'r', encoding='utf-8') as file:\n",
        "        prompt_templates = yaml.safe_load(file)\n",
        "\n",
        "    print(f\"\\n{prompt_name} 기반 데이터를 생성하는 중 입니다...\\n{prompt_templates[prompt_name]['description']}\")\n",
        "\n",
        "    base = prompt_templates[prompt_name]['main']\n",
        "    plus = prompt_templates[prompt_name]['plus']\n",
        "    system = prompt_templates[prompt_name].get('system', \"\")\n",
        "\n",
        "    return base, plus, system"
      ],
      "metadata": {
        "id": "OJFlSu1QlBbS"
      },
      "execution_count": 7,
      "outputs": []
    },
    {
      "cell_type": "code",
      "source": [
        "def make_data_with_prompt(prompt_name, df, yaml_name):\n",
        "    base_prompt, plus_prompt, system_prompt = get_prompt_template(prompt_name, yaml_name)\n",
        "\n",
        "    prompts = []\n",
        "\n",
        "    for _, row in df.iterrows():\n",
        "        # choice 가공\n",
        "        choices = row['choices']\n",
        "        if isinstance(choices, list):\n",
        "            choices_str = \"\\n\".join([f\"{i+1}. {choice}\" for i, choice in enumerate(choices)])\n",
        "        else:\n",
        "            choices_str = str(choices)\n",
        "\n",
        "        # prompt 생성\n",
        "        if row['question_plus']:\n",
        "            filled_prompt = plus_prompt.format(\n",
        "                paragraph=row['paragraph'],\n",
        "                question_plus=row['question_plus'],\n",
        "                question=row['question'],\n",
        "                choices=choices_str\n",
        "            )\n",
        "        else:\n",
        "            filled_prompt = base_prompt.format(\n",
        "                paragraph=row['paragraph'],\n",
        "                question=row['question'],\n",
        "                choices=choices_str\n",
        "            )\n",
        "\n",
        "        prompts.append(filled_prompt)\n",
        "\n",
        "    # 프롬프트 추가\n",
        "    df['prompt'] = prompts\n",
        "\n",
        "    return df, system_prompt\n"
      ],
      "metadata": {
        "id": "sjq5g_YVlLgH"
      },
      "execution_count": 8,
      "outputs": []
    },
    {
      "cell_type": "markdown",
      "source": [
        "## tool\n",
        "\n",
        "* question_type.json   \n",
        "문제 유형을 gpt가 판별해준거\n"
      ],
      "metadata": {
        "id": "FMNcnCX36H52"
      }
    },
    {
      "cell_type": "code",
      "source": [
        "import json\n",
        "from collections import defaultdict\n",
        "\n",
        "def get_accuracy_by_question_type(prediction_file, type_file):\n",
        "    # JSON 파일 불러오기\n",
        "    with open(prediction_file, \"r\", encoding=\"utf-8\") as f:\n",
        "        predictions = json.load(f)\n",
        "    with open(type_file, \"r\", encoding=\"utf-8\") as f:\n",
        "        question_types = json.load(f)\n",
        "\n",
        "    # 문제 유형별 집계용 딕셔너리\n",
        "    type_stats = defaultdict(lambda: {\"correct\": 0, \"total\": 0})\n",
        "\n",
        "    for idx, result in predictions.items():\n",
        "        idx_str = str(idx)\n",
        "        if idx_str not in question_types:\n",
        "            continue  # 유형 정보 없는 문제는 제외\n",
        "\n",
        "        q_type = question_types[idx_str][\"문제 유형\"]\n",
        "        is_correct = str(result[\"gpt_pred\"]).strip() == str(result[\"label\"]).strip()\n",
        "\n",
        "        type_stats[q_type][\"total\"] += 1\n",
        "        if is_correct:\n",
        "            type_stats[q_type][\"correct\"] += 1\n",
        "\n",
        "    # 결과 출력\n",
        "    for q_type, stats in type_stats.items():\n",
        "        acc = stats[\"correct\"] / stats[\"total\"] * 100\n",
        "        print(f\"{q_type}: {stats['correct']} / {stats['total']} ({acc:.1f}%)\")\n"
      ],
      "metadata": {
        "id": "H7fE4Jlw6G57"
      },
      "execution_count": 9,
      "outputs": []
    },
    {
      "cell_type": "code",
      "source": [
        "import yaml\n",
        "import matplotlib.pyplot as plt\n",
        "\n",
        "def model_acc_all_prompt(model_name, yaml_path=\"prompts.yaml\", save_path=None):\n",
        "    with open(yaml_path, 'r', encoding='utf-8') as file:\n",
        "        data = yaml.safe_load(file)\n",
        "\n",
        "    prompt_scores = []\n",
        "\n",
        "    for prompt_name, prompt_info in data.items():\n",
        "        score = prompt_info.get(\"score\", {}).get(model_name, None)\n",
        "        if score is not None:\n",
        "            prompt_scores.append((prompt_name, score))\n",
        "        else:\n",
        "            print(f\"[경고] {prompt_name}에서 '{model_name}'의 score를 찾을 수 없습니다.\")\n",
        "\n",
        "    if not prompt_scores:\n",
        "        print(\"✅ 유효한 score 데이터가 없어 시각화를 생략합니다.\")\n",
        "        return\n",
        "\n",
        "    # 점수 기준 정렬\n",
        "    prompt_scores.sort(key=lambda x: x[1], reverse=True)\n",
        "    prompt_names, scores = zip(*prompt_scores)\n",
        "\n",
        "    # 그래프 생성\n",
        "    plt.figure(figsize=(8, 5))\n",
        "    bars = plt.barh(prompt_names, scores, color='cornflowerblue')\n",
        "    plt.xlabel(\"Score\", fontsize=12)\n",
        "    plt.title(f\"{model_name} Score\", fontsize=14)\n",
        "    plt.xlim(0, 100)\n",
        "    plt.gca().invert_yaxis()  # 높은 점수가 위에 오도록\n",
        "\n",
        "    # 점수 표시\n",
        "    for bar, score in zip(bars, scores):\n",
        "        plt.text(score + 1, bar.get_y() + bar.get_height()/2,\n",
        "                 f\"{score}\", va='center', fontsize=10)\n",
        "\n",
        "    plt.tight_layout()\n",
        "\n",
        "    # 저장 또는 출력\n",
        "    if save_path:\n",
        "        plt.savefig(save_path, dpi=300)\n",
        "        print(f\"✅ 그래프가 {save_path}에 저장되었습니다.\")\n",
        "    else:\n",
        "        plt.show()\n"
      ],
      "metadata": {
        "id": "2-fxS8UvFWc6"
      },
      "execution_count": 10,
      "outputs": []
    },
    {
      "cell_type": "markdown",
      "source": [
        "### API request\n",
        "\n",
        "시험 문제를 푸는 것이기 때문에 temperature는 0.0으로 설정"
      ],
      "metadata": {
        "id": "eZSOg1gNmV3V"
      }
    },
    {
      "cell_type": "code",
      "source": [
        "from openai import OpenAI\n",
        "import os\n",
        "import time\n",
        "import re"
      ],
      "metadata": {
        "id": "t4HWh7QTu7EV"
      },
      "execution_count": 11,
      "outputs": []
    },
    {
      "cell_type": "code",
      "source": [
        "client = OpenAI(api_key= \"\")"
      ],
      "metadata": {
        "id": "M5XXNko3u8H2"
      },
      "execution_count": 12,
      "outputs": []
    },
    {
      "cell_type": "code",
      "source": [
        "def query_gpt(user_prompt, system_prompt, model=\"gpt-4o\"):\n",
        "    try:\n",
        "        messages = []\n",
        "\n",
        "        if system_prompt.strip():  # 빈 문자열이 아니면 추가\n",
        "            messages.append({\"role\": \"system\", \"content\": system_prompt})\n",
        "\n",
        "        messages.append({\"role\": \"user\", \"content\": user_prompt})\n",
        "\n",
        "        response = client.chat.completions.create(\n",
        "            model=model,\n",
        "            messages=messages,\n",
        "            temperature=0.0\n",
        "        )\n",
        "        return response.choices[0].message.content.strip()\n",
        "    except Exception as e:\n",
        "        print(\"❌ 오류:\", e)\n",
        "        return None"
      ],
      "metadata": {
        "id": "HH1673lBvBQf"
      },
      "execution_count": 13,
      "outputs": []
    },
    {
      "cell_type": "code",
      "source": [
        "import re\n",
        "\n",
        "def extract_answer(response_text, prompt_name=None):\n",
        "    # 우선 순위 1: 한국어 형식 \"정답은 2번입니다\" 또는 \"정답: 2\"\n",
        "    match_ko = re.search(r\"정답(?:은|:)?\\s*([0-5])\\s*(?:번)?(?:입니다)?\", response_text)\n",
        "    if match_ko:\n",
        "        return match_ko.group(1)\n",
        "\n",
        "    # 우선 순위 2: 영어 형식 \"Answer: 2\"\n",
        "    match_en = re.search(r\"Answer:\\s*([0-5])\", response_text)\n",
        "    if match_en:\n",
        "        return match_en.group(1)\n",
        "\n",
        "    # fallback: 마지막 숫자 0~5 중 하나\n",
        "    numbers = re.findall(r\"\\b[0-5]\\b\", response_text)\n",
        "    return numbers[-1] if numbers else None\n"
      ],
      "metadata": {
        "id": "OrAOZ37mqLku"
      },
      "execution_count": 14,
      "outputs": []
    },
    {
      "cell_type": "code",
      "source": [
        "def evaluate_single_prompt(user_prompt: str, system_prompt: str, label: str, idx: int, model: str, score: int, prompt_name: str):\n",
        "    response = query_gpt(user_prompt, system_prompt, model)\n",
        "\n",
        "    predicted = extract_answer(response, prompt_name)\n",
        "    is_correct = (predicted == label)\n",
        "\n",
        "    result = {\n",
        "        \"system_prompt\": system_prompt,\n",
        "        \"prompt\": user_prompt,\n",
        "        \"label\": label,\n",
        "        \"gpt_output\": response,\n",
        "        \"gpt_pred\": predicted,\n",
        "        \"is_correct\": is_correct,\n",
        "        \"score\": score\n",
        "    }\n",
        "    return result"
      ],
      "metadata": {
        "id": "HM-YrQTovDFk"
      },
      "execution_count": 15,
      "outputs": []
    },
    {
      "cell_type": "code",
      "source": [
        "def save_results_to_json(results_dict: dict, prompt_name: str, model_name: str):\n",
        "    \"\"\"결과를 JSON 파일로 저장\"\"\"\n",
        "    filename = f\"{prompt_name}_{model_name}_result.json\"\n",
        "    with open(filename, \"w\", encoding=\"utf-8\") as f:\n",
        "        json.dump(results_dict, f, ensure_ascii=False, indent=2)\n",
        "    print(f\"✅ JSON 결과 저장됨: {filename}\")"
      ],
      "metadata": {
        "id": "YSnSFxlZ5HRq"
      },
      "execution_count": 16,
      "outputs": []
    },
    {
      "cell_type": "code",
      "source": [
        "def evaluate_df_with_gpt(df, system_prompt, max_samples=None, sleep_sec=1, prompt_name=\"base_prompt\", model_name=\"gpt-4o\"):\n",
        "    outputs, preds, corrects = [], [], []\n",
        "    result_json = {}\n",
        "\n",
        "    if max_samples:\n",
        "        df = df.iloc[:max_samples].copy()\n",
        "\n",
        "    for i, row in tqdm(df.iterrows(), total=len(df), desc=f\"Evaluating ({prompt_name})\"):\n",
        "        user_prompt = row['prompt']\n",
        "        label = str(row['answer'])\n",
        "\n",
        "        score = row['score']\n",
        "\n",
        "        result = evaluate_single_prompt(user_prompt, system_prompt, label, i, model_name, score, prompt_name)\n",
        "\n",
        "        outputs.append(result[\"gpt_output\"])\n",
        "        preds.append(result[\"gpt_pred\"])\n",
        "        corrects.append(result[\"is_correct\"])\n",
        "        result_json[str(i)] = {\n",
        "            \"prompt\": result[\"prompt\"],\n",
        "            \"label\": result[\"label\"],\n",
        "            \"gpt_output\": result[\"gpt_output\"],\n",
        "            \"gpt_pred\": result[\"gpt_pred\"],\n",
        "            \"score\": result[\"score\"]\n",
        "        }\n",
        "\n",
        "        time.sleep(sleep_sec)\n",
        "\n",
        "    df[\"gpt_output\"] = outputs\n",
        "    df[\"gpt_pred\"] = preds\n",
        "    df[\"is_correct\"] = corrects\n",
        "\n",
        "    save_results_to_json(result_json, prompt_name, model_name)\n",
        "\n",
        "    return df"
      ],
      "metadata": {
        "id": "4TaMLZlT5KfV"
      },
      "execution_count": 17,
      "outputs": []
    },
    {
      "cell_type": "code",
      "source": [
        "import yaml\n",
        "\n",
        "class LiteralDumper(yaml.Dumper):\n",
        "    def represent_scalar(self, tag, value, style=None):\n",
        "\n",
        "        if isinstance(value, str):\n",
        "            if '\\n' in value:\n",
        "                style = '|'\n",
        "            elif '\\\\n' in value:\n",
        "                style = '|'\n",
        "        return super().represent_scalar(tag, value, style)\n",
        "\n",
        "\n",
        "def update_prompt_accuracy(prompt_name, score, model_name, yaml_path='prompts.yaml'):\n",
        "    with open(yaml_path, \"r\", encoding=\"utf-8\") as f:\n",
        "        data = yaml.safe_load(f)\n",
        "\n",
        "    if prompt_name in data:\n",
        "        if \"score\" not in data[prompt_name]:\n",
        "            data[prompt_name][\"score\"] = {}\n",
        "        data[prompt_name][\"score\"][model_name] = int(score)\n",
        "\n",
        "        with open(yaml_path, \"w\", encoding=\"utf-8\") as f:\n",
        "            yaml.dump(data, f, allow_unicode=True, sort_keys=False, Dumper=LiteralDumper)\n",
        "\n",
        "        print(f\"✅ {prompt_name} score 저장 완료: {score}\")\n",
        "    else:\n",
        "        print(f\"⚠️ {prompt_name} not found in {yaml_path}\")\n"
      ],
      "metadata": {
        "id": "qAE61zlm8Sjb"
      },
      "execution_count": 18,
      "outputs": []
    },
    {
      "cell_type": "code",
      "source": [
        "def solve_problem_with_prompt(prompt_name, init_df, model_name, yaml_name=\"prompts.yaml\", max_len=None):\n",
        "    # prompt column이 생긴 데이터 프레임 생성\n",
        "    prompt_df, system_prompt = make_data_with_prompt(prompt_name, init_df, yaml_name)\n",
        "    result_df = evaluate_df_with_gpt(df = prompt_df, system_prompt=system_prompt, prompt_name = prompt_name, model_name=model_name, max_samples=max_len)\n",
        "\n",
        "    score = result_df.loc[result_df[\"is_correct\"], \"score\"].sum()\n",
        "    print(f\"{prompt_name} acc : {score}\")\n",
        "\n",
        "    update_prompt_accuracy(prompt_name, score, model_name, yaml_path=yaml_name)\n"
      ],
      "metadata": {
        "id": "DfBDP1fqz4y1"
      },
      "execution_count": 21,
      "outputs": []
    },
    {
      "cell_type": "code",
      "source": [
        "import yaml\n",
        "\n",
        "with open('prompts.yaml','r', encoding='utf-8') as file:\n",
        "    prompt_templates = yaml.safe_load(file)"
      ],
      "metadata": {
        "id": "gUEyK5sF_USs"
      },
      "execution_count": 20,
      "outputs": []
    },
    {
      "cell_type": "markdown",
      "source": [
        "## prompt 별 실험"
      ],
      "metadata": {
        "id": "IgH1AXFXQEnG"
      }
    },
    {
      "cell_type": "markdown",
      "source": [
        "### 1. init_prompt 에 대해 model별 평가\n",
        "\n",
        "init_prompt는 숫자로 답안을 내놓으라는 것 제외하고는 어떠한 지시사항도 없는 prompt이다.   \n",
        "이를 기본으로 삼아서 여러 모델에 request를 보내봤다."
      ],
      "metadata": {
        "id": "sJ8Fmf_aQIVf"
      }
    },
    {
      "cell_type": "code",
      "source": [
        "solve_problem_with_prompt('init_prompt', df, model_name=\"gpt-4o\")"
      ],
      "metadata": {
        "id": "E0lh-lxYxxQM",
        "colab": {
          "base_uri": "https://localhost:8080/"
        },
        "outputId": "d58df075-6d58-4830-a016-6ef70f9f11ab"
      },
      "execution_count": 43,
      "outputs": [
        {
          "output_type": "stream",
          "name": "stdout",
          "text": [
            "\n",
            "init_prompt 기반 데이터를 생성하는 중 입니다...\n",
            "아무 prompt 없이 기문 문제 문항만 제시하는 버전입니다.\n"
          ]
        },
        {
          "output_type": "stream",
          "name": "stderr",
          "text": [
            "Evaluating (init_prompt): 100%|██████████| 45/45 [01:22<00:00,  1.82s/it]"
          ]
        },
        {
          "output_type": "stream",
          "name": "stdout",
          "text": [
            "✅ JSON 결과 저장됨: init_prompt_gpt-4o_result.json\n",
            "init_prompt acc : 91\n",
            "####\n",
            "91\n",
            "✅ init_prompt score 저장 완료: 91\n"
          ]
        },
        {
          "output_type": "stream",
          "name": "stderr",
          "text": [
            "\n"
          ]
        }
      ]
    },
    {
      "cell_type": "code",
      "source": [
        "solve_problem_with_prompt('init_prompt', df, model_name=\"gpt-4o-mini\")"
      ],
      "metadata": {
        "colab": {
          "base_uri": "https://localhost:8080/"
        },
        "id": "gh2bTApYjcal",
        "outputId": "158e5210-62b7-4f64-cb8f-625965c3c9ab"
      },
      "execution_count": 44,
      "outputs": [
        {
          "output_type": "stream",
          "name": "stdout",
          "text": [
            "\n",
            "init_prompt 기반 데이터를 생성하는 중 입니다...\n",
            "아무 prompt 없이 기문 문제 문항만 제시하는 버전입니다.\n"
          ]
        },
        {
          "output_type": "stream",
          "name": "stderr",
          "text": [
            "Evaluating (init_prompt): 100%|██████████| 45/45 [01:11<00:00,  1.59s/it]"
          ]
        },
        {
          "output_type": "stream",
          "name": "stdout",
          "text": [
            "✅ JSON 결과 저장됨: init_prompt_gpt-4o-mini_result.json\n",
            "init_prompt acc : 58\n",
            "####\n",
            "58\n",
            "✅ init_prompt score 저장 완료: 58\n"
          ]
        },
        {
          "output_type": "stream",
          "name": "stderr",
          "text": [
            "\n"
          ]
        }
      ]
    },
    {
      "cell_type": "code",
      "source": [
        "solve_problem_with_prompt('init_prompt', df, model_name=\"gpt-4.1-mini\")"
      ],
      "metadata": {
        "colab": {
          "base_uri": "https://localhost:8080/"
        },
        "id": "dj_yzXNPlu3o",
        "outputId": "f82ed1e7-8f7a-4fbf-a8e9-aa5b8f5a4473"
      },
      "execution_count": 45,
      "outputs": [
        {
          "output_type": "stream",
          "name": "stdout",
          "text": [
            "\n",
            "init_prompt 기반 데이터를 생성하는 중 입니다...\n",
            "아무 prompt 없이 기문 문제 문항만 제시하는 버전입니다.\n"
          ]
        },
        {
          "output_type": "stream",
          "name": "stderr",
          "text": [
            "Evaluating (init_prompt): 100%|██████████| 45/45 [01:12<00:00,  1.62s/it]"
          ]
        },
        {
          "output_type": "stream",
          "name": "stdout",
          "text": [
            "✅ JSON 결과 저장됨: init_prompt_gpt-4.1-mini_result.json\n",
            "init_prompt acc : 83\n",
            "####\n",
            "83\n",
            "✅ init_prompt score 저장 완료: 83\n"
          ]
        },
        {
          "output_type": "stream",
          "name": "stderr",
          "text": [
            "\n"
          ]
        }
      ]
    },
    {
      "cell_type": "code",
      "source": [
        "solve_problem_with_prompt('init_prompt', df, model_name=\"gpt-4.1-nano\")"
      ],
      "metadata": {
        "colab": {
          "base_uri": "https://localhost:8080/"
        },
        "id": "VuJFSyDcl6F9",
        "outputId": "e8796e49-3906-4a6c-dfa9-f32601aef3d2"
      },
      "execution_count": 46,
      "outputs": [
        {
          "output_type": "stream",
          "name": "stdout",
          "text": [
            "\n",
            "init_prompt 기반 데이터를 생성하는 중 입니다...\n",
            "아무 prompt 없이 기문 문제 문항만 제시하는 버전입니다.\n"
          ]
        },
        {
          "output_type": "stream",
          "name": "stderr",
          "text": [
            "Evaluating (init_prompt): 100%|██████████| 45/45 [01:07<00:00,  1.50s/it]"
          ]
        },
        {
          "output_type": "stream",
          "name": "stdout",
          "text": [
            "✅ JSON 결과 저장됨: init_prompt_gpt-4.1-nano_result.json\n",
            "init_prompt acc : 44\n",
            "####\n",
            "44\n",
            "✅ init_prompt score 저장 완료: 44\n"
          ]
        },
        {
          "output_type": "stream",
          "name": "stderr",
          "text": [
            "\n"
          ]
        }
      ]
    },
    {
      "cell_type": "code",
      "source": [
        "solve_problem_with_prompt('init_prompt', df, model_name=\"gpt-3.5-turbo\")"
      ],
      "metadata": {
        "colab": {
          "base_uri": "https://localhost:8080/"
        },
        "id": "BYTJyYEcyZ7v",
        "outputId": "c5f0a871-2b07-4934-f8fb-b787e3ea1b59"
      },
      "execution_count": 34,
      "outputs": [
        {
          "output_type": "stream",
          "name": "stdout",
          "text": [
            "\n",
            "init_prompt 기반 데이터를 생성하는 중 입니다...\n",
            "아무 prompt 없이 기문 문제 문항만 제시하는 버전입니다.\n"
          ]
        },
        {
          "output_type": "stream",
          "name": "stderr",
          "text": [
            "Evaluating (init_prompt): 100%|██████████| 45/45 [01:10<00:00,  1.57s/it]"
          ]
        },
        {
          "output_type": "stream",
          "name": "stdout",
          "text": [
            "✅ JSON 결과 저장됨: init_prompt_gpt-3.5-turbo_result.json\n",
            "init_prompt acc : 39\n",
            "✅ init_prompt score 저장 완료: 39\n"
          ]
        },
        {
          "output_type": "stream",
          "name": "stderr",
          "text": [
            "\n"
          ]
        }
      ]
    },
    {
      "cell_type": "code",
      "source": [
        "show_prompt_score('init_prompt')"
      ],
      "metadata": {
        "colab": {
          "base_uri": "https://localhost:8080/",
          "height": 487
        },
        "id": "hD7waAdWmsJ_",
        "outputId": "907b798c-ef8a-4d8a-8d3b-45bf2d5372a0"
      },
      "execution_count": 35,
      "outputs": [
        {
          "output_type": "display_data",
          "data": {
            "text/plain": [
              "<Figure size 800x500 with 1 Axes>"
            ],
            "image/png": "[encoded data removed]"
          },
          "metadata": {}
        }
      ]
    },
    {
      "cell_type": "markdown",
      "source": [
        "기본 prompt가 gpt-4o 모델로는 성능이 너무 좋았다.\n",
        "\n",
        "|model|score|\n",
        "|--|--|\n",
        "|gpt-4o|91|\n",
        "|gpt-4o-mini|58|\n",
        "|gpt-4.1-mini|83|\n",
        "|gpt-4.1-nano|44|\n",
        "\n",
        "이미 너무 성능이 좋은 모델이어서인 것 같다.   \n",
        "\n",
        "이미 과제 목표인 80점은 넘었지만, gpt-4o-mini로 추가 실험을 진행했다.\n",
        "\n",
        "---"
      ],
      "metadata": {
        "id": "CCBlIV0RlHI4"
      }
    },
    {
      "cell_type": "markdown",
      "source": [
        "## gpt-4o-mini 기반 테스트"
      ],
      "metadata": {
        "id": "c_nLb08UQYm6"
      }
    },
    {
      "cell_type": "markdown",
      "source": [
        "#### 1. **base_prompt**\n",
        "상황 제시와 기본적인 지침을 준 prompt   \n",
        "\n",
        "```\n",
        "아래는 수능 국어 문제입니다.\n",
        "지문과 질문을 읽고, 스스로 생각한 과정을 적은 뒤 최종 정답을 숫자 하나로 제시하세요.\n",
        "```"
      ],
      "metadata": {
        "id": "Q5kE54w1RNP8"
      }
    },
    {
      "cell_type": "code",
      "source": [
        "solve_problem_with_prompt('base_prompt', df, model_name=\"gpt-4o-mini\")"
      ],
      "metadata": {
        "colab": {
          "base_uri": "https://localhost:8080/"
        },
        "id": "NKWZXOd5wV7l",
        "outputId": "949e1c26-fd01-43b7-ba00-9fb74e1da0f2"
      },
      "execution_count": 21,
      "outputs": [
        {
          "output_type": "stream",
          "name": "stdout",
          "text": [
            "\n",
            "base_prompt 기반 데이터를 생성하는 중 입니다...\n",
            "기본 프롬프트 버전입니다.\n"
          ]
        },
        {
          "output_type": "stream",
          "name": "stderr",
          "text": [
            "Evaluating (base_prompt): 100%|██████████| 45/45 [03:09<00:00,  4.22s/it]"
          ]
        },
        {
          "output_type": "stream",
          "name": "stdout",
          "text": [
            "✅ JSON 결과 저장됨: base_prompt_gpt-4o-mini_result.json\n",
            "base_prompt acc : 60\n",
            "✅ base_prompt score 저장 완료: 60\n"
          ]
        },
        {
          "output_type": "stream",
          "name": "stderr",
          "text": [
            "\n"
          ]
        }
      ]
    },
    {
      "cell_type": "markdown",
      "source": [
        "**성능 소폭 상승 🔼**   \n",
        "58(init) -> 60(base)    \n"
      ],
      "metadata": {
        "id": "02VL6ESupD96"
      }
    },
    {
      "cell_type": "markdown",
      "source": [
        "#### 2. **CoT_prompt**\n",
        "\n",
        "```\n",
        "아래는 수능 국어 문제입니다.\n",
        "지문과 질문을 읽고, 스스로 생각한 과정을 적은 뒤 최종 정답을 숫자 하나로 제시하세요.\n",
        "```\n",
        "\n",
        "단순히 숫자만 내뱉는게 아니라 이유를 작성하면서 답을 유추하도록 수정"
      ],
      "metadata": {
        "id": "RpKvy_aYRoYC"
      }
    },
    {
      "cell_type": "code",
      "source": [
        "solve_problem_with_prompt('CoT_prompt', df, model_name=\"gpt-4o-mini\")"
      ],
      "metadata": {
        "colab": {
          "base_uri": "https://localhost:8080/"
        },
        "id": "rvGn_v0qpDtK",
        "outputId": "a87a02e3-92d7-45a4-8e16-9ddcf6d6a1eb"
      },
      "execution_count": 22,
      "outputs": [
        {
          "output_type": "stream",
          "name": "stdout",
          "text": [
            "\n",
            "CoT_prompt 기반 데이터를 생성하는 중 입니다...\n",
            "Chain-of-Thought 기반 추론을 유도하는 국어 문제 프롬프트입니다.\n"
          ]
        },
        {
          "output_type": "stream",
          "name": "stderr",
          "text": [
            "Evaluating (CoT_prompt): 100%|██████████| 45/45 [07:44<00:00, 10.32s/it]"
          ]
        },
        {
          "output_type": "stream",
          "name": "stdout",
          "text": [
            "✅ JSON 결과 저장됨: CoT_prompt_gpt-4o-mini_result.json\n",
            "CoT_prompt acc : 56\n",
            "✅ CoT_prompt score 저장 완료: 56\n"
          ]
        },
        {
          "output_type": "stream",
          "name": "stderr",
          "text": [
            "\n"
          ]
        }
      ]
    },
    {
      "cell_type": "markdown",
      "source": [
        "[결과]   \n",
        "**성능 하락 🔽**   \n",
        "58(init) -> 56(CoT)    \n",
        "\n",
        "CoT 기법을 넣으면 성능이 올라갈 것으로 예상하였는데, 큰 차이를 보이지 않았다.   \n",
        "결과 triage 후 그 부분을 보강해서 세부적인 표현을 좀 더 자세히 보도록 지시하는 v2 prompt를 넣었다."
      ],
      "metadata": {
        "id": "mnEIZUydvGw7"
      }
    },
    {
      "cell_type": "markdown",
      "source": [
        "#### 3. **CoT_prompt_v2**\n",
        "\n",
        "CoT_prompt에서 틀린 답변을 보고 세부적인 지침을 추가한 prompt\n",
        "\n",
        "```\n",
        "아래는 수능 국어 문제입니다.\n",
        "지문과 질문을 읽고, 스스로 생각한 과정을 적은 뒤 최종 정답을 숫자 하나로 제시하세요.\n",
        "\n",
        "반드시 다음 지침을 따르세요:\n",
        "1. 각 선택지를 지문의 내용과 정확히 비교하고, 문장 표현이 지문과 완전히 일치하는지 확인하세요.\n",
        "2. 보기 문장의 의미가 지문의 취지와 다르거나 과도하게 일반화된 경우에도 일치하지 않는 것으로 판단하세요.\n",
        "3. 지문에서 직접적으로 언급되지 않은 정보는 추측하지 마세요.\n",
        "4. 모든 선택지를 분석한 뒤, 정답을 숫자 하나로 명확하게 제시하세요.\n",
        "```"
      ],
      "metadata": {
        "id": "G3ZFudJqR-_q"
      }
    },
    {
      "cell_type": "code",
      "source": [
        "solve_problem_with_prompt('CoT_prompt_v2', df, model_name=\"gpt-4o-mini\")"
      ],
      "metadata": {
        "colab": {
          "base_uri": "https://localhost:8080/"
        },
        "id": "2ahBMTritzZV",
        "outputId": "4c987f17-1d91-4744-a801-1879e198d176"
      },
      "execution_count": 23,
      "outputs": [
        {
          "output_type": "stream",
          "name": "stdout",
          "text": [
            "\n",
            "CoT_prompt_v2 기반 데이터를 생성하는 중 입니다...\n",
            "Chain-of-Thought 기반 추론을 유도하는 국어 문제 프롬프트입니다.\n"
          ]
        },
        {
          "output_type": "stream",
          "name": "stderr",
          "text": [
            "Evaluating (CoT_prompt_v2): 100%|██████████| 45/45 [07:51<00:00, 10.47s/it]"
          ]
        },
        {
          "output_type": "stream",
          "name": "stdout",
          "text": [
            "✅ JSON 결과 저장됨: CoT_prompt_v2_gpt-4o-mini_result.json\n",
            "CoT_prompt_v2 acc : 68\n",
            "✅ CoT_prompt_v2 score 저장 완료: 68\n"
          ]
        },
        {
          "output_type": "stream",
          "name": "stderr",
          "text": [
            "\n"
          ]
        }
      ]
    },
    {
      "cell_type": "markdown",
      "source": [
        "**성능 상승 🔼**   \n",
        "58(init) -> 68(CoT_prompt_v2)\n",
        "\n",
        "성능이 대폭 오른 것을 확인할 수 있다.  "
      ],
      "metadata": {
        "id": "_Y-6dC-Vyxdm"
      }
    },
    {
      "cell_type": "markdown",
      "source": [
        "#### 4. one_shot_prompt   \n",
        "main : 2025년 국어 수능 문제 1번 문항을 제시해준 prompt   \n",
        "plus : 2025년 국어 수능 문제 31번 문항을 제시해준 prompt  \n",
        "prompt별로 한개의 예시를 보여준 뒤 제시되는 문제를 풀도록 하였다."
      ],
      "metadata": {
        "id": "SjbEnZNb7U0b"
      }
    },
    {
      "cell_type": "code",
      "source": [
        "solve_problem_with_prompt('one_shot_prompt', df, model_name=\"gpt-4o-mini\")"
      ],
      "metadata": {
        "colab": {
          "base_uri": "https://localhost:8080/"
        },
        "id": "j8A495KTz7lY",
        "outputId": "b20e5e19-e768-4757-e7f5-678a5537e772"
      },
      "execution_count": 24,
      "outputs": [
        {
          "output_type": "stream",
          "name": "stdout",
          "text": [
            "\n",
            "one_shot_prompt 기반 데이터를 생성하는 중 입니다...\n",
            "Chain-of-Thought 기반으로 한가지 예시를 주는 prompt입니다.\n"
          ]
        },
        {
          "output_type": "stream",
          "name": "stderr",
          "text": [
            "Evaluating (one_shot_prompt): 100%|██████████| 45/45 [05:40<00:00,  7.58s/it]"
          ]
        },
        {
          "output_type": "stream",
          "name": "stdout",
          "text": [
            "✅ JSON 결과 저장됨: one_shot_prompt_gpt-4o-mini_result.json\n",
            "one_shot_prompt acc : 42\n",
            "✅ one_shot_prompt score 저장 완료: 42\n"
          ]
        },
        {
          "output_type": "stream",
          "name": "stderr",
          "text": [
            "\n"
          ]
        }
      ]
    },
    {
      "cell_type": "markdown",
      "source": [
        "[결과]   \n",
        "**성능 하락 🔽**   \n",
        "58(init) -> 42(one-shot)    \n",
        "문제 유형이 다른데 한가지 유형을 보여줘서 그런가 성능이 오히려 하락했다."
      ],
      "metadata": {
        "id": "0YCMZTOyc4mn"
      }
    },
    {
      "cell_type": "markdown",
      "source": [
        "#### 5. translate_prompt\n",
        "\n",
        "아무래도 영어 성능이 좋을 것 같아 영어로 번역 후에 단계별로 생각하도록 한 prompt\n",
        "\n",
        "```yaml\n",
        "다음은 대한민국 수능 국어 문제입니다.\n",
        "전체 문항(지문, 질문, 선지)을 영어로 번역한 뒤, 영어로 **논리적인 추론 과정을 서술**하고, 최종적으로 정답을 숫자 하나로만 제시하세요.\n",
        "\n",
        "<지침>\n",
        "1. 전체 문항(지문, 질문, 선지)을 영어로 정확히 번역하세요.\n",
        "2. 번역한 영어 지문과 선택지를 바탕으로 문제를 해결하세요.\n",
        "3. 선택지가 지문과 일부분만 일치하거나, 지문의 의미를 과도하게 일반화하거나 축소했다면 '일치하지 않는 것'으로 판단하세요.\n",
        "4. **각 선택지에 대해 근거를 바탕으로 판단한 논리적 추론 과정을 간단히 서술하세요.**\n",
        "5. 모든 선택지를 비교한 후, 반드시 마지막 줄에 **정답을 1~5 중 숫자 하나로만** 적으세요.  \n",
        "6. 반드시 정답을 하나 고르세요. **답이 명확하지 않더라도 가장 적절한 하나의 선택지를 고르세요.\n",
        "```\n"
      ],
      "metadata": {
        "id": "Ezx1wwjw6-r2"
      }
    },
    {
      "cell_type": "code",
      "source": [
        "solve_problem_with_prompt('translate_prompt', df, model_name=\"gpt-4o-mini\")"
      ],
      "metadata": {
        "colab": {
          "base_uri": "https://localhost:8080/"
        },
        "id": "qXHfdCi2j-wB",
        "outputId": "2476e382-9877-4500-8bee-ce86897912c1"
      },
      "execution_count": 25,
      "outputs": [
        {
          "output_type": "stream",
          "name": "stdout",
          "text": [
            "\n",
            "translate_prompt 기반 데이터를 생성하는 중 입니다...\n",
            "번역하여 생각하길 유도하는 프롬프트입니다.\n"
          ]
        },
        {
          "output_type": "stream",
          "name": "stderr",
          "text": [
            "Evaluating (translate_prompt): 100%|██████████| 45/45 [18:22<00:00, 24.51s/it]"
          ]
        },
        {
          "output_type": "stream",
          "name": "stdout",
          "text": [
            "✅ JSON 결과 저장됨: translate_prompt_gpt-4o-mini_result.json\n",
            "translate_prompt acc : 70\n",
            "✅ translate_prompt score 저장 완료: 70\n"
          ]
        },
        {
          "output_type": "stream",
          "name": "stderr",
          "text": [
            "\n"
          ]
        }
      ]
    },
    {
      "cell_type": "markdown",
      "source": [
        "[결과]   \n",
        "**성능 상승 🔼**   \n",
        "58(init) -> 70(translate)\n",
        "\n",
        "4o-mini 모델은 영어 성능과 한국어 성능의 차이가 있어서 그런지 영어로 번역하고 학습하라고 했을때 효과가 있었다."
      ],
      "metadata": {
        "id": "4h4JO1CL7Hqc"
      }
    },
    {
      "cell_type": "markdown",
      "source": [
        "#### 6. translate_prompt_v2/v3\n",
        "\n",
        "translate의 성능이 좋게 나와 prompt도 영어로 작성하면 더 잘 이해하지 않을까 싶어 translate의 prompt를 번역하여 제시하였다.\n",
        "\n",
        "```yaml\n",
        "  This is a Korean CSAT (College Scholastic Ability Test) language question.  \n",
        "  Please translate the entire content (passage, question, choices) into English, then **write a logical reasoning process in English** and finally present your answer as a single number only.\n",
        "\n",
        "  <Instructions>  \n",
        "  1. Translate the entire content (passage, question, choices) into accurate English.  \n",
        "  2. Solve the question based on the translated passage and choices in English.  \n",
        "  3. If a choice only partially matches the passage or overgeneralizes/understates the meaning of the passage, consider it as **not matching**.  \n",
        "  4. **Write a brief logical reasoning for each choice, based on the passage.**  \n",
        "  5. After comparing all choices, clearly present your final answer as a **single number from 1 to 5 only**.  \n",
        "  6. You must choose one answer. **Even if the answer is unclear, pick the most appropriate one.**  \n",
        "  7. At the very end, write the answer in the format: **Answer: [number]**\n",
        "```"
      ],
      "metadata": {
        "id": "nGI7HAnsv3f4"
      }
    },
    {
      "cell_type": "code",
      "source": [
        "solve_problem_with_prompt('translate_prompt_v2', df, model_name=\"gpt-4o-mini\")"
      ],
      "metadata": {
        "colab": {
          "base_uri": "https://localhost:8080/"
        },
        "id": "oNGIejvp_RFm",
        "outputId": "3ffa09e6-85c1-4556-8695-b4f41f78f161"
      },
      "execution_count": 33,
      "outputs": [
        {
          "output_type": "stream",
          "name": "stdout",
          "text": [
            "\n",
            "translate_prompt_v2 기반 데이터를 생성하는 중 입니다...\n",
            "번역하여 생각하길 유도하는 프롬프트 v2입니다.\n"
          ]
        },
        {
          "output_type": "stream",
          "name": "stderr",
          "text": [
            "Evaluating (translate_prompt_v2): 100%|██████████| 45/45 [17:31<00:00, 23.36s/it]"
          ]
        },
        {
          "output_type": "stream",
          "name": "stdout",
          "text": [
            "✅ JSON 결과 저장됨: translate_prompt_v2_gpt-4o-mini_result.json\n",
            "translate_prompt_v2 acc : 60\n",
            "✅ translate_prompt_v2 score 저장 완료: 60\n"
          ]
        },
        {
          "output_type": "stream",
          "name": "stderr",
          "text": [
            "\n"
          ]
        }
      ]
    },
    {
      "cell_type": "code",
      "source": [
        "solve_problem_with_prompt('translate_prompt_v3', df, model_name=\"gpt-4o-mini\")"
      ],
      "metadata": {
        "colab": {
          "base_uri": "https://localhost:8080/"
        },
        "id": "Jg6_nc4p_QME",
        "outputId": "ff570b8a-0afa-4315-89f0-cc8c64629413"
      },
      "execution_count": 46,
      "outputs": [
        {
          "output_type": "stream",
          "name": "stdout",
          "text": [
            "\n",
            "translate_prompt_v3 기반 데이터를 생성하는 중 입니다...\n",
            "번역하여 생각하길 유도하는 프롬프트 v3 입니다.\n"
          ]
        },
        {
          "output_type": "stream",
          "name": "stderr",
          "text": [
            "Evaluating (translate_prompt_v3): 100%|██████████| 45/45 [18:06<00:00, 24.14s/it]"
          ]
        },
        {
          "output_type": "stream",
          "name": "stdout",
          "text": [
            "✅ JSON 결과 저장됨: translate_prompt_v3_gpt-4o-mini_result.json\n",
            "translate_prompt_v3 acc : 62\n",
            "✅ translate_prompt_v3 score 저장 완료: 62\n"
          ]
        },
        {
          "output_type": "stream",
          "name": "stderr",
          "text": [
            "\n"
          ]
        }
      ]
    },
    {
      "cell_type": "markdown",
      "source": [
        "[결과]\n",
        "\n",
        "translate 대비 **성능 하락 🔽**   \n",
        "더 추론 과정이 길게 나오는 것 같고 그러면서 성능이 하락되는거 같다.   \n",
        "아니면 미묘한 한국어의 차이를 무시하게 되는 것 같기도 하다.   "
      ],
      "metadata": {
        "id": "wt8Mc4MxBlyA"
      }
    },
    {
      "cell_type": "markdown",
      "source": [
        "---"
      ],
      "metadata": {
        "id": "dl4bszoPEM0A"
      }
    },
    {
      "cell_type": "code",
      "source": [
        "model_acc_all_prompt(\"gpt-4o-mini\")"
      ],
      "metadata": {
        "colab": {
          "base_uri": "https://localhost:8080/",
          "height": 507
        },
        "id": "gvE8HotSFsdD",
        "outputId": "d199490a-c8d9-4df0-b9e7-47c452cd805c"
      },
      "execution_count": 55,
      "outputs": [
        {
          "output_type": "display_data",
          "data": {
            "text/plain": [
              "<Figure size 800x500 with 1 Axes>"
            ],
            "image/png": "[encoded data removed]"
          },
          "metadata": {}
        }
      ]
    },
    {
      "cell_type": "markdown",
      "source": [
        "* gpt-4o-mini 예측\n",
        "  * 모델이 작아 prompt가 너무 길거나 지시사항이 많으면 역효과가 난다.\n",
        "  * 모든 유형을 커버할 수 없다면 one shot prompt는 역효과가 될 수 있다.\n",
        "  * 영어 학습을 상대적으로 더 많이한 모델이라 영어로 생각하게 하는 것이 효과적일 수 있다."
      ],
      "metadata": {
        "id": "8zHPbRQ6WxA1"
      }
    },
    {
      "cell_type": "markdown",
      "source": [
        "---\n",
        "\n",
        "### Phase 2"
      ],
      "metadata": {
        "id": "fAwc2qki7449"
      }
    },
    {
      "cell_type": "markdown",
      "source": [
        "재미로 나무위키에서 국어 수능 1타 강사 목록을 4명 뽑아서 GPT-4.5 모델에게 각 강사가 중요하게 생각하는 풀이 전략을 prompt로 만들어 달라고 했다.\n",
        "\n",
        "* 메가스터디 강민철\n",
        "* 이투스 김민정\n",
        "* 대성아이 김승리\n",
        "* EBS 윤혜정\n",
        "\n",
        "teacher_prompt.yaml 파일 참조"
      ],
      "metadata": {
        "id": "eh8x4LrXGZA7"
      }
    },
    {
      "cell_type": "markdown",
      "source": [
        "#### 1. system prompt 분리"
      ],
      "metadata": {
        "id": "ifBFVyRUGsie"
      }
    },
    {
      "cell_type": "code",
      "source": [
        "solve_problem_with_prompt('megastudy_prompt', df, model_name=\"gpt-4o\", yaml_name='teacher_prompt.yaml')"
      ],
      "metadata": {
        "colab": {
          "base_uri": "https://localhost:8080/"
        },
        "id": "f0hcZAAjJgiq",
        "outputId": "fd15244d-595a-4349-efd7-ef78852665a6"
      },
      "execution_count": 27,
      "outputs": [
        {
          "output_type": "stream",
          "name": "stdout",
          "text": [
            "\n",
            "megastudy_prompt 기반 데이터를 생성하는 중 입니다...\n",
            "메가스터디 강민철 선생님 스타일 프롬프트\n"
          ]
        },
        {
          "output_type": "stream",
          "name": "stderr",
          "text": [
            "Evaluating (megastudy_prompt): 100%|██████████| 45/45 [01:43<00:00,  2.30s/it]"
          ]
        },
        {
          "output_type": "stream",
          "name": "stdout",
          "text": [
            "✅ JSON 결과 저장됨: megastudy_prompt_gpt-4o_result.json\n",
            "megastudy_prompt acc : 92\n",
            "✅ megastudy_prompt score 저장 완료: 92\n"
          ]
        },
        {
          "output_type": "stream",
          "name": "stderr",
          "text": [
            "\n"
          ]
        }
      ]
    },
    {
      "cell_type": "code",
      "source": [
        "solve_problem_with_prompt('etoos_prompt', df, model_name=\"gpt-4o\", yaml_name='teacher_prompt.yaml')"
      ],
      "metadata": {
        "colab": {
          "base_uri": "https://localhost:8080/"
        },
        "id": "3B6h1a5tCNjf",
        "outputId": "50c46482-63b1-40e2-daf5-75f62d7c5259"
      },
      "execution_count": 28,
      "outputs": [
        {
          "output_type": "stream",
          "name": "stdout",
          "text": [
            "\n",
            "etoos_prompt 기반 데이터를 생성하는 중 입니다...\n",
            "이투스 김민정 선생님 스타일 프롬프트\n"
          ]
        },
        {
          "output_type": "stream",
          "name": "stderr",
          "text": [
            "Evaluating (etoos_prompt): 100%|██████████| 45/45 [01:56<00:00,  2.58s/it]"
          ]
        },
        {
          "output_type": "stream",
          "name": "stdout",
          "text": [
            "✅ JSON 결과 저장됨: etoos_prompt_gpt-4o_result.json\n",
            "etoos_prompt acc : 86\n",
            "✅ etoos_prompt score 저장 완료: 86\n"
          ]
        },
        {
          "output_type": "stream",
          "name": "stderr",
          "text": [
            "\n"
          ]
        }
      ]
    },
    {
      "cell_type": "code",
      "source": [
        "solve_problem_with_prompt('daesung_prompt', df, model_name=\"gpt-4o\", yaml_name='teacher_prompt.yaml')"
      ],
      "metadata": {
        "colab": {
          "base_uri": "https://localhost:8080/"
        },
        "id": "ozOUEifOXFHQ",
        "outputId": "acdc363b-e3f8-4ed7-fd8e-1fbc7b335eb4"
      },
      "execution_count": 29,
      "outputs": [
        {
          "output_type": "stream",
          "name": "stdout",
          "text": [
            "\n",
            "daesung_prompt 기반 데이터를 생성하는 중 입니다...\n",
            "대성 김승리 선생님 스타일 프롬프트\n"
          ]
        },
        {
          "output_type": "stream",
          "name": "stderr",
          "text": [
            "Evaluating (daesung_prompt): 100%|██████████| 45/45 [02:21<00:00,  3.14s/it]"
          ]
        },
        {
          "output_type": "stream",
          "name": "stdout",
          "text": [
            "✅ JSON 결과 저장됨: daesung_prompt_gpt-4o_result.json\n",
            "daesung_prompt acc : 82\n",
            "✅ daesung_prompt score 저장 완료: 82\n"
          ]
        },
        {
          "output_type": "stream",
          "name": "stderr",
          "text": [
            "\n"
          ]
        }
      ]
    },
    {
      "cell_type": "code",
      "source": [
        "solve_problem_with_prompt('ebs_prompt', df, model_name=\"gpt-4o\", yaml_name='teacher_prompt.yaml')"
      ],
      "metadata": {
        "colab": {
          "base_uri": "https://localhost:8080/"
        },
        "id": "rBHYyX6OXIZB",
        "outputId": "20b09a30-abc7-4028-9537-9caed4421e5a"
      },
      "execution_count": 30,
      "outputs": [
        {
          "output_type": "stream",
          "name": "stdout",
          "text": [
            "\n",
            "ebs_prompt 기반 데이터를 생성하는 중 입니다...\n",
            "ebs 윤혜 선생님 스타일 프롬프트\n"
          ]
        },
        {
          "output_type": "stream",
          "name": "stderr",
          "text": [
            "Evaluating (ebs_prompt): 100%|██████████| 45/45 [02:18<00:00,  3.07s/it]"
          ]
        },
        {
          "output_type": "stream",
          "name": "stdout",
          "text": [
            "✅ JSON 결과 저장됨: ebs_prompt_gpt-4o_result.json\n",
            "ebs_prompt acc : 90\n",
            "✅ ebs_prompt score 저장 완료: 90\n"
          ]
        },
        {
          "output_type": "stream",
          "name": "stderr",
          "text": [
            "\n"
          ]
        }
      ]
    },
    {
      "cell_type": "markdown",
      "source": [
        "---\n"
      ],
      "metadata": {
        "id": "E80TBqL4rx6J"
      }
    },
    {
      "cell_type": "code",
      "source": [],
      "metadata": {
        "id": "03RMBSwB1nQs"
      },
      "execution_count": null,
      "outputs": []
    }
  ]
}